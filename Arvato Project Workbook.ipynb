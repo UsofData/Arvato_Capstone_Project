{
 "cells": [
  {
   "cell_type": "markdown",
   "metadata": {},
   "source": [
    "# Capstone Project: Create a Customer Segmentation Report for Arvato Financial Services"
   ]
  },
  {
   "cell_type": "code",
   "execution_count": 1,
   "metadata": {},
   "outputs": [
    {
     "name": "stdout",
     "output_type": "stream",
     "text": [
      "Collecting sagemaker==1.72.0\n",
      "  Downloading sagemaker-1.72.0.tar.gz (297 kB)\n",
      "\u001b[K     |████████████████████████████████| 297 kB 19.7 MB/s eta 0:00:01\n",
      "\u001b[?25hRequirement already satisfied: boto3>=1.14.12 in /home/ec2-user/anaconda3/envs/pytorch_p36/lib/python3.6/site-packages (from sagemaker==1.72.0) (1.16.37)\n",
      "Requirement already satisfied: numpy>=1.9.0 in /home/ec2-user/anaconda3/envs/pytorch_p36/lib/python3.6/site-packages (from sagemaker==1.72.0) (1.19.4)\n",
      "Requirement already satisfied: protobuf>=3.1 in /home/ec2-user/anaconda3/envs/pytorch_p36/lib/python3.6/site-packages (from sagemaker==1.72.0) (3.14.0)\n",
      "Requirement already satisfied: scipy>=0.19.0 in /home/ec2-user/anaconda3/envs/pytorch_p36/lib/python3.6/site-packages (from sagemaker==1.72.0) (1.4.1)\n",
      "Requirement already satisfied: protobuf3-to-dict>=0.1.5 in /home/ec2-user/anaconda3/envs/pytorch_p36/lib/python3.6/site-packages (from sagemaker==1.72.0) (0.1.5)\n",
      "Requirement already satisfied: importlib-metadata>=1.4.0 in /home/ec2-user/anaconda3/envs/pytorch_p36/lib/python3.6/site-packages (from sagemaker==1.72.0) (3.1.0)\n",
      "Requirement already satisfied: packaging>=20.0 in /home/ec2-user/anaconda3/envs/pytorch_p36/lib/python3.6/site-packages (from sagemaker==1.72.0) (20.7)\n",
      "Requirement already satisfied: jmespath<1.0.0,>=0.7.1 in /home/ec2-user/anaconda3/envs/pytorch_p36/lib/python3.6/site-packages (from boto3>=1.14.12->sagemaker==1.72.0) (0.10.0)\n",
      "Requirement already satisfied: botocore<1.20.0,>=1.19.37 in /home/ec2-user/anaconda3/envs/pytorch_p36/lib/python3.6/site-packages (from boto3>=1.14.12->sagemaker==1.72.0) (1.19.37)\n",
      "Requirement already satisfied: s3transfer<0.4.0,>=0.3.0 in /home/ec2-user/anaconda3/envs/pytorch_p36/lib/python3.6/site-packages (from boto3>=1.14.12->sagemaker==1.72.0) (0.3.3)\n",
      "Requirement already satisfied: python-dateutil<3.0.0,>=2.1 in /home/ec2-user/anaconda3/envs/pytorch_p36/lib/python3.6/site-packages (from botocore<1.20.0,>=1.19.37->boto3>=1.14.12->sagemaker==1.72.0) (2.8.1)\n",
      "Requirement already satisfied: urllib3<1.27,>=1.25.4 in /home/ec2-user/anaconda3/envs/pytorch_p36/lib/python3.6/site-packages (from botocore<1.20.0,>=1.19.37->boto3>=1.14.12->sagemaker==1.72.0) (1.25.11)\n",
      "Requirement already satisfied: jmespath<1.0.0,>=0.7.1 in /home/ec2-user/anaconda3/envs/pytorch_p36/lib/python3.6/site-packages (from boto3>=1.14.12->sagemaker==1.72.0) (0.10.0)\n",
      "Requirement already satisfied: zipp>=0.5 in /home/ec2-user/anaconda3/envs/pytorch_p36/lib/python3.6/site-packages (from importlib-metadata>=1.4.0->sagemaker==1.72.0) (3.4.0)\n",
      "Requirement already satisfied: pyparsing>=2.0.2 in /home/ec2-user/anaconda3/envs/pytorch_p36/lib/python3.6/site-packages (from packaging>=20.0->sagemaker==1.72.0) (2.4.7)\n",
      "Requirement already satisfied: six>=1.9 in /home/ec2-user/anaconda3/envs/pytorch_p36/lib/python3.6/site-packages (from protobuf>=3.1->sagemaker==1.72.0) (1.15.0)\n",
      "Requirement already satisfied: six>=1.9 in /home/ec2-user/anaconda3/envs/pytorch_p36/lib/python3.6/site-packages (from protobuf>=3.1->sagemaker==1.72.0) (1.15.0)\n",
      "Requirement already satisfied: protobuf>=3.1 in /home/ec2-user/anaconda3/envs/pytorch_p36/lib/python3.6/site-packages (from sagemaker==1.72.0) (3.14.0)\n",
      "Requirement already satisfied: six>=1.9 in /home/ec2-user/anaconda3/envs/pytorch_p36/lib/python3.6/site-packages (from protobuf>=3.1->sagemaker==1.72.0) (1.15.0)\n",
      "Requirement already satisfied: botocore<1.20.0,>=1.19.37 in /home/ec2-user/anaconda3/envs/pytorch_p36/lib/python3.6/site-packages (from boto3>=1.14.12->sagemaker==1.72.0) (1.19.37)\n",
      "Requirement already satisfied: numpy>=1.9.0 in /home/ec2-user/anaconda3/envs/pytorch_p36/lib/python3.6/site-packages (from sagemaker==1.72.0) (1.19.4)\n",
      "Collecting smdebug-rulesconfig==0.1.4\n",
      "  Downloading smdebug_rulesconfig-0.1.4-py2.py3-none-any.whl (10 kB)\n",
      "Building wheels for collected packages: sagemaker\n",
      "  Building wheel for sagemaker (setup.py) ... \u001b[?25ldone\n",
      "\u001b[?25h  Created wheel for sagemaker: filename=sagemaker-1.72.0-py2.py3-none-any.whl size=386358 sha256=e064899b9368b2a7cf27a9beb8e4bbed27ed1db992df7ed5bfe4e7eb44c8609d\n",
      "  Stored in directory: /home/ec2-user/.cache/pip/wheels/c3/58/70/85faf4437568bfaa4c419937569ba1fe54d44c5db42406bbd7\n",
      "Successfully built sagemaker\n",
      "Installing collected packages: smdebug-rulesconfig, sagemaker\n",
      "  Attempting uninstall: smdebug-rulesconfig\n",
      "    Found existing installation: smdebug-rulesconfig 1.0.0\n",
      "    Uninstalling smdebug-rulesconfig-1.0.0:\n",
      "      Successfully uninstalled smdebug-rulesconfig-1.0.0\n",
      "  Attempting uninstall: sagemaker\n",
      "    Found existing installation: sagemaker 2.19.0\n",
      "    Uninstalling sagemaker-2.19.0:\n",
      "      Successfully uninstalled sagemaker-2.19.0\n",
      "Successfully installed sagemaker-1.72.0 smdebug-rulesconfig-0.1.4\n",
      "\u001b[33mWARNING: You are using pip version 20.3; however, version 21.0.1 is available.\n",
      "You should consider upgrading via the '/home/ec2-user/anaconda3/envs/pytorch_p36/bin/python -m pip install --upgrade pip' command.\u001b[0m\n"
     ]
    }
   ],
   "source": [
    "!pip install sagemaker==1.72.0\n",
    "\n",
    "# import libraries here; add more as necessary\n",
    "import numpy as np\n",
    "import pandas as pd\n",
    "import matplotlib.pyplot as plt\n",
    "import seaborn as sns\n",
    "import boto3\n",
    "import sagemaker\n",
    "pd.set_option('display.max_colwidth', 100)\n",
    "import pickle\n",
    "from sklearn.preprocessing import MinMaxScaler, RobustScaler\n",
    "from sklearn.decomposition import PCA\n",
    "from sklearn.metrics import confusion_matrix, classification_report, roc_auc_score\n",
    "from sklearn.model_selection import train_test_split\n",
    "import os\n",
    "\n",
    "# magic word for producing visualizations in notebook\n",
    "%matplotlib inline"
   ]
  },
  {
   "cell_type": "code",
   "execution_count": 2,
   "metadata": {},
   "outputs": [],
   "source": [
    "# session and role\n",
    "sagemaker_session = sagemaker.Session()\n",
    "role = sagemaker.get_execution_role()\n",
    "\n",
    "# create an S3 bucket\n",
    "bucket = sagemaker_session.default_bucket()"
   ]
  },
  {
   "cell_type": "markdown",
   "metadata": {},
   "source": [
    "## Part 0: Get to Know the Data And Preprocessing"
   ]
  },
  {
   "cell_type": "code",
   "execution_count": 3,
   "metadata": {},
   "outputs": [],
   "source": [
    "genpop_file = 'Udacity_AZDIAS_052018.csv'\n",
    "cust_file = 'Udacity_CUSTOMERS_052018.csv'\n",
    "train_file = 'Udacity_MAILOUT_052018_TRAIN.csv'\n",
    "test_file = 'Udacity_MAILOUT_052018_TEST.csv'"
   ]
  },
  {
   "cell_type": "code",
   "execution_count": 83,
   "metadata": {},
   "outputs": [],
   "source": [
    "def read_file(filename):\n",
    "    return pd.read_csv('s3://{}/{}'.format(bucket, filename), sep = ';')"
   ]
  },
  {
   "cell_type": "code",
   "execution_count": 108,
   "metadata": {},
   "outputs": [
    {
     "name": "stderr",
     "output_type": "stream",
     "text": [
      "/home/ec2-user/anaconda3/envs/pytorch_p36/lib/python3.6/site-packages/IPython/core/magic.py:187: DtypeWarning: Columns (18,19) have mixed types.Specify dtype option on import or set low_memory=False.\n",
      "  call = lambda f, *a, **k: f(*a, **k)\n"
     ]
    },
    {
     "name": "stdout",
     "output_type": "stream",
     "text": [
      "CPU times: user 33.7 s, sys: 3.46 s, total: 37.2 s\n",
      "Wall time: 1min 5s\n"
     ]
    }
   ],
   "source": [
    "%%time\n",
    "\n",
    "genpop = read_file(genpop_file)\n",
    "customers = read_file(cust_file)\n",
    "train = read_file(train_file)\n",
    "test = read_file(test_file)"
   ]
  },
  {
   "cell_type": "markdown",
   "metadata": {},
   "source": [
    "First we need to answer the following questions:\n",
    "\n",
    "- how much data is missing in each column?\n",
    "- which columns are irredeemable and need to removed\n",
    "- which columns with missing data will we keep but fill in their NaNs\n",
    "- which are the final columns that we will use PCA on"
   ]
  },
  {
   "cell_type": "code",
   "execution_count": 6,
   "metadata": {},
   "outputs": [],
   "source": [
    "datasets = {\n",
    "    'genpop':genpop,\n",
    "    'customers':customers,\n",
    "    'train':train,\n",
    "    'test':test\n",
    "}"
   ]
  },
  {
   "cell_type": "code",
   "execution_count": 7,
   "metadata": {},
   "outputs": [],
   "source": [
    "def count_na(df):\n",
    "    '''\n",
    "    Counts the number of missing values of each column as a percentage\n",
    "    '''\n",
    "    series = df.isna().sum()/len(df)\n",
    "    return series"
   ]
  },
  {
   "cell_type": "markdown",
   "metadata": {},
   "source": [
    "Visualizing how many missing values we have to deal with and if their distribution is the same across other datasets"
   ]
  },
  {
   "cell_type": "code",
   "execution_count": 8,
   "metadata": {
    "scrolled": false
   },
   "outputs": [
    {
     "data": {
      "image/png": "[encoded data removed]",
      "text/plain": [
       "<Figure size 864x432 with 1 Axes>"
      ]
     },
     "metadata": {
      "needs_background": "light"
     },
     "output_type": "display_data"
    },
    {
     "data": {
      "image/png": "[encoded data removed]",
      "text/plain": [
       "<Figure size 864x432 with 1 Axes>"
      ]
     },
     "metadata": {
      "needs_background": "light"
     },
     "output_type": "display_data"
    },
    {
     "data": {
      "image/png": "[encoded data removed]",
      "text/plain": [
       "<Figure size 864x432 with 1 Axes>"
      ]
     },
     "metadata": {
      "needs_background": "light"
     },
     "output_type": "display_data"
    },
    {
     "data": {
      "image/png": "[encoded data removed]",
      "text/plain": [
       "<Figure size 864x432 with 1 Axes>"
      ]
     },
     "metadata": {
      "needs_background": "light"
     },
     "output_type": "display_data"
    }
   ],
   "source": [
    "for name, data in datasets.items():\n",
    "    plt.figure(figsize = (12, 6))\n",
    "    data_miss = count_na(data)\n",
    "    count_na(data).plot(kind = 'hist', bins = 80)\n",
    "    plt.xlabel('percentage of missing values')\n",
    "    plt.title('for '+name)\n",
    "\n",
    "del datasets, data #to free up memory"
   ]
  },
  {
   "cell_type": "markdown",
   "metadata": {},
   "source": [
    "Removing any columns missing with missing data more than 20% makes sense because any more than that might be too much to deal with.\n",
    "We will use the train dataset to test out and set up our cleaning functions."
   ]
  },
  {
   "cell_type": "code",
   "execution_count": 9,
   "metadata": {},
   "outputs": [],
   "source": [
    "missing = count_na(train)\n",
    "notmiss = list(missing[missing<0.20].index)\n",
    "clean = train[notmiss]\n",
    "\n",
    "del missing, notmiss"
   ]
  },
  {
   "cell_type": "code",
   "execution_count": 10,
   "metadata": {
    "scrolled": true
   },
   "outputs": [
    {
     "data": {
      "text/html": [
       "<div>\n",
       "<style scoped>\n",
       "    .dataframe tbody tr th:only-of-type {\n",
       "        vertical-align: middle;\n",
       "    }\n",
       "\n",
       "    .dataframe tbody tr th {\n",
       "        vertical-align: top;\n",
       "    }\n",
       "\n",
       "    .dataframe thead th {\n",
       "        text-align: right;\n",
       "    }\n",
       "</style>\n",
       "<table border=\"1\" class=\"dataframe\">\n",
       "  <thead>\n",
       "    <tr style=\"text-align: right;\">\n",
       "      <th></th>\n",
       "      <th>LNR</th>\n",
       "      <th>AGER_TYP</th>\n",
       "      <th>AKT_DAT_KL</th>\n",
       "      <th>ALTER_HH</th>\n",
       "      <th>ALTERSKATEGORIE_FEIN</th>\n",
       "      <th>ANZ_HAUSHALTE_AKTIV</th>\n",
       "      <th>ANZ_HH_TITEL</th>\n",
       "      <th>ANZ_KINDER</th>\n",
       "      <th>ANZ_PERSONEN</th>\n",
       "      <th>ANZ_STATISTISCHE_HAUSHALTE</th>\n",
       "      <th>...</th>\n",
       "      <th>VHN</th>\n",
       "      <th>VK_DHT4A</th>\n",
       "      <th>VK_DISTANZ</th>\n",
       "      <th>VK_ZG11</th>\n",
       "      <th>WOHNDAUER_2008</th>\n",
       "      <th>WOHNLAGE</th>\n",
       "      <th>ZABEOTYP</th>\n",
       "      <th>RESPONSE</th>\n",
       "      <th>ANREDE_KZ</th>\n",
       "      <th>ALTERSKATEGORIE_GROB</th>\n",
       "    </tr>\n",
       "  </thead>\n",
       "  <tbody>\n",
       "    <tr>\n",
       "      <th>0</th>\n",
       "      <td>1763</td>\n",
       "      <td>2</td>\n",
       "      <td>1.0</td>\n",
       "      <td>8.0</td>\n",
       "      <td>8.0</td>\n",
       "      <td>15.0</td>\n",
       "      <td>0.0</td>\n",
       "      <td>0.0</td>\n",
       "      <td>1.0</td>\n",
       "      <td>13.0</td>\n",
       "      <td>...</td>\n",
       "      <td>2.0</td>\n",
       "      <td>5.0</td>\n",
       "      <td>2.0</td>\n",
       "      <td>1.0</td>\n",
       "      <td>9.0</td>\n",
       "      <td>3.0</td>\n",
       "      <td>3</td>\n",
       "      <td>0</td>\n",
       "      <td>2</td>\n",
       "      <td>4</td>\n",
       "    </tr>\n",
       "    <tr>\n",
       "      <th>1</th>\n",
       "      <td>1771</td>\n",
       "      <td>1</td>\n",
       "      <td>4.0</td>\n",
       "      <td>13.0</td>\n",
       "      <td>13.0</td>\n",
       "      <td>1.0</td>\n",
       "      <td>0.0</td>\n",
       "      <td>0.0</td>\n",
       "      <td>2.0</td>\n",
       "      <td>1.0</td>\n",
       "      <td>...</td>\n",
       "      <td>3.0</td>\n",
       "      <td>1.0</td>\n",
       "      <td>2.0</td>\n",
       "      <td>1.0</td>\n",
       "      <td>9.0</td>\n",
       "      <td>7.0</td>\n",
       "      <td>1</td>\n",
       "      <td>0</td>\n",
       "      <td>2</td>\n",
       "      <td>3</td>\n",
       "    </tr>\n",
       "    <tr>\n",
       "      <th>2</th>\n",
       "      <td>1776</td>\n",
       "      <td>1</td>\n",
       "      <td>1.0</td>\n",
       "      <td>9.0</td>\n",
       "      <td>7.0</td>\n",
       "      <td>0.0</td>\n",
       "      <td>NaN</td>\n",
       "      <td>0.0</td>\n",
       "      <td>0.0</td>\n",
       "      <td>1.0</td>\n",
       "      <td>...</td>\n",
       "      <td>1.0</td>\n",
       "      <td>6.0</td>\n",
       "      <td>4.0</td>\n",
       "      <td>2.0</td>\n",
       "      <td>9.0</td>\n",
       "      <td>2.0</td>\n",
       "      <td>3</td>\n",
       "      <td>0</td>\n",
       "      <td>1</td>\n",
       "      <td>4</td>\n",
       "    </tr>\n",
       "    <tr>\n",
       "      <th>3</th>\n",
       "      <td>1460</td>\n",
       "      <td>2</td>\n",
       "      <td>1.0</td>\n",
       "      <td>6.0</td>\n",
       "      <td>6.0</td>\n",
       "      <td>4.0</td>\n",
       "      <td>0.0</td>\n",
       "      <td>0.0</td>\n",
       "      <td>2.0</td>\n",
       "      <td>4.0</td>\n",
       "      <td>...</td>\n",
       "      <td>4.0</td>\n",
       "      <td>8.0</td>\n",
       "      <td>11.0</td>\n",
       "      <td>11.0</td>\n",
       "      <td>9.0</td>\n",
       "      <td>1.0</td>\n",
       "      <td>3</td>\n",
       "      <td>0</td>\n",
       "      <td>2</td>\n",
       "      <td>4</td>\n",
       "    </tr>\n",
       "    <tr>\n",
       "      <th>4</th>\n",
       "      <td>1783</td>\n",
       "      <td>2</td>\n",
       "      <td>1.0</td>\n",
       "      <td>9.0</td>\n",
       "      <td>9.0</td>\n",
       "      <td>53.0</td>\n",
       "      <td>0.0</td>\n",
       "      <td>0.0</td>\n",
       "      <td>1.0</td>\n",
       "      <td>44.0</td>\n",
       "      <td>...</td>\n",
       "      <td>4.0</td>\n",
       "      <td>2.0</td>\n",
       "      <td>2.0</td>\n",
       "      <td>1.0</td>\n",
       "      <td>9.0</td>\n",
       "      <td>3.0</td>\n",
       "      <td>3</td>\n",
       "      <td>0</td>\n",
       "      <td>1</td>\n",
       "      <td>3</td>\n",
       "    </tr>\n",
       "    <tr>\n",
       "      <th>5</th>\n",
       "      <td>1789</td>\n",
       "      <td>3</td>\n",
       "      <td>1.0</td>\n",
       "      <td>12.0</td>\n",
       "      <td>12.0</td>\n",
       "      <td>17.0</td>\n",
       "      <td>0.0</td>\n",
       "      <td>0.0</td>\n",
       "      <td>1.0</td>\n",
       "      <td>11.0</td>\n",
       "      <td>...</td>\n",
       "      <td>4.0</td>\n",
       "      <td>2.0</td>\n",
       "      <td>1.0</td>\n",
       "      <td>1.0</td>\n",
       "      <td>9.0</td>\n",
       "      <td>2.0</td>\n",
       "      <td>3</td>\n",
       "      <td>0</td>\n",
       "      <td>2</td>\n",
       "      <td>3</td>\n",
       "    </tr>\n",
       "    <tr>\n",
       "      <th>6</th>\n",
       "      <td>1795</td>\n",
       "      <td>1</td>\n",
       "      <td>1.0</td>\n",
       "      <td>8.0</td>\n",
       "      <td>8.0</td>\n",
       "      <td>2.0</td>\n",
       "      <td>0.0</td>\n",
       "      <td>0.0</td>\n",
       "      <td>1.0</td>\n",
       "      <td>1.0</td>\n",
       "      <td>...</td>\n",
       "      <td>1.0</td>\n",
       "      <td>6.0</td>\n",
       "      <td>6.0</td>\n",
       "      <td>3.0</td>\n",
       "      <td>9.0</td>\n",
       "      <td>2.0</td>\n",
       "      <td>3</td>\n",
       "      <td>0</td>\n",
       "      <td>2</td>\n",
       "      <td>4</td>\n",
       "    </tr>\n",
       "    <tr>\n",
       "      <th>7</th>\n",
       "      <td>1493</td>\n",
       "      <td>2</td>\n",
       "      <td>1.0</td>\n",
       "      <td>13.0</td>\n",
       "      <td>13.0</td>\n",
       "      <td>1.0</td>\n",
       "      <td>0.0</td>\n",
       "      <td>0.0</td>\n",
       "      <td>2.0</td>\n",
       "      <td>1.0</td>\n",
       "      <td>...</td>\n",
       "      <td>0.0</td>\n",
       "      <td>1.0</td>\n",
       "      <td>1.0</td>\n",
       "      <td>1.0</td>\n",
       "      <td>9.0</td>\n",
       "      <td>7.0</td>\n",
       "      <td>3</td>\n",
       "      <td>0</td>\n",
       "      <td>2</td>\n",
       "      <td>4</td>\n",
       "    </tr>\n",
       "    <tr>\n",
       "      <th>8</th>\n",
       "      <td>1801</td>\n",
       "      <td>-1</td>\n",
       "      <td>NaN</td>\n",
       "      <td>NaN</td>\n",
       "      <td>NaN</td>\n",
       "      <td>NaN</td>\n",
       "      <td>NaN</td>\n",
       "      <td>NaN</td>\n",
       "      <td>NaN</td>\n",
       "      <td>NaN</td>\n",
       "      <td>...</td>\n",
       "      <td>NaN</td>\n",
       "      <td>NaN</td>\n",
       "      <td>NaN</td>\n",
       "      <td>NaN</td>\n",
       "      <td>NaN</td>\n",
       "      <td>NaN</td>\n",
       "      <td>3</td>\n",
       "      <td>0</td>\n",
       "      <td>2</td>\n",
       "      <td>3</td>\n",
       "    </tr>\n",
       "    <tr>\n",
       "      <th>9</th>\n",
       "      <td>1834</td>\n",
       "      <td>-1</td>\n",
       "      <td>NaN</td>\n",
       "      <td>NaN</td>\n",
       "      <td>NaN</td>\n",
       "      <td>NaN</td>\n",
       "      <td>NaN</td>\n",
       "      <td>NaN</td>\n",
       "      <td>NaN</td>\n",
       "      <td>NaN</td>\n",
       "      <td>...</td>\n",
       "      <td>NaN</td>\n",
       "      <td>NaN</td>\n",
       "      <td>NaN</td>\n",
       "      <td>NaN</td>\n",
       "      <td>NaN</td>\n",
       "      <td>NaN</td>\n",
       "      <td>3</td>\n",
       "      <td>0</td>\n",
       "      <td>1</td>\n",
       "      <td>1</td>\n",
       "    </tr>\n",
       "  </tbody>\n",
       "</table>\n",
       "<p>10 rows × 295 columns</p>\n",
       "</div>"
      ],
      "text/plain": [
       "    LNR  AGER_TYP  AKT_DAT_KL  ALTER_HH  ALTERSKATEGORIE_FEIN  \\\n",
       "0  1763         2         1.0       8.0                   8.0   \n",
       "1  1771         1         4.0      13.0                  13.0   \n",
       "2  1776         1         1.0       9.0                   7.0   \n",
       "3  1460         2         1.0       6.0                   6.0   \n",
       "4  1783         2         1.0       9.0                   9.0   \n",
       "5  1789         3         1.0      12.0                  12.0   \n",
       "6  1795         1         1.0       8.0                   8.0   \n",
       "7  1493         2         1.0      13.0                  13.0   \n",
       "8  1801        -1         NaN       NaN                   NaN   \n",
       "9  1834        -1         NaN       NaN                   NaN   \n",
       "\n",
       "   ANZ_HAUSHALTE_AKTIV  ANZ_HH_TITEL  ANZ_KINDER  ANZ_PERSONEN  \\\n",
       "0                 15.0           0.0         0.0           1.0   \n",
       "1                  1.0           0.0         0.0           2.0   \n",
       "2                  0.0           NaN         0.0           0.0   \n",
       "3                  4.0           0.0         0.0           2.0   \n",
       "4                 53.0           0.0         0.0           1.0   \n",
       "5                 17.0           0.0         0.0           1.0   \n",
       "6                  2.0           0.0         0.0           1.0   \n",
       "7                  1.0           0.0         0.0           2.0   \n",
       "8                  NaN           NaN         NaN           NaN   \n",
       "9                  NaN           NaN         NaN           NaN   \n",
       "\n",
       "   ANZ_STATISTISCHE_HAUSHALTE  ...  VHN  VK_DHT4A  VK_DISTANZ VK_ZG11  \\\n",
       "0                        13.0  ...  2.0       5.0         2.0     1.0   \n",
       "1                         1.0  ...  3.0       1.0         2.0     1.0   \n",
       "2                         1.0  ...  1.0       6.0         4.0     2.0   \n",
       "3                         4.0  ...  4.0       8.0        11.0    11.0   \n",
       "4                        44.0  ...  4.0       2.0         2.0     1.0   \n",
       "5                        11.0  ...  4.0       2.0         1.0     1.0   \n",
       "6                         1.0  ...  1.0       6.0         6.0     3.0   \n",
       "7                         1.0  ...  0.0       1.0         1.0     1.0   \n",
       "8                         NaN  ...  NaN       NaN         NaN     NaN   \n",
       "9                         NaN  ...  NaN       NaN         NaN     NaN   \n",
       "\n",
       "  WOHNDAUER_2008 WOHNLAGE  ZABEOTYP  RESPONSE  ANREDE_KZ  ALTERSKATEGORIE_GROB  \n",
       "0            9.0      3.0         3         0          2                     4  \n",
       "1            9.0      7.0         1         0          2                     3  \n",
       "2            9.0      2.0         3         0          1                     4  \n",
       "3            9.0      1.0         3         0          2                     4  \n",
       "4            9.0      3.0         3         0          1                     3  \n",
       "5            9.0      2.0         3         0          2                     3  \n",
       "6            9.0      2.0         3         0          2                     4  \n",
       "7            9.0      7.0         3         0          2                     4  \n",
       "8            NaN      NaN         3         0          2                     3  \n",
       "9            NaN      NaN         3         0          1                     1  \n",
       "\n",
       "[10 rows x 295 columns]"
      ]
     },
     "execution_count": 10,
     "metadata": {},
     "output_type": "execute_result"
    }
   ],
   "source": [
    "clean.head(10)"
   ]
  },
  {
   "cell_type": "code",
   "execution_count": 11,
   "metadata": {},
   "outputs": [
    {
     "data": {
      "text/plain": [
       "float64    195\n",
       "int64       94\n",
       "object       6\n",
       "dtype: int64"
      ]
     },
     "execution_count": 11,
     "metadata": {},
     "output_type": "execute_result"
    }
   ],
   "source": [
    "clean.dtypes.value_counts()"
   ]
  },
  {
   "cell_type": "code",
   "execution_count": 12,
   "metadata": {},
   "outputs": [
    {
     "data": {
      "text/html": [
       "<div>\n",
       "<style scoped>\n",
       "    .dataframe tbody tr th:only-of-type {\n",
       "        vertical-align: middle;\n",
       "    }\n",
       "\n",
       "    .dataframe tbody tr th {\n",
       "        vertical-align: top;\n",
       "    }\n",
       "\n",
       "    .dataframe thead th {\n",
       "        text-align: right;\n",
       "    }\n",
       "</style>\n",
       "<table border=\"1\" class=\"dataframe\">\n",
       "  <thead>\n",
       "    <tr style=\"text-align: right;\">\n",
       "      <th></th>\n",
       "      <th>CAMEO_DEU_2015</th>\n",
       "      <th>CAMEO_DEUG_2015</th>\n",
       "      <th>CAMEO_INTL_2015</th>\n",
       "      <th>D19_LETZTER_KAUF_BRANCHE</th>\n",
       "      <th>EINGEFUEGT_AM</th>\n",
       "      <th>OST_WEST_KZ</th>\n",
       "    </tr>\n",
       "  </thead>\n",
       "  <tbody>\n",
       "    <tr>\n",
       "      <th>0</th>\n",
       "      <td>5D</td>\n",
       "      <td>5</td>\n",
       "      <td>34</td>\n",
       "      <td>D19_UNBEKANNT</td>\n",
       "      <td>1992-02-10 00:00:00</td>\n",
       "      <td>W</td>\n",
       "    </tr>\n",
       "    <tr>\n",
       "      <th>1</th>\n",
       "      <td>5B</td>\n",
       "      <td>5</td>\n",
       "      <td>32</td>\n",
       "      <td>D19_TELKO_MOBILE</td>\n",
       "      <td>1997-05-14 00:00:00</td>\n",
       "      <td>W</td>\n",
       "    </tr>\n",
       "    <tr>\n",
       "      <th>2</th>\n",
       "      <td>2D</td>\n",
       "      <td>2</td>\n",
       "      <td>14</td>\n",
       "      <td>D19_LEBENSMITTEL</td>\n",
       "      <td>1995-05-24 00:00:00</td>\n",
       "      <td>O</td>\n",
       "    </tr>\n",
       "    <tr>\n",
       "      <th>3</th>\n",
       "      <td>2D</td>\n",
       "      <td>2</td>\n",
       "      <td>14</td>\n",
       "      <td>D19_UNBEKANNT</td>\n",
       "      <td>1992-02-10 00:00:00</td>\n",
       "      <td>W</td>\n",
       "    </tr>\n",
       "    <tr>\n",
       "      <th>4</th>\n",
       "      <td>7B</td>\n",
       "      <td>7</td>\n",
       "      <td>41</td>\n",
       "      <td>D19_BEKLEIDUNG_GEH</td>\n",
       "      <td>1992-02-10 00:00:00</td>\n",
       "      <td>W</td>\n",
       "    </tr>\n",
       "    <tr>\n",
       "      <th>5</th>\n",
       "      <td>7B</td>\n",
       "      <td>7</td>\n",
       "      <td>41</td>\n",
       "      <td>D19_BUCH_CD</td>\n",
       "      <td>1992-02-10 00:00:00</td>\n",
       "      <td>W</td>\n",
       "    </tr>\n",
       "    <tr>\n",
       "      <th>6</th>\n",
       "      <td>4C</td>\n",
       "      <td>4</td>\n",
       "      <td>24</td>\n",
       "      <td>D19_UNBEKANNT</td>\n",
       "      <td>1992-02-10 00:00:00</td>\n",
       "      <td>W</td>\n",
       "    </tr>\n",
       "    <tr>\n",
       "      <th>7</th>\n",
       "      <td>5C</td>\n",
       "      <td>5</td>\n",
       "      <td>33</td>\n",
       "      <td>D19_BEKLEIDUNG_GEH</td>\n",
       "      <td>1997-07-18 00:00:00</td>\n",
       "      <td>W</td>\n",
       "    </tr>\n",
       "    <tr>\n",
       "      <th>8</th>\n",
       "      <td>NaN</td>\n",
       "      <td>NaN</td>\n",
       "      <td>NaN</td>\n",
       "      <td>NaN</td>\n",
       "      <td>NaN</td>\n",
       "      <td>NaN</td>\n",
       "    </tr>\n",
       "    <tr>\n",
       "      <th>9</th>\n",
       "      <td>NaN</td>\n",
       "      <td>NaN</td>\n",
       "      <td>NaN</td>\n",
       "      <td>NaN</td>\n",
       "      <td>NaN</td>\n",
       "      <td>NaN</td>\n",
       "    </tr>\n",
       "  </tbody>\n",
       "</table>\n",
       "</div>"
      ],
      "text/plain": [
       "  CAMEO_DEU_2015 CAMEO_DEUG_2015 CAMEO_INTL_2015 D19_LETZTER_KAUF_BRANCHE  \\\n",
       "0             5D               5              34            D19_UNBEKANNT   \n",
       "1             5B               5              32         D19_TELKO_MOBILE   \n",
       "2             2D               2              14         D19_LEBENSMITTEL   \n",
       "3             2D               2              14            D19_UNBEKANNT   \n",
       "4             7B               7              41       D19_BEKLEIDUNG_GEH   \n",
       "5             7B               7              41              D19_BUCH_CD   \n",
       "6             4C               4              24            D19_UNBEKANNT   \n",
       "7             5C               5              33       D19_BEKLEIDUNG_GEH   \n",
       "8            NaN             NaN             NaN                      NaN   \n",
       "9            NaN             NaN             NaN                      NaN   \n",
       "\n",
       "         EINGEFUEGT_AM OST_WEST_KZ  \n",
       "0  1992-02-10 00:00:00           W  \n",
       "1  1997-05-14 00:00:00           W  \n",
       "2  1995-05-24 00:00:00           O  \n",
       "3  1992-02-10 00:00:00           W  \n",
       "4  1992-02-10 00:00:00           W  \n",
       "5  1992-02-10 00:00:00           W  \n",
       "6  1992-02-10 00:00:00           W  \n",
       "7  1997-07-18 00:00:00           W  \n",
       "8                  NaN         NaN  \n",
       "9                  NaN         NaN  "
      ]
     },
     "execution_count": 12,
     "metadata": {},
     "output_type": "execute_result"
    }
   ],
   "source": [
    "clean[clean.dtypes[clean.dtypes=='object'].index].head(10)"
   ]
  },
  {
   "cell_type": "markdown",
   "metadata": {},
   "source": [
    "These are the few columns that were given a dtype of 'object'. This would mean that most of these should be categorical variables, with the exeption of EINGEFUEGT_AM, which clearly is a columns of dates"
   ]
  },
  {
   "cell_type": "code",
   "execution_count": 13,
   "metadata": {},
   "outputs": [
    {
     "data": {
      "text/plain": [
       "{'CUSTOMER_GROUP', 'ONLINE_PURCHASE', 'PRODUCT_GROUP'}"
      ]
     },
     "execution_count": 13,
     "metadata": {},
     "output_type": "execute_result"
    }
   ],
   "source": [
    "set(customers.columns) - set(train.columns)"
   ]
  },
  {
   "cell_type": "code",
   "execution_count": 14,
   "metadata": {},
   "outputs": [
    {
     "data": {
      "text/plain": [
       "{'CUSTOMER_GROUP', 'ONLINE_PURCHASE', 'PRODUCT_GROUP'}"
      ]
     },
     "execution_count": 14,
     "metadata": {},
     "output_type": "execute_result"
    }
   ],
   "source": [
    "set(customers.columns) - set(genpop.columns)"
   ]
  },
  {
   "cell_type": "markdown",
   "metadata": {},
   "source": [
    "These 3 columns are only available in the customers dataset. Let's see them in more detail:"
   ]
  },
  {
   "cell_type": "code",
   "execution_count": 15,
   "metadata": {},
   "outputs": [
    {
     "data": {
      "text/plain": [
       "MULTI_BUYER     132238\n",
       "SINGLE_BUYER     59414\n",
       "Name: CUSTOMER_GROUP, dtype: int64"
      ]
     },
     "execution_count": 15,
     "metadata": {},
     "output_type": "execute_result"
    },
    {
     "data": {
      "image/png": "[encoded data removed]",
      "text/plain": [
       "<Figure size 432x288 with 1 Axes>"
      ]
     },
     "metadata": {
      "needs_background": "light"
     },
     "output_type": "display_data"
    }
   ],
   "source": [
    "customers.CUSTOMER_GROUP.value_counts(dropna=False).plot( kind = 'bar')\n",
    "customers.CUSTOMER_GROUP.value_counts(dropna=False)"
   ]
  },
  {
   "cell_type": "code",
   "execution_count": 16,
   "metadata": {},
   "outputs": [
    {
     "data": {
      "text/plain": [
       "COSMETIC_AND_FOOD    100860\n",
       "FOOD                  47382\n",
       "COSMETIC              43410\n",
       "Name: PRODUCT_GROUP, dtype: int64"
      ]
     },
     "execution_count": 16,
     "metadata": {},
     "output_type": "execute_result"
    },
    {
     "data": {
      "image/png": "[encoded data removed]",
      "text/plain": [
       "<Figure size 432x288 with 1 Axes>"
      ]
     },
     "metadata": {
      "needs_background": "light"
     },
     "output_type": "display_data"
    }
   ],
   "source": [
    "customers.PRODUCT_GROUP.value_counts(dropna=False).plot( kind = 'bar')\n",
    "customers.PRODUCT_GROUP.value_counts(dropna=False)"
   ]
  },
  {
   "cell_type": "code",
   "execution_count": 17,
   "metadata": {},
   "outputs": [
    {
     "data": {
      "text/plain": [
       "0    174356\n",
       "1     17296\n",
       "Name: ONLINE_PURCHASE, dtype: int64"
      ]
     },
     "execution_count": 17,
     "metadata": {},
     "output_type": "execute_result"
    },
    {
     "data": {
      "image/png": "[encoded data removed]",
      "text/plain": [
       "<Figure size 432x288 with 1 Axes>"
      ]
     },
     "metadata": {
      "needs_background": "light"
     },
     "output_type": "display_data"
    }
   ],
   "source": [
    "customers.ONLINE_PURCHASE.value_counts(dropna=False).plot( kind = 'bar')\n",
    "customers.ONLINE_PURCHASE.value_counts(dropna=False)"
   ]
  },
  {
   "cell_type": "markdown",
   "metadata": {},
   "source": [
    "While this seems very intersting, especially how most of the purchases are made offline, we can't make much use of them in our machine learning later on."
   ]
  },
  {
   "cell_type": "markdown",
   "metadata": {},
   "source": [
    "Let's get to know more about the columns were are using"
   ]
  },
  {
   "cell_type": "code",
   "execution_count": 18,
   "metadata": {},
   "outputs": [],
   "source": [
    "overview = pd.read_excel('./DIAS Information Levels - Attributes 2017.xlsx', index_col=0, header=1)"
   ]
  },
  {
   "cell_type": "code",
   "execution_count": 19,
   "metadata": {},
   "outputs": [],
   "source": [
    "details = pd.read_excel('./DIAS Attributes - Values 2017.xlsx', index_col=0, header=1)\n",
    "details = details.dropna(subset=['Attribute'])"
   ]
  },
  {
   "cell_type": "code",
   "execution_count": 20,
   "metadata": {},
   "outputs": [
    {
     "data": {
      "text/plain": [
       "(313, 4)"
      ]
     },
     "execution_count": 20,
     "metadata": {},
     "output_type": "execute_result"
    }
   ],
   "source": [
    "overview.shape"
   ]
  },
  {
   "cell_type": "code",
   "execution_count": 21,
   "metadata": {},
   "outputs": [
    {
     "data": {
      "text/plain": [
       "(314, 4)"
      ]
     },
     "execution_count": 21,
     "metadata": {},
     "output_type": "execute_result"
    }
   ],
   "source": [
    "details.shape"
   ]
  },
  {
   "cell_type": "code",
   "execution_count": 22,
   "metadata": {},
   "outputs": [
    {
     "data": {
      "text/html": [
       "<div>\n",
       "<style scoped>\n",
       "    .dataframe tbody tr th:only-of-type {\n",
       "        vertical-align: middle;\n",
       "    }\n",
       "\n",
       "    .dataframe tbody tr th {\n",
       "        vertical-align: top;\n",
       "    }\n",
       "\n",
       "    .dataframe thead th {\n",
       "        text-align: right;\n",
       "    }\n",
       "</style>\n",
       "<table border=\"1\" class=\"dataframe\">\n",
       "  <thead>\n",
       "    <tr style=\"text-align: right;\">\n",
       "      <th></th>\n",
       "      <th>Information level</th>\n",
       "      <th>Attribute</th>\n",
       "      <th>Description</th>\n",
       "      <th>Additional notes</th>\n",
       "    </tr>\n",
       "  </thead>\n",
       "  <tbody>\n",
       "    <tr>\n",
       "      <th>NaN</th>\n",
       "      <td>NaN</td>\n",
       "      <td>AGER_TYP</td>\n",
       "      <td>best-ager typology</td>\n",
       "      <td>in cooperation with Kantar TNS; the information basis is a consumer survey</td>\n",
       "    </tr>\n",
       "    <tr>\n",
       "      <th>NaN</th>\n",
       "      <td>Person</td>\n",
       "      <td>ALTERSKATEGORIE_GROB</td>\n",
       "      <td>age through prename analysis</td>\n",
       "      <td>modelled on millions of first name-age-reference data</td>\n",
       "    </tr>\n",
       "    <tr>\n",
       "      <th>NaN</th>\n",
       "      <td>NaN</td>\n",
       "      <td>ANREDE_KZ</td>\n",
       "      <td>gender</td>\n",
       "      <td>NaN</td>\n",
       "    </tr>\n",
       "    <tr>\n",
       "      <th>NaN</th>\n",
       "      <td>NaN</td>\n",
       "      <td>CJT_GESAMTTYP</td>\n",
       "      <td>Customer-Journey-Typology relating to the preferred information and buying channels of consumers</td>\n",
       "      <td>relating to the preferred information, marketing and buying channels of consumers as well as the...</td>\n",
       "    </tr>\n",
       "    <tr>\n",
       "      <th>NaN</th>\n",
       "      <td>NaN</td>\n",
       "      <td>FINANZ_MINIMALIST</td>\n",
       "      <td>financial typology: low financial interest</td>\n",
       "      <td>Gfk-Typology based on a representative household panel combined via a statistical modell with AZ...</td>\n",
       "    </tr>\n",
       "    <tr>\n",
       "      <th>NaN</th>\n",
       "      <td>NaN</td>\n",
       "      <td>FINANZ_SPARER</td>\n",
       "      <td>financial typology: money saver</td>\n",
       "      <td>NaN</td>\n",
       "    </tr>\n",
       "    <tr>\n",
       "      <th>NaN</th>\n",
       "      <td>NaN</td>\n",
       "      <td>FINANZ_VORSORGER</td>\n",
       "      <td>financial typology: be prepared</td>\n",
       "      <td>NaN</td>\n",
       "    </tr>\n",
       "    <tr>\n",
       "      <th>NaN</th>\n",
       "      <td>NaN</td>\n",
       "      <td>FINANZ_ANLEGER</td>\n",
       "      <td>financial typology: investor</td>\n",
       "      <td>NaN</td>\n",
       "    </tr>\n",
       "    <tr>\n",
       "      <th>NaN</th>\n",
       "      <td>NaN</td>\n",
       "      <td>FINANZ_UNAUFFAELLIGER</td>\n",
       "      <td>financial typology: unremarkable</td>\n",
       "      <td>NaN</td>\n",
       "    </tr>\n",
       "    <tr>\n",
       "      <th>NaN</th>\n",
       "      <td>NaN</td>\n",
       "      <td>FINANZ_HAUSBAUER</td>\n",
       "      <td>financial typology: main focus is the own house</td>\n",
       "      <td>NaN</td>\n",
       "    </tr>\n",
       "  </tbody>\n",
       "</table>\n",
       "</div>"
      ],
      "text/plain": [
       "    Information level              Attribute  \\\n",
       "NaN               NaN               AGER_TYP   \n",
       "NaN            Person   ALTERSKATEGORIE_GROB   \n",
       "NaN               NaN              ANREDE_KZ   \n",
       "NaN               NaN          CJT_GESAMTTYP   \n",
       "NaN               NaN      FINANZ_MINIMALIST   \n",
       "NaN               NaN          FINANZ_SPARER   \n",
       "NaN               NaN       FINANZ_VORSORGER   \n",
       "NaN               NaN         FINANZ_ANLEGER   \n",
       "NaN               NaN  FINANZ_UNAUFFAELLIGER   \n",
       "NaN               NaN       FINANZ_HAUSBAUER   \n",
       "\n",
       "                                                                                          Description  \\\n",
       "NaN                                                                                best-ager typology   \n",
       "NaN                                                                     age through prename analysis    \n",
       "NaN                                                                                            gender   \n",
       "NaN  Customer-Journey-Typology relating to the preferred information and buying channels of consumers   \n",
       "NaN                                                        financial typology: low financial interest   \n",
       "NaN                                                                   financial typology: money saver   \n",
       "NaN                                                                   financial typology: be prepared   \n",
       "NaN                                                                      financial typology: investor   \n",
       "NaN                                                                  financial typology: unremarkable   \n",
       "NaN                                                   financial typology: main focus is the own house   \n",
       "\n",
       "                                                                                        Additional notes  \n",
       "NaN                           in cooperation with Kantar TNS; the information basis is a consumer survey  \n",
       "NaN                                              modelled on millions of first name-age-reference data    \n",
       "NaN                                                                                                  NaN  \n",
       "NaN  relating to the preferred information, marketing and buying channels of consumers as well as the...  \n",
       "NaN  Gfk-Typology based on a representative household panel combined via a statistical modell with AZ...  \n",
       "NaN                                                                                                  NaN  \n",
       "NaN                                                                                                  NaN  \n",
       "NaN                                                                                                  NaN  \n",
       "NaN                                                                                                  NaN  \n",
       "NaN                                                                                                  NaN  "
      ]
     },
     "execution_count": 22,
     "metadata": {},
     "output_type": "execute_result"
    }
   ],
   "source": [
    "overview.head(10)"
   ]
  },
  {
   "cell_type": "code",
   "execution_count": 23,
   "metadata": {},
   "outputs": [
    {
     "data": {
      "text/html": [
       "<div>\n",
       "<style scoped>\n",
       "    .dataframe tbody tr th:only-of-type {\n",
       "        vertical-align: middle;\n",
       "    }\n",
       "\n",
       "    .dataframe tbody tr th {\n",
       "        vertical-align: top;\n",
       "    }\n",
       "\n",
       "    .dataframe thead th {\n",
       "        text-align: right;\n",
       "    }\n",
       "</style>\n",
       "<table border=\"1\" class=\"dataframe\">\n",
       "  <thead>\n",
       "    <tr style=\"text-align: right;\">\n",
       "      <th></th>\n",
       "      <th>Attribute</th>\n",
       "      <th>Description</th>\n",
       "      <th>Value</th>\n",
       "      <th>Meaning</th>\n",
       "    </tr>\n",
       "  </thead>\n",
       "  <tbody>\n",
       "    <tr>\n",
       "      <th>NaN</th>\n",
       "      <td>AGER_TYP</td>\n",
       "      <td>best-ager typology</td>\n",
       "      <td>-1</td>\n",
       "      <td>unknown</td>\n",
       "    </tr>\n",
       "    <tr>\n",
       "      <th>NaN</th>\n",
       "      <td>ALTERSKATEGORIE_GROB</td>\n",
       "      <td>age classification through prename analysis</td>\n",
       "      <td>-1, 0</td>\n",
       "      <td>unknown</td>\n",
       "    </tr>\n",
       "    <tr>\n",
       "      <th>NaN</th>\n",
       "      <td>ALTER_HH</td>\n",
       "      <td>main age within the household</td>\n",
       "      <td>0</td>\n",
       "      <td>unknown / no main age detectable</td>\n",
       "    </tr>\n",
       "    <tr>\n",
       "      <th>NaN</th>\n",
       "      <td>ANREDE_KZ</td>\n",
       "      <td>gender</td>\n",
       "      <td>-1, 0</td>\n",
       "      <td>unknown</td>\n",
       "    </tr>\n",
       "    <tr>\n",
       "      <th>NaN</th>\n",
       "      <td>ANZ_HAUSHALTE_AKTIV</td>\n",
       "      <td>number of households in the building</td>\n",
       "      <td>…</td>\n",
       "      <td>numeric value (typically coded from 1-10)</td>\n",
       "    </tr>\n",
       "    <tr>\n",
       "      <th>NaN</th>\n",
       "      <td>ANZ_HH_TITEL</td>\n",
       "      <td>number of academic title holder in building</td>\n",
       "      <td>…</td>\n",
       "      <td>numeric value (typically coded from 1-10)</td>\n",
       "    </tr>\n",
       "    <tr>\n",
       "      <th>NaN</th>\n",
       "      <td>ANZ_PERSONEN</td>\n",
       "      <td>number of adult persons in the household</td>\n",
       "      <td>…</td>\n",
       "      <td>numeric value (typically coded from 1-3)</td>\n",
       "    </tr>\n",
       "    <tr>\n",
       "      <th>NaN</th>\n",
       "      <td>ANZ_TITEL</td>\n",
       "      <td>number of professional title holder in household</td>\n",
       "      <td>…</td>\n",
       "      <td>numeric value (typically coded from 1-10)</td>\n",
       "    </tr>\n",
       "    <tr>\n",
       "      <th>NaN</th>\n",
       "      <td>BALLRAUM</td>\n",
       "      <td>distance to next urban centre</td>\n",
       "      <td>-1</td>\n",
       "      <td>unknown</td>\n",
       "    </tr>\n",
       "    <tr>\n",
       "      <th>NaN</th>\n",
       "      <td>BIP_FLAG</td>\n",
       "      <td>business-flag indicating companies in the building</td>\n",
       "      <td>-1</td>\n",
       "      <td>unknown</td>\n",
       "    </tr>\n",
       "  </tbody>\n",
       "</table>\n",
       "</div>"
      ],
      "text/plain": [
       "                Attribute                                         Description  \\\n",
       "NaN              AGER_TYP                                  best-ager typology   \n",
       "NaN  ALTERSKATEGORIE_GROB        age classification through prename analysis    \n",
       "NaN              ALTER_HH                       main age within the household   \n",
       "NaN             ANREDE_KZ                                              gender   \n",
       "NaN   ANZ_HAUSHALTE_AKTIV                number of households in the building   \n",
       "NaN          ANZ_HH_TITEL         number of academic title holder in building   \n",
       "NaN          ANZ_PERSONEN            number of adult persons in the household   \n",
       "NaN             ANZ_TITEL   number of professional title holder in household    \n",
       "NaN              BALLRAUM                      distance to next urban centre    \n",
       "NaN              BIP_FLAG  business-flag indicating companies in the building   \n",
       "\n",
       "     Value                                    Meaning  \n",
       "NaN     -1                                    unknown  \n",
       "NaN  -1, 0                                    unknown  \n",
       "NaN      0           unknown / no main age detectable  \n",
       "NaN  -1, 0                                    unknown  \n",
       "NaN      …  numeric value (typically coded from 1-10)  \n",
       "NaN      …  numeric value (typically coded from 1-10)  \n",
       "NaN      …   numeric value (typically coded from 1-3)  \n",
       "NaN      …  numeric value (typically coded from 1-10)  \n",
       "NaN     -1                                    unknown  \n",
       "NaN     -1                                    unknown  "
      ]
     },
     "execution_count": 23,
     "metadata": {},
     "output_type": "execute_result"
    }
   ],
   "source": [
    "details.head(10)"
   ]
  },
  {
   "cell_type": "code",
   "execution_count": 24,
   "metadata": {},
   "outputs": [
    {
     "data": {
      "text/plain": [
       "NaN                   303\n",
       "Community               1\n",
       "Building                1\n",
       "Postcode                1\n",
       "RR1_ID                  1\n",
       "Microcell (RR3_ID)      1\n",
       "PLZ8                    1\n",
       "125m x 125m Grid        1\n",
       "Household               1\n",
       "Person                  1\n",
       "Microcell (RR4_ID)      1\n",
       "Name: Information level, dtype: int64"
      ]
     },
     "execution_count": 24,
     "metadata": {},
     "output_type": "execute_result"
    }
   ],
   "source": [
    "overview['Information level'].value_counts(dropna=False)"
   ]
  },
  {
   "cell_type": "markdown",
   "metadata": {},
   "source": [
    "Informational Level is too empty to use"
   ]
  },
  {
   "cell_type": "code",
   "execution_count": 25,
   "metadata": {},
   "outputs": [
    {
     "data": {
      "text/plain": [
       "(300, 4)"
      ]
     },
     "execution_count": 25,
     "metadata": {},
     "output_type": "execute_result"
    }
   ],
   "source": [
    "details[details.Attribute.isin(overview.Attribute)].shape"
   ]
  },
  {
   "cell_type": "markdown",
   "metadata": {},
   "source": [
    "Most of the rows in overview are available in the details dataframe. Let's check out the ones that are different:"
   ]
  },
  {
   "cell_type": "code",
   "execution_count": 26,
   "metadata": {},
   "outputs": [
    {
     "data": {
      "text/html": [
       "<div>\n",
       "<style scoped>\n",
       "    .dataframe tbody tr th:only-of-type {\n",
       "        vertical-align: middle;\n",
       "    }\n",
       "\n",
       "    .dataframe tbody tr th {\n",
       "        vertical-align: top;\n",
       "    }\n",
       "\n",
       "    .dataframe thead th {\n",
       "        text-align: right;\n",
       "    }\n",
       "</style>\n",
       "<table border=\"1\" class=\"dataframe\">\n",
       "  <thead>\n",
       "    <tr style=\"text-align: right;\">\n",
       "      <th></th>\n",
       "      <th>Attribute</th>\n",
       "      <th>Description</th>\n",
       "      <th>Value</th>\n",
       "      <th>Meaning</th>\n",
       "    </tr>\n",
       "  </thead>\n",
       "  <tbody>\n",
       "    <tr>\n",
       "      <th>NaN</th>\n",
       "      <td>BIP_FLAG</td>\n",
       "      <td>business-flag indicating companies in the building</td>\n",
       "      <td>-1</td>\n",
       "      <td>unknown</td>\n",
       "    </tr>\n",
       "    <tr>\n",
       "      <th>NaN</th>\n",
       "      <td>D19_BANKEN_ANZ_12</td>\n",
       "      <td>transaction activity BANKS in the last 12 months</td>\n",
       "      <td>0</td>\n",
       "      <td>no transactions known</td>\n",
       "    </tr>\n",
       "    <tr>\n",
       "      <th>NaN</th>\n",
       "      <td>D19_BANKEN_ANZ_24</td>\n",
       "      <td>transaction activity BANKS in the last 24 months</td>\n",
       "      <td>0</td>\n",
       "      <td>no transactions known</td>\n",
       "    </tr>\n",
       "    <tr>\n",
       "      <th>NaN</th>\n",
       "      <td>D19_GESAMT_ANZ_12</td>\n",
       "      <td>transaction activity TOTAL POOL in the last 12 months</td>\n",
       "      <td>0</td>\n",
       "      <td>no transactions known</td>\n",
       "    </tr>\n",
       "    <tr>\n",
       "      <th>NaN</th>\n",
       "      <td>D19_GESAMT_ANZ_24</td>\n",
       "      <td>transaction activity TOTAL POOL in the last 24 months</td>\n",
       "      <td>0</td>\n",
       "      <td>no transactions known</td>\n",
       "    </tr>\n",
       "    <tr>\n",
       "      <th>NaN</th>\n",
       "      <td>D19_LOTTO_RZ</td>\n",
       "      <td>transactional activity based on the product group LOTTO</td>\n",
       "      <td>0</td>\n",
       "      <td>no transaction known</td>\n",
       "    </tr>\n",
       "    <tr>\n",
       "      <th>NaN</th>\n",
       "      <td>D19_TELKO_ANZ_12</td>\n",
       "      <td>transaction activity TELCO in the last 12 months</td>\n",
       "      <td>0</td>\n",
       "      <td>no transactions known</td>\n",
       "    </tr>\n",
       "    <tr>\n",
       "      <th>NaN</th>\n",
       "      <td>D19_TELKO_ANZ_24</td>\n",
       "      <td>transaction activity TELCO in the last 24 months</td>\n",
       "      <td>0</td>\n",
       "      <td>no transactions known</td>\n",
       "    </tr>\n",
       "    <tr>\n",
       "      <th>NaN</th>\n",
       "      <td>D19_VERSAND_ANZ_12</td>\n",
       "      <td>transaction activity MAIL-ORDER in the last 12 months</td>\n",
       "      <td>0</td>\n",
       "      <td>no transactions known</td>\n",
       "    </tr>\n",
       "    <tr>\n",
       "      <th>NaN</th>\n",
       "      <td>D19_VERSAND_ANZ_24</td>\n",
       "      <td>transaction activity MAIL-ORDER in the last 24 months</td>\n",
       "      <td>0</td>\n",
       "      <td>no transactions known</td>\n",
       "    </tr>\n",
       "    <tr>\n",
       "      <th>NaN</th>\n",
       "      <td>D19_VERSI_ANZ_12</td>\n",
       "      <td>transaction activity INSURANCE in the last 12 months</td>\n",
       "      <td>0</td>\n",
       "      <td>no transactions known</td>\n",
       "    </tr>\n",
       "    <tr>\n",
       "      <th>NaN</th>\n",
       "      <td>D19_VERSI_ANZ_24</td>\n",
       "      <td>transaction activity INSURANCE in the last 24 months</td>\n",
       "      <td>0</td>\n",
       "      <td>no transactions known</td>\n",
       "    </tr>\n",
       "    <tr>\n",
       "      <th>NaN</th>\n",
       "      <td>KBA13_CCM_3000</td>\n",
       "      <td>share of cars with 2500ccm to 2999ccm within the PLZ8</td>\n",
       "      <td>-1</td>\n",
       "      <td>unknown</td>\n",
       "    </tr>\n",
       "    <tr>\n",
       "      <th>NaN</th>\n",
       "      <td>KBA13_CCM_3001</td>\n",
       "      <td>share of cars with more than 3000ccm within the PLZ8</td>\n",
       "      <td>-1</td>\n",
       "      <td>unknown</td>\n",
       "    </tr>\n",
       "  </tbody>\n",
       "</table>\n",
       "</div>"
      ],
      "text/plain": [
       "              Attribute  \\\n",
       "NaN            BIP_FLAG   \n",
       "NaN   D19_BANKEN_ANZ_12   \n",
       "NaN   D19_BANKEN_ANZ_24   \n",
       "NaN   D19_GESAMT_ANZ_12   \n",
       "NaN   D19_GESAMT_ANZ_24   \n",
       "NaN        D19_LOTTO_RZ   \n",
       "NaN    D19_TELKO_ANZ_12   \n",
       "NaN    D19_TELKO_ANZ_24   \n",
       "NaN  D19_VERSAND_ANZ_12   \n",
       "NaN  D19_VERSAND_ANZ_24   \n",
       "NaN    D19_VERSI_ANZ_12   \n",
       "NaN    D19_VERSI_ANZ_24   \n",
       "NaN      KBA13_CCM_3000   \n",
       "NaN      KBA13_CCM_3001   \n",
       "\n",
       "                                                 Description Value  \\\n",
       "NaN       business-flag indicating companies in the building    -1   \n",
       "NaN         transaction activity BANKS in the last 12 months     0   \n",
       "NaN         transaction activity BANKS in the last 24 months     0   \n",
       "NaN   transaction activity TOTAL POOL in the last 12 months      0   \n",
       "NaN   transaction activity TOTAL POOL in the last 24 months      0   \n",
       "NaN  transactional activity based on the product group LOTTO     0   \n",
       "NaN         transaction activity TELCO in the last 12 months     0   \n",
       "NaN         transaction activity TELCO in the last 24 months     0   \n",
       "NaN    transaction activity MAIL-ORDER in the last 12 months     0   \n",
       "NaN    transaction activity MAIL-ORDER in the last 24 months     0   \n",
       "NaN     transaction activity INSURANCE in the last 12 months     0   \n",
       "NaN     transaction activity INSURANCE in the last 24 months     0   \n",
       "NaN    share of cars with 2500ccm to 2999ccm within the PLZ8    -1   \n",
       "NaN     share of cars with more than 3000ccm within the PLZ8    -1   \n",
       "\n",
       "                   Meaning  \n",
       "NaN                unknown  \n",
       "NaN  no transactions known  \n",
       "NaN  no transactions known  \n",
       "NaN  no transactions known  \n",
       "NaN  no transactions known  \n",
       "NaN   no transaction known  \n",
       "NaN  no transactions known  \n",
       "NaN  no transactions known  \n",
       "NaN  no transactions known  \n",
       "NaN  no transactions known  \n",
       "NaN  no transactions known  \n",
       "NaN  no transactions known  \n",
       "NaN                unknown  \n",
       "NaN                unknown  "
      ]
     },
     "execution_count": 26,
     "metadata": {},
     "output_type": "execute_result"
    }
   ],
   "source": [
    "details[~details.Attribute.isin(overview.Attribute)] # rows in details but not in overivew"
   ]
  },
  {
   "cell_type": "code",
   "execution_count": 27,
   "metadata": {},
   "outputs": [
    {
     "data": {
      "text/html": [
       "<div>\n",
       "<style scoped>\n",
       "    .dataframe tbody tr th:only-of-type {\n",
       "        vertical-align: middle;\n",
       "    }\n",
       "\n",
       "    .dataframe tbody tr th {\n",
       "        vertical-align: top;\n",
       "    }\n",
       "\n",
       "    .dataframe thead th {\n",
       "        text-align: right;\n",
       "    }\n",
       "</style>\n",
       "<table border=\"1\" class=\"dataframe\">\n",
       "  <thead>\n",
       "    <tr style=\"text-align: right;\">\n",
       "      <th></th>\n",
       "      <th>Information level</th>\n",
       "      <th>Attribute</th>\n",
       "      <th>Description</th>\n",
       "      <th>Additional notes</th>\n",
       "    </tr>\n",
       "  </thead>\n",
       "  <tbody>\n",
       "    <tr>\n",
       "      <th>NaN</th>\n",
       "      <td>NaN</td>\n",
       "      <td>D19_GESAMT_ANZ_12                                    D19_GESAMT_ANZ_24</td>\n",
       "      <td>transaction activity TOTAL POOL in the last 12 and 24 months</td>\n",
       "      <td>NaN</td>\n",
       "    </tr>\n",
       "    <tr>\n",
       "      <th>NaN</th>\n",
       "      <td>NaN</td>\n",
       "      <td>D19_BANKEN_ ANZ_12             D19_BANKEN_ ANZ_24</td>\n",
       "      <td>transaction activity BANKS in the last 12 and 24 months</td>\n",
       "      <td>NaN</td>\n",
       "    </tr>\n",
       "    <tr>\n",
       "      <th>NaN</th>\n",
       "      <td>NaN</td>\n",
       "      <td>D19_TELKO_ ANZ_12                  D19_TELKO_ ANZ_24</td>\n",
       "      <td>transaction activity TELCO in the last 12 and 24 months</td>\n",
       "      <td>NaN</td>\n",
       "    </tr>\n",
       "    <tr>\n",
       "      <th>NaN</th>\n",
       "      <td>NaN</td>\n",
       "      <td>D19_VERSI_ ANZ_12                                       D19_VERSI_ ANZ_24</td>\n",
       "      <td>transaction activity INSURANCE in the last 12 and 24 months</td>\n",
       "      <td>NaN</td>\n",
       "    </tr>\n",
       "    <tr>\n",
       "      <th>NaN</th>\n",
       "      <td>NaN</td>\n",
       "      <td>D19_VERSAND_ ANZ_12          D19_VERSAND_ ANZ_24</td>\n",
       "      <td>transaction activity MAIL-ORDER in the last 12 and 24 months</td>\n",
       "      <td>NaN</td>\n",
       "    </tr>\n",
       "    <tr>\n",
       "      <th>NaN</th>\n",
       "      <td>NaN</td>\n",
       "      <td>D19_VERSI_OFFLINE_DATUM</td>\n",
       "      <td>actuality of the last transaction for the segment insurance OFFLINE</td>\n",
       "      <td>NaN</td>\n",
       "    </tr>\n",
       "    <tr>\n",
       "      <th>NaN</th>\n",
       "      <td>NaN</td>\n",
       "      <td>D19_VERSI_ONLINE_DATUM</td>\n",
       "      <td>actuality of the last transaction for the segment insurance ONLINE</td>\n",
       "      <td>NaN</td>\n",
       "    </tr>\n",
       "    <tr>\n",
       "      <th>NaN</th>\n",
       "      <td>NaN</td>\n",
       "      <td>D19_VERSI_DATUM</td>\n",
       "      <td>actuality of the last transaction for the segment insurance TOTAL</td>\n",
       "      <td>NaN</td>\n",
       "    </tr>\n",
       "    <tr>\n",
       "      <th>NaN</th>\n",
       "      <td>NaN</td>\n",
       "      <td>PLZ</td>\n",
       "      <td>postcode</td>\n",
       "      <td>NaN</td>\n",
       "    </tr>\n",
       "    <tr>\n",
       "      <th>NaN</th>\n",
       "      <td>NaN</td>\n",
       "      <td>PLZ8</td>\n",
       "      <td>sub-postcode (about 8 PLZ8 make up one PLZ) and \\nnew macrocell level (about 500 households)</td>\n",
       "      <td>NaN</td>\n",
       "    </tr>\n",
       "    <tr>\n",
       "      <th>NaN</th>\n",
       "      <td>Community</td>\n",
       "      <td>ARBEIT</td>\n",
       "      <td>share of unemployed person in the community</td>\n",
       "      <td>NaN</td>\n",
       "    </tr>\n",
       "    <tr>\n",
       "      <th>NaN</th>\n",
       "      <td>NaN</td>\n",
       "      <td>EINWOHNER</td>\n",
       "      <td>inhabitants</td>\n",
       "      <td>NaN</td>\n",
       "    </tr>\n",
       "    <tr>\n",
       "      <th>NaN</th>\n",
       "      <td>NaN</td>\n",
       "      <td>GKZ</td>\n",
       "      <td>standardized community-code</td>\n",
       "      <td>NaN</td>\n",
       "    </tr>\n",
       "  </tbody>\n",
       "</table>\n",
       "</div>"
      ],
      "text/plain": [
       "    Information level  \\\n",
       "NaN               NaN   \n",
       "NaN               NaN   \n",
       "NaN               NaN   \n",
       "NaN               NaN   \n",
       "NaN               NaN   \n",
       "NaN               NaN   \n",
       "NaN               NaN   \n",
       "NaN               NaN   \n",
       "NaN               NaN   \n",
       "NaN               NaN   \n",
       "NaN         Community   \n",
       "NaN               NaN   \n",
       "NaN               NaN   \n",
       "\n",
       "                                                                     Attribute  \\\n",
       "NaN     D19_GESAMT_ANZ_12                                    D19_GESAMT_ANZ_24   \n",
       "NaN                          D19_BANKEN_ ANZ_12             D19_BANKEN_ ANZ_24   \n",
       "NaN                       D19_TELKO_ ANZ_12                  D19_TELKO_ ANZ_24   \n",
       "NaN  D19_VERSI_ ANZ_12                                       D19_VERSI_ ANZ_24   \n",
       "NaN                           D19_VERSAND_ ANZ_12          D19_VERSAND_ ANZ_24   \n",
       "NaN                                                    D19_VERSI_OFFLINE_DATUM   \n",
       "NaN                                                     D19_VERSI_ONLINE_DATUM   \n",
       "NaN                                                            D19_VERSI_DATUM   \n",
       "NaN                                                                        PLZ   \n",
       "NaN                                                                       PLZ8   \n",
       "NaN                                                                     ARBEIT   \n",
       "NaN                                                                  EINWOHNER   \n",
       "NaN                                                                        GKZ   \n",
       "\n",
       "                                                                                      Description  \\\n",
       "NaN                                 transaction activity TOTAL POOL in the last 12 and 24 months    \n",
       "NaN                                       transaction activity BANKS in the last 12 and 24 months   \n",
       "NaN                                       transaction activity TELCO in the last 12 and 24 months   \n",
       "NaN                                   transaction activity INSURANCE in the last 12 and 24 months   \n",
       "NaN                                  transaction activity MAIL-ORDER in the last 12 and 24 months   \n",
       "NaN                           actuality of the last transaction for the segment insurance OFFLINE   \n",
       "NaN                            actuality of the last transaction for the segment insurance ONLINE   \n",
       "NaN                             actuality of the last transaction for the segment insurance TOTAL   \n",
       "NaN                                                                                      postcode   \n",
       "NaN  sub-postcode (about 8 PLZ8 make up one PLZ) and \\nnew macrocell level (about 500 households)   \n",
       "NaN                                                   share of unemployed person in the community   \n",
       "NaN                                                                                   inhabitants   \n",
       "NaN                                                                   standardized community-code   \n",
       "\n",
       "    Additional notes  \n",
       "NaN              NaN  \n",
       "NaN              NaN  \n",
       "NaN              NaN  \n",
       "NaN              NaN  \n",
       "NaN              NaN  \n",
       "NaN              NaN  \n",
       "NaN              NaN  \n",
       "NaN              NaN  \n",
       "NaN              NaN  \n",
       "NaN              NaN  \n",
       "NaN              NaN  \n",
       "NaN              NaN  \n",
       "NaN              NaN  "
      ]
     },
     "execution_count": 27,
     "metadata": {},
     "output_type": "execute_result"
    }
   ],
   "source": [
    "overview[~overview.Attribute.isin(details.Attribute)] # rows in overview but not in details"
   ]
  },
  {
   "cell_type": "markdown",
   "metadata": {},
   "source": [
    "Both dataframes have a few rows that the other doesn't have. So, it is useful to use them both together."
   ]
  },
  {
   "cell_type": "code",
   "execution_count": 28,
   "metadata": {},
   "outputs": [
    {
     "data": {
      "text/html": [
       "<div>\n",
       "<style scoped>\n",
       "    .dataframe tbody tr th:only-of-type {\n",
       "        vertical-align: middle;\n",
       "    }\n",
       "\n",
       "    .dataframe tbody tr th {\n",
       "        vertical-align: top;\n",
       "    }\n",
       "\n",
       "    .dataframe thead th {\n",
       "        text-align: right;\n",
       "    }\n",
       "</style>\n",
       "<table border=\"1\" class=\"dataframe\">\n",
       "  <thead>\n",
       "    <tr style=\"text-align: right;\">\n",
       "      <th></th>\n",
       "      <th>Attribute</th>\n",
       "      <th>Description</th>\n",
       "      <th>Additional notes</th>\n",
       "      <th>Value</th>\n",
       "      <th>Meaning</th>\n",
       "    </tr>\n",
       "  </thead>\n",
       "  <tbody>\n",
       "    <tr>\n",
       "      <th>0</th>\n",
       "      <td>AGER_TYP</td>\n",
       "      <td>best-ager typology</td>\n",
       "      <td>in cooperation with Kantar TNS; the information basis is a consumer survey</td>\n",
       "      <td>-1</td>\n",
       "      <td>unknown</td>\n",
       "    </tr>\n",
       "    <tr>\n",
       "      <th>1</th>\n",
       "      <td>ALTERSKATEGORIE_GROB</td>\n",
       "      <td>age through prename analysis</td>\n",
       "      <td>modelled on millions of first name-age-reference data</td>\n",
       "      <td>NaN</td>\n",
       "      <td>NaN</td>\n",
       "    </tr>\n",
       "    <tr>\n",
       "      <th>2</th>\n",
       "      <td>ANREDE_KZ</td>\n",
       "      <td>gender</td>\n",
       "      <td>NaN</td>\n",
       "      <td>-1, 0</td>\n",
       "      <td>unknown</td>\n",
       "    </tr>\n",
       "    <tr>\n",
       "      <th>3</th>\n",
       "      <td>CJT_GESAMTTYP</td>\n",
       "      <td>Customer-Journey-Typology relating to the preferred information and buying channels of consumers</td>\n",
       "      <td>relating to the preferred information, marketing and buying channels of consumers as well as the...</td>\n",
       "      <td>NaN</td>\n",
       "      <td>NaN</td>\n",
       "    </tr>\n",
       "    <tr>\n",
       "      <th>4</th>\n",
       "      <td>FINANZ_MINIMALIST</td>\n",
       "      <td>financial typology: low financial interest</td>\n",
       "      <td>Gfk-Typology based on a representative household panel combined via a statistical modell with AZ...</td>\n",
       "      <td>-1</td>\n",
       "      <td>unknown</td>\n",
       "    </tr>\n",
       "    <tr>\n",
       "      <th>5</th>\n",
       "      <td>FINANZ_SPARER</td>\n",
       "      <td>financial typology: money saver</td>\n",
       "      <td>NaN</td>\n",
       "      <td>-1</td>\n",
       "      <td>unknown</td>\n",
       "    </tr>\n",
       "    <tr>\n",
       "      <th>6</th>\n",
       "      <td>FINANZ_VORSORGER</td>\n",
       "      <td>financial typology: be prepared</td>\n",
       "      <td>NaN</td>\n",
       "      <td>-1</td>\n",
       "      <td>unknown</td>\n",
       "    </tr>\n",
       "    <tr>\n",
       "      <th>7</th>\n",
       "      <td>FINANZ_ANLEGER</td>\n",
       "      <td>financial typology: investor</td>\n",
       "      <td>NaN</td>\n",
       "      <td>-1</td>\n",
       "      <td>unknown</td>\n",
       "    </tr>\n",
       "    <tr>\n",
       "      <th>8</th>\n",
       "      <td>FINANZ_UNAUFFAELLIGER</td>\n",
       "      <td>financial typology: unremarkable</td>\n",
       "      <td>NaN</td>\n",
       "      <td>-1</td>\n",
       "      <td>unknown</td>\n",
       "    </tr>\n",
       "    <tr>\n",
       "      <th>9</th>\n",
       "      <td>FINANZ_HAUSBAUER</td>\n",
       "      <td>financial typology: main focus is the own house</td>\n",
       "      <td>NaN</td>\n",
       "      <td>-1</td>\n",
       "      <td>unknown</td>\n",
       "    </tr>\n",
       "  </tbody>\n",
       "</table>\n",
       "</div>"
      ],
      "text/plain": [
       "               Attribute  \\\n",
       "0               AGER_TYP   \n",
       "1   ALTERSKATEGORIE_GROB   \n",
       "2              ANREDE_KZ   \n",
       "3          CJT_GESAMTTYP   \n",
       "4      FINANZ_MINIMALIST   \n",
       "5          FINANZ_SPARER   \n",
       "6       FINANZ_VORSORGER   \n",
       "7         FINANZ_ANLEGER   \n",
       "8  FINANZ_UNAUFFAELLIGER   \n",
       "9       FINANZ_HAUSBAUER   \n",
       "\n",
       "                                                                                        Description  \\\n",
       "0                                                                                best-ager typology   \n",
       "1                                                                     age through prename analysis    \n",
       "2                                                                                            gender   \n",
       "3  Customer-Journey-Typology relating to the preferred information and buying channels of consumers   \n",
       "4                                                        financial typology: low financial interest   \n",
       "5                                                                   financial typology: money saver   \n",
       "6                                                                   financial typology: be prepared   \n",
       "7                                                                      financial typology: investor   \n",
       "8                                                                  financial typology: unremarkable   \n",
       "9                                                   financial typology: main focus is the own house   \n",
       "\n",
       "                                                                                      Additional notes  \\\n",
       "0                           in cooperation with Kantar TNS; the information basis is a consumer survey   \n",
       "1                                              modelled on millions of first name-age-reference data     \n",
       "2                                                                                                  NaN   \n",
       "3  relating to the preferred information, marketing and buying channels of consumers as well as the...   \n",
       "4  Gfk-Typology based on a representative household panel combined via a statistical modell with AZ...   \n",
       "5                                                                                                  NaN   \n",
       "6                                                                                                  NaN   \n",
       "7                                                                                                  NaN   \n",
       "8                                                                                                  NaN   \n",
       "9                                                                                                  NaN   \n",
       "\n",
       "   Value  Meaning  \n",
       "0     -1  unknown  \n",
       "1    NaN      NaN  \n",
       "2  -1, 0  unknown  \n",
       "3    NaN      NaN  \n",
       "4     -1  unknown  \n",
       "5     -1  unknown  \n",
       "6     -1  unknown  \n",
       "7     -1  unknown  \n",
       "8     -1  unknown  \n",
       "9     -1  unknown  "
      ]
     },
     "execution_count": 28,
     "metadata": {},
     "output_type": "execute_result"
    }
   ],
   "source": [
    "info = overview.merge(details, how = 'outer').drop(['Information level'],axis=1)\n",
    "info.head(10)"
   ]
  },
  {
   "cell_type": "code",
   "execution_count": 29,
   "metadata": {},
   "outputs": [
    {
     "data": {
      "text/plain": [
       "50"
      ]
     },
     "execution_count": 29,
     "metadata": {},
     "output_type": "execute_result"
    }
   ],
   "source": [
    "info.Attribute.duplicated().sum()"
   ]
  },
  {
   "cell_type": "code",
   "execution_count": 30,
   "metadata": {},
   "outputs": [],
   "source": [
    "info = info.drop_duplicates(subset='Attribute')"
   ]
  },
  {
   "cell_type": "code",
   "execution_count": 31,
   "metadata": {},
   "outputs": [
    {
     "data": {
      "text/plain": [
       "(327, 5)"
      ]
     },
     "execution_count": 31,
     "metadata": {},
     "output_type": "execute_result"
    }
   ],
   "source": [
    "info.shape"
   ]
  },
  {
   "cell_type": "code",
   "execution_count": 32,
   "metadata": {},
   "outputs": [
    {
     "name": "stdout",
     "output_type": "stream",
     "text": [
      "(211, 5)\n"
     ]
    }
   ],
   "source": [
    "info_clean = info[info.Attribute.isin(clean.columns)] # focusing on only the columns we will be using\n",
    "print(info_clean.shape)"
   ]
  },
  {
   "cell_type": "code",
   "execution_count": 33,
   "metadata": {
    "scrolled": false
   },
   "outputs": [
    {
     "name": "stdout",
     "output_type": "stream",
     "text": [
      "AGER_TYP: best-ager typology\n",
      "\n",
      "ALTERSKATEGORIE_GROB: age through prename analysis \n",
      "\n",
      "ALTER_HH: main age within the household\n",
      "\n",
      "ANREDE_KZ: gender\n",
      "\n",
      "ANZ_HAUSHALTE_AKTIV: number of households known in this building\n",
      "\n",
      "ANZ_HH_TITEL: number of holders of an academic title in the building\n",
      "\n",
      "ANZ_PERSONEN: number of persons known in this household\n",
      "\n",
      "ANZ_TITEL: number of bearers of an academic title within this household\n",
      "\n",
      "ARBEIT: share of unemployed person in the community\n",
      "\n",
      "BALLRAUM: distance to the next metropole\n",
      "\n",
      "CAMEO_DEUG_2015: CAMEO_4.0: uppergroup\n",
      "\n",
      "CAMEO_DEU_2015: CAMEO_4.0: specific group\n",
      "\n",
      "CJT_GESAMTTYP: Customer-Journey-Typology relating to the preferred information and buying channels of consumers\n",
      "\n",
      "D19_BANKEN_ANZ_12: transaction activity BANKS in the last 12 months\n",
      "\n",
      "D19_BANKEN_ANZ_24: transaction activity BANKS in the last 24 months\n",
      "\n",
      "D19_BANKEN_DATUM: actuality of the last transaction for the segment banks TOTAL\n",
      "\n",
      "D19_BANKEN_OFFLINE_DATUM: actuality of the last transaction for the segment banks OFFLINE\n",
      "\n",
      "D19_BANKEN_ONLINE_DATUM: actuality of the last transaction for the segment banks ONLINE\n",
      "\n",
      "D19_BANKEN_ONLINE_QUOTE_12: amount of online transactions within all transactions in the segment bank \n",
      "\n",
      "D19_GESAMT_ANZ_12: transaction activity TOTAL POOL in the last 12 months \n",
      "\n",
      "D19_GESAMT_ANZ_24: transaction activity TOTAL POOL in the last 24 months \n",
      "\n",
      "D19_GESAMT_DATUM: actuality of the last transaction with the complete file TOTAL\n",
      "\n",
      "D19_GESAMT_OFFLINE_DATUM: actuality of the last transaction with the complete file OFFLINE\n",
      "\n",
      "D19_GESAMT_ONLINE_DATUM: actuality of the last transaction with the complete file ONLINE\n",
      "\n",
      "D19_GESAMT_ONLINE_QUOTE_12: amount of online transactions within all transactions in the complete file \n",
      "\n",
      "D19_KONSUMTYP: consumption type \n",
      "\n",
      "D19_TELKO_ANZ_12: transaction activity TELCO in the last 12 months\n",
      "\n",
      "D19_TELKO_ANZ_24: transaction activity TELCO in the last 24 months\n",
      "\n",
      "D19_TELKO_DATUM: actuality of the last transaction for the segment telecommunication TOTAL\n",
      "\n",
      "D19_TELKO_OFFLINE_DATUM: actuality of the last transaction for the segment telecommunication OFFLINE\n",
      "\n",
      "D19_TELKO_ONLINE_DATUM: actuality of the last transaction for the segment telecommunication ONLINE\n",
      "\n",
      "D19_VERSAND_ANZ_12: transaction activity MAIL-ORDER in the last 12 months\n",
      "\n",
      "D19_VERSAND_ANZ_24: transaction activity MAIL-ORDER in the last 24 months\n",
      "\n",
      "D19_VERSAND_DATUM: actuality of the last transaction for the segment mail-order TOTAL\n",
      "\n",
      "D19_VERSAND_OFFLINE_DATUM: actuality of the last transaction for the segment mail-order OFFLINE\n",
      "\n",
      "D19_VERSAND_ONLINE_DATUM: actuality of the last transaction for the segment mail-order ONLINE\n",
      "\n",
      "D19_VERSAND_ONLINE_QUOTE_12: amount of online transactions within all transactions in the segment mail-order \n",
      "\n",
      "D19_VERSI_ANZ_12: transaction activity INSURANCE in the last 12 months\n",
      "\n",
      "D19_VERSI_ANZ_24: transaction activity INSURANCE in the last 24 months\n",
      "\n",
      "D19_VERSI_DATUM: actuality of the last transaction for the segment insurance TOTAL\n",
      "\n",
      "D19_VERSI_OFFLINE_DATUM: actuality of the last transaction for the segment insurance OFFLINE\n",
      "\n",
      "D19_VERSI_ONLINE_DATUM: actuality of the last transaction for the segment insurance ONLINE\n",
      "\n",
      "EWDICHTE: density of inhabitants per square kilometer\n",
      "\n",
      "FINANZTYP: best descirbing financial type for the peron\n",
      "\n",
      "FINANZ_ANLEGER: financial typology: investor\n",
      "\n",
      "FINANZ_HAUSBAUER: financial typology: main focus is the own house\n",
      "\n",
      "FINANZ_MINIMALIST: financial typology: low financial interest\n",
      "\n",
      "FINANZ_SPARER: financial typology: money saver\n",
      "\n",
      "FINANZ_UNAUFFAELLIGER: financial typology: unremarkable\n",
      "\n",
      "FINANZ_VORSORGER: financial typology: be prepared\n",
      "\n",
      "GEBAEUDETYP: type of building (residential or commercial)\n",
      "\n",
      "GEBAEUDETYP_RASTER: industrial areas\n",
      "\n",
      "GEBURTSJAHR: year of birth\n",
      "\n",
      "GFK_URLAUBERTYP: vacation habits\n",
      "\n",
      "GREEN_AVANTGARDE: the environmental sustainability is the dominating movement in the youth of these consumers\n",
      "\n",
      "HEALTH_TYP: health typology\n",
      "\n",
      "HH_EINKOMMEN_SCORE: estimated household_net_income \n",
      "\n",
      "INNENSTADT: distance to the city centre\n",
      "\n",
      "KBA05_HERSTTEMP: Development of the most common car manufacturers in the neighbourhood\n",
      "\n",
      "KBA05_MODTEMP: Development of the most common car segment in the neighbourhood\n",
      "\n",
      "KBA13_ALTERHALTER_30: share of car owners below 31 within the PLZ8\n",
      "\n",
      "KBA13_ALTERHALTER_45: share of car owners between 31 and 45 within the PLZ8\n",
      "\n",
      "KBA13_ALTERHALTER_60: share of car owners between 46 and 60 within the PLZ8\n",
      "\n",
      "KBA13_ALTERHALTER_61: share of car owners elder than 60 within the PLZ8\n",
      "\n",
      "KBA13_ANZAHL_PKW: number of cars in the PLZ8\n",
      "\n",
      "KBA13_AUDI: share of AUDI within the PLZ8\n",
      "\n",
      "KBA13_AUTOQUOTE: share of cars per household within the PLZ8\n",
      "\n",
      "KBA13_BJ_1999: share of cars built between 1995 and 1999 within the PLZ8\n",
      "\n",
      "KBA13_BJ_2000: share of cars built between 2000 and 2003 within the PLZ8\n",
      "\n",
      "KBA13_BJ_2004: share of cars built before 2004 within the PLZ8\n",
      "\n",
      "KBA13_BJ_2006: share of cars built between 2005 and 2006 within the PLZ8\n",
      "\n",
      "KBA13_BJ_2008: share of cars built in 2008 within the PLZ8\n",
      "\n",
      "KBA13_BJ_2009: share of cars built in 2009 within the PLZ8\n",
      "\n",
      "KBA13_BMW: share of BMW within the PLZ8\n",
      "\n",
      "KBA13_CCM_0_1400: share of cars with less than 1401ccm within the PLZ8\n",
      "\n",
      "KBA13_CCM_1000: share of cars with less than 1000ccm within the PLZ8\n",
      "\n",
      "KBA13_CCM_1200: share of cars with less than 1000ccm within the PLZ8\n",
      "\n",
      "KBA13_CCM_1400: share of cars with 1200ccm to 1399ccm within the PLZ8\n",
      "\n",
      "KBA13_CCM_1500: share of cars with 1400ccm to 1499ccm within the PLZ8\n",
      "\n",
      "KBA13_CCM_1600: share of cars with 1500ccm to 1599ccm within the PLZ8\n",
      "\n",
      "KBA13_CCM_1800: share of cars with 1600ccm to 1799ccm within the PLZ8\n",
      "\n",
      "KBA13_CCM_2000: share of cars with 1800ccm to 1999ccm within the PLZ8\n",
      "\n",
      "KBA13_CCM_2500: share of cars with 2000ccm to 2499ccm within the PLZ8\n",
      "\n",
      "KBA13_CCM_2501: share of cars with more than 2501ccm within the PLZ8\n",
      "\n",
      "KBA13_CCM_3000: share of cars with 2500ccm to 2999ccm within the PLZ8\n",
      "\n",
      "KBA13_CCM_3001: share of cars with more than 3000ccm within the PLZ8\n",
      "\n",
      "KBA13_FAB_ASIEN: share of other Asian Manufacturers within the PLZ8\n",
      "\n",
      "KBA13_FAB_SONSTIGE: share of other Manufacturers within the PLZ8\n",
      "\n",
      "KBA13_FIAT: share of FIAT within the PLZ8\n",
      "\n",
      "KBA13_FORD: share of FORD within the PLZ8\n",
      "\n",
      "KBA13_HALTER_20: share of car owners below 21 within the PLZ8\n",
      "\n",
      "KBA13_HALTER_25: share of car owners between 21 and 25 within the PLZ8\n",
      "\n",
      "KBA13_HALTER_30: share of car owners between 26 and 30 within the PLZ8\n",
      "\n",
      "KBA13_HALTER_35: share of car owners between 31 and 35 within the PLZ8\n",
      "\n",
      "KBA13_HALTER_40: share of car owners between 36 and 40 within the PLZ8\n",
      "\n",
      "KBA13_HALTER_45: share of car owners between 41 and 45 within the PLZ8\n",
      "\n",
      "KBA13_HALTER_50: share of car owners between 46 and 50 within the PLZ8\n",
      "\n",
      "KBA13_HALTER_55: share of car owners between 51 and 55 within the PLZ8\n",
      "\n",
      "KBA13_HALTER_60: share of car owners between 56 and 60 within the PLZ8\n",
      "\n",
      "KBA13_HALTER_65: share of car owners between 61 and 65 within the PLZ8\n",
      "\n",
      "KBA13_HALTER_66: share of car owners over 66 within the PLZ8\n",
      "\n",
      "KBA13_HERST_ASIEN: share of asian cars within the PLZ8\n",
      "\n",
      "KBA13_HERST_AUDI_VW: share of Volkswagen & Audi within the PLZ8\n",
      "\n",
      "KBA13_HERST_BMW_BENZ: share of BMW & Mercedes Benz within the PLZ8\n",
      "\n",
      "KBA13_HERST_EUROPA: share of European cars within the PLZ8\n",
      "\n",
      "KBA13_HERST_FORD_OPEL: share of Ford & Opel/Vauxhall within the PLZ8\n",
      "\n",
      "KBA13_HERST_SONST: share of other cars within the PLZ8\n",
      "\n",
      "KBA13_KMH_0_140: share of cars with max speed 140 km/h within the PLZ8\n",
      "\n",
      "KBA13_KMH_110: share of cars with max speed 110 km/h within the PLZ8\n",
      "\n",
      "KBA13_KMH_140: share of cars with max speed between 110 km/h and 140km/h within the PLZ8\n",
      "\n",
      "KBA13_KMH_140_210: share of cars with max speed between 140 and 210 km/h within the PLZ8\n",
      "\n",
      "KBA13_KMH_180: share of cars with max speed between 110 km/h and 180km/h within the PLZ8\n",
      "\n",
      "KBA13_KMH_211: share of cars with a greater max speed than 210 km/h within the PLZ8\n",
      "\n",
      "KBA13_KMH_250: share of cars with max speed between 210 and 250 km/h within the PLZ8\n",
      "\n",
      "KBA13_KMH_251: share of cars with a greater max speed than 250 km/h within the PLZ8\n",
      "\n",
      "KBA13_KRSAQUOT: share of cars per household (referred to the county average) - PLZ8\n",
      "\n",
      "KBA13_KRSHERST_AUDI_VW: share of Volkswagen (referred to the county average) - PLZ8\n",
      "\n",
      "KBA13_KRSHERST_BMW_BENZ: share of BMW/Mercedes Benz (referred to the county average) - PLZ8\n",
      "\n",
      "KBA13_KRSHERST_FORD_OPEL: share of FORD/Opel (referred to the county average) - PLZ8\n",
      "\n",
      "KBA13_KRSSEG_KLEIN: share of small cars (referred to the county average) - PLZ8\n",
      "\n",
      "KBA13_KRSSEG_OBER: share of upper class cars (referred to the county average) - PLZ8\n",
      "\n",
      "KBA13_KRSSEG_VAN: share of vans (referred to the county average) - PLZ8\n",
      "\n",
      "KBA13_KRSZUL_NEU: share of newbuilt cars (referred to the county average) - PLZ8\n",
      "\n",
      "KBA13_KW_0_60: share of cars with less than 61 KW engine power - PLZ8\n",
      "\n",
      "KBA13_KW_110: share of cars with an engine power between 91 and 110 KW - PLZ8\n",
      "\n",
      "KBA13_KW_120: share of cars with an engine power between 111 and 120 KW - PLZ8\n",
      "\n",
      "KBA13_KW_121: share of cars with an engine power of more than 121 KW - PLZ8\n",
      "\n",
      "KBA13_KW_30: share of cars up to 30 KW engine power - PLZ8\n",
      "\n",
      "KBA13_KW_40: share of cars with an engine power between 31 and 40 KW - PLZ8\n",
      "\n",
      "KBA13_KW_50: share of cars with an engine power between 41 and 50 KW - PLZ8\n",
      "\n",
      "KBA13_KW_60: share of cars with an engine power between 51 and 60 KW - PLZ8\n",
      "\n",
      "KBA13_KW_61_120: share of cars with an engine power between 61 and 120 KW - PLZ8\n",
      "\n",
      "KBA13_KW_70: share of cars with an engine power between 61 and 70 KW - PLZ8\n",
      "\n",
      "KBA13_KW_80: share of cars with an engine power between 71 and 80 KW - PLZ8\n",
      "\n",
      "KBA13_KW_90: share of cars with an engine power between 81 and 90 KW - PLZ8\n",
      "\n",
      "KBA13_MAZDA: share of MAZDA within the PLZ8\n",
      "\n",
      "KBA13_MERCEDES: share of MERCEDES within the PLZ8\n",
      "\n",
      "KBA13_MOTOR: most common motor size within the PLZ8\n",
      "\n",
      "KBA13_NISSAN: share of NISSAN within the PLZ8\n",
      "\n",
      "KBA13_OPEL: share of OPEL within the PLZ8\n",
      "\n",
      "KBA13_PEUGEOT: share of PEUGEOT within the PLZ8\n",
      "\n",
      "KBA13_RENAULT: share of RENAULT within the PLZ8\n",
      "\n",
      "KBA13_SEG_GELAENDEWAGEN: share of allterrain within the PLZ8\n",
      "\n",
      "KBA13_SEG_GROSSRAUMVANS: share of big sized vans within the PLZ8\n",
      "\n",
      "KBA13_SEG_KLEINST: share of very small cars (Ford Ka etc.) in the PLZ8\n",
      "\n",
      "KBA13_SEG_KLEINWAGEN: share of small and very small cars (Ford Fiesta, Ford Ka etc.) in the PLZ8\n",
      "\n",
      "KBA13_SEG_KOMPAKTKLASSE: share of lowe midclass cars (Ford Focus etc.) in the PLZ8\n",
      "\n",
      "KBA13_SEG_MINIVANS: share of minivans within the PLZ8\n",
      "\n",
      "KBA13_SEG_MINIWAGEN: share of minicars within the PLZ8\n",
      "\n",
      "KBA13_SEG_MITTELKLASSE: share of middle class cars (Ford Mondeo etc.) in the PLZ8\n",
      "\n",
      "KBA13_SEG_OBEREMITTELKLASSE: share of upper middle class cars and upper class cars (BMW5er, BMW7er etc.)\n",
      "\n",
      "KBA13_SEG_OBERKLASSE: share of upper class cars (BMW 7er etc.) in the PLZ8\n",
      "\n",
      "KBA13_SEG_SONSTIGE: share of other cars within the PLZ8\n",
      "\n",
      "KBA13_SEG_SPORTWAGEN: share of sportscars within the PLZ8\n",
      "\n",
      "KBA13_SEG_UTILITIES: share of MUVs/SUVs within the PLZ8\n",
      "\n",
      "KBA13_SEG_VAN: share of vans within the PLZ8\n",
      "\n",
      "KBA13_SEG_WOHNMOBILE: share of roadmobiles within the PLZ8\n",
      "\n",
      "KBA13_SITZE_4: number of cars with less than 5 seats in the PLZ8\n",
      "\n",
      "KBA13_SITZE_5: number of cars with 5 seats in the PLZ8\n",
      "\n",
      "KBA13_SITZE_6: number of cars with more than 5 seats in the PLZ8\n",
      "\n",
      "KBA13_TOYOTA: share of TOYOTA within the PLZ8\n",
      "\n",
      "KBA13_VORB_0: share of cars with no preowner - PLZ8\n",
      "\n",
      "KBA13_VORB_1: share of cars with 1 preowner - PLZ8\n",
      "\n",
      "KBA13_VORB_1_2: share of cars with 1 or 2 preowner - PLZ8\n",
      "\n",
      "KBA13_VORB_2: share of cars with 2 preowner - PLZ8\n",
      "\n",
      "KBA13_VORB_3: share of cars with more than 2 preowner - PLZ8\n",
      "\n",
      "KBA13_VW: share of VOLKSWAGEN within the PLZ8\n",
      "\n",
      "KKK: purchasing power\n",
      "\n",
      "KONSUMNAEHE: distance from a building to PoS (Point of Sale)\n",
      "\n",
      "LP_FAMILIE_FEIN: family type fine\n",
      "\n",
      "LP_FAMILIE_GROB: family type rough\n",
      "\n",
      "LP_LEBENSPHASE_FEIN: lifestage fine\n",
      "\n",
      "LP_LEBENSPHASE_GROB: lifestage rough\n",
      "\n",
      "LP_STATUS_FEIN: social status fine \n",
      "\n",
      "LP_STATUS_GROB: social status rough\n",
      "\n",
      "MIN_GEBAEUDEJAHR: year the building was first mentioned in our database\n",
      "\n",
      "NATIONALITAET_KZ: nationaltity\n",
      "\n",
      "ONLINE_AFFINITAET: online affinity\n",
      "\n",
      "ORTSGR_KLS9: classified number of inhabitants\n",
      "\n",
      "OST_WEST_KZ: flag indicating the former GDR/FRG\n",
      "\n",
      "PLZ8_ANTG1: number of 1-2 family houses in the PLZ8\n",
      "\n",
      "PLZ8_ANTG2: number of 3-5 family houses in the PLZ8\n",
      "\n",
      "PLZ8_ANTG3: number of 6-10 family houses in the PLZ8\n",
      "\n",
      "PLZ8_ANTG4: number of >10 family houses in the PLZ8\n",
      "\n",
      "PLZ8_BAUMAX: most common building-type within the PLZ8\n",
      "\n",
      "PLZ8_GBZ: number of buildings within the PLZ8\n",
      "\n",
      "PLZ8_HHZ: number of households within the PLZ8\n",
      "\n",
      "PRAEGENDE_JUGENDJAHRE: dominating movement in the person's youth (avantgarde or mainstream)\n",
      "\n",
      "REGIOTYP: AZ neighbourhood typology\n",
      "\n",
      "RELAT_AB: share of unemployed in relation to the county the community belongs to\n",
      "\n",
      "RETOURTYP_BK_S: return type\n",
      "\n",
      "SEMIO_DOM: affinity indicating in what way the person is dominant minded\n",
      "\n",
      "SEMIO_ERL: affinity indicating in what way the person is eventful orientated\n",
      "\n",
      "SEMIO_FAM: affinity indicating in what way the person is familiar minded\n",
      "\n",
      "SEMIO_KAEM: affinity indicating in what way the person is of a fightfull attitude\n",
      "\n",
      "SEMIO_KRIT: affinity indicating in what way the person is critical minded\n",
      "\n",
      "SEMIO_KULT: affinity indicating in what way the person is cultural minded\n",
      "\n",
      "SEMIO_LUST: affinity indicating in what way the person is sensual minded\n",
      "\n",
      "SEMIO_MAT: affinity indicating in what way the person is material minded\n",
      "\n",
      "SEMIO_PFLICHT: affinity indicating in what way the person is dutyfull traditional minded\n",
      "\n",
      "SEMIO_RAT: affinity indicating in what way the person is of a rational mind\n",
      "\n",
      "SEMIO_REL: affinity indicating in what way the person is religious\n",
      "\n",
      "SEMIO_SOZ: affinity indicating in what way the person is social minded\n",
      "\n",
      "SEMIO_TRADV: affinity indicating in what way the person is traditional minded\n",
      "\n",
      "SEMIO_VERT: affinity indicating in what way the person is dreamily\n",
      "\n",
      "SHOPPER_TYP: shopping typology\n",
      "\n",
      "TITEL_KZ: flag whether this person holds an academic title\n",
      "\n",
      "VERS_TYP: insurance typology \n",
      "\n",
      "WOHNDAUER_2008: length of residenca\n",
      "\n",
      "WOHNLAGE: neighbourhood-area (very good -> rather poor; rural nbh)\n",
      "\n",
      "ZABEOTYP: typification of energy consumers\n",
      "\n"
     ]
    }
   ],
   "source": [
    "for _, row in info_clean.sort_values('Attribute').iterrows():\n",
    "    print('{}: {}'.format(row.iloc[0], row.iloc[1]))\n",
    "    print()\n",
    "#     break"
   ]
  },
  {
   "cell_type": "markdown",
   "metadata": {},
   "source": [
    "After some reading of the above, we can see that most of the columns consist of the following information:\n",
    "\n",
    "- household\n",
    "- transactional activity (columns starting with D19)\n",
    "- Cars (columns starting with KBA13)\n",
    "- PLZ8 demographics\n",
    "- financial typology(columns starting with FINANZ)\n",
    "- mindedness (columns starting with SEMIO)"
   ]
  },
  {
   "cell_type": "code",
   "execution_count": 34,
   "metadata": {},
   "outputs": [],
   "source": [
    "def print_columns_containing(code):\n",
    "    perc = (1 - info_clean.Attribute.apply(lambda x: x if code in x else 'other'\n",
    "                                  ).value_counts(normalize=True).iloc[0]).round(4)*100\n",
    "    print(code, perc)\n",
    "    return perc"
   ]
  },
  {
   "cell_type": "code",
   "execution_count": 35,
   "metadata": {},
   "outputs": [
    {
     "name": "stdout",
     "output_type": "stream",
     "text": [
      "D19 13.74\n",
      "KBA13 50.71\n",
      "SEMIO 6.64\n",
      "FINANZ 3.32\n"
     ]
    }
   ],
   "source": [
    "codes = {}\n",
    "total = 0\n",
    "for code in ['D19','KBA13','SEMIO', 'FINANZ']:\n",
    "    codes[code] = print_columns_containing(code)\n",
    "    total+= codes[code]\n",
    "codes['other'] = 100-total"
   ]
  },
  {
   "cell_type": "code",
   "execution_count": 36,
   "metadata": {},
   "outputs": [
    {
     "data": {
      "image/png": "[encoded data removed]",
      "text/plain": [
       "<Figure size 432x288 with 1 Axes>"
      ]
     },
     "metadata": {
      "needs_background": "light"
     },
     "output_type": "display_data"
    }
   ],
   "source": [
    "pd.DataFrame(codes, index=['%']).T.sort_values('%').plot(kind='bar')\n",
    "sns.despine()"
   ]
  },
  {
   "cell_type": "markdown",
   "metadata": {},
   "source": [
    "We can see that a huge number of the columns (over 50% of train dataset) is comprised of car data.\n",
    "\n",
    "Transactional data, which is probably more relevant than cars to our project, consists of only 13.74% of the columns available in the train dataset."
   ]
  },
  {
   "cell_type": "code",
   "execution_count": 37,
   "metadata": {},
   "outputs": [
    {
     "data": {
      "text/plain": [
       "(201,)"
      ]
     },
     "execution_count": 37,
     "metadata": {},
     "output_type": "execute_result"
    }
   ],
   "source": [
    "clean.isna().sum()[clean.isna().sum()>0].shape"
   ]
  },
  {
   "cell_type": "markdown",
   "metadata": {},
   "source": [
    "We still have 201 columns with missing values that we need to deal with"
   ]
  },
  {
   "cell_type": "code",
   "execution_count": 38,
   "metadata": {},
   "outputs": [
    {
     "data": {
      "text/plain": [
       "float64    195\n",
       "int64       94\n",
       "object       6\n",
       "dtype: int64"
      ]
     },
     "execution_count": 38,
     "metadata": {},
     "output_type": "execute_result"
    }
   ],
   "source": [
    "clean.dtypes.value_counts()"
   ]
  },
  {
   "cell_type": "markdown",
   "metadata": {},
   "source": [
    "Let's deal with objects first"
   ]
  },
  {
   "cell_type": "code",
   "execution_count": 39,
   "metadata": {},
   "outputs": [
    {
     "data": {
      "text/html": [
       "<div>\n",
       "<style scoped>\n",
       "    .dataframe tbody tr th:only-of-type {\n",
       "        vertical-align: middle;\n",
       "    }\n",
       "\n",
       "    .dataframe tbody tr th {\n",
       "        vertical-align: top;\n",
       "    }\n",
       "\n",
       "    .dataframe thead th {\n",
       "        text-align: right;\n",
       "    }\n",
       "</style>\n",
       "<table border=\"1\" class=\"dataframe\">\n",
       "  <thead>\n",
       "    <tr style=\"text-align: right;\">\n",
       "      <th></th>\n",
       "      <th>CAMEO_DEU_2015</th>\n",
       "      <th>CAMEO_DEUG_2015</th>\n",
       "      <th>CAMEO_INTL_2015</th>\n",
       "      <th>D19_LETZTER_KAUF_BRANCHE</th>\n",
       "      <th>EINGEFUEGT_AM</th>\n",
       "      <th>OST_WEST_KZ</th>\n",
       "    </tr>\n",
       "  </thead>\n",
       "  <tbody>\n",
       "    <tr>\n",
       "      <th>0</th>\n",
       "      <td>5D</td>\n",
       "      <td>5</td>\n",
       "      <td>34</td>\n",
       "      <td>D19_UNBEKANNT</td>\n",
       "      <td>1992-02-10 00:00:00</td>\n",
       "      <td>W</td>\n",
       "    </tr>\n",
       "    <tr>\n",
       "      <th>1</th>\n",
       "      <td>5B</td>\n",
       "      <td>5</td>\n",
       "      <td>32</td>\n",
       "      <td>D19_TELKO_MOBILE</td>\n",
       "      <td>1997-05-14 00:00:00</td>\n",
       "      <td>W</td>\n",
       "    </tr>\n",
       "    <tr>\n",
       "      <th>2</th>\n",
       "      <td>2D</td>\n",
       "      <td>2</td>\n",
       "      <td>14</td>\n",
       "      <td>D19_LEBENSMITTEL</td>\n",
       "      <td>1995-05-24 00:00:00</td>\n",
       "      <td>O</td>\n",
       "    </tr>\n",
       "    <tr>\n",
       "      <th>3</th>\n",
       "      <td>2D</td>\n",
       "      <td>2</td>\n",
       "      <td>14</td>\n",
       "      <td>D19_UNBEKANNT</td>\n",
       "      <td>1992-02-10 00:00:00</td>\n",
       "      <td>W</td>\n",
       "    </tr>\n",
       "    <tr>\n",
       "      <th>4</th>\n",
       "      <td>7B</td>\n",
       "      <td>7</td>\n",
       "      <td>41</td>\n",
       "      <td>D19_BEKLEIDUNG_GEH</td>\n",
       "      <td>1992-02-10 00:00:00</td>\n",
       "      <td>W</td>\n",
       "    </tr>\n",
       "    <tr>\n",
       "      <th>5</th>\n",
       "      <td>7B</td>\n",
       "      <td>7</td>\n",
       "      <td>41</td>\n",
       "      <td>D19_BUCH_CD</td>\n",
       "      <td>1992-02-10 00:00:00</td>\n",
       "      <td>W</td>\n",
       "    </tr>\n",
       "    <tr>\n",
       "      <th>6</th>\n",
       "      <td>4C</td>\n",
       "      <td>4</td>\n",
       "      <td>24</td>\n",
       "      <td>D19_UNBEKANNT</td>\n",
       "      <td>1992-02-10 00:00:00</td>\n",
       "      <td>W</td>\n",
       "    </tr>\n",
       "    <tr>\n",
       "      <th>7</th>\n",
       "      <td>5C</td>\n",
       "      <td>5</td>\n",
       "      <td>33</td>\n",
       "      <td>D19_BEKLEIDUNG_GEH</td>\n",
       "      <td>1997-07-18 00:00:00</td>\n",
       "      <td>W</td>\n",
       "    </tr>\n",
       "    <tr>\n",
       "      <th>8</th>\n",
       "      <td>NaN</td>\n",
       "      <td>NaN</td>\n",
       "      <td>NaN</td>\n",
       "      <td>NaN</td>\n",
       "      <td>NaN</td>\n",
       "      <td>NaN</td>\n",
       "    </tr>\n",
       "    <tr>\n",
       "      <th>9</th>\n",
       "      <td>NaN</td>\n",
       "      <td>NaN</td>\n",
       "      <td>NaN</td>\n",
       "      <td>NaN</td>\n",
       "      <td>NaN</td>\n",
       "      <td>NaN</td>\n",
       "    </tr>\n",
       "  </tbody>\n",
       "</table>\n",
       "</div>"
      ],
      "text/plain": [
       "  CAMEO_DEU_2015 CAMEO_DEUG_2015 CAMEO_INTL_2015 D19_LETZTER_KAUF_BRANCHE  \\\n",
       "0             5D               5              34            D19_UNBEKANNT   \n",
       "1             5B               5              32         D19_TELKO_MOBILE   \n",
       "2             2D               2              14         D19_LEBENSMITTEL   \n",
       "3             2D               2              14            D19_UNBEKANNT   \n",
       "4             7B               7              41       D19_BEKLEIDUNG_GEH   \n",
       "5             7B               7              41              D19_BUCH_CD   \n",
       "6             4C               4              24            D19_UNBEKANNT   \n",
       "7             5C               5              33       D19_BEKLEIDUNG_GEH   \n",
       "8            NaN             NaN             NaN                      NaN   \n",
       "9            NaN             NaN             NaN                      NaN   \n",
       "\n",
       "         EINGEFUEGT_AM OST_WEST_KZ  \n",
       "0  1992-02-10 00:00:00           W  \n",
       "1  1997-05-14 00:00:00           W  \n",
       "2  1995-05-24 00:00:00           O  \n",
       "3  1992-02-10 00:00:00           W  \n",
       "4  1992-02-10 00:00:00           W  \n",
       "5  1992-02-10 00:00:00           W  \n",
       "6  1992-02-10 00:00:00           W  \n",
       "7  1997-07-18 00:00:00           W  \n",
       "8                  NaN         NaN  \n",
       "9                  NaN         NaN  "
      ]
     },
     "execution_count": 39,
     "metadata": {},
     "output_type": "execute_result"
    }
   ],
   "source": [
    "objects = clean.select_dtypes(include=['object'])\n",
    "obj_cols = objects.columns\n",
    "objects.head(10)"
   ]
  },
  {
   "cell_type": "code",
   "execution_count": 40,
   "metadata": {},
   "outputs": [
    {
     "name": "stdout",
     "output_type": "stream",
     "text": [
      "Number of unique values for CAMEO_DEU_2015: 45\n",
      "\n",
      "Number of unique values for CAMEO_DEUG_2015: 19\n",
      "\n",
      "Number of unique values for CAMEO_INTL_2015: 43\n",
      "\n",
      "Number of unique values for D19_LETZTER_KAUF_BRANCHE: 35\n",
      "\n",
      "Number of unique values for EINGEFUEGT_AM: 1599\n",
      "\n",
      "Number of unique values for OST_WEST_KZ: 2\n",
      "\n"
     ]
    }
   ],
   "source": [
    "for column in objects.columns:\n",
    "    print('Number of unique values for {}:'.format(column), objects[column].nunique())\n",
    "    print()"
   ]
  },
  {
   "cell_type": "code",
   "execution_count": 41,
   "metadata": {},
   "outputs": [
    {
     "data": {
      "text/plain": [
       "CAMEO_DEU_2015              0.183604\n",
       "CAMEO_DEUG_2015             0.183604\n",
       "CAMEO_INTL_2015             0.183604\n",
       "D19_LETZTER_KAUF_BRANCHE    0.176528\n",
       "EINGEFUEGT_AM               0.181020\n",
       "OST_WEST_KZ                 0.181020\n",
       "dtype: float64"
      ]
     },
     "execution_count": 41,
     "metadata": {},
     "output_type": "execute_result"
    }
   ],
   "source": [
    "objects.isna().sum() / len(objects)"
   ]
  },
  {
   "cell_type": "code",
   "execution_count": 42,
   "metadata": {},
   "outputs": [
    {
     "data": {
      "text/plain": [
       "Index(['CAMEO_DEU_2015', 'CAMEO_DEUG_2015', 'CAMEO_INTL_2015',\n",
       "       'D19_LETZTER_KAUF_BRANCHE', 'EINGEFUEGT_AM', 'OST_WEST_KZ'],\n",
       "      dtype='object')"
      ]
     },
     "execution_count": 42,
     "metadata": {},
     "output_type": "execute_result"
    }
   ],
   "source": [
    "objects.columns"
   ]
  },
  {
   "cell_type": "code",
   "execution_count": 43,
   "metadata": {},
   "outputs": [
    {
     "data": {
      "text/html": [
       "<div>\n",
       "<style scoped>\n",
       "    .dataframe tbody tr th:only-of-type {\n",
       "        vertical-align: middle;\n",
       "    }\n",
       "\n",
       "    .dataframe tbody tr th {\n",
       "        vertical-align: top;\n",
       "    }\n",
       "\n",
       "    .dataframe thead th {\n",
       "        text-align: right;\n",
       "    }\n",
       "</style>\n",
       "<table border=\"1\" class=\"dataframe\">\n",
       "  <thead>\n",
       "    <tr style=\"text-align: right;\">\n",
       "      <th></th>\n",
       "      <th>Attribute</th>\n",
       "      <th>Description</th>\n",
       "      <th>Value</th>\n",
       "      <th>Meaning</th>\n",
       "    </tr>\n",
       "  </thead>\n",
       "  <tbody>\n",
       "    <tr>\n",
       "      <th>NaN</th>\n",
       "      <td>CAMEO_DEUG_2015</td>\n",
       "      <td>CAMEO classification 2015 - Uppergroup</td>\n",
       "      <td>-1</td>\n",
       "      <td>unknown</td>\n",
       "    </tr>\n",
       "    <tr>\n",
       "      <th>NaN</th>\n",
       "      <td>CAMEO_DEU_2015</td>\n",
       "      <td>CAMEO classification 2015 - detailled classification</td>\n",
       "      <td>1A</td>\n",
       "      <td>Work-Life-Balance</td>\n",
       "    </tr>\n",
       "    <tr>\n",
       "      <th>NaN</th>\n",
       "      <td>OST_WEST_KZ</td>\n",
       "      <td>flag indicating the former GDR/FRG</td>\n",
       "      <td>-1</td>\n",
       "      <td>unknown</td>\n",
       "    </tr>\n",
       "  </tbody>\n",
       "</table>\n",
       "</div>"
      ],
      "text/plain": [
       "           Attribute                                           Description  \\\n",
       "NaN  CAMEO_DEUG_2015                CAMEO classification 2015 - Uppergroup   \n",
       "NaN   CAMEO_DEU_2015  CAMEO classification 2015 - detailled classification   \n",
       "NaN      OST_WEST_KZ                    flag indicating the former GDR/FRG   \n",
       "\n",
       "    Value            Meaning  \n",
       "NaN    -1            unknown  \n",
       "NaN    1A  Work-Life-Balance  \n",
       "NaN    -1            unknown  "
      ]
     },
     "execution_count": 43,
     "metadata": {},
     "output_type": "execute_result"
    }
   ],
   "source": [
    "details[details.Attribute.isin(['CAMEO_DEU_2015', 'CAMEO_DEUG_2015', 'CAMEO_INTL_2015',\n",
    "       'D19_LETZTER_KAUF_BRANCHE', 'EINGEFUEGT_AM', 'OST_WEST_KZ'])]"
   ]
  },
  {
   "cell_type": "markdown",
   "metadata": {},
   "source": [
    "We didn't get details of all the oclumns, but we can see that CAMEO_DEU is the same as CAMEO_DEUG, so we can just remove one of them. We'll choose to keep CAMEO_DEUG, since it has less unique values.\n",
    "\n",
    "Similarly, we can't take the date column as it is. Let's try splitting it into Year-Month values:"
   ]
  },
  {
   "cell_type": "code",
   "execution_count": 44,
   "metadata": {},
   "outputs": [
    {
     "data": {
      "text/plain": [
       "262"
      ]
     },
     "execution_count": 44,
     "metadata": {},
     "output_type": "execute_result"
    }
   ],
   "source": [
    "objects['EINGEFUEGT_AM'].apply(lambda date: '-'.join(str(date).split('-')[0:2])).nunique()"
   ]
  },
  {
   "cell_type": "markdown",
   "metadata": {},
   "source": [
    "262 are too many unique values - so we have to group them into just Years instead:"
   ]
  },
  {
   "cell_type": "code",
   "execution_count": 45,
   "metadata": {},
   "outputs": [
    {
     "name": "stderr",
     "output_type": "stream",
     "text": [
      "/home/ec2-user/anaconda3/envs/pytorch_p36/lib/python3.6/site-packages/ipykernel/__main__.py:1: SettingWithCopyWarning: \n",
      "A value is trying to be set on a copy of a slice from a DataFrame.\n",
      "Try using .loc[row_indexer,col_indexer] = value instead\n",
      "\n",
      "See the caveats in the documentation: https://pandas.pydata.org/pandas-docs/stable/user_guide/indexing.html#returning-a-view-versus-a-copy\n",
      "  if __name__ == '__main__':\n"
     ]
    },
    {
     "data": {
      "text/plain": [
       "25"
      ]
     },
     "execution_count": 45,
     "metadata": {},
     "output_type": "execute_result"
    }
   ],
   "source": [
    "objects['date'] = objects['EINGEFUEGT_AM'].apply(lambda date: date.split('-')[0] if  date is not np.nan else date)\n",
    "objects.date.nunique()"
   ]
  },
  {
   "cell_type": "code",
   "execution_count": 46,
   "metadata": {},
   "outputs": [
    {
     "data": {
      "text/plain": [
       "1991        1\n",
       "1992    26425\n",
       "1993     1188\n",
       "1994     1398\n",
       "1995     1900\n",
       "1996     1350\n",
       "1997      866\n",
       "1998      154\n",
       "1999       33\n",
       "2000      218\n",
       "2001       59\n",
       "2002      121\n",
       "2003      333\n",
       "2004      223\n",
       "2005      350\n",
       "2006      144\n",
       "2007       92\n",
       "2008       73\n",
       "2009       65\n",
       "2010       29\n",
       "2011       41\n",
       "2012       47\n",
       "2013       29\n",
       "2014       30\n",
       "2015       16\n",
       "Name: date, dtype: int64"
      ]
     },
     "execution_count": 46,
     "metadata": {},
     "output_type": "execute_result"
    }
   ],
   "source": [
    "objects.date.value_counts().sort_index()"
   ]
  },
  {
   "cell_type": "markdown",
   "metadata": {},
   "source": [
    "It appears this data is split up over 25 years, with only 1 values in the first year (1991), and last year being 2015."
   ]
  },
  {
   "cell_type": "code",
   "execution_count": 47,
   "metadata": {},
   "outputs": [],
   "source": [
    "objects = objects.drop(['CAMEO_DEU_2015','EINGEFUEGT_AM'], axis=1)"
   ]
  },
  {
   "cell_type": "code",
   "execution_count": 48,
   "metadata": {},
   "outputs": [
    {
     "data": {
      "text/html": [
       "<div>\n",
       "<style scoped>\n",
       "    .dataframe tbody tr th:only-of-type {\n",
       "        vertical-align: middle;\n",
       "    }\n",
       "\n",
       "    .dataframe tbody tr th {\n",
       "        vertical-align: top;\n",
       "    }\n",
       "\n",
       "    .dataframe thead th {\n",
       "        text-align: right;\n",
       "    }\n",
       "</style>\n",
       "<table border=\"1\" class=\"dataframe\">\n",
       "  <thead>\n",
       "    <tr style=\"text-align: right;\">\n",
       "      <th></th>\n",
       "      <th>CAMEO_DEUG_2015</th>\n",
       "      <th>CAMEO_INTL_2015</th>\n",
       "      <th>D19_LETZTER_KAUF_BRANCHE</th>\n",
       "      <th>OST_WEST_KZ</th>\n",
       "      <th>date</th>\n",
       "    </tr>\n",
       "  </thead>\n",
       "  <tbody>\n",
       "    <tr>\n",
       "      <th>0</th>\n",
       "      <td>5</td>\n",
       "      <td>34</td>\n",
       "      <td>D19_UNBEKANNT</td>\n",
       "      <td>W</td>\n",
       "      <td>1992</td>\n",
       "    </tr>\n",
       "    <tr>\n",
       "      <th>1</th>\n",
       "      <td>5</td>\n",
       "      <td>32</td>\n",
       "      <td>D19_TELKO_MOBILE</td>\n",
       "      <td>W</td>\n",
       "      <td>1997</td>\n",
       "    </tr>\n",
       "    <tr>\n",
       "      <th>2</th>\n",
       "      <td>2</td>\n",
       "      <td>14</td>\n",
       "      <td>D19_LEBENSMITTEL</td>\n",
       "      <td>O</td>\n",
       "      <td>1995</td>\n",
       "    </tr>\n",
       "    <tr>\n",
       "      <th>3</th>\n",
       "      <td>2</td>\n",
       "      <td>14</td>\n",
       "      <td>D19_UNBEKANNT</td>\n",
       "      <td>W</td>\n",
       "      <td>1992</td>\n",
       "    </tr>\n",
       "    <tr>\n",
       "      <th>4</th>\n",
       "      <td>7</td>\n",
       "      <td>41</td>\n",
       "      <td>D19_BEKLEIDUNG_GEH</td>\n",
       "      <td>W</td>\n",
       "      <td>1992</td>\n",
       "    </tr>\n",
       "    <tr>\n",
       "      <th>5</th>\n",
       "      <td>7</td>\n",
       "      <td>41</td>\n",
       "      <td>D19_BUCH_CD</td>\n",
       "      <td>W</td>\n",
       "      <td>1992</td>\n",
       "    </tr>\n",
       "    <tr>\n",
       "      <th>6</th>\n",
       "      <td>4</td>\n",
       "      <td>24</td>\n",
       "      <td>D19_UNBEKANNT</td>\n",
       "      <td>W</td>\n",
       "      <td>1992</td>\n",
       "    </tr>\n",
       "    <tr>\n",
       "      <th>7</th>\n",
       "      <td>5</td>\n",
       "      <td>33</td>\n",
       "      <td>D19_BEKLEIDUNG_GEH</td>\n",
       "      <td>W</td>\n",
       "      <td>1997</td>\n",
       "    </tr>\n",
       "    <tr>\n",
       "      <th>8</th>\n",
       "      <td>NaN</td>\n",
       "      <td>NaN</td>\n",
       "      <td>NaN</td>\n",
       "      <td>NaN</td>\n",
       "      <td>NaN</td>\n",
       "    </tr>\n",
       "    <tr>\n",
       "      <th>9</th>\n",
       "      <td>NaN</td>\n",
       "      <td>NaN</td>\n",
       "      <td>NaN</td>\n",
       "      <td>NaN</td>\n",
       "      <td>NaN</td>\n",
       "    </tr>\n",
       "  </tbody>\n",
       "</table>\n",
       "</div>"
      ],
      "text/plain": [
       "  CAMEO_DEUG_2015 CAMEO_INTL_2015 D19_LETZTER_KAUF_BRANCHE OST_WEST_KZ  date\n",
       "0               5              34            D19_UNBEKANNT           W  1992\n",
       "1               5              32         D19_TELKO_MOBILE           W  1997\n",
       "2               2              14         D19_LEBENSMITTEL           O  1995\n",
       "3               2              14            D19_UNBEKANNT           W  1992\n",
       "4               7              41       D19_BEKLEIDUNG_GEH           W  1992\n",
       "5               7              41              D19_BUCH_CD           W  1992\n",
       "6               4              24            D19_UNBEKANNT           W  1992\n",
       "7               5              33       D19_BEKLEIDUNG_GEH           W  1997\n",
       "8             NaN             NaN                      NaN         NaN   NaN\n",
       "9             NaN             NaN                      NaN         NaN   NaN"
      ]
     },
     "execution_count": 48,
     "metadata": {},
     "output_type": "execute_result"
    }
   ],
   "source": [
    "objects.head(10)"
   ]
  },
  {
   "cell_type": "code",
   "execution_count": 49,
   "metadata": {},
   "outputs": [
    {
     "data": {
      "text/plain": [
       "CAMEO_DEUG_2015                         6\n",
       "CAMEO_INTL_2015                        24\n",
       "D19_LETZTER_KAUF_BRANCHE    D19_UNBEKANNT\n",
       "OST_WEST_KZ                             W\n",
       "date                                 1992\n",
       "Name: 0, dtype: object"
      ]
     },
     "execution_count": 49,
     "metadata": {},
     "output_type": "execute_result"
    }
   ],
   "source": [
    "objects.mode().iloc[0]"
   ]
  },
  {
   "cell_type": "code",
   "execution_count": 50,
   "metadata": {},
   "outputs": [
    {
     "data": {
      "text/plain": [
       "CAMEO_DEUG_2015             1635486\n",
       "CAMEO_INTL_2015             1645513\n",
       "D19_LETZTER_KAUF_BRANCHE    2766207\n",
       "OST_WEST_KZ                 2289594\n",
       "date                        2395149\n",
       "dtype: int64"
      ]
     },
     "execution_count": 50,
     "metadata": {},
     "output_type": "execute_result"
    }
   ],
   "source": [
    "objects.memory_usage(index=False, deep=True)"
   ]
  },
  {
   "cell_type": "code",
   "execution_count": 51,
   "metadata": {},
   "outputs": [],
   "source": [
    "objects[['CAMEO_DEUG_2015','CAMEO_INTL_2015','date']] = \\\n",
    "objects[['CAMEO_DEUG_2015','CAMEO_INTL_2015','date']].apply(lambda df: pd.to_numeric(df, errors='coerce'))"
   ]
  },
  {
   "cell_type": "code",
   "execution_count": 52,
   "metadata": {},
   "outputs": [],
   "source": [
    "objects = objects.fillna(objects.mode().iloc[0]).astype('category')"
   ]
  },
  {
   "cell_type": "code",
   "execution_count": 53,
   "metadata": {},
   "outputs": [
    {
     "data": {
      "text/plain": [
       "CAMEO_DEUG_2015             43354\n",
       "CAMEO_INTL_2015             43770\n",
       "D19_LETZTER_KAUF_BRANCHE    46737\n",
       "OST_WEST_KZ                 43158\n",
       "date                        43802\n",
       "dtype: int64"
      ]
     },
     "execution_count": 53,
     "metadata": {},
     "output_type": "execute_result"
    }
   ],
   "source": [
    "objects.memory_usage(index=False, deep=True)"
   ]
  },
  {
   "cell_type": "markdown",
   "metadata": {},
   "source": [
    "By changing from object to category dtype, we have drastically reduced the amount of memeory used"
   ]
  },
  {
   "cell_type": "code",
   "execution_count": 54,
   "metadata": {},
   "outputs": [
    {
     "data": {
      "text/html": [
       "<div>\n",
       "<style scoped>\n",
       "    .dataframe tbody tr th:only-of-type {\n",
       "        vertical-align: middle;\n",
       "    }\n",
       "\n",
       "    .dataframe tbody tr th {\n",
       "        vertical-align: top;\n",
       "    }\n",
       "\n",
       "    .dataframe thead th {\n",
       "        text-align: right;\n",
       "    }\n",
       "</style>\n",
       "<table border=\"1\" class=\"dataframe\">\n",
       "  <thead>\n",
       "    <tr style=\"text-align: right;\">\n",
       "      <th></th>\n",
       "      <th>CAMEO_DEUG_2015</th>\n",
       "      <th>CAMEO_INTL_2015</th>\n",
       "      <th>D19_LETZTER_KAUF_BRANCHE</th>\n",
       "      <th>OST_WEST_KZ</th>\n",
       "      <th>date</th>\n",
       "    </tr>\n",
       "  </thead>\n",
       "  <tbody>\n",
       "    <tr>\n",
       "      <th>0</th>\n",
       "      <td>5.0</td>\n",
       "      <td>34.0</td>\n",
       "      <td>D19_UNBEKANNT</td>\n",
       "      <td>W</td>\n",
       "      <td>1992.0</td>\n",
       "    </tr>\n",
       "    <tr>\n",
       "      <th>1</th>\n",
       "      <td>5.0</td>\n",
       "      <td>32.0</td>\n",
       "      <td>D19_TELKO_MOBILE</td>\n",
       "      <td>W</td>\n",
       "      <td>1997.0</td>\n",
       "    </tr>\n",
       "    <tr>\n",
       "      <th>2</th>\n",
       "      <td>2.0</td>\n",
       "      <td>14.0</td>\n",
       "      <td>D19_LEBENSMITTEL</td>\n",
       "      <td>O</td>\n",
       "      <td>1995.0</td>\n",
       "    </tr>\n",
       "    <tr>\n",
       "      <th>3</th>\n",
       "      <td>2.0</td>\n",
       "      <td>14.0</td>\n",
       "      <td>D19_UNBEKANNT</td>\n",
       "      <td>W</td>\n",
       "      <td>1992.0</td>\n",
       "    </tr>\n",
       "    <tr>\n",
       "      <th>4</th>\n",
       "      <td>7.0</td>\n",
       "      <td>41.0</td>\n",
       "      <td>D19_BEKLEIDUNG_GEH</td>\n",
       "      <td>W</td>\n",
       "      <td>1992.0</td>\n",
       "    </tr>\n",
       "    <tr>\n",
       "      <th>5</th>\n",
       "      <td>7.0</td>\n",
       "      <td>41.0</td>\n",
       "      <td>D19_BUCH_CD</td>\n",
       "      <td>W</td>\n",
       "      <td>1992.0</td>\n",
       "    </tr>\n",
       "    <tr>\n",
       "      <th>6</th>\n",
       "      <td>4.0</td>\n",
       "      <td>24.0</td>\n",
       "      <td>D19_UNBEKANNT</td>\n",
       "      <td>W</td>\n",
       "      <td>1992.0</td>\n",
       "    </tr>\n",
       "    <tr>\n",
       "      <th>7</th>\n",
       "      <td>5.0</td>\n",
       "      <td>33.0</td>\n",
       "      <td>D19_BEKLEIDUNG_GEH</td>\n",
       "      <td>W</td>\n",
       "      <td>1997.0</td>\n",
       "    </tr>\n",
       "    <tr>\n",
       "      <th>8</th>\n",
       "      <td>6.0</td>\n",
       "      <td>24.0</td>\n",
       "      <td>D19_UNBEKANNT</td>\n",
       "      <td>W</td>\n",
       "      <td>1992.0</td>\n",
       "    </tr>\n",
       "    <tr>\n",
       "      <th>9</th>\n",
       "      <td>6.0</td>\n",
       "      <td>24.0</td>\n",
       "      <td>D19_UNBEKANNT</td>\n",
       "      <td>W</td>\n",
       "      <td>1992.0</td>\n",
       "    </tr>\n",
       "  </tbody>\n",
       "</table>\n",
       "</div>"
      ],
      "text/plain": [
       "  CAMEO_DEUG_2015 CAMEO_INTL_2015 D19_LETZTER_KAUF_BRANCHE OST_WEST_KZ    date\n",
       "0             5.0            34.0            D19_UNBEKANNT           W  1992.0\n",
       "1             5.0            32.0         D19_TELKO_MOBILE           W  1997.0\n",
       "2             2.0            14.0         D19_LEBENSMITTEL           O  1995.0\n",
       "3             2.0            14.0            D19_UNBEKANNT           W  1992.0\n",
       "4             7.0            41.0       D19_BEKLEIDUNG_GEH           W  1992.0\n",
       "5             7.0            41.0              D19_BUCH_CD           W  1992.0\n",
       "6             4.0            24.0            D19_UNBEKANNT           W  1992.0\n",
       "7             5.0            33.0       D19_BEKLEIDUNG_GEH           W  1997.0\n",
       "8             6.0            24.0            D19_UNBEKANNT           W  1992.0\n",
       "9             6.0            24.0            D19_UNBEKANNT           W  1992.0"
      ]
     },
     "execution_count": 54,
     "metadata": {},
     "output_type": "execute_result"
    }
   ],
   "source": [
    "objects.head(10)"
   ]
  },
  {
   "cell_type": "code",
   "execution_count": 55,
   "metadata": {},
   "outputs": [
    {
     "data": {
      "text/plain": [
       "CAMEO_DEUG_2015             0\n",
       "CAMEO_INTL_2015             0\n",
       "D19_LETZTER_KAUF_BRANCHE    0\n",
       "OST_WEST_KZ                 0\n",
       "date                        0\n",
       "dtype: int64"
      ]
     },
     "execution_count": 55,
     "metadata": {},
     "output_type": "execute_result"
    }
   ],
   "source": [
    "objects.isna().sum()"
   ]
  },
  {
   "cell_type": "markdown",
   "metadata": {},
   "source": [
    "Good. Now that there are no more empty values. We need to change our categorical values to numbers"
   ]
  },
  {
   "cell_type": "code",
   "execution_count": 56,
   "metadata": {},
   "outputs": [
    {
     "data": {
      "text/plain": [
       "6.0    13262\n",
       "4.0     5131\n",
       "8.0     5010\n",
       "2.0     4703\n",
       "3.0     4423\n",
       "7.0     3064\n",
       "5.0     2531\n",
       "9.0     2460\n",
       "1.0     2378\n",
       "Name: CAMEO_DEUG_2015, dtype: int64"
      ]
     },
     "execution_count": 56,
     "metadata": {},
     "output_type": "execute_result"
    }
   ],
   "source": [
    "objects.CAMEO_DEUG_2015.value_counts(dropna=False)"
   ]
  },
  {
   "cell_type": "markdown",
   "metadata": {},
   "source": [
    "Need to remove those .0s"
   ]
  },
  {
   "cell_type": "code",
   "execution_count": 57,
   "metadata": {},
   "outputs": [],
   "source": [
    "def remove_point0(df, col):\n",
    "    return df[col].apply(lambda x: str(x).split('.')[0])"
   ]
  },
  {
   "cell_type": "code",
   "execution_count": 58,
   "metadata": {},
   "outputs": [],
   "source": [
    "for col in objects.columns:\n",
    "    objects[col] = remove_point0(objects, col)"
   ]
  },
  {
   "cell_type": "code",
   "execution_count": 59,
   "metadata": {},
   "outputs": [
    {
     "data": {
      "text/html": [
       "<div>\n",
       "<style scoped>\n",
       "    .dataframe tbody tr th:only-of-type {\n",
       "        vertical-align: middle;\n",
       "    }\n",
       "\n",
       "    .dataframe tbody tr th {\n",
       "        vertical-align: top;\n",
       "    }\n",
       "\n",
       "    .dataframe thead th {\n",
       "        text-align: right;\n",
       "    }\n",
       "</style>\n",
       "<table border=\"1\" class=\"dataframe\">\n",
       "  <thead>\n",
       "    <tr style=\"text-align: right;\">\n",
       "      <th></th>\n",
       "      <th>CAMEO_DEUG_2015</th>\n",
       "      <th>CAMEO_INTL_2015</th>\n",
       "      <th>D19_LETZTER_KAUF_BRANCHE</th>\n",
       "      <th>OST_WEST_KZ</th>\n",
       "      <th>date</th>\n",
       "    </tr>\n",
       "  </thead>\n",
       "  <tbody>\n",
       "    <tr>\n",
       "      <th>0</th>\n",
       "      <td>5</td>\n",
       "      <td>34</td>\n",
       "      <td>D19_UNBEKANNT</td>\n",
       "      <td>W</td>\n",
       "      <td>1992</td>\n",
       "    </tr>\n",
       "    <tr>\n",
       "      <th>1</th>\n",
       "      <td>5</td>\n",
       "      <td>32</td>\n",
       "      <td>D19_TELKO_MOBILE</td>\n",
       "      <td>W</td>\n",
       "      <td>1997</td>\n",
       "    </tr>\n",
       "    <tr>\n",
       "      <th>2</th>\n",
       "      <td>2</td>\n",
       "      <td>14</td>\n",
       "      <td>D19_LEBENSMITTEL</td>\n",
       "      <td>O</td>\n",
       "      <td>1995</td>\n",
       "    </tr>\n",
       "    <tr>\n",
       "      <th>3</th>\n",
       "      <td>2</td>\n",
       "      <td>14</td>\n",
       "      <td>D19_UNBEKANNT</td>\n",
       "      <td>W</td>\n",
       "      <td>1992</td>\n",
       "    </tr>\n",
       "    <tr>\n",
       "      <th>4</th>\n",
       "      <td>7</td>\n",
       "      <td>41</td>\n",
       "      <td>D19_BEKLEIDUNG_GEH</td>\n",
       "      <td>W</td>\n",
       "      <td>1992</td>\n",
       "    </tr>\n",
       "  </tbody>\n",
       "</table>\n",
       "</div>"
      ],
      "text/plain": [
       "  CAMEO_DEUG_2015 CAMEO_INTL_2015 D19_LETZTER_KAUF_BRANCHE OST_WEST_KZ  date\n",
       "0               5              34            D19_UNBEKANNT           W  1992\n",
       "1               5              32         D19_TELKO_MOBILE           W  1997\n",
       "2               2              14         D19_LEBENSMITTEL           O  1995\n",
       "3               2              14            D19_UNBEKANNT           W  1992\n",
       "4               7              41       D19_BEKLEIDUNG_GEH           W  1992"
      ]
     },
     "execution_count": 59,
     "metadata": {},
     "output_type": "execute_result"
    }
   ],
   "source": [
    "objects.head()"
   ]
  },
  {
   "cell_type": "markdown",
   "metadata": {},
   "source": [
    "Now we're ready to change them to dummies!"
   ]
  },
  {
   "cell_type": "code",
   "execution_count": 60,
   "metadata": {},
   "outputs": [],
   "source": [
    "objects_touse = pd.get_dummies(objects, drop_first=True)"
   ]
  },
  {
   "cell_type": "code",
   "execution_count": 61,
   "metadata": {},
   "outputs": [],
   "source": [
    "del objects"
   ]
  },
  {
   "cell_type": "code",
   "execution_count": 62,
   "metadata": {},
   "outputs": [
    {
     "data": {
      "text/html": [
       "<div>\n",
       "<style scoped>\n",
       "    .dataframe tbody tr th:only-of-type {\n",
       "        vertical-align: middle;\n",
       "    }\n",
       "\n",
       "    .dataframe tbody tr th {\n",
       "        vertical-align: top;\n",
       "    }\n",
       "\n",
       "    .dataframe thead th {\n",
       "        text-align: right;\n",
       "    }\n",
       "</style>\n",
       "<table border=\"1\" class=\"dataframe\">\n",
       "  <thead>\n",
       "    <tr style=\"text-align: right;\">\n",
       "      <th></th>\n",
       "      <th>CAMEO_DEUG_2015_2</th>\n",
       "      <th>CAMEO_DEUG_2015_3</th>\n",
       "      <th>CAMEO_DEUG_2015_4</th>\n",
       "      <th>CAMEO_DEUG_2015_5</th>\n",
       "      <th>CAMEO_DEUG_2015_6</th>\n",
       "      <th>CAMEO_DEUG_2015_7</th>\n",
       "      <th>CAMEO_DEUG_2015_8</th>\n",
       "      <th>CAMEO_DEUG_2015_9</th>\n",
       "      <th>CAMEO_INTL_2015_13</th>\n",
       "      <th>CAMEO_INTL_2015_14</th>\n",
       "      <th>...</th>\n",
       "      <th>date_2006</th>\n",
       "      <th>date_2007</th>\n",
       "      <th>date_2008</th>\n",
       "      <th>date_2009</th>\n",
       "      <th>date_2010</th>\n",
       "      <th>date_2011</th>\n",
       "      <th>date_2012</th>\n",
       "      <th>date_2013</th>\n",
       "      <th>date_2014</th>\n",
       "      <th>date_2015</th>\n",
       "    </tr>\n",
       "  </thead>\n",
       "  <tbody>\n",
       "    <tr>\n",
       "      <th>0</th>\n",
       "      <td>0</td>\n",
       "      <td>0</td>\n",
       "      <td>0</td>\n",
       "      <td>1</td>\n",
       "      <td>0</td>\n",
       "      <td>0</td>\n",
       "      <td>0</td>\n",
       "      <td>0</td>\n",
       "      <td>0</td>\n",
       "      <td>0</td>\n",
       "      <td>...</td>\n",
       "      <td>0</td>\n",
       "      <td>0</td>\n",
       "      <td>0</td>\n",
       "      <td>0</td>\n",
       "      <td>0</td>\n",
       "      <td>0</td>\n",
       "      <td>0</td>\n",
       "      <td>0</td>\n",
       "      <td>0</td>\n",
       "      <td>0</td>\n",
       "    </tr>\n",
       "    <tr>\n",
       "      <th>1</th>\n",
       "      <td>0</td>\n",
       "      <td>0</td>\n",
       "      <td>0</td>\n",
       "      <td>1</td>\n",
       "      <td>0</td>\n",
       "      <td>0</td>\n",
       "      <td>0</td>\n",
       "      <td>0</td>\n",
       "      <td>0</td>\n",
       "      <td>0</td>\n",
       "      <td>...</td>\n",
       "      <td>0</td>\n",
       "      <td>0</td>\n",
       "      <td>0</td>\n",
       "      <td>0</td>\n",
       "      <td>0</td>\n",
       "      <td>0</td>\n",
       "      <td>0</td>\n",
       "      <td>0</td>\n",
       "      <td>0</td>\n",
       "      <td>0</td>\n",
       "    </tr>\n",
       "    <tr>\n",
       "      <th>2</th>\n",
       "      <td>1</td>\n",
       "      <td>0</td>\n",
       "      <td>0</td>\n",
       "      <td>0</td>\n",
       "      <td>0</td>\n",
       "      <td>0</td>\n",
       "      <td>0</td>\n",
       "      <td>0</td>\n",
       "      <td>0</td>\n",
       "      <td>1</td>\n",
       "      <td>...</td>\n",
       "      <td>0</td>\n",
       "      <td>0</td>\n",
       "      <td>0</td>\n",
       "      <td>0</td>\n",
       "      <td>0</td>\n",
       "      <td>0</td>\n",
       "      <td>0</td>\n",
       "      <td>0</td>\n",
       "      <td>0</td>\n",
       "      <td>0</td>\n",
       "    </tr>\n",
       "    <tr>\n",
       "      <th>3</th>\n",
       "      <td>1</td>\n",
       "      <td>0</td>\n",
       "      <td>0</td>\n",
       "      <td>0</td>\n",
       "      <td>0</td>\n",
       "      <td>0</td>\n",
       "      <td>0</td>\n",
       "      <td>0</td>\n",
       "      <td>0</td>\n",
       "      <td>1</td>\n",
       "      <td>...</td>\n",
       "      <td>0</td>\n",
       "      <td>0</td>\n",
       "      <td>0</td>\n",
       "      <td>0</td>\n",
       "      <td>0</td>\n",
       "      <td>0</td>\n",
       "      <td>0</td>\n",
       "      <td>0</td>\n",
       "      <td>0</td>\n",
       "      <td>0</td>\n",
       "    </tr>\n",
       "    <tr>\n",
       "      <th>4</th>\n",
       "      <td>0</td>\n",
       "      <td>0</td>\n",
       "      <td>0</td>\n",
       "      <td>0</td>\n",
       "      <td>0</td>\n",
       "      <td>1</td>\n",
       "      <td>0</td>\n",
       "      <td>0</td>\n",
       "      <td>0</td>\n",
       "      <td>0</td>\n",
       "      <td>...</td>\n",
       "      <td>0</td>\n",
       "      <td>0</td>\n",
       "      <td>0</td>\n",
       "      <td>0</td>\n",
       "      <td>0</td>\n",
       "      <td>0</td>\n",
       "      <td>0</td>\n",
       "      <td>0</td>\n",
       "      <td>0</td>\n",
       "      <td>0</td>\n",
       "    </tr>\n",
       "  </tbody>\n",
       "</table>\n",
       "<p>5 rows × 87 columns</p>\n",
       "</div>"
      ],
      "text/plain": [
       "   CAMEO_DEUG_2015_2  CAMEO_DEUG_2015_3  CAMEO_DEUG_2015_4  CAMEO_DEUG_2015_5  \\\n",
       "0                  0                  0                  0                  1   \n",
       "1                  0                  0                  0                  1   \n",
       "2                  1                  0                  0                  0   \n",
       "3                  1                  0                  0                  0   \n",
       "4                  0                  0                  0                  0   \n",
       "\n",
       "   CAMEO_DEUG_2015_6  CAMEO_DEUG_2015_7  CAMEO_DEUG_2015_8  CAMEO_DEUG_2015_9  \\\n",
       "0                  0                  0                  0                  0   \n",
       "1                  0                  0                  0                  0   \n",
       "2                  0                  0                  0                  0   \n",
       "3                  0                  0                  0                  0   \n",
       "4                  0                  1                  0                  0   \n",
       "\n",
       "   CAMEO_INTL_2015_13  CAMEO_INTL_2015_14  ...  date_2006  date_2007  \\\n",
       "0                   0                   0  ...          0          0   \n",
       "1                   0                   0  ...          0          0   \n",
       "2                   0                   1  ...          0          0   \n",
       "3                   0                   1  ...          0          0   \n",
       "4                   0                   0  ...          0          0   \n",
       "\n",
       "   date_2008  date_2009  date_2010  date_2011  date_2012  date_2013  \\\n",
       "0          0          0          0          0          0          0   \n",
       "1          0          0          0          0          0          0   \n",
       "2          0          0          0          0          0          0   \n",
       "3          0          0          0          0          0          0   \n",
       "4          0          0          0          0          0          0   \n",
       "\n",
       "   date_2014  date_2015  \n",
       "0          0          0  \n",
       "1          0          0  \n",
       "2          0          0  \n",
       "3          0          0  \n",
       "4          0          0  \n",
       "\n",
       "[5 rows x 87 columns]"
      ]
     },
     "execution_count": 62,
     "metadata": {},
     "output_type": "execute_result"
    }
   ],
   "source": [
    "objects_touse.head()"
   ]
  },
  {
   "cell_type": "markdown",
   "metadata": {},
   "source": [
    "Now that we're done with the objects, time to look at the numeric columns"
   ]
  },
  {
   "cell_type": "code",
   "execution_count": 63,
   "metadata": {},
   "outputs": [],
   "source": [
    "numbers = clean.loc[:, ~clean.columns.isin(obj_cols)]"
   ]
  },
  {
   "cell_type": "code",
   "execution_count": 64,
   "metadata": {},
   "outputs": [
    {
     "data": {
      "text/html": [
       "<div>\n",
       "<style scoped>\n",
       "    .dataframe tbody tr th:only-of-type {\n",
       "        vertical-align: middle;\n",
       "    }\n",
       "\n",
       "    .dataframe tbody tr th {\n",
       "        vertical-align: top;\n",
       "    }\n",
       "\n",
       "    .dataframe thead th {\n",
       "        text-align: right;\n",
       "    }\n",
       "</style>\n",
       "<table border=\"1\" class=\"dataframe\">\n",
       "  <thead>\n",
       "    <tr style=\"text-align: right;\">\n",
       "      <th></th>\n",
       "      <th>LNR</th>\n",
       "      <th>AGER_TYP</th>\n",
       "      <th>AKT_DAT_KL</th>\n",
       "      <th>ALTER_HH</th>\n",
       "      <th>ALTERSKATEGORIE_FEIN</th>\n",
       "      <th>ANZ_HAUSHALTE_AKTIV</th>\n",
       "      <th>ANZ_HH_TITEL</th>\n",
       "      <th>ANZ_KINDER</th>\n",
       "      <th>ANZ_PERSONEN</th>\n",
       "      <th>ANZ_STATISTISCHE_HAUSHALTE</th>\n",
       "      <th>...</th>\n",
       "      <th>VHN</th>\n",
       "      <th>VK_DHT4A</th>\n",
       "      <th>VK_DISTANZ</th>\n",
       "      <th>VK_ZG11</th>\n",
       "      <th>WOHNDAUER_2008</th>\n",
       "      <th>WOHNLAGE</th>\n",
       "      <th>ZABEOTYP</th>\n",
       "      <th>RESPONSE</th>\n",
       "      <th>ANREDE_KZ</th>\n",
       "      <th>ALTERSKATEGORIE_GROB</th>\n",
       "    </tr>\n",
       "  </thead>\n",
       "  <tbody>\n",
       "    <tr>\n",
       "      <th>0</th>\n",
       "      <td>1763</td>\n",
       "      <td>2</td>\n",
       "      <td>1.0</td>\n",
       "      <td>8.0</td>\n",
       "      <td>8.0</td>\n",
       "      <td>15.0</td>\n",
       "      <td>0.0</td>\n",
       "      <td>0.0</td>\n",
       "      <td>1.0</td>\n",
       "      <td>13.0</td>\n",
       "      <td>...</td>\n",
       "      <td>2.0</td>\n",
       "      <td>5.0</td>\n",
       "      <td>2.0</td>\n",
       "      <td>1.0</td>\n",
       "      <td>9.0</td>\n",
       "      <td>3.0</td>\n",
       "      <td>3</td>\n",
       "      <td>0</td>\n",
       "      <td>2</td>\n",
       "      <td>4</td>\n",
       "    </tr>\n",
       "    <tr>\n",
       "      <th>1</th>\n",
       "      <td>1771</td>\n",
       "      <td>1</td>\n",
       "      <td>4.0</td>\n",
       "      <td>13.0</td>\n",
       "      <td>13.0</td>\n",
       "      <td>1.0</td>\n",
       "      <td>0.0</td>\n",
       "      <td>0.0</td>\n",
       "      <td>2.0</td>\n",
       "      <td>1.0</td>\n",
       "      <td>...</td>\n",
       "      <td>3.0</td>\n",
       "      <td>1.0</td>\n",
       "      <td>2.0</td>\n",
       "      <td>1.0</td>\n",
       "      <td>9.0</td>\n",
       "      <td>7.0</td>\n",
       "      <td>1</td>\n",
       "      <td>0</td>\n",
       "      <td>2</td>\n",
       "      <td>3</td>\n",
       "    </tr>\n",
       "    <tr>\n",
       "      <th>2</th>\n",
       "      <td>1776</td>\n",
       "      <td>1</td>\n",
       "      <td>1.0</td>\n",
       "      <td>9.0</td>\n",
       "      <td>7.0</td>\n",
       "      <td>0.0</td>\n",
       "      <td>NaN</td>\n",
       "      <td>0.0</td>\n",
       "      <td>0.0</td>\n",
       "      <td>1.0</td>\n",
       "      <td>...</td>\n",
       "      <td>1.0</td>\n",
       "      <td>6.0</td>\n",
       "      <td>4.0</td>\n",
       "      <td>2.0</td>\n",
       "      <td>9.0</td>\n",
       "      <td>2.0</td>\n",
       "      <td>3</td>\n",
       "      <td>0</td>\n",
       "      <td>1</td>\n",
       "      <td>4</td>\n",
       "    </tr>\n",
       "    <tr>\n",
       "      <th>3</th>\n",
       "      <td>1460</td>\n",
       "      <td>2</td>\n",
       "      <td>1.0</td>\n",
       "      <td>6.0</td>\n",
       "      <td>6.0</td>\n",
       "      <td>4.0</td>\n",
       "      <td>0.0</td>\n",
       "      <td>0.0</td>\n",
       "      <td>2.0</td>\n",
       "      <td>4.0</td>\n",
       "      <td>...</td>\n",
       "      <td>4.0</td>\n",
       "      <td>8.0</td>\n",
       "      <td>11.0</td>\n",
       "      <td>11.0</td>\n",
       "      <td>9.0</td>\n",
       "      <td>1.0</td>\n",
       "      <td>3</td>\n",
       "      <td>0</td>\n",
       "      <td>2</td>\n",
       "      <td>4</td>\n",
       "    </tr>\n",
       "    <tr>\n",
       "      <th>4</th>\n",
       "      <td>1783</td>\n",
       "      <td>2</td>\n",
       "      <td>1.0</td>\n",
       "      <td>9.0</td>\n",
       "      <td>9.0</td>\n",
       "      <td>53.0</td>\n",
       "      <td>0.0</td>\n",
       "      <td>0.0</td>\n",
       "      <td>1.0</td>\n",
       "      <td>44.0</td>\n",
       "      <td>...</td>\n",
       "      <td>4.0</td>\n",
       "      <td>2.0</td>\n",
       "      <td>2.0</td>\n",
       "      <td>1.0</td>\n",
       "      <td>9.0</td>\n",
       "      <td>3.0</td>\n",
       "      <td>3</td>\n",
       "      <td>0</td>\n",
       "      <td>1</td>\n",
       "      <td>3</td>\n",
       "    </tr>\n",
       "  </tbody>\n",
       "</table>\n",
       "<p>5 rows × 289 columns</p>\n",
       "</div>"
      ],
      "text/plain": [
       "    LNR  AGER_TYP  AKT_DAT_KL  ALTER_HH  ALTERSKATEGORIE_FEIN  \\\n",
       "0  1763         2         1.0       8.0                   8.0   \n",
       "1  1771         1         4.0      13.0                  13.0   \n",
       "2  1776         1         1.0       9.0                   7.0   \n",
       "3  1460         2         1.0       6.0                   6.0   \n",
       "4  1783         2         1.0       9.0                   9.0   \n",
       "\n",
       "   ANZ_HAUSHALTE_AKTIV  ANZ_HH_TITEL  ANZ_KINDER  ANZ_PERSONEN  \\\n",
       "0                 15.0           0.0         0.0           1.0   \n",
       "1                  1.0           0.0         0.0           2.0   \n",
       "2                  0.0           NaN         0.0           0.0   \n",
       "3                  4.0           0.0         0.0           2.0   \n",
       "4                 53.0           0.0         0.0           1.0   \n",
       "\n",
       "   ANZ_STATISTISCHE_HAUSHALTE  ...  VHN  VK_DHT4A  VK_DISTANZ  VK_ZG11  \\\n",
       "0                        13.0  ...  2.0       5.0         2.0      1.0   \n",
       "1                         1.0  ...  3.0       1.0         2.0      1.0   \n",
       "2                         1.0  ...  1.0       6.0         4.0      2.0   \n",
       "3                         4.0  ...  4.0       8.0        11.0     11.0   \n",
       "4                        44.0  ...  4.0       2.0         2.0      1.0   \n",
       "\n",
       "   WOHNDAUER_2008  WOHNLAGE  ZABEOTYP  RESPONSE  ANREDE_KZ  \\\n",
       "0             9.0       3.0         3         0          2   \n",
       "1             9.0       7.0         1         0          2   \n",
       "2             9.0       2.0         3         0          1   \n",
       "3             9.0       1.0         3         0          2   \n",
       "4             9.0       3.0         3         0          1   \n",
       "\n",
       "   ALTERSKATEGORIE_GROB  \n",
       "0                     4  \n",
       "1                     3  \n",
       "2                     4  \n",
       "3                     4  \n",
       "4                     3  \n",
       "\n",
       "[5 rows x 289 columns]"
      ]
     },
     "execution_count": 64,
     "metadata": {},
     "output_type": "execute_result"
    }
   ],
   "source": [
    "numbers.head()"
   ]
  },
  {
   "cell_type": "code",
   "execution_count": 65,
   "metadata": {},
   "outputs": [
    {
     "data": {
      "text/plain": [
       "42962"
      ]
     },
     "execution_count": 65,
     "metadata": {},
     "output_type": "execute_result"
    }
   ],
   "source": [
    "numbers['LNR'].nunique()"
   ]
  },
  {
   "cell_type": "code",
   "execution_count": 66,
   "metadata": {},
   "outputs": [
    {
     "data": {
      "text/plain": [
       "(42962, 289)"
      ]
     },
     "execution_count": 66,
     "metadata": {},
     "output_type": "execute_result"
    }
   ],
   "source": [
    "numbers.shape"
   ]
  },
  {
   "cell_type": "markdown",
   "metadata": {},
   "source": [
    "LNR is unique to each row so it is clearly an ID number. Since ids are meaningless to us, we'll remove it"
   ]
  },
  {
   "cell_type": "code",
   "execution_count": 67,
   "metadata": {},
   "outputs": [],
   "source": [
    "numbers = numbers.drop('LNR',axis=1)"
   ]
  },
  {
   "cell_type": "code",
   "execution_count": 68,
   "metadata": {},
   "outputs": [
    {
     "data": {
      "text/plain": [
       "AGER_TYP                343696\n",
       "AKT_DAT_KL              343696\n",
       "ALTER_HH                343696\n",
       "ALTERSKATEGORIE_FEIN    343696\n",
       "ANZ_HAUSHALTE_AKTIV     343696\n",
       "                         ...  \n",
       "WOHNLAGE                343696\n",
       "ZABEOTYP                343696\n",
       "RESPONSE                343696\n",
       "ANREDE_KZ               343696\n",
       "ALTERSKATEGORIE_GROB    343696\n",
       "Length: 288, dtype: int64"
      ]
     },
     "execution_count": 68,
     "metadata": {},
     "output_type": "execute_result"
    }
   ],
   "source": [
    "numbers.memory_usage(index=False)"
   ]
  },
  {
   "cell_type": "markdown",
   "metadata": {},
   "source": [
    "We can't do much with such a huge memory size, so let's reduce it. But first, we'll take a look at the unique numbers."
   ]
  },
  {
   "cell_type": "code",
   "execution_count": 69,
   "metadata": {},
   "outputs": [],
   "source": [
    "unis = numbers.nunique()"
   ]
  },
  {
   "cell_type": "code",
   "execution_count": 70,
   "metadata": {},
   "outputs": [
    {
     "data": {
      "text/plain": [
       "AGER_TYP                        5\n",
       "AKT_DAT_KL                      9\n",
       "ALTER_HH                       20\n",
       "ALTERSKATEGORIE_FEIN           25\n",
       "ANZ_HAUSHALTE_AKTIV           175\n",
       "ANZ_HH_TITEL                   15\n",
       "ANZ_KINDER                      7\n",
       "ANZ_PERSONEN                   14\n",
       "ANZ_STATISTISCHE_HAUSHALTE    173\n",
       "ANZ_TITEL                       3\n",
       "ARBEIT                          6\n",
       "BALLRAUM                        7\n",
       "CJT_GESAMTTYP                   6\n",
       "CJT_KATALOGNUTZER               5\n",
       "CJT_TYP_1                       5\n",
       "CJT_TYP_2                       5\n",
       "CJT_TYP_3                       5\n",
       "CJT_TYP_4                       5\n",
       "CJT_TYP_5                       5\n",
       "CJT_TYP_6                       5\n",
       "dtype: int64"
      ]
     },
     "execution_count": 70,
     "metadata": {},
     "output_type": "execute_result"
    }
   ],
   "source": [
    "unis.head(20)"
   ]
  },
  {
   "cell_type": "code",
   "execution_count": 71,
   "metadata": {},
   "outputs": [
    {
     "data": {
      "text/plain": [
       "(42962, 288)"
      ]
     },
     "execution_count": 71,
     "metadata": {},
     "output_type": "execute_result"
    }
   ],
   "source": [
    "numbers.shape"
   ]
  },
  {
   "cell_type": "code",
   "execution_count": 72,
   "metadata": {},
   "outputs": [
    {
     "data": {
      "text/plain": [
       "(278,)"
      ]
     },
     "execution_count": 72,
     "metadata": {},
     "output_type": "execute_result"
    }
   ],
   "source": [
    "unis[unis<20].shape #seeing without outliers"
   ]
  },
  {
   "cell_type": "code",
   "execution_count": 73,
   "metadata": {},
   "outputs": [
    {
     "data": {
      "image/png": "[encoded data removed]",
      "text/plain": [
       "<Figure size 432x288 with 1 Axes>"
      ]
     },
     "metadata": {
      "needs_background": "light"
     },
     "output_type": "display_data"
    }
   ],
   "source": [
    "unis[unis<20].plot(kind='hist',bins=50)\n",
    "plt.xlabel('number of uniques')\n",
    "sns.despine()"
   ]
  },
  {
   "cell_type": "markdown",
   "metadata": {},
   "source": [
    "We can see that a large number of our supposedly numeric columns have only 5 or less unique numbers. This could suggest that these columns might actually be categorical instead. Let's check:"
   ]
  },
  {
   "cell_type": "code",
   "execution_count": 74,
   "metadata": {},
   "outputs": [
    {
     "data": {
      "text/html": [
       "<div>\n",
       "<style scoped>\n",
       "    .dataframe tbody tr th:only-of-type {\n",
       "        vertical-align: middle;\n",
       "    }\n",
       "\n",
       "    .dataframe tbody tr th {\n",
       "        vertical-align: top;\n",
       "    }\n",
       "\n",
       "    .dataframe thead th {\n",
       "        text-align: right;\n",
       "    }\n",
       "</style>\n",
       "<table border=\"1\" class=\"dataframe\">\n",
       "  <thead>\n",
       "    <tr style=\"text-align: right;\">\n",
       "      <th></th>\n",
       "      <th>Information level</th>\n",
       "      <th>Attribute</th>\n",
       "      <th>Description</th>\n",
       "      <th>Additional notes</th>\n",
       "    </tr>\n",
       "  </thead>\n",
       "  <tbody>\n",
       "    <tr>\n",
       "      <th>NaN</th>\n",
       "      <td>NaN</td>\n",
       "      <td>KBA13_VORB_0</td>\n",
       "      <td>share of cars with no preowner - PLZ8</td>\n",
       "      <td>NaN</td>\n",
       "    </tr>\n",
       "    <tr>\n",
       "      <th>NaN</th>\n",
       "      <td>NaN</td>\n",
       "      <td>KBA13_VORB_1</td>\n",
       "      <td>share of cars with 1 preowner - PLZ8</td>\n",
       "      <td>NaN</td>\n",
       "    </tr>\n",
       "    <tr>\n",
       "      <th>NaN</th>\n",
       "      <td>NaN</td>\n",
       "      <td>KBA13_VORB_1_2</td>\n",
       "      <td>share of cars with 1 or 2 preowner - PLZ8</td>\n",
       "      <td>NaN</td>\n",
       "    </tr>\n",
       "    <tr>\n",
       "      <th>NaN</th>\n",
       "      <td>NaN</td>\n",
       "      <td>KBA13_VORB_2</td>\n",
       "      <td>share of cars with 2 preowner - PLZ8</td>\n",
       "      <td>NaN</td>\n",
       "    </tr>\n",
       "    <tr>\n",
       "      <th>NaN</th>\n",
       "      <td>NaN</td>\n",
       "      <td>KBA13_VW</td>\n",
       "      <td>share of VOLKSWAGEN within the PLZ8</td>\n",
       "      <td>NaN</td>\n",
       "    </tr>\n",
       "    <tr>\n",
       "      <th>NaN</th>\n",
       "      <td>NaN</td>\n",
       "      <td>PLZ8_ANTG1</td>\n",
       "      <td>number of 1-2 family houses in the PLZ8</td>\n",
       "      <td>NaN</td>\n",
       "    </tr>\n",
       "    <tr>\n",
       "      <th>NaN</th>\n",
       "      <td>NaN</td>\n",
       "      <td>PLZ8_ANTG2</td>\n",
       "      <td>number of 3-5 family houses in the PLZ8</td>\n",
       "      <td>NaN</td>\n",
       "    </tr>\n",
       "    <tr>\n",
       "      <th>NaN</th>\n",
       "      <td>NaN</td>\n",
       "      <td>PLZ8_BAUMAX</td>\n",
       "      <td>most common building-type within the PLZ8</td>\n",
       "      <td>NaN</td>\n",
       "    </tr>\n",
       "    <tr>\n",
       "      <th>NaN</th>\n",
       "      <td>NaN</td>\n",
       "      <td>PLZ8_HHZ</td>\n",
       "      <td>number of households within the PLZ8</td>\n",
       "      <td>NaN</td>\n",
       "    </tr>\n",
       "    <tr>\n",
       "      <th>NaN</th>\n",
       "      <td>NaN</td>\n",
       "      <td>PLZ8_GBZ</td>\n",
       "      <td>number of buildings within the PLZ8</td>\n",
       "      <td>NaN</td>\n",
       "    </tr>\n",
       "  </tbody>\n",
       "</table>\n",
       "</div>"
      ],
      "text/plain": [
       "    Information level       Attribute  \\\n",
       "NaN               NaN    KBA13_VORB_0   \n",
       "NaN               NaN    KBA13_VORB_1   \n",
       "NaN               NaN  KBA13_VORB_1_2   \n",
       "NaN               NaN    KBA13_VORB_2   \n",
       "NaN               NaN        KBA13_VW   \n",
       "NaN               NaN      PLZ8_ANTG1   \n",
       "NaN               NaN      PLZ8_ANTG2   \n",
       "NaN               NaN     PLZ8_BAUMAX   \n",
       "NaN               NaN        PLZ8_HHZ   \n",
       "NaN               NaN        PLZ8_GBZ   \n",
       "\n",
       "                                   Description Additional notes  \n",
       "NaN      share of cars with no preowner - PLZ8              NaN  \n",
       "NaN       share of cars with 1 preowner - PLZ8              NaN  \n",
       "NaN  share of cars with 1 or 2 preowner - PLZ8              NaN  \n",
       "NaN       share of cars with 2 preowner - PLZ8              NaN  \n",
       "NaN        share of VOLKSWAGEN within the PLZ8              NaN  \n",
       "NaN    number of 1-2 family houses in the PLZ8              NaN  \n",
       "NaN    number of 3-5 family houses in the PLZ8              NaN  \n",
       "NaN  most common building-type within the PLZ8              NaN  \n",
       "NaN       number of households within the PLZ8              NaN  \n",
       "NaN        number of buildings within the PLZ8              NaN  "
      ]
     },
     "execution_count": 74,
     "metadata": {},
     "output_type": "execute_result"
    }
   ],
   "source": [
    "overview[overview.Attribute.isin(unis[unis==5].index)].tail(10)"
   ]
  },
  {
   "cell_type": "markdown",
   "metadata": {},
   "source": [
    "Looking at it here, it seems that assumption was not exactly correct. For example, for number of family houses, 3 is more 2, which is more than 1. That can't be a categorical variable and should stay as numeric to keep that kind of information. The kind that says that some people have more than others. You can't do that with a categorical variable. So, let's move on."
   ]
  },
  {
   "cell_type": "code",
   "execution_count": 75,
   "metadata": {},
   "outputs": [],
   "source": [
    "del unis"
   ]
  },
  {
   "cell_type": "code",
   "execution_count": 76,
   "metadata": {},
   "outputs": [],
   "source": [
    "def reduce_memory_nums(df):\n",
    "    for col in df.columns:\n",
    "#         print(col)\n",
    "\n",
    "        mx = df[col].max()\n",
    "        mn = df[col].min()\n",
    "\n",
    "        if mn >= 0:\n",
    "            if mx < 255:\n",
    "                df[col] = df[col].astype(np.uint8, errors='ignore')\n",
    "            elif mx < 65535:\n",
    "                df[col] = df[col].astype(np.uint16, errors='ignore')\n",
    "            elif mx < 4294967295:\n",
    "                df[col] = df[col].astype(np.uint32, errors='ignore')\n",
    "            else:\n",
    "                df[col] = df[col].astype(np.uint64, errors='ignore')\n",
    "        else:\n",
    "            if mn > np.iinfo(np.int8).min and mx < np.iinfo(np.int8).max:\n",
    "                df[col] = df[col].astype(np.int8, errors='ignore')\n",
    "            elif mn > np.iinfo(np.int16).min and mx < np.iinfo(np.int16).max:\n",
    "                df[col] = df[col].astype(np.int16, errors='ignore')\n",
    "            elif mn > np.iinfo(np.int32).min and mx < np.iinfo(np.int32).max:\n",
    "                df[col] = df[col].astype(np.int32, errors='ignore')\n",
    "            elif mn > np.iinfo(np.int64).min and mx < np.iinfo(np.int64).max:\n",
    "                df[col] = df[col].astype(np.int64, errors='ignore')\n",
    "    return df"
   ]
  },
  {
   "cell_type": "code",
   "execution_count": 77,
   "metadata": {},
   "outputs": [],
   "source": [
    "#         df[col] = df[col].apply(lambda s: pd.to_numeric(s, errors='coerce'))\n",
    "#         df[col] = df[col].fillna(df[col].median())"
   ]
  },
  {
   "cell_type": "code",
   "execution_count": 78,
   "metadata": {},
   "outputs": [
    {
     "data": {
      "text/plain": [
       "AGER_TYP                343696\n",
       "AKT_DAT_KL              343696\n",
       "ALTER_HH                343696\n",
       "ALTERSKATEGORIE_FEIN    343696\n",
       "ANZ_HAUSHALTE_AKTIV     343696\n",
       "                         ...  \n",
       "WOHNLAGE                343696\n",
       "ZABEOTYP                343696\n",
       "RESPONSE                343696\n",
       "ANREDE_KZ               343696\n",
       "ALTERSKATEGORIE_GROB    343696\n",
       "Length: 288, dtype: int64"
      ]
     },
     "execution_count": 78,
     "metadata": {},
     "output_type": "execute_result"
    }
   ],
   "source": [
    "numbers.memory_usage(index=False)"
   ]
  },
  {
   "cell_type": "code",
   "execution_count": 79,
   "metadata": {},
   "outputs": [],
   "source": [
    "numbers = reduce_memory_nums(numbers)"
   ]
  },
  {
   "cell_type": "code",
   "execution_count": 80,
   "metadata": {},
   "outputs": [
    {
     "data": {
      "text/plain": [
       "AGER_TYP                 42962\n",
       "AKT_DAT_KL              343696\n",
       "ALTER_HH                343696\n",
       "ALTERSKATEGORIE_FEIN    343696\n",
       "ANZ_HAUSHALTE_AKTIV     343696\n",
       "                         ...  \n",
       "WOHNLAGE                343696\n",
       "ZABEOTYP                 42962\n",
       "RESPONSE                 42962\n",
       "ANREDE_KZ                42962\n",
       "ALTERSKATEGORIE_GROB     42962\n",
       "Length: 288, dtype: int64"
      ]
     },
     "execution_count": 80,
     "metadata": {},
     "output_type": "execute_result"
    }
   ],
   "source": [
    "numbers.memory_usage(index=False)"
   ]
  },
  {
   "cell_type": "code",
   "execution_count": 81,
   "metadata": {},
   "outputs": [
    {
     "data": {
      "text/plain": [
       "1387396"
      ]
     },
     "execution_count": 81,
     "metadata": {},
     "output_type": "execute_result"
    }
   ],
   "source": [
    "numbers.isna().sum().sum()"
   ]
  },
  {
   "cell_type": "code",
   "execution_count": 82,
   "metadata": {},
   "outputs": [],
   "source": [
    "# numbers = numbers.apply(lambda s: pd.to_numeric(s, errors='coerce'))\n",
    "numbers = numbers.fillna(numbers.median().iloc[0])"
   ]
  },
  {
   "cell_type": "code",
   "execution_count": 83,
   "metadata": {},
   "outputs": [
    {
     "data": {
      "text/plain": [
       "0"
      ]
     },
     "execution_count": 83,
     "metadata": {},
     "output_type": "execute_result"
    }
   ],
   "source": [
    "numbers.isna().sum().sum()"
   ]
  },
  {
   "cell_type": "code",
   "execution_count": 84,
   "metadata": {},
   "outputs": [],
   "source": [
    "numbers = reduce_memory_nums(numbers)"
   ]
  },
  {
   "cell_type": "code",
   "execution_count": 85,
   "metadata": {},
   "outputs": [
    {
     "data": {
      "text/plain": [
       "AGER_TYP                42962\n",
       "AKT_DAT_KL              42962\n",
       "ALTER_HH                42962\n",
       "ALTERSKATEGORIE_FEIN    42962\n",
       "ANZ_HAUSHALTE_AKTIV     85924\n",
       "                        ...  \n",
       "WOHNLAGE                42962\n",
       "ZABEOTYP                42962\n",
       "RESPONSE                42962\n",
       "ANREDE_KZ               42962\n",
       "ALTERSKATEGORIE_GROB    42962\n",
       "Length: 288, dtype: int64"
      ]
     },
     "execution_count": 85,
     "metadata": {},
     "output_type": "execute_result"
    }
   ],
   "source": [
    "numbers.memory_usage(index=False)"
   ]
  },
  {
   "cell_type": "markdown",
   "metadata": {},
   "source": [
    "Now we have no more missing values with numbers.\n",
    "Let's wrap all of these steps in functions and place them all in one place here:"
   ]
  },
  {
   "cell_type": "markdown",
   "metadata": {},
   "source": [
    "First we'll save the columns we used in clean, so that we can keep the columns constant throughout the datasets:"
   ]
  },
  {
   "cell_type": "code",
   "execution_count": 125,
   "metadata": {},
   "outputs": [],
   "source": [
    "cols_touse = clean.columns.tolist()\n",
    "cols_touse.remove('RESPONSE')"
   ]
  },
  {
   "cell_type": "code",
   "execution_count": 91,
   "metadata": {},
   "outputs": [],
   "source": [
    "def remove_point0(df, col):\n",
    "    return df[col].apply(lambda x: str(x).split('.')[0])"
   ]
  },
  {
   "cell_type": "code",
   "execution_count": 92,
   "metadata": {},
   "outputs": [],
   "source": [
    "def clean_objects(df):\n",
    "    objects = df.select_dtypes(include=['object'])\n",
    "    obj_cols = objects.columns\n",
    "    \n",
    "    objects['EINGEFUEGT_AM'].apply(lambda date: '-'.join(str(date).split('-')[0:2])).nunique()\n",
    "    objects['date'] = objects['EINGEFUEGT_AM'].apply(lambda date: date.split('-')[0] if  date is not np.nan else date)\n",
    "    \n",
    "    objects = objects.drop(['CAMEO_DEU_2015','EINGEFUEGT_AM'], axis=1)\n",
    "    objects[['CAMEO_DEUG_2015','CAMEO_INTL_2015','date']] = \\\n",
    "    objects[['CAMEO_DEUG_2015','CAMEO_INTL_2015','date']].apply(lambda df: pd.to_numeric(df, errors='coerce'))\n",
    "    \n",
    "    objects = objects.fillna(objects.mode().iloc[0]).astype('category')\n",
    "    \n",
    "    for col in objects.columns:\n",
    "        objects[col] = remove_point0(objects, col)\n",
    "        \n",
    "    objects_touse = pd.get_dummies(objects, drop_first=True)\n",
    "    \n",
    "    return objects_touse, obj_cols"
   ]
  },
  {
   "cell_type": "code",
   "execution_count": 93,
   "metadata": {},
   "outputs": [],
   "source": [
    "def reduce_memory_nums(df):\n",
    "    for col in df.columns:\n",
    "#         print(col)\n",
    "\n",
    "        mx = df[col].max()\n",
    "        mn = df[col].min()\n",
    "\n",
    "        if mn >= 0:\n",
    "            if mx < 255:\n",
    "                df[col] = df[col].astype(np.uint8, errors='ignore')\n",
    "            elif mx < 65535:\n",
    "                df[col] = df[col].astype(np.uint16, errors='ignore')\n",
    "            elif mx < 4294967295:\n",
    "                df[col] = df[col].astype(np.uint32, errors='ignore')\n",
    "            else:\n",
    "                df[col] = df[col].astype(np.uint64, errors='ignore')\n",
    "        else:\n",
    "            if mn > np.iinfo(np.int8).min and mx < np.iinfo(np.int8).max:\n",
    "                df[col] = df[col].astype(np.int8, errors='ignore')\n",
    "            elif mn > np.iinfo(np.int16).min and mx < np.iinfo(np.int16).max:\n",
    "                df[col] = df[col].astype(np.int16, errors='ignore')\n",
    "            elif mn > np.iinfo(np.int32).min and mx < np.iinfo(np.int32).max:\n",
    "                df[col] = df[col].astype(np.int32, errors='ignore')\n",
    "            elif mn > np.iinfo(np.int64).min and mx < np.iinfo(np.int64).max:\n",
    "                df[col] = df[col].astype(np.int64, errors='ignore')\n",
    "    return df"
   ]
  },
  {
   "cell_type": "code",
   "execution_count": 94,
   "metadata": {},
   "outputs": [],
   "source": [
    "def clean_numeric(df, obj_cols):\n",
    "    numbers = df.loc[:, ~df.columns.isin(obj_cols)]\n",
    "    numbers = numbers.drop('LNR',axis=1)\n",
    "    \n",
    "    numbers = reduce_memory_nums(numbers)\n",
    "    numbers = numbers.fillna(numbers.median().iloc[0])\n",
    "    numbers = reduce_memory_nums(numbers)\n",
    "    return numbers"
   ]
  },
  {
   "cell_type": "code",
   "execution_count": 191,
   "metadata": {},
   "outputs": [],
   "source": [
    "def combine_cleans(df, include_response = False):\n",
    "    if include_response:\n",
    "        cols = cols_touse+['RESPONSE']\n",
    "    else:\n",
    "        cols = cols_touse\n",
    "    df = df.loc[:, df.columns.isin(cols)]\n",
    "    objects, obj_cols = clean_objects(df)\n",
    "    numbers = clean_numeric(df, obj_cols)\n",
    "    \n",
    "    return pd.concat([numbers,objects], axis=1)"
   ]
  },
  {
   "cell_type": "code",
   "execution_count": 133,
   "metadata": {},
   "outputs": [
    {
     "name": "stderr",
     "output_type": "stream",
     "text": [
      "/home/ec2-user/anaconda3/envs/pytorch_p36/lib/python3.6/site-packages/ipykernel/__main__.py:6: SettingWithCopyWarning: \n",
      "A value is trying to be set on a copy of a slice from a DataFrame.\n",
      "Try using .loc[row_indexer,col_indexer] = value instead\n",
      "\n",
      "See the caveats in the documentation: https://pandas.pydata.org/pandas-docs/stable/user_guide/indexing.html#returning-a-view-versus-a-copy\n"
     ]
    },
    {
     "name": "stdout",
     "output_type": "stream",
     "text": [
      "CPU times: user 11.2 s, sys: 2.63 s, total: 13.8 s\n",
      "Wall time: 13.8 s\n"
     ]
    }
   ],
   "source": [
    "%%time\n",
    "\n",
    "customers = combine_cleans(customers)"
   ]
  },
  {
   "cell_type": "code",
   "execution_count": 134,
   "metadata": {
    "scrolled": true
   },
   "outputs": [
    {
     "name": "stderr",
     "output_type": "stream",
     "text": [
      "/home/ec2-user/anaconda3/envs/pytorch_p36/lib/python3.6/site-packages/ipykernel/__main__.py:6: SettingWithCopyWarning: \n",
      "A value is trying to be set on a copy of a slice from a DataFrame.\n",
      "Try using .loc[row_indexer,col_indexer] = value instead\n",
      "\n",
      "See the caveats in the documentation: https://pandas.pydata.org/pandas-docs/stable/user_guide/indexing.html#returning-a-view-versus-a-copy\n"
     ]
    },
    {
     "name": "stdout",
     "output_type": "stream",
     "text": [
      "CPU times: user 45.6 s, sys: 42.2 s, total: 1min 27s\n",
      "Wall time: 1min 27s\n"
     ]
    }
   ],
   "source": [
    "%%time\n",
    "\n",
    "genpop = combine_cleans(genpop)"
   ]
  },
  {
   "cell_type": "code",
   "execution_count": 193,
   "metadata": {
    "scrolled": true
   },
   "outputs": [
    {
     "name": "stderr",
     "output_type": "stream",
     "text": [
      "/home/ec2-user/anaconda3/envs/pytorch_p36/lib/python3.6/site-packages/ipykernel/__main__.py:6: SettingWithCopyWarning: \n",
      "A value is trying to be set on a copy of a slice from a DataFrame.\n",
      "Try using .loc[row_indexer,col_indexer] = value instead\n",
      "\n",
      "See the caveats in the documentation: https://pandas.pydata.org/pandas-docs/stable/user_guide/indexing.html#returning-a-view-versus-a-copy\n"
     ]
    },
    {
     "name": "stdout",
     "output_type": "stream",
     "text": [
      "CPU times: user 2.68 s, sys: 0 ns, total: 2.68 s\n",
      "Wall time: 2.68 s\n"
     ]
    }
   ],
   "source": [
    "%%time\n",
    "\n",
    "train = combine_cleans(train, include_response=True)"
   ]
  },
  {
   "cell_type": "code",
   "execution_count": 185,
   "metadata": {
    "scrolled": true
   },
   "outputs": [
    {
     "name": "stderr",
     "output_type": "stream",
     "text": [
      "/home/ec2-user/anaconda3/envs/pytorch_p36/lib/python3.6/site-packages/ipykernel/__main__.py:6: SettingWithCopyWarning: \n",
      "A value is trying to be set on a copy of a slice from a DataFrame.\n",
      "Try using .loc[row_indexer,col_indexer] = value instead\n",
      "\n",
      "See the caveats in the documentation: https://pandas.pydata.org/pandas-docs/stable/user_guide/indexing.html#returning-a-view-versus-a-copy\n"
     ]
    },
    {
     "name": "stdout",
     "output_type": "stream",
     "text": [
      "CPU times: user 2.77 s, sys: 0 ns, total: 2.77 s\n",
      "Wall time: 2.77 s\n"
     ]
    }
   ],
   "source": [
    "%%time\n",
    "\n",
    "test = combine_cleans(test)"
   ]
  },
  {
   "cell_type": "code",
   "execution_count": 194,
   "metadata": {},
   "outputs": [
    {
     "data": {
      "text/plain": [
       "(42962, 375)"
      ]
     },
     "execution_count": 194,
     "metadata": {},
     "output_type": "execute_result"
    }
   ],
   "source": [
    "train.shape"
   ]
  },
  {
   "cell_type": "code",
   "execution_count": 186,
   "metadata": {},
   "outputs": [
    {
     "data": {
      "text/plain": [
       "(42833, 373)"
      ]
     },
     "execution_count": 186,
     "metadata": {},
     "output_type": "execute_result"
    }
   ],
   "source": [
    "test.shape"
   ]
  },
  {
   "cell_type": "code",
   "execution_count": 195,
   "metadata": {},
   "outputs": [
    {
     "data": {
      "text/html": [
       "<div>\n",
       "<style scoped>\n",
       "    .dataframe tbody tr th:only-of-type {\n",
       "        vertical-align: middle;\n",
       "    }\n",
       "\n",
       "    .dataframe tbody tr th {\n",
       "        vertical-align: top;\n",
       "    }\n",
       "\n",
       "    .dataframe thead th {\n",
       "        text-align: right;\n",
       "    }\n",
       "</style>\n",
       "<table border=\"1\" class=\"dataframe\">\n",
       "  <thead>\n",
       "    <tr style=\"text-align: right;\">\n",
       "      <th></th>\n",
       "      <th>RESPONSE</th>\n",
       "      <th>date_1992</th>\n",
       "    </tr>\n",
       "  </thead>\n",
       "  <tbody>\n",
       "    <tr>\n",
       "      <th>0</th>\n",
       "      <td>0</td>\n",
       "      <td>1</td>\n",
       "    </tr>\n",
       "    <tr>\n",
       "      <th>1</th>\n",
       "      <td>0</td>\n",
       "      <td>0</td>\n",
       "    </tr>\n",
       "    <tr>\n",
       "      <th>2</th>\n",
       "      <td>0</td>\n",
       "      <td>0</td>\n",
       "    </tr>\n",
       "    <tr>\n",
       "      <th>3</th>\n",
       "      <td>0</td>\n",
       "      <td>1</td>\n",
       "    </tr>\n",
       "    <tr>\n",
       "      <th>4</th>\n",
       "      <td>0</td>\n",
       "      <td>1</td>\n",
       "    </tr>\n",
       "    <tr>\n",
       "      <th>...</th>\n",
       "      <td>...</td>\n",
       "      <td>...</td>\n",
       "    </tr>\n",
       "    <tr>\n",
       "      <th>42957</th>\n",
       "      <td>0</td>\n",
       "      <td>1</td>\n",
       "    </tr>\n",
       "    <tr>\n",
       "      <th>42958</th>\n",
       "      <td>0</td>\n",
       "      <td>1</td>\n",
       "    </tr>\n",
       "    <tr>\n",
       "      <th>42959</th>\n",
       "      <td>0</td>\n",
       "      <td>1</td>\n",
       "    </tr>\n",
       "    <tr>\n",
       "      <th>42960</th>\n",
       "      <td>0</td>\n",
       "      <td>1</td>\n",
       "    </tr>\n",
       "    <tr>\n",
       "      <th>42961</th>\n",
       "      <td>0</td>\n",
       "      <td>1</td>\n",
       "    </tr>\n",
       "  </tbody>\n",
       "</table>\n",
       "<p>42962 rows × 2 columns</p>\n",
       "</div>"
      ],
      "text/plain": [
       "       RESPONSE  date_1992\n",
       "0             0          1\n",
       "1             0          0\n",
       "2             0          0\n",
       "3             0          1\n",
       "4             0          1\n",
       "...         ...        ...\n",
       "42957         0          1\n",
       "42958         0          1\n",
       "42959         0          1\n",
       "42960         0          1\n",
       "42961         0          1\n",
       "\n",
       "[42962 rows x 2 columns]"
      ]
     },
     "execution_count": 195,
     "metadata": {},
     "output_type": "execute_result"
    }
   ],
   "source": [
    "train.loc[:, ~train.columns.isin(test.columns)]"
   ]
  },
  {
   "cell_type": "code",
   "execution_count": 199,
   "metadata": {},
   "outputs": [
    {
     "data": {
      "text/plain": [
       "Index(['date_1993', 'date_1994', 'date_1995', 'date_1996', 'date_1997',\n",
       "       'date_1998', 'date_1999', 'date_2000', 'date_2001', 'date_2002',\n",
       "       'date_2003', 'date_2004', 'date_2005', 'date_2006', 'date_2007',\n",
       "       'date_2008', 'date_2009', 'date_2010', 'date_2011', 'date_2012',\n",
       "       'date_2013', 'date_2014', 'date_2015'],\n",
       "      dtype='object')"
      ]
     },
     "execution_count": 199,
     "metadata": {},
     "output_type": "execute_result"
    }
   ],
   "source": [
    "test.loc[:, test.columns.str.contains('date')].columns"
   ]
  },
  {
   "cell_type": "markdown",
   "metadata": {},
   "source": [
    "We will need to deal with date_1992 when training for predictions later, since it's not available in test dataset."
   ]
  },
  {
   "cell_type": "code",
   "execution_count": 178,
   "metadata": {},
   "outputs": [],
   "source": [
    "def save_pickle(data, filename):\n",
    "    outfile = open(filename,'wb')\n",
    "    pickle.dump(data, outfile)\n",
    "    outfile.close()\n",
    "    print(filename,'saved!')"
   ]
  },
  {
   "cell_type": "code",
   "execution_count": 179,
   "metadata": {},
   "outputs": [
    {
     "name": "stdout",
     "output_type": "stream",
     "text": [
      "customers.csv saved!\n"
     ]
    }
   ],
   "source": [
    "save_pickle(customers, 'customers.csv')"
   ]
  },
  {
   "cell_type": "code",
   "execution_count": 158,
   "metadata": {},
   "outputs": [
    {
     "name": "stdout",
     "output_type": "stream",
     "text": [
      "genpop.csv saved!\n"
     ]
    }
   ],
   "source": [
    "save_pickle(genpop, 'genpop.csv')"
   ]
  },
  {
   "cell_type": "code",
   "execution_count": 201,
   "metadata": {},
   "outputs": [
    {
     "name": "stdout",
     "output_type": "stream",
     "text": [
      "train.csv saved!\n"
     ]
    }
   ],
   "source": [
    "save_pickle(train, 'train.csv')"
   ]
  },
  {
   "cell_type": "code",
   "execution_count": 202,
   "metadata": {},
   "outputs": [
    {
     "name": "stdout",
     "output_type": "stream",
     "text": [
      "test.csv saved!\n"
     ]
    }
   ],
   "source": [
    "save_pickle(test, 'test.csv')"
   ]
  },
  {
   "cell_type": "markdown",
   "metadata": {},
   "source": [
    "We will refer to this area as a checkpoint! This means that we can stop here"
   ]
  },
  {
   "cell_type": "code",
   "execution_count": 3,
   "metadata": {},
   "outputs": [],
   "source": [
    "def load_pickle(filename):\n",
    "    infile = open(filename,'rb')\n",
    "    out = pickle.load(infile)\n",
    "    infile.close()\n",
    "    print(filename,'loaded!')\n",
    "    return out"
   ]
  },
  {
   "cell_type": "code",
   "execution_count": 8,
   "metadata": {},
   "outputs": [
    {
     "name": "stdout",
     "output_type": "stream",
     "text": [
      "genpop.csv loaded!\n",
      "customers.csv loaded!\n"
     ]
    }
   ],
   "source": [
    "genpop = load_pickle('genpop.csv')\n",
    "customers = load_pickle('customers.csv')"
   ]
  },
  {
   "cell_type": "markdown",
   "metadata": {},
   "source": [
    "Next we choose the type of scaler to use.  Standard scaler is better suited if our data is normally distributed and if not MinMax Scaler is better."
   ]
  },
  {
   "cell_type": "code",
   "execution_count": 9,
   "metadata": {},
   "outputs": [
    {
     "data": {
      "image/png": "[encoded data removed]",
      "text/plain": [
       "<Figure size 432x288 with 1 Axes>"
      ]
     },
     "metadata": {
      "needs_background": "light"
     },
     "output_type": "display_data"
    }
   ],
   "source": [
    "genpop.plot(kind='hist', legend=None)\n",
    "sns.despine()"
   ]
  },
  {
   "cell_type": "code",
   "execution_count": 10,
   "metadata": {},
   "outputs": [
    {
     "data": {
      "image/png": "[encoded data removed]",
      "text/plain": [
       "<Figure size 432x288 with 1 Axes>"
      ]
     },
     "metadata": {
      "needs_background": "light"
     },
     "output_type": "display_data"
    }
   ],
   "source": [
    "customers.plot(kind='hist', legend=None)\n",
    "sns.despine()"
   ]
  },
  {
   "cell_type": "markdown",
   "metadata": {},
   "source": [
    "From these simple plots we can see that MinMax Scaler would be a lot better to use.  We will use Robust Scaler first though to get rid of outliers."
   ]
  },
  {
   "cell_type": "code",
   "execution_count": 9,
   "metadata": {},
   "outputs": [],
   "source": [
    "rob = RobustScaler()\n",
    "scaler = MinMaxScaler()"
   ]
  },
  {
   "cell_type": "code",
   "execution_count": 10,
   "metadata": {},
   "outputs": [
    {
     "data": {
      "text/plain": [
       "(891221, 375)"
      ]
     },
     "execution_count": 10,
     "metadata": {},
     "output_type": "execute_result"
    }
   ],
   "source": [
    "genpop.shape"
   ]
  },
  {
   "cell_type": "code",
   "execution_count": 11,
   "metadata": {},
   "outputs": [
    {
     "data": {
      "text/plain": [
       "(191652, 374)"
      ]
     },
     "execution_count": 11,
     "metadata": {},
     "output_type": "execute_result"
    }
   ],
   "source": [
    "customers.shape"
   ]
  },
  {
   "cell_type": "code",
   "execution_count": 12,
   "metadata": {},
   "outputs": [
    {
     "data": {
      "text/plain": [
       "Index(['date_1992'], dtype='object')"
      ]
     },
     "execution_count": 12,
     "metadata": {},
     "output_type": "execute_result"
    }
   ],
   "source": [
    "genpop.columns[~genpop.columns.isin(customers.columns)]"
   ]
  },
  {
   "cell_type": "markdown",
   "metadata": {},
   "source": [
    "We will remove 1992 from here too or else we won't be able to use the same scaler for both of these"
   ]
  },
  {
   "cell_type": "code",
   "execution_count": 13,
   "metadata": {},
   "outputs": [],
   "source": [
    "genpop = genpop.drop('date_1992', axis=1)"
   ]
  },
  {
   "cell_type": "code",
   "execution_count": 103,
   "metadata": {},
   "outputs": [
    {
     "name": "stdout",
     "output_type": "stream",
     "text": [
      "CPU times: user 9.44 s, sys: 1.93 s, total: 11.4 s\n",
      "Wall time: 11.4 s\n"
     ]
    }
   ],
   "source": [
    "%%time\n",
    "\n",
    "g_array = rob.fit_transform(genpop)\n",
    "c_array = rob.transform(customers)"
   ]
  },
  {
   "cell_type": "code",
   "execution_count": 104,
   "metadata": {},
   "outputs": [
    {
     "name": "stdout",
     "output_type": "stream",
     "text": [
      "CPU times: user 2.27 s, sys: 620 ms, total: 2.89 s\n",
      "Wall time: 2.89 s\n"
     ]
    }
   ],
   "source": [
    "%%time\n",
    "\n",
    "g_array = scaler.fit_transform(g_array)\n",
    "c_array = scaler.transform(c_array)"
   ]
  },
  {
   "cell_type": "markdown",
   "metadata": {},
   "source": [
    "## Part 1: Customer Segmentation Report"
   ]
  },
  {
   "cell_type": "markdown",
   "metadata": {},
   "source": [
    "According to AWS documentation, there is a 60 second timeout when trying to use a model to predict. The problem is that our data is so large, that it needs more time than that for predictions. There is no possible way I could find to increase this limit. I even tried using the \"ml.m5.4xlarge\" which consists of 16 core processor and 64 GiB Memory. Because of this, we will have to use SKLearn's PCA instead of Sagemaker's."
   ]
  },
  {
   "cell_type": "code",
   "execution_count": 228,
   "metadata": {},
   "outputs": [],
   "source": [
    "pca = PCA()"
   ]
  },
  {
   "cell_type": "code",
   "execution_count": 229,
   "metadata": {},
   "outputs": [
    {
     "name": "stdout",
     "output_type": "stream",
     "text": [
      "CPU times: user 1min 9s, sys: 3.43 s, total: 1min 13s\n",
      "Wall time: 14.9 s\n"
     ]
    }
   ],
   "source": [
    "%%time \n",
    "\n",
    "g_comp = pca.fit_transform(g_array)"
   ]
  },
  {
   "cell_type": "code",
   "execution_count": 230,
   "metadata": {},
   "outputs": [
    {
     "data": {
      "text/plain": [
       "0.5652620642642728"
      ]
     },
     "execution_count": 230,
     "metadata": {},
     "output_type": "execute_result"
    }
   ],
   "source": [
    "(pca.explained_variance_[0:10] / pca.explained_variance_.sum()).sum()"
   ]
  },
  {
   "cell_type": "markdown",
   "metadata": {},
   "source": [
    "We can see that top 10 components make up 56.5% of our total variance. So let's see how many components we need to get 75%:"
   ]
  },
  {
   "cell_type": "code",
   "execution_count": 231,
   "metadata": {},
   "outputs": [
    {
     "name": "stdout",
     "output_type": "stream",
     "text": [
      "Explained Variance is 0.7521851672604789 with 47 components\n"
     ]
    }
   ],
   "source": [
    "for n_top in range(len(g_array)):\n",
    "    total_var = (pca.explained_variance_[:n_top] / pca.explained_variance_.sum()).sum()\n",
    "    if total_var >= 0.75:\n",
    "        break\n",
    "        \n",
    "print('Explained Variance is {} with {} components'.format(total_var, n_top))        "
   ]
  },
  {
   "cell_type": "markdown",
   "metadata": {},
   "source": [
    "Let's take a look at the some of the make up of these components"
   ]
  },
  {
   "cell_type": "code",
   "execution_count": 189,
   "metadata": {},
   "outputs": [],
   "source": [
    "def display_component(v, features_list, component_num, n_weights=10):\n",
    "    \n",
    "    # get index of component (last row - component_num)\n",
    "    row_idx = N_gen -component_num\n",
    "\n",
    "    # get the list of weights from a row in v, dataframe\n",
    "    v_1_row = v.iloc[:, row_idx]\n",
    "    v_1 = np.squeeze(v_1_row.values)\n",
    "\n",
    "    # match weights to features in counties_scaled dataframe, using list comporehension\n",
    "    comps = pd.DataFrame(list(zip(v_1, features_list)), \n",
    "                         columns=['weights', 'features'])\n",
    "\n",
    "    # we'll want to sort by the largest n_weights\n",
    "    # weights can be neg/pos and we'll sort by magnitude\n",
    "    comps['abs_weights']=comps['weights'].apply(lambda x: np.abs(x))\n",
    "    sorted_weight_data = comps.sort_values('abs_weights', ascending=False).head(n_weights)\n",
    "\n",
    "    # display using seaborn\n",
    "    ax=plt.subplots(figsize=(10,6))\n",
    "    ax=sns.barplot(data=sorted_weight_data, \n",
    "                   x=\"weights\", \n",
    "                   y=\"features\", \n",
    "                   palette=\"Blues_d\")\n",
    "    ax.set_title(\"PCA Component Makeup, Component #\" + str(component_num))\n",
    "    plt.show()"
   ]
  },
  {
   "cell_type": "code",
   "execution_count": 190,
   "metadata": {},
   "outputs": [],
   "source": [
    "v = pd.DataFrame(pca.components_)"
   ]
  },
  {
   "cell_type": "code",
   "execution_count": 200,
   "metadata": {
    "scrolled": false
   },
   "outputs": [
    {
     "data": {
      "image/png": "[encoded data removed]",
      "text/plain": [
       "<Figure size 720x432 with 1 Axes>"
      ]
     },
     "metadata": {
      "needs_background": "light"
     },
     "output_type": "display_data"
    }
   ],
   "source": [
    "display_component(v,genpop.columns.values, component_num=2, n_weights=15)"
   ]
  },
  {
   "cell_type": "markdown",
   "metadata": {},
   "source": [
    "This component is mostly made up of D19 features, meaning mostly transactional activity information. There are some ANZ there which is household information.\n",
    "\n",
    "D19_GESAMT_DATUM, the biggest component translates to \"actuality of the last transaction with the complete file TOTAL\""
   ]
  },
  {
   "cell_type": "code",
   "execution_count": 202,
   "metadata": {
    "scrolled": false
   },
   "outputs": [
    {
     "data": {
      "image/png": "[encoded data removed]",
      "text/plain": [
       "<Figure size 720x432 with 1 Axes>"
      ]
     },
     "metadata": {
      "needs_background": "light"
     },
     "output_type": "display_data"
    }
   ],
   "source": [
    "display_component(v,genpop.columns.values, component_num=4, n_weights=15)"
   ]
  },
  {
   "cell_type": "markdown",
   "metadata": {},
   "source": [
    "This component is almost completely made up of transactional activity too, more than the previous one. I can see a lot of \"BANKEN\" which means it is related to bank's activity too.\n",
    "\n",
    "Currently, not all of column meanings are available to me; but I can see that D19_BUCH_CD is having the biggest impact on this component 14."
   ]
  },
  {
   "cell_type": "code",
   "execution_count": 218,
   "metadata": {
    "scrolled": false
   },
   "outputs": [
    {
     "data": {
      "image/png": "[encoded data removed]",
      "text/plain": [
       "<Figure size 720x432 with 1 Axes>"
      ]
     },
     "metadata": {
      "needs_background": "light"
     },
     "output_type": "display_data"
    }
   ],
   "source": [
    "display_component(v,genpop.columns.values, component_num=30, n_weights=15)"
   ]
  },
  {
   "cell_type": "markdown",
   "metadata": {},
   "source": [
    "This component is having a big impact from D19_GESAMT_ONLINE_QUOTE_12 and AKT_DAT_KL."
   ]
  },
  {
   "cell_type": "markdown",
   "metadata": {},
   "source": [
    "Notice how none of these components are heavily influenced by car data (KBA13), even though most of the columns consisted of car data. This makes one argue that we might not need all these car features after all."
   ]
  },
  {
   "cell_type": "markdown",
   "metadata": {},
   "source": [
    "Futher on, realistically, we would take these component names and go back to the marketing department or database administrator and have them give us the meanings of each of these feature names so that we know in more detail what exactly these components are made up of."
   ]
  },
  {
   "cell_type": "markdown",
   "metadata": {},
   "source": [
    "Now let's create our pca model again but with 47 components only. We will also make sure we are getting the same explained variance number (not % this time)"
   ]
  },
  {
   "cell_type": "code",
   "execution_count": 232,
   "metadata": {},
   "outputs": [
    {
     "data": {
      "text/plain": [
       "18.2679690829616"
      ]
     },
     "execution_count": 232,
     "metadata": {},
     "output_type": "execute_result"
    }
   ],
   "source": [
    "pca.explained_variance_[:n_top].sum()"
   ]
  },
  {
   "cell_type": "code",
   "execution_count": 233,
   "metadata": {},
   "outputs": [
    {
     "name": "stdout",
     "output_type": "stream",
     "text": [
      "47\n",
      "CPU times: user 55.8 s, sys: 6.99 s, total: 1min 2s\n",
      "Wall time: 16.3 s\n"
     ]
    }
   ],
   "source": [
    "%%time \n",
    "\n",
    "print(n_top)\n",
    "pca = PCA(n_components=n_top)\n",
    "g_comp = pca.fit_transform(g_array)"
   ]
  },
  {
   "cell_type": "code",
   "execution_count": 234,
   "metadata": {},
   "outputs": [
    {
     "data": {
      "text/plain": [
       "18.23148934032945"
      ]
     },
     "execution_count": 234,
     "metadata": {},
     "output_type": "execute_result"
    }
   ],
   "source": [
    "pca.explained_variance_.sum()"
   ]
  },
  {
   "cell_type": "markdown",
   "metadata": {},
   "source": [
    "Good, we are getting about 18.2 which is the same as our top components from last time."
   ]
  },
  {
   "cell_type": "code",
   "execution_count": 235,
   "metadata": {},
   "outputs": [],
   "source": [
    "c_comp = pca.transform(c_array)"
   ]
  },
  {
   "cell_type": "markdown",
   "metadata": {},
   "source": [
    "After trying out Kmeans, it seems to take too long on our large data. So, we will use MiniBatchKmeans instead"
   ]
  },
  {
   "cell_type": "code",
   "execution_count": 249,
   "metadata": {},
   "outputs": [],
   "source": [
    "from sklearn.cluster import MiniBatchKMeans"
   ]
  },
  {
   "cell_type": "code",
   "execution_count": 252,
   "metadata": {},
   "outputs": [
    {
     "name": "stdout",
     "output_type": "stream",
     "text": [
      "CPU times: user 5min 24s, sys: 30.5 s, total: 5min 55s\n",
      "Wall time: 4min 54s\n"
     ]
    }
   ],
   "source": [
    "%%time\n",
    "\n",
    "Ks = range(1, 31)\n",
    "km = [MiniBatchKMeans(n_clusters=i) for i in Ks]\n",
    "score = [km[i].fit(g_comp).score(g_comp) for i in range(len(km))]"
   ]
  },
  {
   "cell_type": "code",
   "execution_count": null,
   "metadata": {},
   "outputs": [],
   "source": []
  },
  {
   "cell_type": "code",
   "execution_count": null,
   "metadata": {},
   "outputs": [],
   "source": []
  },
  {
   "cell_type": "code",
   "execution_count": 266,
   "metadata": {},
   "outputs": [
    {
     "data": {
      "image/png": "[encoded data removed]",
      "text/plain": [
       "<Figure size 864x576 with 1 Axes>"
      ]
     },
     "metadata": {
      "needs_background": "light"
     },
     "output_type": "display_data"
    }
   ],
   "source": [
    "plt.figure(figsize=(12,8))\n",
    "plt.plot(Ks,  np.abs(score), marker='^')\n",
    "plt.title('The Elbow Method')\n",
    "plt.xlabel('Number of Clusters')\n",
    "sns.despine()"
   ]
  },
  {
   "cell_type": "markdown",
   "metadata": {},
   "source": [
    "8 and 11 seem to be good 'elbow' points. We'll go with 11 so as to have more clusters for our large amount of data."
   ]
  },
  {
   "cell_type": "code",
   "execution_count": 350,
   "metadata": {},
   "outputs": [
    {
     "data": {
      "text/plain": [
       "MiniBatchKMeans(batch_size=100, compute_labels=True, init='k-means++',\n",
       "                init_size=None, max_iter=100, max_no_improvement=10,\n",
       "                n_clusters=11, n_init=3, random_state=321,\n",
       "                reassignment_ratio=0.01, tol=0.0, verbose=0)"
      ]
     },
     "execution_count": 350,
     "metadata": {},
     "output_type": "execute_result"
    }
   ],
   "source": [
    "final_kmeans = MiniBatchKMeans(n_clusters=11, random_state=321)\n",
    "final_kmeans"
   ]
  },
  {
   "cell_type": "code",
   "execution_count": 351,
   "metadata": {},
   "outputs": [
    {
     "name": "stdout",
     "output_type": "stream",
     "text": [
      "CPU times: user 5 s, sys: 505 ms, total: 5.5 s\n",
      "Wall time: 4.62 s\n"
     ]
    }
   ],
   "source": [
    "%%time\n",
    "g_clust = final_kmeans.fit_predict(g_comp)"
   ]
  },
  {
   "cell_type": "code",
   "execution_count": 352,
   "metadata": {},
   "outputs": [
    {
     "name": "stdout",
     "output_type": "stream",
     "text": [
      "CPU times: user 946 ms, sys: 0 ns, total: 946 ms\n",
      "Wall time: 945 ms\n"
     ]
    }
   ],
   "source": [
    "%%time\n",
    "c_clust = final_kmeans.predict(c_comp)"
   ]
  },
  {
   "cell_type": "markdown",
   "metadata": {},
   "source": [
    "Now let's see the differences between the our datasets for each cluster"
   ]
  },
  {
   "cell_type": "code",
   "execution_count": 353,
   "metadata": {},
   "outputs": [
    {
     "data": {
      "image/png": "[encoded data removed]",
      "text/plain": [
       "<Figure size 864x576 with 1 Axes>"
      ]
     },
     "metadata": {
      "needs_background": "light"
     },
     "output_type": "display_data"
    }
   ],
   "source": [
    "g_df = pd.DataFrame(g_clust, columns = ['cluster'])\n",
    "g_df['label']='General Population'\n",
    "\n",
    "c_df = pd.DataFrame(c_clust, columns = ['cluster'])\n",
    "c_df['label']='customers'\n",
    "\n",
    "clust_df = g_df.append(c_df)\n",
    "\n",
    "plt.figure(figsize=(12,8))\n",
    "sns.countplot(x='cluster',data =clust_df, hue='label')\n",
    "sns.despine()"
   ]
  },
  {
   "cell_type": "markdown",
   "metadata": {},
   "source": [
    "We can see that clusters 4, 10 and 1 are the clusters with most counts for both our General population dataset and our customers dataset.\n",
    "Interestingly, clusters and 8 and 6 are getting very few counts for customers, yet maintain a good number for the general population."
   ]
  },
  {
   "cell_type": "markdown",
   "metadata": {},
   "source": [
    "let's compare a few columns and see how they differ between clusters and between our 2 datasets. We will use the median here to avoid outliers and not sum, so that we can balance between the 2 datasets:"
   ]
  },
  {
   "cell_type": "code",
   "execution_count": 420,
   "metadata": {},
   "outputs": [],
   "source": [
    "comparecols = {\n",
    "    'ANZ_PERSONEN': 'number of persons known in this household',\n",
    "    'ALTER_HH': 'main age within the household',\n",
    "    'ANREDE_KZ': 'gender',\n",
    "    'KKK': 'purchasing power',\n",
    "    'D19_VERSAND_ANZ_24':'transaction activity MAIL-ORDER in the last 24 months',\n",
    "    'KBA13_ANZAHL_PKW': 'number of cars in the PLZ8'\n",
    "}"
   ]
  },
  {
   "cell_type": "code",
   "execution_count": 421,
   "metadata": {},
   "outputs": [],
   "source": [
    "def compare_col(col):    \n",
    "    g_col = pd.concat([genpop[[col]], g_df],axis=1)\n",
    "    c_col = pd.concat([customers[[col]], c_df],axis=1)\n",
    "    both = g_col.append(c_col)\n",
    "\n",
    "    plt.figure(figsize=(12,8))\n",
    "    sns.barplot(x='cluster', y = col,data =both, hue='label', estimator=np.median)\n",
    "    plt.title(comparecols[col])\n",
    "    sns.despine()"
   ]
  },
  {
   "cell_type": "code",
   "execution_count": 422,
   "metadata": {},
   "outputs": [
    {
     "data": {
      "image/png": "[encoded data removed]",
      "text/plain": [
       "<Figure size 864x576 with 1 Axes>"
      ]
     },
     "metadata": {
      "needs_background": "light"
     },
     "output_type": "display_data"
    }
   ],
   "source": [
    "compare_col('ANZ_PERSONEN')"
   ]
  },
  {
   "cell_type": "markdown",
   "metadata": {},
   "source": [
    "here we can see that both datasets are in a aggrement for cluster 10"
   ]
  },
  {
   "cell_type": "code",
   "execution_count": 423,
   "metadata": {},
   "outputs": [
    {
     "data": {
      "image/png": "[encoded data removed]",
      "text/plain": [
       "<Figure size 864x576 with 1 Axes>"
      ]
     },
     "metadata": {
      "needs_background": "light"
     },
     "output_type": "display_data"
    }
   ],
   "source": [
    "compare_col('ALTER_HH')"
   ]
  },
  {
   "cell_type": "markdown",
   "metadata": {},
   "source": []
  },
  {
   "cell_type": "code",
   "execution_count": 424,
   "metadata": {},
   "outputs": [
    {
     "data": {
      "image/png": "[encoded data removed]",
      "text/plain": [
       "<Figure size 864x576 with 1 Axes>"
      ]
     },
     "metadata": {
      "needs_background": "light"
     },
     "output_type": "display_data"
    }
   ],
   "source": [
    "compare_col('ANREDE_KZ')"
   ]
  },
  {
   "cell_type": "markdown",
   "metadata": {},
   "source": []
  },
  {
   "cell_type": "code",
   "execution_count": 425,
   "metadata": {},
   "outputs": [
    {
     "data": {
      "image/png": "[encoded data removed]",
      "text/plain": [
       "<Figure size 864x576 with 1 Axes>"
      ]
     },
     "metadata": {
      "needs_background": "light"
     },
     "output_type": "display_data"
    }
   ],
   "source": [
    "compare_col('KKK')"
   ]
  },
  {
   "cell_type": "markdown",
   "metadata": {},
   "source": []
  },
  {
   "cell_type": "code",
   "execution_count": 426,
   "metadata": {},
   "outputs": [
    {
     "data": {
      "image/png": "[encoded data removed]",
      "text/plain": [
       "<Figure size 864x576 with 1 Axes>"
      ]
     },
     "metadata": {
      "needs_background": "light"
     },
     "output_type": "display_data"
    }
   ],
   "source": [
    "compare_col('D19_VERSAND_ANZ_24')"
   ]
  },
  {
   "cell_type": "markdown",
   "metadata": {},
   "source": []
  },
  {
   "cell_type": "code",
   "execution_count": 427,
   "metadata": {},
   "outputs": [
    {
     "data": {
      "image/png": "[encoded data removed]",
      "text/plain": [
       "<Figure size 864x576 with 1 Axes>"
      ]
     },
     "metadata": {
      "needs_background": "light"
     },
     "output_type": "display_data"
    }
   ],
   "source": [
    "compare_col('KBA13_ANZAHL_PKW')"
   ]
  },
  {
   "cell_type": "markdown",
   "metadata": {},
   "source": []
  },
  {
   "cell_type": "markdown",
   "metadata": {},
   "source": []
  },
  {
   "cell_type": "code",
   "execution_count": 362,
   "metadata": {},
   "outputs": [
    {
     "data": {
      "text/plain": [
       "(11, 47)"
      ]
     },
     "execution_count": 362,
     "metadata": {},
     "output_type": "execute_result"
    }
   ],
   "source": [
    "final_kmeans.cluster_centers_.shape"
   ]
  },
  {
   "cell_type": "markdown",
   "metadata": {},
   "source": [
    "Since we have only 11 clusters, we will see how they compare to our top 11 components:"
   ]
  },
  {
   "cell_type": "code",
   "execution_count": 380,
   "metadata": {},
   "outputs": [
    {
     "data": {
      "text/html": [
       "<div>\n",
       "<style scoped>\n",
       "    .dataframe tbody tr th:only-of-type {\n",
       "        vertical-align: middle;\n",
       "    }\n",
       "\n",
       "    .dataframe tbody tr th {\n",
       "        vertical-align: top;\n",
       "    }\n",
       "\n",
       "    .dataframe thead th {\n",
       "        text-align: right;\n",
       "    }\n",
       "</style>\n",
       "<table border=\"1\" class=\"dataframe\">\n",
       "  <thead>\n",
       "    <tr style=\"text-align: right;\">\n",
       "      <th></th>\n",
       "      <th>c_1</th>\n",
       "      <th>c_2</th>\n",
       "      <th>c_3</th>\n",
       "      <th>c_4</th>\n",
       "      <th>c_5</th>\n",
       "      <th>c_6</th>\n",
       "      <th>c_7</th>\n",
       "      <th>c_8</th>\n",
       "      <th>c_9</th>\n",
       "      <th>c_10</th>\n",
       "      <th>c_11</th>\n",
       "    </tr>\n",
       "  </thead>\n",
       "  <tbody>\n",
       "    <tr>\n",
       "      <th>0</th>\n",
       "      <td>-1.141618</td>\n",
       "      <td>0.937304</td>\n",
       "      <td>0.102961</td>\n",
       "      <td>0.468630</td>\n",
       "      <td>-0.611561</td>\n",
       "      <td>0.490860</td>\n",
       "      <td>-0.009711</td>\n",
       "      <td>0.252295</td>\n",
       "      <td>0.023138</td>\n",
       "      <td>-0.172422</td>\n",
       "      <td>-0.065812</td>\n",
       "    </tr>\n",
       "    <tr>\n",
       "      <th>1</th>\n",
       "      <td>7.662320</td>\n",
       "      <td>0.017429</td>\n",
       "      <td>-0.019888</td>\n",
       "      <td>0.001130</td>\n",
       "      <td>-0.089469</td>\n",
       "      <td>0.088397</td>\n",
       "      <td>-0.467676</td>\n",
       "      <td>-0.331500</td>\n",
       "      <td>0.027713</td>\n",
       "      <td>-0.178364</td>\n",
       "      <td>-0.220032</td>\n",
       "    </tr>\n",
       "    <tr>\n",
       "      <th>2</th>\n",
       "      <td>-0.795926</td>\n",
       "      <td>-1.259008</td>\n",
       "      <td>-0.950759</td>\n",
       "      <td>0.867085</td>\n",
       "      <td>0.103504</td>\n",
       "      <td>-0.275735</td>\n",
       "      <td>0.022633</td>\n",
       "      <td>0.013741</td>\n",
       "      <td>0.100228</td>\n",
       "      <td>-0.010483</td>\n",
       "      <td>0.130198</td>\n",
       "    </tr>\n",
       "    <tr>\n",
       "      <th>3</th>\n",
       "      <td>-0.860418</td>\n",
       "      <td>-1.021947</td>\n",
       "      <td>0.049239</td>\n",
       "      <td>-0.955629</td>\n",
       "      <td>0.366784</td>\n",
       "      <td>0.415285</td>\n",
       "      <td>0.067238</td>\n",
       "      <td>0.171359</td>\n",
       "      <td>0.089774</td>\n",
       "      <td>0.022037</td>\n",
       "      <td>0.014339</td>\n",
       "    </tr>\n",
       "    <tr>\n",
       "      <th>4</th>\n",
       "      <td>-0.958396</td>\n",
       "      <td>-0.026595</td>\n",
       "      <td>-1.372505</td>\n",
       "      <td>-0.498549</td>\n",
       "      <td>-0.095432</td>\n",
       "      <td>-0.069813</td>\n",
       "      <td>0.103112</td>\n",
       "      <td>-0.021740</td>\n",
       "      <td>-0.075441</td>\n",
       "      <td>-0.124817</td>\n",
       "      <td>-0.092405</td>\n",
       "    </tr>\n",
       "    <tr>\n",
       "      <th>5</th>\n",
       "      <td>-1.192316</td>\n",
       "      <td>1.429841</td>\n",
       "      <td>1.606188</td>\n",
       "      <td>0.334899</td>\n",
       "      <td>-0.332707</td>\n",
       "      <td>-0.127390</td>\n",
       "      <td>-0.303652</td>\n",
       "      <td>0.050023</td>\n",
       "      <td>0.004124</td>\n",
       "      <td>0.060657</td>\n",
       "      <td>0.134707</td>\n",
       "    </tr>\n",
       "    <tr>\n",
       "      <th>6</th>\n",
       "      <td>-0.743064</td>\n",
       "      <td>-1.181652</td>\n",
       "      <td>0.726676</td>\n",
       "      <td>-0.207073</td>\n",
       "      <td>-1.105439</td>\n",
       "      <td>-0.032435</td>\n",
       "      <td>0.101320</td>\n",
       "      <td>-0.092669</td>\n",
       "      <td>-0.023671</td>\n",
       "      <td>-0.018554</td>\n",
       "      <td>0.091193</td>\n",
       "    </tr>\n",
       "    <tr>\n",
       "      <th>7</th>\n",
       "      <td>-1.153287</td>\n",
       "      <td>0.591265</td>\n",
       "      <td>0.470988</td>\n",
       "      <td>0.991301</td>\n",
       "      <td>1.071868</td>\n",
       "      <td>0.102528</td>\n",
       "      <td>-0.271381</td>\n",
       "      <td>0.158687</td>\n",
       "      <td>-0.036794</td>\n",
       "      <td>0.009388</td>\n",
       "      <td>-0.016500</td>\n",
       "    </tr>\n",
       "    <tr>\n",
       "      <th>8</th>\n",
       "      <td>-0.708056</td>\n",
       "      <td>-1.544881</td>\n",
       "      <td>1.146025</td>\n",
       "      <td>0.156993</td>\n",
       "      <td>0.746977</td>\n",
       "      <td>-0.270791</td>\n",
       "      <td>0.111072</td>\n",
       "      <td>-0.206066</td>\n",
       "      <td>-0.064958</td>\n",
       "      <td>0.116695</td>\n",
       "      <td>-0.155765</td>\n",
       "    </tr>\n",
       "    <tr>\n",
       "      <th>9</th>\n",
       "      <td>6.014273</td>\n",
       "      <td>1.371292</td>\n",
       "      <td>0.082450</td>\n",
       "      <td>0.081428</td>\n",
       "      <td>0.385824</td>\n",
       "      <td>-0.122009</td>\n",
       "      <td>1.624259</td>\n",
       "      <td>1.085981</td>\n",
       "      <td>-0.173540</td>\n",
       "      <td>0.513910</td>\n",
       "      <td>0.699747</td>\n",
       "    </tr>\n",
       "    <tr>\n",
       "      <th>10</th>\n",
       "      <td>-1.316297</td>\n",
       "      <td>2.136033</td>\n",
       "      <td>-0.257929</td>\n",
       "      <td>-0.315072</td>\n",
       "      <td>0.141158</td>\n",
       "      <td>-0.003317</td>\n",
       "      <td>-0.104232</td>\n",
       "      <td>-0.210932</td>\n",
       "      <td>0.046034</td>\n",
       "      <td>0.154825</td>\n",
       "      <td>-0.076894</td>\n",
       "    </tr>\n",
       "  </tbody>\n",
       "</table>\n",
       "</div>"
      ],
      "text/plain": [
       "         c_1       c_2       c_3       c_4       c_5       c_6       c_7  \\\n",
       "0  -1.141618  0.937304  0.102961  0.468630 -0.611561  0.490860 -0.009711   \n",
       "1   7.662320  0.017429 -0.019888  0.001130 -0.089469  0.088397 -0.467676   \n",
       "2  -0.795926 -1.259008 -0.950759  0.867085  0.103504 -0.275735  0.022633   \n",
       "3  -0.860418 -1.021947  0.049239 -0.955629  0.366784  0.415285  0.067238   \n",
       "4  -0.958396 -0.026595 -1.372505 -0.498549 -0.095432 -0.069813  0.103112   \n",
       "5  -1.192316  1.429841  1.606188  0.334899 -0.332707 -0.127390 -0.303652   \n",
       "6  -0.743064 -1.181652  0.726676 -0.207073 -1.105439 -0.032435  0.101320   \n",
       "7  -1.153287  0.591265  0.470988  0.991301  1.071868  0.102528 -0.271381   \n",
       "8  -0.708056 -1.544881  1.146025  0.156993  0.746977 -0.270791  0.111072   \n",
       "9   6.014273  1.371292  0.082450  0.081428  0.385824 -0.122009  1.624259   \n",
       "10 -1.316297  2.136033 -0.257929 -0.315072  0.141158 -0.003317 -0.104232   \n",
       "\n",
       "         c_8       c_9      c_10      c_11  \n",
       "0   0.252295  0.023138 -0.172422 -0.065812  \n",
       "1  -0.331500  0.027713 -0.178364 -0.220032  \n",
       "2   0.013741  0.100228 -0.010483  0.130198  \n",
       "3   0.171359  0.089774  0.022037  0.014339  \n",
       "4  -0.021740 -0.075441 -0.124817 -0.092405  \n",
       "5   0.050023  0.004124  0.060657  0.134707  \n",
       "6  -0.092669 -0.023671 -0.018554  0.091193  \n",
       "7   0.158687 -0.036794  0.009388 -0.016500  \n",
       "8  -0.206066 -0.064958  0.116695 -0.155765  \n",
       "9   1.085981 -0.173540  0.513910  0.699747  \n",
       "10 -0.210932  0.046034  0.154825 -0.076894  "
      ]
     },
     "execution_count": 380,
     "metadata": {},
     "output_type": "execute_result"
    }
   ],
   "source": [
    "clust_comp = pd.DataFrame(final_kmeans.cluster_centers_[:,:11], columns=['c_'+str(i) for i in range(1,12)])\n",
    "clust_comp"
   ]
  },
  {
   "cell_type": "code",
   "execution_count": 381,
   "metadata": {},
   "outputs": [
    {
     "data": {
      "text/plain": [
       "Text(87.0, 0.5, 'clusters')"
      ]
     },
     "execution_count": 381,
     "metadata": {},
     "output_type": "execute_result"
    },
    {
     "data": {
      "image/png": "[encoded data removed]",
      "text/plain": [
       "<Figure size 864x576 with 2 Axes>"
      ]
     },
     "metadata": {
      "needs_background": "light"
     },
     "output_type": "display_data"
    }
   ],
   "source": [
    "clust_comp = pd.DataFrame(final_kmeans.cluster_centers_[:,:11], columns=['c_'+str(i) for i in range(1,12)])\n",
    "plt.figure(figsize=(12,8))\n",
    "sns.heatmap(clust_comp, cmap = 'YlGnBu')\n",
    "plt.xlabel('components')\n",
    "plt.ylabel('clusters')"
   ]
  },
  {
   "cell_type": "markdown",
   "metadata": {},
   "source": [
    "We can see that component 1 is mostly grouped into clusters 9 and 1 here"
   ]
  },
  {
   "cell_type": "code",
   "execution_count": 383,
   "metadata": {},
   "outputs": [
    {
     "data": {
      "image/png": "[encoded data removed]",
      "text/plain": [
       "<Figure size 720x432 with 1 Axes>"
      ]
     },
     "metadata": {
      "needs_background": "light"
     },
     "output_type": "display_data"
    }
   ],
   "source": [
    "display_component(v,genpop.columns.values, component_num=1, n_weights=25)"
   ]
  },
  {
   "cell_type": "code",
   "execution_count": 395,
   "metadata": {},
   "outputs": [
    {
     "data": {
      "image/png": "[encoded data removed]",
      "text/plain": [
       "<Figure size 720x432 with 1 Axes>"
      ]
     },
     "metadata": {
      "needs_background": "light"
     },
     "output_type": "display_data"
    }
   ],
   "source": [
    "display_component(v,genpop.columns.values, component_num=9, n_weights=25)"
   ]
  },
  {
   "cell_type": "markdown",
   "metadata": {},
   "source": [
    "And looking at these it makes sense, since the components look similar."
   ]
  },
  {
   "cell_type": "markdown",
   "metadata": {},
   "source": [
    "## Part 2: Supervised Learning Model"
   ]
  },
  {
   "cell_type": "code",
   "execution_count": 4,
   "metadata": {},
   "outputs": [
    {
     "name": "stdout",
     "output_type": "stream",
     "text": [
      "train.csv loaded!\n",
      "test.csv loaded!\n"
     ]
    }
   ],
   "source": [
    "train_data = load_pickle('train.csv')\n",
    "test_data = load_pickle('test.csv')"
   ]
  },
  {
   "cell_type": "code",
   "execution_count": 5,
   "metadata": {},
   "outputs": [
    {
     "data": {
      "text/plain": [
       "Index(['RESPONSE', 'date_1992'], dtype='object')"
      ]
     },
     "execution_count": 5,
     "metadata": {},
     "output_type": "execute_result"
    }
   ],
   "source": [
    "train_data.columns[~train_data.columns.isin(test_data.columns)]"
   ]
  },
  {
   "cell_type": "markdown",
   "metadata": {},
   "source": [
    "First let's deal with the extra columns in train, that are not in test set"
   ]
  },
  {
   "cell_type": "code",
   "execution_count": 6,
   "metadata": {},
   "outputs": [],
   "source": [
    "y_actual = train_data.RESPONSE"
   ]
  },
  {
   "cell_type": "code",
   "execution_count": 7,
   "metadata": {},
   "outputs": [],
   "source": [
    "train_data = train_data.drop(['date_1992','RESPONSE'],axis=1)"
   ]
  },
  {
   "cell_type": "markdown",
   "metadata": {},
   "source": [
    "Next we split the train so that we can evaluate our future models (test set will only be used to submit to Kaggle)"
   ]
  },
  {
   "cell_type": "code",
   "execution_count": 8,
   "metadata": {},
   "outputs": [],
   "source": [
    "X_train, X_val, y_train, y_val = train_test_split(train_data, y_actual, test_size = 0.2, stratify=y_actual, random_state=321)"
   ]
  },
  {
   "cell_type": "markdown",
   "metadata": {},
   "source": [
    "Same Preprocessing steps here. Note that we have to scale the numbers to be from 0 to 1 for later, since that's what our loss function for pytorch wants."
   ]
  },
  {
   "cell_type": "code",
   "execution_count": 93,
   "metadata": {},
   "outputs": [],
   "source": [
    "def preprocess(X_train, X_val):\n",
    "    rob = RobustScaler()\n",
    "    scaler = MinMaxScaler((0,1))\n",
    "\n",
    "    X_scaled = rob.fit_transform(X_train)\n",
    "    X_scaled = scaler.fit_transform(X_scaled)\n",
    "\n",
    "    Val_scaled = rob.transform(X_val)\n",
    "    Val_scaled = scaler.transform(Val_scaled)\n",
    "\n",
    "#     pca = PCA(n_components=47 , random_state = 321)\n",
    "#     X = pca.fit_transform(X_scaled)\n",
    "#     val = pca.transform(Val_scaled)\n",
    "    \n",
    "#     X = scaler.fit_transform(X)\n",
    "#     val = scaler.transform(val)\n",
    "    \n",
    "    return X_scaled, Val_scaled"
   ]
  },
  {
   "cell_type": "code",
   "execution_count": 94,
   "metadata": {},
   "outputs": [],
   "source": [
    "X, val = preprocess(X_train, X_val)"
   ]
  },
  {
   "cell_type": "code",
   "execution_count": 95,
   "metadata": {},
   "outputs": [],
   "source": [
    "train_submit, test_submit = preprocess(train_data, test_data)"
   ]
  },
  {
   "cell_type": "code",
   "execution_count": null,
   "metadata": {},
   "outputs": [],
   "source": []
  },
  {
   "cell_type": "markdown",
   "metadata": {},
   "source": [
    "Now we'll use a basic model to get a base prediction."
   ]
  },
  {
   "cell_type": "code",
   "execution_count": 95,
   "metadata": {},
   "outputs": [],
   "source": [
    "from sklearn.ensemble import RandomForestClassifier\n",
    "\n",
    "classifier = RandomForestClassifier(verbose= 2, random_state=321, class_weight='balanced_subsample')"
   ]
  },
  {
   "cell_type": "code",
   "execution_count": 96,
   "metadata": {
    "scrolled": true
   },
   "outputs": [
    {
     "name": "stderr",
     "output_type": "stream",
     "text": [
      "[Parallel(n_jobs=1)]: Using backend SequentialBackend with 1 concurrent workers.\n",
      "[Parallel(n_jobs=1)]: Done   1 out of   1 | elapsed:    0.2s remaining:    0.0s\n"
     ]
    },
    {
     "name": "stdout",
     "output_type": "stream",
     "text": [
      "building tree 1 of 100\n",
      "building tree 2 of 100\n",
      "building tree 3 of 100\n",
      "building tree 4 of 100\n",
      "building tree 5 of 100\n",
      "building tree 6 of 100\n",
      "building tree 7 of 100\n",
      "building tree 8 of 100\n",
      "building tree 9 of 100\n",
      "building tree 10 of 100\n",
      "building tree 11 of 100\n",
      "building tree 12 of 100\n",
      "building tree 13 of 100\n",
      "building tree 14 of 100\n",
      "building tree 15 of 100\n",
      "building tree 16 of 100\n",
      "building tree 17 of 100\n",
      "building tree 18 of 100\n",
      "building tree 19 of 100\n",
      "building tree 20 of 100\n",
      "building tree 21 of 100\n",
      "building tree 22 of 100\n",
      "building tree 23 of 100\n",
      "building tree 24 of 100\n",
      "building tree 25 of 100\n",
      "building tree 26 of 100\n",
      "building tree 27 of 100\n",
      "building tree 28 of 100\n",
      "building tree 29 of 100\n",
      "building tree 30 of 100\n",
      "building tree 31 of 100\n",
      "building tree 32 of 100\n",
      "building tree 33 of 100\n",
      "building tree 34 of 100\n",
      "building tree 35 of 100\n",
      "building tree 36 of 100\n",
      "building tree 37 of 100\n",
      "building tree 38 of 100\n",
      "building tree 39 of 100\n",
      "building tree 40 of 100\n",
      "building tree 41 of 100\n",
      "building tree 42 of 100\n",
      "building tree 43 of 100\n",
      "building tree 44 of 100\n",
      "building tree 45 of 100\n",
      "building tree 46 of 100\n",
      "building tree 47 of 100\n",
      "building tree 48 of 100\n",
      "building tree 49 of 100\n",
      "building tree 50 of 100\n",
      "building tree 51 of 100\n",
      "building tree 52 of 100\n",
      "building tree 53 of 100\n",
      "building tree 54 of 100\n",
      "building tree 55 of 100\n",
      "building tree 56 of 100\n",
      "building tree 57 of 100\n",
      "building tree 58 of 100\n",
      "building tree 59 of 100\n",
      "building tree 60 of 100\n",
      "building tree 61 of 100\n",
      "building tree 62 of 100\n",
      "building tree 63 of 100\n",
      "building tree 64 of 100\n",
      "building tree 65 of 100\n",
      "building tree 66 of 100\n",
      "building tree 67 of 100\n",
      "building tree 68 of 100\n",
      "building tree 69 of 100\n",
      "building tree 70 of 100\n",
      "building tree 71 of 100\n",
      "building tree 72 of 100\n",
      "building tree 73 of 100\n",
      "building tree 74 of 100\n",
      "building tree 75 of 100\n",
      "building tree 76 of 100\n",
      "building tree 77 of 100\n",
      "building tree 78 of 100\n",
      "building tree 79 of 100\n",
      "building tree 80 of 100\n",
      "building tree 81 of 100\n",
      "building tree 82 of 100\n",
      "building tree 83 of 100\n",
      "building tree 84 of 100\n",
      "building tree 85 of 100\n",
      "building tree 86 of 100\n",
      "building tree 87 of 100\n",
      "building tree 88 of 100\n",
      "building tree 89 of 100\n",
      "building tree 90 of 100\n",
      "building tree 91 of 100\n",
      "building tree 92 of 100\n",
      "building tree 93 of 100\n",
      "building tree 94 of 100\n",
      "building tree 95 of 100\n",
      "building tree 96 of 100\n",
      "building tree 97 of 100\n",
      "building tree 98 of 100\n",
      "building tree 99 of 100\n",
      "building tree 100 of 100\n"
     ]
    },
    {
     "name": "stderr",
     "output_type": "stream",
     "text": [
      "[Parallel(n_jobs=1)]: Done 100 out of 100 | elapsed:   16.4s finished\n"
     ]
    },
    {
     "data": {
      "text/plain": [
       "RandomForestClassifier(bootstrap=True, ccp_alpha=0.0,\n",
       "                       class_weight='balanced_subsample', criterion='gini',\n",
       "                       max_depth=None, max_features='auto', max_leaf_nodes=None,\n",
       "                       max_samples=None, min_impurity_decrease=0.0,\n",
       "                       min_impurity_split=None, min_samples_leaf=1,\n",
       "                       min_samples_split=2, min_weight_fraction_leaf=0.0,\n",
       "                       n_estimators=100, n_jobs=None, oob_score=False,\n",
       "                       random_state=321, verbose=2, warm_start=False)"
      ]
     },
     "execution_count": 96,
     "metadata": {},
     "output_type": "execute_result"
    }
   ],
   "source": [
    "classifier.fit(X, y_train)"
   ]
  },
  {
   "cell_type": "code",
   "execution_count": 97,
   "metadata": {},
   "outputs": [
    {
     "name": "stderr",
     "output_type": "stream",
     "text": [
      "[Parallel(n_jobs=1)]: Using backend SequentialBackend with 1 concurrent workers.\n",
      "[Parallel(n_jobs=1)]: Done   1 out of   1 | elapsed:    0.0s remaining:    0.0s\n",
      "[Parallel(n_jobs=1)]: Done 100 out of 100 | elapsed:    0.1s finished\n"
     ]
    }
   ],
   "source": [
    "val_predict = classifier.predict(val)"
   ]
  },
  {
   "cell_type": "code",
   "execution_count": 13,
   "metadata": {},
   "outputs": [],
   "source": [
    "def evaluate_model(y_true, y_predict):\n",
    "    print(confusion_matrix(y_true, y_predict))\n",
    "    print()\n",
    "    print(classification_report(y_true, y_predict))\n",
    "    print()\n",
    "    print(roc_auc_score(y_true, y_predict))"
   ]
  },
  {
   "cell_type": "code",
   "execution_count": 99,
   "metadata": {},
   "outputs": [
    {
     "name": "stdout",
     "output_type": "stream",
     "text": [
      "[[8487    0]\n",
      " [ 106    0]]\n",
      "\n",
      "              precision    recall  f1-score   support\n",
      "\n",
      "           0       0.99      1.00      0.99      8487\n",
      "           1       0.00      0.00      0.00       106\n",
      "\n",
      "    accuracy                           0.99      8593\n",
      "   macro avg       0.49      0.50      0.50      8593\n",
      "weighted avg       0.98      0.99      0.98      8593\n",
      "\n",
      "\n",
      "0.5\n"
     ]
    },
    {
     "name": "stderr",
     "output_type": "stream",
     "text": [
      "/home/ec2-user/anaconda3/envs/pytorch_p36/lib/python3.6/site-packages/sklearn/metrics/_classification.py:1272: UndefinedMetricWarning: Precision and F-score are ill-defined and being set to 0.0 in labels with no predicted samples. Use `zero_division` parameter to control this behavior.\n",
      "  _warn_prf(average, modifier, msg_start, len(result))\n"
     ]
    }
   ],
   "source": [
    "evaluate_model(y_val, val_predict)"
   ]
  },
  {
   "cell_type": "markdown",
   "metadata": {},
   "source": [
    "Well, even with the balanced setting for class_weight, a basic RandomForest completely fails to predict any positives for our dataset. We will need to keep that in mind when developing our Neural Network."
   ]
  },
  {
   "cell_type": "code",
   "execution_count": 96,
   "metadata": {},
   "outputs": [],
   "source": [
    "def make_csv(x, y, filename, data_dir):\n",
    "    '''Merges features and labels and converts them into one csv file with labels in the first column.\n",
    "       :param x: Data features\n",
    "       :param y: Data labels\n",
    "       :param file_name: Name of csv file, ex. 'train.csv'\n",
    "       :param data_dir: The directory where files will be saved\n",
    "       '''\n",
    "    # make data dir, if it does not exist\n",
    "    if not os.path.exists(data_dir):\n",
    "        os.makedirs(data_dir)\n",
    "    \n",
    "    # first column is the labels and rest is features \n",
    "    pd.concat([pd.DataFrame(y.values), pd.DataFrame(x)], axis=1)\\\n",
    "             .to_csv(os.path.join(data_dir, filename), header=False, index=False)\n",
    "    \n",
    "    # nothing is returned, but a print statement indicates that the function has run\n",
    "    print('Path created: '+str(data_dir)+'/'+str(filename))"
   ]
  },
  {
   "cell_type": "code",
   "execution_count": 97,
   "metadata": {},
   "outputs": [
    {
     "name": "stdout",
     "output_type": "stream",
     "text": [
      "Path created: alldata/train.csv\n",
      "Path created: alldata/validation.csv\n",
      "Path created: alldata/train_submit.csv\n",
      "Path created: alldata/test_submit.csv\n"
     ]
    }
   ],
   "source": [
    "data_dir = 'alldata' # the folder we will use for storing data\n",
    "\n",
    "make_csv(X, y_train, 'train.csv', data_dir)\n",
    "make_csv(val, y_val, 'validation.csv', data_dir)\n",
    "make_csv(train_submit, y_actual, 'train_submit.csv', data_dir)\n",
    "\n",
    "pd.DataFrame(test_submit).to_csv(os.path.join(data_dir, 'test_submit.csv'), header=False, index=False)\n",
    "print('Path created: '+str('alldata')+'/'+str('test_submit.csv'))"
   ]
  },
  {
   "cell_type": "code",
   "execution_count": null,
   "metadata": {},
   "outputs": [],
   "source": []
  },
  {
   "cell_type": "code",
   "execution_count": 33,
   "metadata": {},
   "outputs": [
    {
     "data": {
      "text/plain": [
       "0    33943\n",
       "1      426\n",
       "Name: RESPONSE, dtype: int64"
      ]
     },
     "execution_count": 33,
     "metadata": {},
     "output_type": "execute_result"
    }
   ],
   "source": [
    "y_train.value_counts(normalize=False)"
   ]
  },
  {
   "cell_type": "code",
   "execution_count": 19,
   "metadata": {},
   "outputs": [
    {
     "data": {
      "text/plain": [
       "79.67840375586854"
      ]
     },
     "execution_count": 19,
     "metadata": {},
     "output_type": "execute_result"
    }
   ],
   "source": [
    "33943/ 426"
   ]
  },
  {
   "cell_type": "markdown",
   "metadata": {},
   "source": [
    "Thee ratio of 0 to 1 for our target response is 80:1"
   ]
  },
  {
   "cell_type": "code",
   "execution_count": 24,
   "metadata": {},
   "outputs": [
    {
     "name": "stdout",
     "output_type": "stream",
     "text": [
      "s3://sagemaker-us-east-1-615355522549/predictions\n"
     ]
    }
   ],
   "source": [
    "# specify where to upload in S3\n",
    "prefix = 'predictions'\n",
    "\n",
    "# upload to S3\n",
    "input_data = sagemaker_session.upload_data(path=data_dir, bucket=bucket, key_prefix=prefix)\n",
    "print(input_data)"
   ]
  },
  {
   "cell_type": "code",
   "execution_count": null,
   "metadata": {},
   "outputs": [],
   "source": []
  },
  {
   "cell_type": "code",
   "execution_count": 33,
   "metadata": {},
   "outputs": [],
   "source": [
    "# import a PyTorch wrapper\n",
    "from sagemaker.pytorch import PyTorch\n",
    "\n",
    "# specify an output path\n",
    "# prefix is specified above\n",
    "output_path = 's3://{}/{}'.format(bucket, prefix)\n",
    "\n",
    "# instantiate a pytorch estimator\n",
    "estimator = PyTorch(entry_point='train.py',\n",
    "                    source_dir='pytorch', \n",
    "                    role=role,\n",
    "                    framework_version='1.0',\n",
    "                    train_instance_count=1,\n",
    "                    train_instance_type='ml.c4.xlarge',\n",
    "                    output_path=output_path,\n",
    "                    sagemaker_session=sagemaker_session,\n",
    "                    hyperparameters={\n",
    "                        'input_dim': 47,  # num of features\n",
    "                        'hidden_dim': 300,\n",
    "                        'output_dim': 1,\n",
    "                        'epochs': 100,\n",
    "                        'batch-size':32,\n",
    "                        'lr':0.00075,\n",
    "                    })"
   ]
  },
  {
   "cell_type": "code",
   "execution_count": 137,
   "metadata": {},
   "outputs": [
    {
     "name": "stderr",
     "output_type": "stream",
     "text": [
      "'create_image_uri' will be deprecated in favor of 'ImageURIProvider' class in SageMaker Python SDK v2.\n",
      "'s3_input' class will be renamed to 'TrainingInput' in SageMaker Python SDK v2.\n",
      "'create_image_uri' will be deprecated in favor of 'ImageURIProvider' class in SageMaker Python SDK v2.\n"
     ]
    },
    {
     "name": "stdout",
     "output_type": "stream",
     "text": [
      "2021-01-29 22:59:54 Starting - Starting the training job...\n",
      "2021-01-29 22:59:57 Starting - Launching requested ML instances.........\n",
      "2021-01-29 23:01:29 Starting - Preparing the instances for training...\n",
      "2021-01-29 23:02:17 Downloading - Downloading input data.........\n",
      "2021-01-29 23:03:54 Training - Training image download completed. Training in progress..\u001b[34mbash: cannot set terminal process group (-1): Inappropriate ioctl for device\u001b[0m\n",
      "\u001b[34mbash: no job control in this shell\u001b[0m\n",
      "\u001b[34m2021-01-29 23:03:56,709 sagemaker-containers INFO     Imported framework sagemaker_pytorch_container.training\u001b[0m\n",
      "\u001b[34m2021-01-29 23:03:56,711 sagemaker-containers INFO     No GPUs detected (normal if no gpus installed)\u001b[0m\n",
      "\u001b[34m2021-01-29 23:03:56,723 sagemaker_pytorch_container.training INFO     Block until all host DNS lookups succeed.\u001b[0m\n",
      "\u001b[34m2021-01-29 23:03:56,724 sagemaker_pytorch_container.training INFO     Invoking user training script.\u001b[0m\n",
      "\u001b[34m2021-01-29 23:03:57,931 sagemaker-containers INFO     Module train does not provide a setup.py. \u001b[0m\n",
      "\u001b[34mGenerating setup.py\u001b[0m\n",
      "\u001b[34m2021-01-29 23:03:57,931 sagemaker-containers INFO     Generating setup.cfg\u001b[0m\n",
      "\u001b[34m2021-01-29 23:03:57,932 sagemaker-containers INFO     Generating MANIFEST.in\u001b[0m\n",
      "\u001b[34m2021-01-29 23:03:57,932 sagemaker-containers INFO     Installing module with the following command:\u001b[0m\n",
      "\u001b[34m/usr/bin/python -m pip install -U . \u001b[0m\n",
      "\u001b[34mProcessing /opt/ml/code\u001b[0m\n",
      "\u001b[34mBuilding wheels for collected packages: train\n",
      "  Running setup.py bdist_wheel for train: started\u001b[0m\n",
      "\u001b[34m  Running setup.py bdist_wheel for train: finished with status 'done'\n",
      "  Stored in directory: /tmp/pip-ephem-wheel-cache-4fbfln7i/wheels/35/24/16/37574d11bf9bde50616c67372a334f94fa8356bc7164af8ca3\u001b[0m\n",
      "\u001b[34mSuccessfully built train\u001b[0m\n",
      "\u001b[34mInstalling collected packages: train\u001b[0m\n",
      "\u001b[34mSuccessfully installed train-1.0.0\u001b[0m\n",
      "\u001b[34mYou are using pip version 18.1, however version 21.0 is available.\u001b[0m\n",
      "\u001b[34mYou should consider upgrading via the 'pip install --upgrade pip' command.\u001b[0m\n",
      "\u001b[34m2021-01-29 23:03:59,906 sagemaker-containers INFO     No GPUs detected (normal if no gpus installed)\u001b[0m\n",
      "\u001b[34m2021-01-29 23:03:59,921 sagemaker-containers INFO     Invoking user script\n",
      "\u001b[0m\n",
      "\u001b[34mTraining Env:\n",
      "\u001b[0m\n",
      "\u001b[34m{\n",
      "    \"additional_framework_parameters\": {},\n",
      "    \"channel_input_dirs\": {\n",
      "        \"train\": \"/opt/ml/input/data/train\"\n",
      "    },\n",
      "    \"current_host\": \"algo-1\",\n",
      "    \"framework_module\": \"sagemaker_pytorch_container.training:main\",\n",
      "    \"hosts\": [\n",
      "        \"algo-1\"\n",
      "    ],\n",
      "    \"hyperparameters\": {\n",
      "        \"batch-size\": 32,\n",
      "        \"input_dim\": 47,\n",
      "        \"hidden_dim\": 300,\n",
      "        \"lr\": 0.00075,\n",
      "        \"epochs\": 100,\n",
      "        \"output_dim\": 1\n",
      "    },\n",
      "    \"input_config_dir\": \"/opt/ml/input/config\",\n",
      "    \"input_data_config\": {\n",
      "        \"train\": {\n",
      "            \"TrainingInputMode\": \"File\",\n",
      "            \"S3DistributionType\": \"FullyReplicated\",\n",
      "            \"RecordWrapperType\": \"None\"\n",
      "        }\n",
      "    },\n",
      "    \"input_dir\": \"/opt/ml/input\",\n",
      "    \"is_master\": true,\n",
      "    \"job_name\": \"sagemaker-pytorch-2021-01-29-22-59-54-570\",\n",
      "    \"log_level\": 20,\n",
      "    \"master_hostname\": \"algo-1\",\n",
      "    \"model_dir\": \"/opt/ml/model\",\n",
      "    \"module_dir\": \"s3://sagemaker-us-east-1-615355522549/sagemaker-pytorch-2021-01-29-22-59-54-570/source/sourcedir.tar.gz\",\n",
      "    \"module_name\": \"train\",\n",
      "    \"network_interface_name\": \"eth0\",\n",
      "    \"num_cpus\": 4,\n",
      "    \"num_gpus\": 0,\n",
      "    \"output_data_dir\": \"/opt/ml/output/data\",\n",
      "    \"output_dir\": \"/opt/ml/output\",\n",
      "    \"output_intermediate_dir\": \"/opt/ml/output/intermediate\",\n",
      "    \"resource_config\": {\n",
      "        \"current_host\": \"algo-1\",\n",
      "        \"hosts\": [\n",
      "            \"algo-1\"\n",
      "        ],\n",
      "        \"network_interface_name\": \"eth0\"\n",
      "    },\n",
      "    \"user_entry_point\": \"train.py\"\u001b[0m\n",
      "\u001b[34m}\n",
      "\u001b[0m\n",
      "\u001b[34mEnvironment variables:\n",
      "\u001b[0m\n",
      "\u001b[34mSM_HOSTS=[\"algo-1\"]\u001b[0m\n",
      "\u001b[34mSM_NETWORK_INTERFACE_NAME=eth0\u001b[0m\n",
      "\u001b[34mSM_HPS={\"batch-size\":32,\"epochs\":100,\"hidden_dim\":300,\"input_dim\":47,\"lr\":0.00075,\"output_dim\":1}\u001b[0m\n",
      "\u001b[34mSM_USER_ENTRY_POINT=train.py\u001b[0m\n",
      "\u001b[34mSM_FRAMEWORK_PARAMS={}\u001b[0m\n",
      "\u001b[34mSM_RESOURCE_CONFIG={\"current_host\":\"algo-1\",\"hosts\":[\"algo-1\"],\"network_interface_name\":\"eth0\"}\u001b[0m\n",
      "\u001b[34mSM_INPUT_DATA_CONFIG={\"train\":{\"RecordWrapperType\":\"None\",\"S3DistributionType\":\"FullyReplicated\",\"TrainingInputMode\":\"File\"}}\u001b[0m\n",
      "\u001b[34mSM_OUTPUT_DATA_DIR=/opt/ml/output/data\u001b[0m\n",
      "\u001b[34mSM_CHANNELS=[\"train\"]\u001b[0m\n",
      "\u001b[34mSM_CURRENT_HOST=algo-1\u001b[0m\n",
      "\u001b[34mSM_MODULE_NAME=train\u001b[0m\n",
      "\u001b[34mSM_LOG_LEVEL=20\u001b[0m\n",
      "\u001b[34mSM_FRAMEWORK_MODULE=sagemaker_pytorch_container.training:main\u001b[0m\n",
      "\u001b[34mSM_INPUT_DIR=/opt/ml/input\u001b[0m\n",
      "\u001b[34mSM_INPUT_CONFIG_DIR=/opt/ml/input/config\u001b[0m\n",
      "\u001b[34mSM_OUTPUT_DIR=/opt/ml/output\u001b[0m\n",
      "\u001b[34mSM_NUM_CPUS=4\u001b[0m\n",
      "\u001b[34mSM_NUM_GPUS=0\u001b[0m\n",
      "\u001b[34mSM_MODEL_DIR=/opt/ml/model\u001b[0m\n",
      "\u001b[34mSM_MODULE_DIR=s3://sagemaker-us-east-1-615355522549/sagemaker-pytorch-2021-01-29-22-59-54-570/source/sourcedir.tar.gz\u001b[0m\n",
      "\u001b[34mSM_TRAINING_ENV={\"additional_framework_parameters\":{},\"channel_input_dirs\":{\"train\":\"/opt/ml/input/data/train\"},\"current_host\":\"algo-1\",\"framework_module\":\"sagemaker_pytorch_container.training:main\",\"hosts\":[\"algo-1\"],\"hyperparameters\":{\"batch-size\":32,\"epochs\":100,\"hidden_dim\":300,\"input_dim\":47,\"lr\":0.00075,\"output_dim\":1},\"input_config_dir\":\"/opt/ml/input/config\",\"input_data_config\":{\"train\":{\"RecordWrapperType\":\"None\",\"S3DistributionType\":\"FullyReplicated\",\"TrainingInputMode\":\"File\"}},\"input_dir\":\"/opt/ml/input\",\"is_master\":true,\"job_name\":\"sagemaker-pytorch-2021-01-29-22-59-54-570\",\"log_level\":20,\"master_hostname\":\"algo-1\",\"model_dir\":\"/opt/ml/model\",\"module_dir\":\"s3://sagemaker-us-east-1-615355522549/sagemaker-pytorch-2021-01-29-22-59-54-570/source/sourcedir.tar.gz\",\"module_name\":\"train\",\"network_interface_name\":\"eth0\",\"num_cpus\":4,\"num_gpus\":0,\"output_data_dir\":\"/opt/ml/output/data\",\"output_dir\":\"/opt/ml/output\",\"output_intermediate_dir\":\"/opt/ml/output/intermediate\",\"resource_config\":{\"current_host\":\"algo-1\",\"hosts\":[\"algo-1\"],\"network_interface_name\":\"eth0\"},\"user_entry_point\":\"train.py\"}\u001b[0m\n",
      "\u001b[34mSM_USER_ARGS=[\"--batch-size\",\"32\",\"--epochs\",\"100\",\"--hidden_dim\",\"300\",\"--input_dim\",\"47\",\"--lr\",\"0.00075\",\"--output_dim\",\"1\"]\u001b[0m\n",
      "\u001b[34mSM_OUTPUT_INTERMEDIATE_DIR=/opt/ml/output/intermediate\u001b[0m\n",
      "\u001b[34mSM_CHANNEL_TRAIN=/opt/ml/input/data/train\u001b[0m\n",
      "\u001b[34mSM_HP_BATCH-SIZE=32\u001b[0m\n",
      "\u001b[34mSM_HP_INPUT_DIM=47\u001b[0m\n",
      "\u001b[34mSM_HP_HIDDEN_DIM=300\u001b[0m\n",
      "\u001b[34mSM_HP_LR=0.00075\u001b[0m\n",
      "\u001b[34mSM_HP_EPOCHS=100\u001b[0m\n",
      "\u001b[34mSM_HP_OUTPUT_DIM=1\u001b[0m\n",
      "\u001b[34mPYTHONPATH=/usr/local/bin:/usr/lib/python36.zip:/usr/lib/python3.6:/usr/lib/python3.6/lib-dynload:/usr/local/lib/python3.6/dist-packages:/usr/lib/python3/dist-packages\n",
      "\u001b[0m\n",
      "\u001b[34mInvoking script with the following command:\n",
      "\u001b[0m\n",
      "\u001b[34m/usr/bin/python -m train --batch-size 32 --epochs 100 --hidden_dim 300 --input_dim 47 --lr 0.00075 --output_dim 1\n",
      "\n",
      "\u001b[0m\n",
      "\u001b[34mGet data loader.\u001b[0m\n",
      "\u001b[34mEpoch: 1, BCELoss: 0.6618084793035374\u001b[0m\n",
      "\u001b[34mEpoch: 2, BCELoss: 0.6296009064552396\u001b[0m\n",
      "\u001b[34mEpoch: 3, BCELoss: 0.5930473129693852\u001b[0m\n",
      "\u001b[34mEpoch: 4, BCELoss: 0.5530377442337746\u001b[0m\n",
      "\u001b[34mEpoch: 5, BCELoss: 0.4978220902452635\u001b[0m\n",
      "\u001b[34mEpoch: 6, BCELoss: 0.44518954137036965\u001b[0m\n",
      "\u001b[34mEpoch: 7, BCELoss: 0.41209384029687834\u001b[0m\n",
      "\u001b[34mEpoch: 8, BCELoss: 0.38870994525593383\u001b[0m\n",
      "\u001b[34mEpoch: 9, BCELoss: 0.36377044548822\u001b[0m\n",
      "\u001b[34mEpoch: 10, BCELoss: 0.3512990418908208\u001b[0m\n",
      "\u001b[34mEpoch: 11, BCELoss: 0.3442261300391929\u001b[0m\n",
      "\u001b[34mEpoch: 12, BCELoss: 0.33197576477430585\u001b[0m\n",
      "\u001b[34mEpoch: 13, BCELoss: 0.3153948670651677\u001b[0m\n",
      "\u001b[34mEpoch: 14, BCELoss: 0.30294279512970945\u001b[0m\n",
      "\u001b[34mEpoch: 15, BCELoss: 0.29696209304207977\u001b[0m\n",
      "\u001b[34mEpoch: 16, BCELoss: 0.2879533149475275\u001b[0m\n",
      "\u001b[34mEpoch: 17, BCELoss: 0.27969820812344554\u001b[0m\n",
      "\u001b[34mEpoch: 18, BCELoss: 0.27372380526952966\u001b[0m\n",
      "\u001b[34mEpoch: 19, BCELoss: 0.26656075095714526\u001b[0m\n",
      "\u001b[34mEpoch: 20, BCELoss: 0.2580531901225101\u001b[0m\n",
      "\u001b[34mEpoch: 21, BCELoss: 0.2612603593288466\u001b[0m\n",
      "\u001b[34mEpoch: 22, BCELoss: 0.26178589803881425\u001b[0m\n",
      "\u001b[34mEpoch: 23, BCELoss: 0.2554881653640159\u001b[0m\n",
      "\u001b[34mEpoch: 24, BCELoss: 0.2682676214187644\u001b[0m\n",
      "\u001b[34mEpoch: 25, BCELoss: 0.28140487333369807\u001b[0m\n",
      "\u001b[34mEpoch: 26, BCELoss: 0.2893807914853096\u001b[0m\n",
      "\u001b[34mEpoch: 27, BCELoss: 0.2816337683242421\u001b[0m\n",
      "\u001b[34mEpoch: 28, BCELoss: 0.2841387725825053\u001b[0m\n",
      "\u001b[34mEpoch: 29, BCELoss: 0.27234489988015836\u001b[0m\n",
      "\u001b[34mEpoch: 30, BCELoss: 0.25585520324578814\u001b[0m\n",
      "\u001b[34mEpoch: 31, BCELoss: 0.2556886300468969\u001b[0m\n"
     ]
    },
    {
     "name": "stdout",
     "output_type": "stream",
     "text": [
      "\u001b[34mEpoch: 32, BCELoss: 0.2533776505949885\u001b[0m\n",
      "\u001b[34mEpoch: 33, BCELoss: 0.2449471685428952\u001b[0m\n",
      "\u001b[34mEpoch: 34, BCELoss: 0.2457574179699265\u001b[0m\n",
      "\u001b[34mEpoch: 35, BCELoss: 0.24057517396849254\u001b[0m\n",
      "\u001b[34mEpoch: 36, BCELoss: 0.23809931876874246\u001b[0m\n",
      "\u001b[34mEpoch: 37, BCELoss: 0.2335272075720998\u001b[0m\n",
      "\u001b[34mEpoch: 38, BCELoss: 0.2284185224424961\u001b[0m\n",
      "\u001b[34mEpoch: 39, BCELoss: 0.237098350764014\u001b[0m\n",
      "\u001b[34mEpoch: 40, BCELoss: 0.23029417940675345\u001b[0m\n",
      "\u001b[34mEpoch: 41, BCELoss: 0.2284283225550208\u001b[0m\n",
      "\u001b[34mEpoch: 42, BCELoss: 0.22372446595236312\u001b[0m\n",
      "\u001b[34mEpoch: 43, BCELoss: 0.22111932520256486\u001b[0m\n",
      "\u001b[34mEpoch: 44, BCELoss: 0.21737672924320958\u001b[0m\n",
      "\u001b[34mEpoch: 45, BCELoss: 0.22435400930601496\u001b[0m\n",
      "\u001b[34mEpoch: 46, BCELoss: 0.2187884194802406\u001b[0m\n",
      "\u001b[34mEpoch: 47, BCELoss: 0.2196769341064054\u001b[0m\n",
      "\u001b[34mEpoch: 48, BCELoss: 0.22108876407146455\u001b[0m\n",
      "\u001b[34mEpoch: 49, BCELoss: 0.21085761776150658\u001b[0m\n",
      "\u001b[34mEpoch: 50, BCELoss: 0.20565725750541639\u001b[0m\n",
      "\u001b[34mEpoch: 51, BCELoss: 0.21140681782853113\u001b[0m\n",
      "\u001b[34mEpoch: 52, BCELoss: 0.2150461283438774\u001b[0m\n",
      "\u001b[34mEpoch: 53, BCELoss: 0.20795301616365133\u001b[0m\n",
      "\u001b[34mEpoch: 54, BCELoss: 0.2027070484955817\u001b[0m\n",
      "\u001b[34mEpoch: 55, BCELoss: 0.2049932799853796\u001b[0m\n",
      "\u001b[34mEpoch: 56, BCELoss: 0.2002151448271294\u001b[0m\n",
      "\u001b[34mEpoch: 57, BCELoss: 0.20272042305326596\u001b[0m\n",
      "\u001b[34mEpoch: 58, BCELoss: 0.20190194076576898\u001b[0m\n",
      "\u001b[34mEpoch: 59, BCELoss: 0.1975455439021421\u001b[0m\n",
      "\u001b[34mEpoch: 60, BCELoss: 0.19826262535635641\u001b[0m\n",
      "\u001b[34mEpoch: 61, BCELoss: 0.19723487246521684\u001b[0m\n",
      "\u001b[34mEpoch: 62, BCELoss: 0.19346478722123212\u001b[0m\n",
      "\u001b[34mEpoch: 63, BCELoss: 0.1912215742694084\u001b[0m\n",
      "\u001b[34mEpoch: 64, BCELoss: 0.19491503540339858\u001b[0m\n",
      "\u001b[34mEpoch: 65, BCELoss: 0.19712628839938187\u001b[0m\n",
      "\u001b[34mEpoch: 66, BCELoss: 0.18735877782355473\u001b[0m\n",
      "\u001b[34mEpoch: 67, BCELoss: 0.1870587185302446\u001b[0m\n",
      "\u001b[34mEpoch: 68, BCELoss: 0.19477006333082816\u001b[0m\n",
      "\u001b[34mEpoch: 69, BCELoss: 0.19131781295288441\u001b[0m\n",
      "\u001b[34mEpoch: 70, BCELoss: 0.19045442099915819\u001b[0m\n",
      "\u001b[34mEpoch: 71, BCELoss: 0.19025319295740406\u001b[0m\n",
      "\u001b[34mEpoch: 72, BCELoss: 0.18836032796217952\u001b[0m\n",
      "\u001b[34mEpoch: 73, BCELoss: 0.1909972040363869\u001b[0m\n",
      "\u001b[34mEpoch: 74, BCELoss: 0.1919542348454165\u001b[0m\n",
      "\u001b[34mEpoch: 75, BCELoss: 0.1864788335466454\u001b[0m\n",
      "\u001b[34mEpoch: 76, BCELoss: 0.18452750490761774\u001b[0m\n",
      "\u001b[34mEpoch: 77, BCELoss: 0.18246472297106373\u001b[0m\n",
      "\u001b[34mEpoch: 78, BCELoss: 0.182669478188767\u001b[0m\n",
      "\u001b[34mEpoch: 79, BCELoss: 0.1863434895006723\u001b[0m\n",
      "\u001b[34mEpoch: 80, BCELoss: 0.19024996125334223\u001b[0m\n",
      "\u001b[34mEpoch: 81, BCELoss: 0.18682873211454512\u001b[0m\n",
      "\u001b[34mEpoch: 82, BCELoss: 0.18526061498843183\u001b[0m\n",
      "\u001b[34mEpoch: 83, BCELoss: 0.18470004356314623\u001b[0m\n",
      "\u001b[34mEpoch: 84, BCELoss: 0.1812521109088912\u001b[0m\n",
      "\u001b[34mEpoch: 85, BCELoss: 0.18940314266094288\u001b[0m\n",
      "\u001b[34mEpoch: 86, BCELoss: 0.18010195025475695\u001b[0m\n",
      "\u001b[34mEpoch: 87, BCELoss: 0.1760546394764665\u001b[0m\n",
      "\u001b[34mEpoch: 88, BCELoss: 0.17838183947340694\u001b[0m\n",
      "\u001b[34mEpoch: 89, BCELoss: 0.17824669396181234\u001b[0m\n",
      "\u001b[34mEpoch: 90, BCELoss: 0.17541478274043562\u001b[0m\n",
      "\u001b[34mEpoch: 91, BCELoss: 0.17633226413886213\u001b[0m\n",
      "\u001b[34mEpoch: 92, BCELoss: 0.17223610329127675\u001b[0m\n",
      "\u001b[34mEpoch: 93, BCELoss: 0.17355733112150606\u001b[0m\n",
      "\u001b[34mEpoch: 94, BCELoss: 0.17362000238713485\u001b[0m\n",
      "\u001b[34mEpoch: 95, BCELoss: 0.17483777676646728\u001b[0m\n",
      "\u001b[34mEpoch: 96, BCELoss: 0.1792872398779836\u001b[0m\n",
      "\u001b[34mEpoch: 97, BCELoss: 0.17939989583621777\u001b[0m\n",
      "\u001b[34mEpoch: 98, BCELoss: 0.1752216711527733\u001b[0m\n",
      "\u001b[34mEpoch: 99, BCELoss: 0.17481568098674977\u001b[0m\n",
      "\n",
      "2021-01-29 23:27:52 Uploading - Uploading generated training model\u001b[34mEpoch: 100, BCELoss: 0.17109207566004506\u001b[0m\n",
      "\u001b[34mSaving the model.\u001b[0m\n",
      "\u001b[34m2021-01-29 23:27:51,549 sagemaker-containers INFO     Reporting training SUCCESS\u001b[0m\n",
      "\n",
      "2021-01-29 23:27:59 Completed - Training job completed\n",
      "Training seconds: 1542\n",
      "Billable seconds: 1542\n",
      "CPU times: user 3.94 s, sys: 68.2 ms, total: 4.01 s\n",
      "Wall time: 28min 39s\n"
     ]
    }
   ],
   "source": [
    "%%time \n",
    "# train the estimator on S3 training data\n",
    "estimator.fit({'train': input_data})"
   ]
  },
  {
   "cell_type": "code",
   "execution_count": null,
   "metadata": {},
   "outputs": [],
   "source": []
  },
  {
   "cell_type": "code",
   "execution_count": 138,
   "metadata": {},
   "outputs": [
    {
     "name": "stderr",
     "output_type": "stream",
     "text": [
      "Parameter image will be renamed to image_uri in SageMaker Python SDK v2.\n"
     ]
    }
   ],
   "source": [
    "# importing PyTorchModel\n",
    "from sagemaker.pytorch import PyTorchModel\n",
    "\n",
    "# Create a model from the trained estimator data\n",
    "# And point to the prediction script\n",
    "model = PyTorchModel(model_data=estimator.model_data,\n",
    "                     role = role,\n",
    "                     framework_version='1.0',\n",
    "                     entry_point='predict.py',\n",
    "                     source_dir='pytorch')"
   ]
  },
  {
   "cell_type": "code",
   "execution_count": 139,
   "metadata": {},
   "outputs": [
    {
     "name": "stderr",
     "output_type": "stream",
     "text": [
      "'create_image_uri' will be deprecated in favor of 'ImageURIProvider' class in SageMaker Python SDK v2.\n"
     ]
    },
    {
     "name": "stdout",
     "output_type": "stream",
     "text": [
      "---------------!CPU times: user 374 ms, sys: 4.59 ms, total: 378 ms\n",
      "Wall time: 7min 32s\n"
     ]
    }
   ],
   "source": [
    "%%time\n",
    "\n",
    "# deploy and create a predictor\n",
    "predictor = model.deploy(initial_instance_count=1, instance_type='ml.t2.xlarge')"
   ]
  },
  {
   "cell_type": "code",
   "execution_count": 140,
   "metadata": {},
   "outputs": [],
   "source": [
    "# We split the data into chunks and send each chunk seperately, accumulating the results.\n",
    "\n",
    "def predict(data, rows=512):\n",
    "    split_array = np.array_split(data, int(data.shape[0] / float(rows) + 1))\n",
    "    predictions = np.array([])\n",
    "    for array in split_array:\n",
    "        predictions = np.append(predictions, predictor.predict(array))\n",
    "    \n",
    "    return predictions"
   ]
  },
  {
   "cell_type": "code",
   "execution_count": 141,
   "metadata": {},
   "outputs": [],
   "source": [
    "predictions = predict(val)\n",
    "predictions = [round(num) for num in predictions]"
   ]
  },
  {
   "cell_type": "code",
   "execution_count": 142,
   "metadata": {},
   "outputs": [
    {
     "data": {
      "text/plain": [
       "{0, 1}"
      ]
     },
     "execution_count": 142,
     "metadata": {},
     "output_type": "execute_result"
    }
   ],
   "source": [
    "set(predictions)"
   ]
  },
  {
   "cell_type": "code",
   "execution_count": 143,
   "metadata": {},
   "outputs": [
    {
     "name": "stdout",
     "output_type": "stream",
     "text": [
      "[[8231  256]\n",
      " [ 102    4]]\n",
      "\n",
      "              precision    recall  f1-score   support\n",
      "\n",
      "           0       0.99      0.97      0.98      8487\n",
      "           1       0.02      0.04      0.02       106\n",
      "\n",
      "    accuracy                           0.96      8593\n",
      "   macro avg       0.50      0.50      0.50      8593\n",
      "weighted avg       0.98      0.96      0.97      8593\n",
      "\n",
      "\n",
      "0.5037860345789676\n"
     ]
    }
   ],
   "source": [
    "evaluate_model(y_val ,predictions)"
   ]
  },
  {
   "cell_type": "code",
   "execution_count": 144,
   "metadata": {},
   "outputs": [
    {
     "data": {
      "text/plain": [
       "{'ResponseMetadata': {'RequestId': '8bb09873-9334-4332-963e-f3d7b85309c1',\n",
       "  'HTTPStatusCode': 200,\n",
       "  'HTTPHeaders': {'x-amzn-requestid': '8bb09873-9334-4332-963e-f3d7b85309c1',\n",
       "   'content-type': 'application/x-amz-json-1.1',\n",
       "   'content-length': '0',\n",
       "   'date': 'Fri, 29 Jan 2021 23:36:07 GMT'},\n",
       "  'RetryAttempts': 0}}"
      ]
     },
     "execution_count": 144,
     "metadata": {},
     "output_type": "execute_result"
    }
   ],
   "source": [
    "boto3.client('sagemaker').delete_endpoint(EndpointName=predictor.endpoint)"
   ]
  },
  {
   "cell_type": "markdown",
   "metadata": {},
   "source": [
    "Good news is it's not predicting all 0s anymore. Bad news is that our roc-auc score isn't getting any better. So, now it's time for optimization!"
   ]
  },
  {
   "cell_type": "code",
   "execution_count": 98,
   "metadata": {},
   "outputs": [],
   "source": [
    "train_location  = sagemaker_session.upload_data(os.path.join(data_dir, 'train.csv'), bucket=bucket, key_prefix=prefix)\n",
    "val_location  = sagemaker_session.upload_data(os.path.join(data_dir, 'validation.csv'), bucket=bucket, key_prefix=prefix)\n",
    "train_submit  = sagemaker_session.upload_data(os.path.join(data_dir, 'train_submit.csv'), bucket=bucket, key_prefix=prefix)\n",
    "test_submit  = sagemaker_session.upload_data(os.path.join(data_dir, 'test_submit.csv'), bucket=bucket, key_prefix=prefix)"
   ]
  },
  {
   "cell_type": "code",
   "execution_count": 99,
   "metadata": {},
   "outputs": [
    {
     "name": "stderr",
     "output_type": "stream",
     "text": [
      "'get_image_uri' method will be deprecated in favor of 'ImageURIProvider' class in SageMaker Python SDK v2.\n",
      "There is a more up to date SageMaker XGBoost image. To use the newer image, please set 'repo_version'='1.0-1'. For example:\n",
      "\tget_image_uri(region, 'xgboost', '1.0-1').\n"
     ]
    }
   ],
   "source": [
    "# We need to retrieve the location of the container which is provided by Amazon for using XGBoost.\n",
    "# As a matter of convenience, the training and inference code both use the same container.\n",
    "from sagemaker.amazon.amazon_estimator import get_image_uri\n",
    "\n",
    "container = get_image_uri(sagemaker_session.boto_region_name, 'xgboost')"
   ]
  },
  {
   "cell_type": "code",
   "execution_count": 100,
   "metadata": {},
   "outputs": [
    {
     "name": "stderr",
     "output_type": "stream",
     "text": [
      "Parameter image_name will be renamed to image_uri in SageMaker Python SDK v2.\n"
     ]
    }
   ],
   "source": [
    "xgb = sagemaker.estimator.Estimator(container,\n",
    "                                    role,                                  \n",
    "                                    train_instance_count=1,                 \n",
    "                                    train_instance_type='ml.c5.2xlarge',     \n",
    "                                    output_path=output_path,\n",
    "                                    sagemaker_session=sagemaker_session)\n",
    "\n",
    "xgb.set_hyperparameters(max_depth=5,\n",
    "                        eta=0.2,\n",
    "                        gamma=4,\n",
    "                        min_child_weight=6,\n",
    "                        subsample=0.8,\n",
    "                        objective='binary:logistic',\n",
    "                        early_stopping_rounds=20,\n",
    "                        num_round=500,\n",
    "                        scale_pos_weight = 80,\n",
    "                        seed = 321,\n",
    "                        alpha = 2)"
   ]
  },
  {
   "cell_type": "markdown",
   "metadata": {},
   "source": [
    "It is recommended that we choose scale_pos_weight consisting of sum(negative cases) / sum(positive cases), which is 33943/ 426 for which turns out to be about 80."
   ]
  },
  {
   "cell_type": "code",
   "execution_count": 103,
   "metadata": {},
   "outputs": [],
   "source": [
    "from sagemaker.tuner import IntegerParameter, ContinuousParameter, HyperparameterTuner\n",
    "\n",
    "xgb_hyperparameter_tuner = HyperparameterTuner(estimator = xgb,\n",
    "                                               objective_metric_name = 'validation:auc',\n",
    "                                               objective_type = 'Maximize', \n",
    "                                               max_jobs = 90,\n",
    "                                               max_parallel_jobs = 3,\n",
    "                                               hyperparameter_ranges = {\n",
    "                                                    'max_depth': IntegerParameter(3, 12),\n",
    "                                                    'eta'      : ContinuousParameter(0.05, 0.5),\n",
    "                                                    'min_child_weight': IntegerParameter(1, 10),\n",
    "                                                    'alpha': IntegerParameter(0, 10),\n",
    "                                                    'lambda': IntegerParameter(0, 15),\n",
    "                                                    'subsample': ContinuousParameter(0.5, 0.9),\n",
    "                                                    'gamma': ContinuousParameter(0, 10),\n",
    "                                               })"
   ]
  },
  {
   "cell_type": "markdown",
   "metadata": {},
   "source": [
    "Default search strategy is strategy Bayesian optimization, so we don't need to change it"
   ]
  },
  {
   "cell_type": "code",
   "execution_count": 104,
   "metadata": {},
   "outputs": [
    {
     "name": "stderr",
     "output_type": "stream",
     "text": [
      "'s3_input' class will be renamed to 'TrainingInput' in SageMaker Python SDK v2.\n",
      "'s3_input' class will be renamed to 'TrainingInput' in SageMaker Python SDK v2.\n"
     ]
    }
   ],
   "source": [
    "s3_input_train = sagemaker.s3_input(s3_data=train_location, content_type='csv')\n",
    "s3_input_validation = sagemaker.s3_input(s3_data=val_location, content_type='csv')"
   ]
  },
  {
   "cell_type": "code",
   "execution_count": 105,
   "metadata": {},
   "outputs": [],
   "source": [
    "xgb_hyperparameter_tuner.fit({'train': s3_input_train, 'validation': s3_input_validation})"
   ]
  },
  {
   "cell_type": "code",
   "execution_count": null,
   "metadata": {},
   "outputs": [
    {
     "name": "stdout",
     "output_type": "stream",
     "text": [
      ".................................................................................................................."
     ]
    }
   ],
   "source": [
    "xgb_hyperparameter_tuner.wait()"
   ]
  },
  {
   "cell_type": "code",
   "execution_count": null,
   "metadata": {},
   "outputs": [],
   "source": []
  },
  {
   "cell_type": "code",
   "execution_count": 107,
   "metadata": {},
   "outputs": [
    {
     "name": "stderr",
     "output_type": "stream",
     "text": [
      "Parameter image_name will be renamed to image_uri in SageMaker Python SDK v2.\n"
     ]
    },
    {
     "name": "stdout",
     "output_type": "stream",
     "text": [
      "2021-01-30 20:48:32 Starting - Preparing the instances for training\n",
      "2021-01-30 20:48:32 Downloading - Downloading input data\n",
      "2021-01-30 20:48:32 Training - Training image download completed. Training in progress.\n",
      "2021-01-30 20:48:32 Uploading - Uploading generated training model\n",
      "2021-01-30 20:48:32 Completed - Training job completed\u001b[34mArguments: train\u001b[0m\n",
      "\u001b[34m[2021-01-30:20:48:14:INFO] Running standalone xgboost training.\u001b[0m\n",
      "\u001b[34m[2021-01-30:20:48:14:INFO] Setting up HPO optimized metric to be : auc\u001b[0m\n",
      "\u001b[34m[2021-01-30:20:48:14:INFO] File size need to be processed in the node: 99.75mb. Available memory size in the node: 7733.15mb\u001b[0m\n",
      "\u001b[34m[2021-01-30:20:48:14:INFO] Determined delimiter of CSV input is ','\u001b[0m\n",
      "\u001b[34m[20:48:14] S3DistributionType set as FullyReplicated\u001b[0m\n",
      "\u001b[34m[20:48:14] 34369x373 matrix with 12819637 entries loaded from /opt/ml/input/data/train?format=csv&label_column=0&delimiter=,\u001b[0m\n",
      "\u001b[34m[2021-01-30:20:48:15:INFO] Determined delimiter of CSV input is ','\u001b[0m\n",
      "\u001b[34m[20:48:15] S3DistributionType set as FullyReplicated\u001b[0m\n",
      "\u001b[34m[20:48:15] 8593x373 matrix with 3205189 entries loaded from /opt/ml/input/data/validation?format=csv&label_column=0&delimiter=,\u001b[0m\n",
      "\u001b[34m[20:48:15] src/tree/updater_prune.cc:74: tree pruning end, 1 roots, 14 extra nodes, 0 pruned nodes, max_depth=3\u001b[0m\n",
      "\u001b[34m[0]#011train-auc:0.775654#011validation-auc:0.732543\u001b[0m\n",
      "\u001b[34mMultiple eval metrics have been passed: 'validation-auc' will be used for early stopping.\n",
      "\u001b[0m\n",
      "\u001b[34mWill train until validation-auc hasn't improved in 20 rounds.\u001b[0m\n",
      "\u001b[34m[20:48:15] src/tree/updater_prune.cc:74: tree pruning end, 1 roots, 14 extra nodes, 0 pruned nodes, max_depth=3\u001b[0m\n",
      "\u001b[34m[1]#011train-auc:0.782647#011validation-auc:0.726676\u001b[0m\n",
      "\u001b[34m[20:48:15] src/tree/updater_prune.cc:74: tree pruning end, 1 roots, 12 extra nodes, 0 pruned nodes, max_depth=3\u001b[0m\n",
      "\u001b[34m[2]#011train-auc:0.785498#011validation-auc:0.735051\u001b[0m\n",
      "\u001b[34m[20:48:15] src/tree/updater_prune.cc:74: tree pruning end, 1 roots, 14 extra nodes, 0 pruned nodes, max_depth=3\u001b[0m\n",
      "\u001b[34m[3]#011train-auc:0.788158#011validation-auc:0.735248\u001b[0m\n",
      "\u001b[34m[20:48:15] src/tree/updater_prune.cc:74: tree pruning end, 1 roots, 14 extra nodes, 0 pruned nodes, max_depth=3\u001b[0m\n",
      "\u001b[34m[4]#011train-auc:0.790047#011validation-auc:0.741623\u001b[0m\n",
      "\u001b[34m[20:48:15] src/tree/updater_prune.cc:74: tree pruning end, 1 roots, 14 extra nodes, 0 pruned nodes, max_depth=3\u001b[0m\n",
      "\u001b[34m[5]#011train-auc:0.790952#011validation-auc:0.739413\u001b[0m\n",
      "\u001b[34m[20:48:15] src/tree/updater_prune.cc:74: tree pruning end, 1 roots, 14 extra nodes, 0 pruned nodes, max_depth=3\u001b[0m\n",
      "\u001b[34m[6]#011train-auc:0.799172#011validation-auc:0.73492\u001b[0m\n",
      "\u001b[34m[20:48:15] src/tree/updater_prune.cc:74: tree pruning end, 1 roots, 14 extra nodes, 0 pruned nodes, max_depth=3\u001b[0m\n",
      "\u001b[34m[7]#011train-auc:0.798441#011validation-auc:0.735349\u001b[0m\n",
      "\u001b[34m[20:48:15] src/tree/updater_prune.cc:74: tree pruning end, 1 roots, 14 extra nodes, 0 pruned nodes, max_depth=3\u001b[0m\n",
      "\u001b[34m[8]#011train-auc:0.804838#011validation-auc:0.735679\u001b[0m\n",
      "\u001b[34m[20:48:15] src/tree/updater_prune.cc:74: tree pruning end, 1 roots, 14 extra nodes, 0 pruned nodes, max_depth=3\u001b[0m\n",
      "\u001b[34m[9]#011train-auc:0.806498#011validation-auc:0.738164\u001b[0m\n",
      "\u001b[34m[20:48:16] src/tree/updater_prune.cc:74: tree pruning end, 1 roots, 14 extra nodes, 0 pruned nodes, max_depth=3\u001b[0m\n",
      "\u001b[34m[10]#011train-auc:0.809503#011validation-auc:0.739951\u001b[0m\n",
      "\u001b[34m[20:48:16] src/tree/updater_prune.cc:74: tree pruning end, 1 roots, 14 extra nodes, 0 pruned nodes, max_depth=3\u001b[0m\n",
      "\u001b[34m[11]#011train-auc:0.812126#011validation-auc:0.746691\u001b[0m\n",
      "\u001b[34m[20:48:16] src/tree/updater_prune.cc:74: tree pruning end, 1 roots, 14 extra nodes, 0 pruned nodes, max_depth=3\u001b[0m\n",
      "\u001b[34m[12]#011train-auc:0.812305#011validation-auc:0.746155\u001b[0m\n",
      "\u001b[34m[20:48:16] src/tree/updater_prune.cc:74: tree pruning end, 1 roots, 14 extra nodes, 0 pruned nodes, max_depth=3\u001b[0m\n",
      "\u001b[34m[13]#011train-auc:0.813515#011validation-auc:0.746695\u001b[0m\n",
      "\u001b[34m[20:48:16] src/tree/updater_prune.cc:74: tree pruning end, 1 roots, 14 extra nodes, 0 pruned nodes, max_depth=3\u001b[0m\n",
      "\u001b[34m[14]#011train-auc:0.813841#011validation-auc:0.748099\u001b[0m\n",
      "\u001b[34m[20:48:16] src/tree/updater_prune.cc:74: tree pruning end, 1 roots, 14 extra nodes, 0 pruned nodes, max_depth=3\u001b[0m\n",
      "\u001b[34m[15]#011train-auc:0.814785#011validation-auc:0.747511\u001b[0m\n",
      "\u001b[34m[20:48:16] src/tree/updater_prune.cc:74: tree pruning end, 1 roots, 14 extra nodes, 0 pruned nodes, max_depth=3\u001b[0m\n",
      "\u001b[34m[16]#011train-auc:0.818814#011validation-auc:0.748281\u001b[0m\n",
      "\u001b[34m[20:48:16] src/tree/updater_prune.cc:74: tree pruning end, 1 roots, 12 extra nodes, 0 pruned nodes, max_depth=3\u001b[0m\n",
      "\u001b[34m[17]#011train-auc:0.81931#011validation-auc:0.743774\u001b[0m\n",
      "\u001b[34m[20:48:16] src/tree/updater_prune.cc:74: tree pruning end, 1 roots, 14 extra nodes, 0 pruned nodes, max_depth=3\u001b[0m\n",
      "\u001b[34m[18]#011train-auc:0.824359#011validation-auc:0.743456\u001b[0m\n",
      "\u001b[34m[20:48:16] src/tree/updater_prune.cc:74: tree pruning end, 1 roots, 14 extra nodes, 0 pruned nodes, max_depth=3\u001b[0m\n",
      "\u001b[34m[19]#011train-auc:0.825294#011validation-auc:0.747453\u001b[0m\n",
      "\u001b[34m[20:48:16] src/tree/updater_prune.cc:74: tree pruning end, 1 roots, 14 extra nodes, 0 pruned nodes, max_depth=3\u001b[0m\n",
      "\u001b[34m[20]#011train-auc:0.827563#011validation-auc:0.751405\u001b[0m\n",
      "\u001b[34m[20:48:16] src/tree/updater_prune.cc:74: tree pruning end, 1 roots, 14 extra nodes, 0 pruned nodes, max_depth=3\u001b[0m\n",
      "\u001b[34m[21]#011train-auc:0.830501#011validation-auc:0.752633\u001b[0m\n",
      "\u001b[34m[20:48:16] src/tree/updater_prune.cc:74: tree pruning end, 1 roots, 14 extra nodes, 0 pruned nodes, max_depth=3\u001b[0m\n",
      "\u001b[34m[22]#011train-auc:0.830603#011validation-auc:0.753223\u001b[0m\n",
      "\u001b[34m[20:48:17] src/tree/updater_prune.cc:74: tree pruning end, 1 roots, 14 extra nodes, 0 pruned nodes, max_depth=3\u001b[0m\n",
      "\u001b[34m[23]#011train-auc:0.832444#011validation-auc:0.752568\u001b[0m\n",
      "\u001b[34m[20:48:17] src/tree/updater_prune.cc:74: tree pruning end, 1 roots, 14 extra nodes, 0 pruned nodes, max_depth=3\u001b[0m\n",
      "\u001b[34m[24]#011train-auc:0.833482#011validation-auc:0.753987\u001b[0m\n",
      "\u001b[34m[20:48:17] src/tree/updater_prune.cc:74: tree pruning end, 1 roots, 12 extra nodes, 2 pruned nodes, max_depth=3\u001b[0m\n",
      "\u001b[34m[25]#011train-auc:0.83473#011validation-auc:0.756551\u001b[0m\n",
      "\u001b[34m[20:48:17] src/tree/updater_prune.cc:74: tree pruning end, 1 roots, 12 extra nodes, 0 pruned nodes, max_depth=3\u001b[0m\n",
      "\u001b[34m[26]#011train-auc:0.835989#011validation-auc:0.758084\u001b[0m\n",
      "\u001b[34m[20:48:17] src/tree/updater_prune.cc:74: tree pruning end, 1 roots, 14 extra nodes, 0 pruned nodes, max_depth=3\u001b[0m\n",
      "\u001b[34m[27]#011train-auc:0.837049#011validation-auc:0.757612\u001b[0m\n",
      "\u001b[34m[20:48:17] src/tree/updater_prune.cc:74: tree pruning end, 1 roots, 12 extra nodes, 0 pruned nodes, max_depth=3\u001b[0m\n",
      "\u001b[34m[28]#011train-auc:0.839297#011validation-auc:0.757342\u001b[0m\n",
      "\u001b[34m[20:48:17] src/tree/updater_prune.cc:74: tree pruning end, 1 roots, 14 extra nodes, 0 pruned nodes, max_depth=3\u001b[0m\n",
      "\u001b[34m[29]#011train-auc:0.839424#011validation-auc:0.757272\u001b[0m\n",
      "\u001b[34m[20:48:17] src/tree/updater_prune.cc:74: tree pruning end, 1 roots, 12 extra nodes, 0 pruned nodes, max_depth=3\u001b[0m\n",
      "\u001b[34m[30]#011train-auc:0.839819#011validation-auc:0.75835\u001b[0m\n",
      "\u001b[34m[20:48:17] src/tree/updater_prune.cc:74: tree pruning end, 1 roots, 12 extra nodes, 2 pruned nodes, max_depth=3\u001b[0m\n",
      "\u001b[34m[31]#011train-auc:0.839724#011validation-auc:0.758552\u001b[0m\n",
      "\u001b[34m[20:48:17] src/tree/updater_prune.cc:74: tree pruning end, 1 roots, 10 extra nodes, 2 pruned nodes, max_depth=3\u001b[0m\n",
      "\u001b[34m[32]#011train-auc:0.840021#011validation-auc:0.756905\u001b[0m\n",
      "\u001b[34m[20:48:17] src/tree/updater_prune.cc:74: tree pruning end, 1 roots, 14 extra nodes, 0 pruned nodes, max_depth=3\u001b[0m\n",
      "\u001b[34m[33]#011train-auc:0.840358#011validation-auc:0.758441\u001b[0m\n",
      "\u001b[34m[20:48:17] src/tree/updater_prune.cc:74: tree pruning end, 1 roots, 14 extra nodes, 0 pruned nodes, max_depth=3\u001b[0m\n",
      "\u001b[34m[34]#011train-auc:0.842869#011validation-auc:0.760556\u001b[0m\n",
      "\u001b[34m[20:48:17] src/tree/updater_prune.cc:74: tree pruning end, 1 roots, 14 extra nodes, 0 pruned nodes, max_depth=3\u001b[0m\n",
      "\u001b[34m[35]#011train-auc:0.84421#011validation-auc:0.761284\u001b[0m\n",
      "\u001b[34m[20:48:17] src/tree/updater_prune.cc:74: tree pruning end, 1 roots, 14 extra nodes, 0 pruned nodes, max_depth=3\u001b[0m\n",
      "\u001b[34m[36]#011train-auc:0.845274#011validation-auc:0.761663\u001b[0m\n",
      "\u001b[34m[20:48:18] src/tree/updater_prune.cc:74: tree pruning end, 1 roots, 14 extra nodes, 0 pruned nodes, max_depth=3\u001b[0m\n",
      "\u001b[34m[37]#011train-auc:0.847359#011validation-auc:0.759984\u001b[0m\n",
      "\u001b[34m[20:48:18] src/tree/updater_prune.cc:74: tree pruning end, 1 roots, 14 extra nodes, 0 pruned nodes, max_depth=3\u001b[0m\n",
      "\u001b[34m[38]#011train-auc:0.847861#011validation-auc:0.760395\u001b[0m\n",
      "\u001b[34m[20:48:18] src/tree/updater_prune.cc:74: tree pruning end, 1 roots, 14 extra nodes, 0 pruned nodes, max_depth=3\u001b[0m\n",
      "\u001b[34m[39]#011train-auc:0.848729#011validation-auc:0.759561\u001b[0m\n",
      "\u001b[34m[20:48:18] src/tree/updater_prune.cc:74: tree pruning end, 1 roots, 12 extra nodes, 0 pruned nodes, max_depth=3\u001b[0m\n",
      "\u001b[34m[40]#011train-auc:0.849662#011validation-auc:0.761707\u001b[0m\n",
      "\u001b[34m[20:48:18] src/tree/updater_prune.cc:74: tree pruning end, 1 roots, 8 extra nodes, 0 pruned nodes, max_depth=3\u001b[0m\n",
      "\u001b[34m[41]#011train-auc:0.849883#011validation-auc:0.761767\u001b[0m\n",
      "\u001b[34m[20:48:18] src/tree/updater_prune.cc:74: tree pruning end, 1 roots, 14 extra nodes, 0 pruned nodes, max_depth=3\u001b[0m\n",
      "\u001b[34m[42]#011train-auc:0.850212#011validation-auc:0.761513\u001b[0m\n",
      "\u001b[34m[20:48:18] src/tree/updater_prune.cc:74: tree pruning end, 1 roots, 14 extra nodes, 0 pruned nodes, max_depth=3\u001b[0m\n",
      "\u001b[34m[43]#011train-auc:0.851218#011validation-auc:0.759996\u001b[0m\n",
      "\u001b[34m[20:48:18] src/tree/updater_prune.cc:74: tree pruning end, 1 roots, 8 extra nodes, 0 pruned nodes, max_depth=3\u001b[0m\n",
      "\u001b[34m[44]#011train-auc:0.851836#011validation-auc:0.761135\u001b[0m\n",
      "\u001b[34m[20:48:18] src/tree/updater_prune.cc:74: tree pruning end, 1 roots, 14 extra nodes, 0 pruned nodes, max_depth=3\u001b[0m\n",
      "\u001b[34m[45]#011train-auc:0.852943#011validation-auc:0.761319\u001b[0m\n",
      "\u001b[34m[20:48:18] src/tree/updater_prune.cc:74: tree pruning end, 1 roots, 8 extra nodes, 0 pruned nodes, max_depth=3\u001b[0m\n",
      "\u001b[34m[46]#011train-auc:0.853355#011validation-auc:0.761284\u001b[0m\n",
      "\u001b[34m[20:48:18] src/tree/updater_prune.cc:74: tree pruning end, 1 roots, 14 extra nodes, 0 pruned nodes, max_depth=3\u001b[0m\n",
      "\u001b[34m[47]#011train-auc:0.854196#011validation-auc:0.761746\u001b[0m\n",
      "\u001b[34m[20:48:18] src/tree/updater_prune.cc:74: tree pruning end, 1 roots, 14 extra nodes, 0 pruned nodes, max_depth=3\u001b[0m\n",
      "\u001b[34m[48]#011train-auc:0.855672#011validation-auc:0.762196\u001b[0m\n",
      "\u001b[34m[20:48:19] src/tree/updater_prune.cc:74: tree pruning end, 1 roots, 14 extra nodes, 0 pruned nodes, max_depth=3\u001b[0m\n",
      "\u001b[34m[49]#011train-auc:0.857062#011validation-auc:0.760971\u001b[0m\n",
      "\u001b[34m[20:48:19] src/tree/updater_prune.cc:74: tree pruning end, 1 roots, 14 extra nodes, 0 pruned nodes, max_depth=3\u001b[0m\n",
      "\u001b[34m[50]#011train-auc:0.85858#011validation-auc:0.762915\u001b[0m\n",
      "\u001b[34m[20:48:19] src/tree/updater_prune.cc:74: tree pruning end, 1 roots, 14 extra nodes, 0 pruned nodes, max_depth=3\u001b[0m\n",
      "\u001b[34m[51]#011train-auc:0.859538#011validation-auc:0.763506\u001b[0m\n",
      "\u001b[34m[20:48:19] src/tree/updater_prune.cc:74: tree pruning end, 1 roots, 14 extra nodes, 0 pruned nodes, max_depth=3\u001b[0m\n",
      "\u001b[34m[52]#011train-auc:0.859941#011validation-auc:0.764585\u001b[0m\n",
      "\u001b[34m[20:48:19] src/tree/updater_prune.cc:74: tree pruning end, 1 roots, 12 extra nodes, 0 pruned nodes, max_depth=3\u001b[0m\n",
      "\u001b[34m[53]#011train-auc:0.860878#011validation-auc:0.764244\u001b[0m\n",
      "\u001b[34m[20:48:19] src/tree/updater_prune.cc:74: tree pruning end, 1 roots, 14 extra nodes, 0 pruned nodes, max_depth=3\u001b[0m\n",
      "\u001b[34m[54]#011train-auc:0.862874#011validation-auc:0.765884\u001b[0m\n",
      "\u001b[34m[20:48:19] src/tree/updater_prune.cc:74: tree pruning end, 1 roots, 14 extra nodes, 0 pruned nodes, max_depth=3\u001b[0m\n",
      "\u001b[34m[55]#011train-auc:0.862561#011validation-auc:0.764182\u001b[0m\n",
      "\u001b[34m[20:48:19] src/tree/updater_prune.cc:74: tree pruning end, 1 roots, 14 extra nodes, 0 pruned nodes, max_depth=3\u001b[0m\n",
      "\u001b[34m[56]#011train-auc:0.863227#011validation-auc:0.764377\u001b[0m\n",
      "\u001b[34m[20:48:19] src/tree/updater_prune.cc:74: tree pruning end, 1 roots, 14 extra nodes, 0 pruned nodes, max_depth=3\u001b[0m\n",
      "\u001b[34m[57]#011train-auc:0.863871#011validation-auc:0.763546\u001b[0m\n",
      "\u001b[34m[20:48:19] src/tree/updater_prune.cc:74: tree pruning end, 1 roots, 12 extra nodes, 0 pruned nodes, max_depth=3\u001b[0m\n",
      "\u001b[34m[58]#011train-auc:0.864848#011validation-auc:0.764183\u001b[0m\n",
      "\u001b[34m[20:48:19] src/tree/updater_prune.cc:74: tree pruning end, 1 roots, 10 extra nodes, 2 pruned nodes, max_depth=3\u001b[0m\n",
      "\u001b[34m[59]#011train-auc:0.865896#011validation-auc:0.764822\u001b[0m\n",
      "\u001b[34m[20:48:19] src/tree/updater_prune.cc:74: tree pruning end, 1 roots, 14 extra nodes, 0 pruned nodes, max_depth=3\u001b[0m\n",
      "\u001b[34m[60]#011train-auc:0.866899#011validation-auc:0.765981\u001b[0m\n",
      "\u001b[34m[20:48:20] src/tree/updater_prune.cc:74: tree pruning end, 1 roots, 12 extra nodes, 0 pruned nodes, max_depth=3\u001b[0m\n",
      "\u001b[34m[61]#011train-auc:0.867659#011validation-auc:0.765951\u001b[0m\n",
      "\u001b[34m[20:48:20] src/tree/updater_prune.cc:74: tree pruning end, 1 roots, 14 extra nodes, 0 pruned nodes, max_depth=3\u001b[0m\n",
      "\u001b[34m[62]#011train-auc:0.867914#011validation-auc:0.766839\u001b[0m\n",
      "\u001b[34m[20:48:20] src/tree/updater_prune.cc:74: tree pruning end, 1 roots, 14 extra nodes, 0 pruned nodes, max_depth=3\u001b[0m\n",
      "\u001b[34m[63]#011train-auc:0.869248#011validation-auc:0.76747\u001b[0m\n",
      "\u001b[34m[20:48:20] src/tree/updater_prune.cc:74: tree pruning end, 1 roots, 14 extra nodes, 0 pruned nodes, max_depth=3\u001b[0m\n",
      "\u001b[34m[64]#011train-auc:0.869961#011validation-auc:0.768104\u001b[0m\n",
      "\u001b[34m[20:48:20] src/tree/updater_prune.cc:74: tree pruning end, 1 roots, 14 extra nodes, 0 pruned nodes, max_depth=3\u001b[0m\n",
      "\u001b[34m[65]#011train-auc:0.871591#011validation-auc:0.768068\u001b[0m\n",
      "\u001b[34m[20:48:20] src/tree/updater_prune.cc:74: tree pruning end, 1 roots, 14 extra nodes, 0 pruned nodes, max_depth=3\u001b[0m\n",
      "\u001b[34m[66]#011train-auc:0.873589#011validation-auc:0.770239\u001b[0m\n",
      "\u001b[34m[20:48:20] src/tree/updater_prune.cc:74: tree pruning end, 1 roots, 14 extra nodes, 0 pruned nodes, max_depth=3\u001b[0m\n",
      "\u001b[34m[67]#011train-auc:0.874358#011validation-auc:0.771265\u001b[0m\n",
      "\u001b[34m[20:48:20] src/tree/updater_prune.cc:74: tree pruning end, 1 roots, 14 extra nodes, 0 pruned nodes, max_depth=3\u001b[0m\n",
      "\u001b[34m[68]#011train-auc:0.875335#011validation-auc:0.770649\u001b[0m\n",
      "\u001b[34m[20:48:20] src/tree/updater_prune.cc:74: tree pruning end, 1 roots, 12 extra nodes, 0 pruned nodes, max_depth=3\u001b[0m\n",
      "\u001b[34m[69]#011train-auc:0.876577#011validation-auc:0.768531\u001b[0m\n",
      "\u001b[34m[20:48:20] src/tree/updater_prune.cc:74: tree pruning end, 1 roots, 12 extra nodes, 0 pruned nodes, max_depth=3\u001b[0m\n",
      "\u001b[34m[70]#011train-auc:0.87728#011validation-auc:0.768045\u001b[0m\n",
      "\u001b[34m[20:48:20] src/tree/updater_prune.cc:74: tree pruning end, 1 roots, 14 extra nodes, 0 pruned nodes, max_depth=3\u001b[0m\n",
      "\u001b[34m[71]#011train-auc:0.877826#011validation-auc:0.767035\u001b[0m\n",
      "\u001b[34m[20:48:20] src/tree/updater_prune.cc:74: tree pruning end, 1 roots, 12 extra nodes, 0 pruned nodes, max_depth=3\u001b[0m\n",
      "\u001b[34m[72]#011train-auc:0.878652#011validation-auc:0.767712\u001b[0m\n",
      "\u001b[34m[20:48:20] src/tree/updater_prune.cc:74: tree pruning end, 1 roots, 14 extra nodes, 0 pruned nodes, max_depth=3\u001b[0m\n",
      "\u001b[34m[73]#011train-auc:0.879722#011validation-auc:0.767412\u001b[0m\n",
      "\u001b[34m[20:48:20] src/tree/updater_prune.cc:74: tree pruning end, 1 roots, 14 extra nodes, 0 pruned nodes, max_depth=3\u001b[0m\n",
      "\u001b[34m[74]#011train-auc:0.881275#011validation-auc:0.766819\u001b[0m\n",
      "\u001b[34m[20:48:21] src/tree/updater_prune.cc:74: tree pruning end, 1 roots, 14 extra nodes, 0 pruned nodes, max_depth=3\u001b[0m\n",
      "\u001b[34m[75]#011train-auc:0.88227#011validation-auc:0.766452\u001b[0m\n",
      "\u001b[34m[20:48:21] src/tree/updater_prune.cc:74: tree pruning end, 1 roots, 10 extra nodes, 2 pruned nodes, max_depth=3\u001b[0m\n",
      "\u001b[34m[76]#011train-auc:0.882728#011validation-auc:0.765485\u001b[0m\n",
      "\u001b[34m[20:48:21] src/tree/updater_prune.cc:74: tree pruning end, 1 roots, 14 extra nodes, 0 pruned nodes, max_depth=3\u001b[0m\n",
      "\u001b[34m[77]#011train-auc:0.883814#011validation-auc:0.764995\u001b[0m\n",
      "\u001b[34m[20:48:21] src/tree/updater_prune.cc:74: tree pruning end, 1 roots, 10 extra nodes, 2 pruned nodes, max_depth=3\u001b[0m\n",
      "\u001b[34m[78]#011train-auc:0.884207#011validation-auc:0.765406\u001b[0m\n",
      "\u001b[34m[20:48:21] src/tree/updater_prune.cc:74: tree pruning end, 1 roots, 8 extra nodes, 0 pruned nodes, max_depth=3\u001b[0m\n",
      "\u001b[34m[79]#011train-auc:0.883906#011validation-auc:0.765445\u001b[0m\n",
      "\u001b[34m[20:48:21] src/tree/updater_prune.cc:74: tree pruning end, 1 roots, 14 extra nodes, 0 pruned nodes, max_depth=3\u001b[0m\n",
      "\u001b[34m[80]#011train-auc:0.88442#011validation-auc:0.765463\u001b[0m\n",
      "\u001b[34m[20:48:21] src/tree/updater_prune.cc:74: tree pruning end, 1 roots, 12 extra nodes, 0 pruned nodes, max_depth=3\u001b[0m\n",
      "\u001b[34m[81]#011train-auc:0.884264#011validation-auc:0.764655\u001b[0m\n",
      "\u001b[34m[20:48:21] src/tree/updater_prune.cc:74: tree pruning end, 1 roots, 14 extra nodes, 0 pruned nodes, max_depth=3\u001b[0m\n",
      "\u001b[34m[82]#011train-auc:0.885205#011validation-auc:0.764899\u001b[0m\n",
      "\u001b[34m[20:48:21] src/tree/updater_prune.cc:74: tree pruning end, 1 roots, 14 extra nodes, 0 pruned nodes, max_depth=3\u001b[0m\n",
      "\u001b[34m[83]#011train-auc:0.885386#011validation-auc:0.763404\u001b[0m\n",
      "\u001b[34m[20:48:21] src/tree/updater_prune.cc:74: tree pruning end, 1 roots, 14 extra nodes, 0 pruned nodes, max_depth=3\u001b[0m\n",
      "\u001b[34m[84]#011train-auc:0.88695#011validation-auc:0.761309\u001b[0m\n",
      "\u001b[34m[20:48:21] src/tree/updater_prune.cc:74: tree pruning end, 1 roots, 14 extra nodes, 0 pruned nodes, max_depth=3\u001b[0m\n",
      "\u001b[34m[85]#011train-auc:0.888191#011validation-auc:0.761256\u001b[0m\n",
      "\u001b[34m[20:48:21] src/tree/updater_prune.cc:74: tree pruning end, 1 roots, 14 extra nodes, 0 pruned nodes, max_depth=3\u001b[0m\n",
      "\u001b[34m[86]#011train-auc:0.888579#011validation-auc:0.761344\u001b[0m\n",
      "\u001b[34m[20:48:21] src/tree/updater_prune.cc:74: tree pruning end, 1 roots, 12 extra nodes, 0 pruned nodes, max_depth=3\u001b[0m\n",
      "\u001b[34m[87]#011train-auc:0.889396#011validation-auc:0.76163\u001b[0m\n",
      "\u001b[34mStopping. Best iteration:\u001b[0m\n",
      "\u001b[34m[67]#011train-auc:0.874358#011validation-auc:0.771265\n",
      "\u001b[0m\n",
      "Training seconds: 55\n",
      "Billable seconds: 55\n"
     ]
    }
   ],
   "source": [
    "xgb_attached = sagemaker.estimator.Estimator.attach(xgb_hyperparameter_tuner.best_training_job())"
   ]
  },
  {
   "cell_type": "code",
   "execution_count": 108,
   "metadata": {},
   "outputs": [
    {
     "name": "stderr",
     "output_type": "stream",
     "text": [
      "Parameter image will be renamed to image_uri in SageMaker Python SDK v2.\n"
     ]
    }
   ],
   "source": [
    "xgb_transformer = xgb_attached.transformer(instance_count = 1, instance_type = 'ml.m4.xlarge')"
   ]
  },
  {
   "cell_type": "code",
   "execution_count": 109,
   "metadata": {},
   "outputs": [
    {
     "name": "stdout",
     "output_type": "stream",
     "text": [
      "..............................\n",
      "\u001b[32m2021-01-30T21:20:54.108:[sagemaker logs]: MaxConcurrentTransforms=4, MaxPayloadInMB=6, BatchStrategy=MULTI_RECORD\u001b[0m\n",
      "\u001b[34mArguments: serve\u001b[0m\n",
      "\u001b[34m[2021-01-30 21:20:54 +0000] [1] [INFO] Starting gunicorn 19.7.1\u001b[0m\n",
      "\u001b[34m[2021-01-30 21:20:54 +0000] [1] [INFO] Listening at: http://0.0.0.0:8080 (1)\u001b[0m\n",
      "\u001b[34m[2021-01-30 21:20:54 +0000] [1] [INFO] Using worker: gevent\u001b[0m\n",
      "\u001b[34m[2021-01-30 21:20:54 +0000] [36] [INFO] Booting worker with pid: 36\u001b[0m\n",
      "\u001b[34m[2021-01-30 21:20:54 +0000] [37] [INFO] Booting worker with pid: 37\u001b[0m\n",
      "\u001b[34m[2021-01-30 21:20:54 +0000] [38] [INFO] Booting worker with pid: 38\u001b[0m\n",
      "\u001b[35mArguments: serve\u001b[0m\n",
      "\u001b[35m[2021-01-30 21:20:54 +0000] [1] [INFO] Starting gunicorn 19.7.1\u001b[0m\n",
      "\u001b[35m[2021-01-30 21:20:54 +0000] [1] [INFO] Listening at: http://0.0.0.0:8080 (1)\u001b[0m\n",
      "\u001b[35m[2021-01-30 21:20:54 +0000] [1] [INFO] Using worker: gevent\u001b[0m\n",
      "\u001b[35m[2021-01-30 21:20:54 +0000] [36] [INFO] Booting worker with pid: 36\u001b[0m\n",
      "\u001b[35m[2021-01-30 21:20:54 +0000] [37] [INFO] Booting worker with pid: 37\u001b[0m\n",
      "\u001b[35m[2021-01-30 21:20:54 +0000] [38] [INFO] Booting worker with pid: 38\u001b[0m\n",
      "\u001b[34m[2021-01-30 21:20:54 +0000] [39] [INFO] Booting worker with pid: 39\u001b[0m\n",
      "\u001b[34m[2021-01-30:21:20:54:INFO] Model loaded successfully for worker : 37\u001b[0m\n",
      "\u001b[34m[2021-01-30:21:20:54:INFO] Model loaded successfully for worker : 36\u001b[0m\n",
      "\u001b[34m[2021-01-30:21:20:54:INFO] Model loaded successfully for worker : 38\u001b[0m\n",
      "\u001b[34m[2021-01-30:21:20:54:INFO] Model loaded successfully for worker : 39\u001b[0m\n",
      "\u001b[35m[2021-01-30 21:20:54 +0000] [39] [INFO] Booting worker with pid: 39\u001b[0m\n",
      "\u001b[35m[2021-01-30:21:20:54:INFO] Model loaded successfully for worker : 37\u001b[0m\n",
      "\u001b[35m[2021-01-30:21:20:54:INFO] Model loaded successfully for worker : 36\u001b[0m\n",
      "\u001b[35m[2021-01-30:21:20:54:INFO] Model loaded successfully for worker : 38\u001b[0m\n",
      "\u001b[35m[2021-01-30:21:20:54:INFO] Model loaded successfully for worker : 39\u001b[0m\n",
      "\u001b[34m[2021-01-30:21:20:54:INFO] Sniff delimiter as ','\u001b[0m\n",
      "\u001b[34m[2021-01-30:21:20:54:INFO] Determined delimiter of CSV input is ','\u001b[0m\n",
      "\u001b[34m[2021-01-30:21:20:54:INFO] Sniff delimiter as ','\u001b[0m\n",
      "\u001b[34m[2021-01-30:21:20:54:INFO] Determined delimiter of CSV input is ','\u001b[0m\n",
      "\u001b[34m[2021-01-30:21:20:54:INFO] Sniff delimiter as ','\u001b[0m\n",
      "\u001b[34m[2021-01-30:21:20:54:INFO] Determined delimiter of CSV input is ','\u001b[0m\n",
      "\u001b[35m[2021-01-30:21:20:54:INFO] Sniff delimiter as ','\u001b[0m\n",
      "\u001b[35m[2021-01-30:21:20:54:INFO] Determined delimiter of CSV input is ','\u001b[0m\n",
      "\u001b[35m[2021-01-30:21:20:54:INFO] Sniff delimiter as ','\u001b[0m\n",
      "\u001b[35m[2021-01-30:21:20:54:INFO] Determined delimiter of CSV input is ','\u001b[0m\n",
      "\u001b[35m[2021-01-30:21:20:54:INFO] Sniff delimiter as ','\u001b[0m\n",
      "\u001b[35m[2021-01-30:21:20:54:INFO] Determined delimiter of CSV input is ','\u001b[0m\n",
      "\u001b[34m[2021-01-30:21:20:55:INFO] Sniff delimiter as ','\u001b[0m\n",
      "\u001b[34m[2021-01-30:21:20:55:INFO] Determined delimiter of CSV input is ','\u001b[0m\n",
      "\u001b[35m[2021-01-30:21:20:55:INFO] Sniff delimiter as ','\u001b[0m\n",
      "\u001b[35m[2021-01-30:21:20:55:INFO] Determined delimiter of CSV input is ','\u001b[0m\n",
      "\u001b[34m[2021-01-30:21:20:55:INFO] Sniff delimiter as ','\u001b[0m\n",
      "\u001b[34m[2021-01-30:21:20:55:INFO] Determined delimiter of CSV input is ','\u001b[0m\n",
      "\u001b[34m[2021-01-30:21:20:55:INFO] Sniff delimiter as ','\u001b[0m\n",
      "\u001b[34m[2021-01-30:21:20:55:INFO] Determined delimiter of CSV input is ','\u001b[0m\n",
      "\u001b[34m[2021-01-30:21:20:56:INFO] Sniff delimiter as ','\u001b[0m\n",
      "\u001b[34m[2021-01-30:21:20:56:INFO] Determined delimiter of CSV input is ','\u001b[0m\n",
      "\u001b[34m[2021-01-30:21:20:56:INFO] Sniff delimiter as ','\u001b[0m\n",
      "\u001b[34m[2021-01-30:21:20:56:INFO] Determined delimiter of CSV input is ','\u001b[0m\n",
      "\u001b[35m[2021-01-30:21:20:55:INFO] Sniff delimiter as ','\u001b[0m\n",
      "\u001b[35m[2021-01-30:21:20:55:INFO] Determined delimiter of CSV input is ','\u001b[0m\n",
      "\u001b[35m[2021-01-30:21:20:55:INFO] Sniff delimiter as ','\u001b[0m\n",
      "\u001b[35m[2021-01-30:21:20:55:INFO] Determined delimiter of CSV input is ','\u001b[0m\n",
      "\u001b[35m[2021-01-30:21:20:56:INFO] Sniff delimiter as ','\u001b[0m\n",
      "\u001b[35m[2021-01-30:21:20:56:INFO] Determined delimiter of CSV input is ','\u001b[0m\n",
      "\u001b[35m[2021-01-30:21:20:56:INFO] Sniff delimiter as ','\u001b[0m\n",
      "\u001b[35m[2021-01-30:21:20:56:INFO] Determined delimiter of CSV input is ','\u001b[0m\n",
      "\u001b[34m[2021-01-30:21:20:56:INFO] Sniff delimiter as ','\u001b[0m\n",
      "\u001b[34m[2021-01-30:21:20:56:INFO] Determined delimiter of CSV input is ','\u001b[0m\n",
      "\u001b[34m[2021-01-30:21:20:57:INFO] Sniff delimiter as ','\u001b[0m\n",
      "\u001b[34m[2021-01-30:21:20:57:INFO] Determined delimiter of CSV input is ','\u001b[0m\n",
      "\u001b[34m[2021-01-30:21:20:57:INFO] Sniff delimiter as ','\u001b[0m\n",
      "\u001b[34m[2021-01-30:21:20:57:INFO] Determined delimiter of CSV input is ','\u001b[0m\n",
      "\u001b[35m[2021-01-30:21:20:56:INFO] Sniff delimiter as ','\u001b[0m\n",
      "\u001b[35m[2021-01-30:21:20:56:INFO] Determined delimiter of CSV input is ','\u001b[0m\n",
      "\u001b[35m[2021-01-30:21:20:57:INFO] Sniff delimiter as ','\u001b[0m\n",
      "\u001b[35m[2021-01-30:21:20:57:INFO] Determined delimiter of CSV input is ','\u001b[0m\n",
      "\u001b[35m[2021-01-30:21:20:57:INFO] Sniff delimiter as ','\u001b[0m\n",
      "\u001b[35m[2021-01-30:21:20:57:INFO] Determined delimiter of CSV input is ','\u001b[0m\n",
      "\u001b[34m[2021-01-30:21:20:57:INFO] Sniff delimiter as ','\u001b[0m\n",
      "\u001b[34m[2021-01-30:21:20:57:INFO] Determined delimiter of CSV input is ','\u001b[0m\n",
      "\u001b[34m[2021-01-30:21:20:58:INFO] Sniff delimiter as ','\u001b[0m\n",
      "\u001b[34m[2021-01-30:21:20:58:INFO] Determined delimiter of CSV input is ','\u001b[0m\n",
      "\u001b[34m[2021-01-30:21:20:58:INFO] Sniff delimiter as ','\u001b[0m\n",
      "\u001b[34m[2021-01-30:21:20:58:INFO] Determined delimiter of CSV input is ','\u001b[0m\n",
      "\u001b[35m[2021-01-30:21:20:57:INFO] Sniff delimiter as ','\u001b[0m\n",
      "\u001b[35m[2021-01-30:21:20:57:INFO] Determined delimiter of CSV input is ','\u001b[0m\n",
      "\u001b[35m[2021-01-30:21:20:58:INFO] Sniff delimiter as ','\u001b[0m\n",
      "\u001b[35m[2021-01-30:21:20:58:INFO] Determined delimiter of CSV input is ','\u001b[0m\n",
      "\u001b[35m[2021-01-30:21:20:58:INFO] Sniff delimiter as ','\u001b[0m\n",
      "\u001b[35m[2021-01-30:21:20:58:INFO] Determined delimiter of CSV input is ','\u001b[0m\n"
     ]
    }
   ],
   "source": [
    "xgb_transformer.transform(test_submit, content_type='text/csv', split_type='Line')\n",
    "xgb_transformer.wait()"
   ]
  },
  {
   "cell_type": "code",
   "execution_count": 110,
   "metadata": {},
   "outputs": [
    {
     "name": "stdout",
     "output_type": "stream",
     "text": [
      "Completed 256.0 KiB/630.0 KiB (3.3 MiB/s) with 1 file(s) remaining\r",
      "Completed 512.0 KiB/630.0 KiB (6.4 MiB/s) with 1 file(s) remaining\r",
      "Completed 630.0 KiB/630.0 KiB (7.7 MiB/s) with 1 file(s) remaining\r",
      "download: s3://sagemaker-us-east-1-615355522549/xgboost-210130-1919-083-8f7a40bc-2021-01-30-21-16-01-214/test_submit.csv.out to alldata/test_submit.csv.out\r\n"
     ]
    }
   ],
   "source": [
    "!aws s3 cp --recursive $xgb_transformer.output_path $data_dir"
   ]
  },
  {
   "cell_type": "code",
   "execution_count": 111,
   "metadata": {},
   "outputs": [],
   "source": [
    "predictions = pd.read_csv(os.path.join(data_dir, 'test_submit.csv.out'), header=None)\n",
    "predictions = [round(num) for num in predictions.squeeze().values]"
   ]
  },
  {
   "cell_type": "code",
   "execution_count": null,
   "metadata": {},
   "outputs": [],
   "source": [
    "# boto3.client('sagemaker').delete_endpoint(EndpointName=predictor.endpoint)"
   ]
  },
  {
   "cell_type": "code",
   "execution_count": null,
   "metadata": {},
   "outputs": [],
   "source": []
  },
  {
   "cell_type": "markdown",
   "metadata": {},
   "source": [
    "## Part 3: Kaggle Competition\n",
    "\n",
    "Now that we've created a model to predict which individuals are most likely to respond to a mailout campaign, it's time to test that model in competition through Kaggle. If we click on the link [here](http://www.kaggle.com/t/21e6d45d4c574c7fa2d868f0e8c83140), we'll be taken to the competition page."
   ]
  },
  {
   "cell_type": "code",
   "execution_count": 114,
   "metadata": {},
   "outputs": [
    {
     "name": "stderr",
     "output_type": "stream",
     "text": [
      "/home/ec2-user/anaconda3/envs/pytorch_p36/lib/python3.6/site-packages/IPython/core/interactiveshell.py:3254: DtypeWarning: Columns (18,19) have mixed types.Specify dtype option on import or set low_memory=False.\n",
      "  if (await self.run_code(code, result,  async_=asy)):\n"
     ]
    }
   ],
   "source": [
    "original_test = read_file('Udacity_MAILOUT_052018_TEST.csv')"
   ]
  },
  {
   "cell_type": "code",
   "execution_count": 115,
   "metadata": {},
   "outputs": [],
   "source": [
    "submitting = pd.concat([original_test.LNR, pd.Series(predictions, name = 'RESPONSE')], axis=1)"
   ]
  },
  {
   "cell_type": "code",
   "execution_count": 116,
   "metadata": {},
   "outputs": [],
   "source": [
    "submitting.to_csv('submitting.csv', index=False)"
   ]
  },
  {
   "cell_type": "code",
   "execution_count": null,
   "metadata": {},
   "outputs": [],
   "source": []
  },
  {
   "cell_type": "code",
   "execution_count": null,
   "metadata": {},
   "outputs": [],
   "source": []
  },
  {
   "cell_type": "code",
   "execution_count": null,
   "metadata": {},
   "outputs": [],
   "source": []
  }
 ],
 "metadata": {
  "kernelspec": {
   "display_name": "conda_pytorch_p36",
   "language": "python",
   "name": "conda_pytorch_p36"
  },
  "language_info": {
   "codemirror_mode": {
    "name": "ipython",
    "version": 3
   },
   "file_extension": ".py",
   "mimetype": "text/x-python",
   "name": "python",
   "nbconvert_exporter": "python",
   "pygments_lexer": "ipython3",
   "version": "3.6.10"
  }
 },
 "nbformat": 4,
 "nbformat_minor": 2
}
