{
 "cells": [
  {
   "cell_type": "markdown",
   "metadata": {},
   "source": [
    "# Capstone Project: Create a Customer Segmentation Report for Arvato Financial Services\n",
    "\n",
    "In this project, you will analyze demographics data for customers of a mail-order sales company in Germany, comparing it against demographics information for the general population. You'll use unsupervised learning techniques to perform customer segmentation, identifying the parts of the population that best describe the core customer base of the company. Then, you'll apply what you've learned on a third dataset with demographics information for targets of a marketing campaign for the company, and use a model to predict which individuals are most likely to convert into becoming customers for the company. The data that you will use has been provided by our partners at Bertelsmann Arvato Analytics, and represents a real-life data science task.\n",
    "\n",
    "If you completed the first term of this program, you will be familiar with the first part of this project, from the unsupervised learning project. The versions of those two datasets used in this project will include many more features and has not been pre-cleaned. You are also free to choose whatever approach you'd like to analyzing the data rather than follow pre-determined steps. In your work on this project, make sure that you carefully document your steps and decisions, since your main deliverable for this project will be a blog post reporting your findings."
   ]
  },
  {
   "cell_type": "code",
   "execution_count": 2,
   "metadata": {},
   "outputs": [
    {
     "name": "stdout",
     "output_type": "stream",
     "text": [
      "Requirement already satisfied: sagemaker==1.72.0 in /home/ec2-user/anaconda3/envs/pytorch_p36/lib/python3.6/site-packages (1.72.0)\n",
      "Requirement already satisfied: scipy>=0.19.0 in /home/ec2-user/anaconda3/envs/pytorch_p36/lib/python3.6/site-packages (from sagemaker==1.72.0) (1.4.1)\n",
      "Requirement already satisfied: smdebug-rulesconfig==0.1.4 in /home/ec2-user/anaconda3/envs/pytorch_p36/lib/python3.6/site-packages (from sagemaker==1.72.0) (0.1.4)\n",
      "Requirement already satisfied: packaging>=20.0 in /home/ec2-user/anaconda3/envs/pytorch_p36/lib/python3.6/site-packages (from sagemaker==1.72.0) (20.7)\n",
      "Requirement already satisfied: importlib-metadata>=1.4.0 in /home/ec2-user/anaconda3/envs/pytorch_p36/lib/python3.6/site-packages (from sagemaker==1.72.0) (3.1.0)\n",
      "Requirement already satisfied: numpy>=1.9.0 in /home/ec2-user/anaconda3/envs/pytorch_p36/lib/python3.6/site-packages (from sagemaker==1.72.0) (1.19.4)\n",
      "Requirement already satisfied: boto3>=1.14.12 in /home/ec2-user/anaconda3/envs/pytorch_p36/lib/python3.6/site-packages (from sagemaker==1.72.0) (1.16.37)\n",
      "Requirement already satisfied: protobuf>=3.1 in /home/ec2-user/anaconda3/envs/pytorch_p36/lib/python3.6/site-packages (from sagemaker==1.72.0) (3.14.0)\n",
      "Requirement already satisfied: protobuf3-to-dict>=0.1.5 in /home/ec2-user/anaconda3/envs/pytorch_p36/lib/python3.6/site-packages (from sagemaker==1.72.0) (0.1.5)\n",
      "Requirement already satisfied: botocore<1.20.0,>=1.19.37 in /home/ec2-user/anaconda3/envs/pytorch_p36/lib/python3.6/site-packages (from boto3>=1.14.12->sagemaker==1.72.0) (1.19.37)\n",
      "Requirement already satisfied: jmespath<1.0.0,>=0.7.1 in /home/ec2-user/anaconda3/envs/pytorch_p36/lib/python3.6/site-packages (from boto3>=1.14.12->sagemaker==1.72.0) (0.10.0)\n",
      "Requirement already satisfied: s3transfer<0.4.0,>=0.3.0 in /home/ec2-user/anaconda3/envs/pytorch_p36/lib/python3.6/site-packages (from boto3>=1.14.12->sagemaker==1.72.0) (0.3.3)\n",
      "Requirement already satisfied: jmespath<1.0.0,>=0.7.1 in /home/ec2-user/anaconda3/envs/pytorch_p36/lib/python3.6/site-packages (from boto3>=1.14.12->sagemaker==1.72.0) (0.10.0)\n",
      "Requirement already satisfied: urllib3<1.27,>=1.25.4 in /home/ec2-user/anaconda3/envs/pytorch_p36/lib/python3.6/site-packages (from botocore<1.20.0,>=1.19.37->boto3>=1.14.12->sagemaker==1.72.0) (1.25.11)\n",
      "Requirement already satisfied: python-dateutil<3.0.0,>=2.1 in /home/ec2-user/anaconda3/envs/pytorch_p36/lib/python3.6/site-packages (from botocore<1.20.0,>=1.19.37->boto3>=1.14.12->sagemaker==1.72.0) (2.8.1)\n",
      "Requirement already satisfied: zipp>=0.5 in /home/ec2-user/anaconda3/envs/pytorch_p36/lib/python3.6/site-packages (from importlib-metadata>=1.4.0->sagemaker==1.72.0) (3.4.0)\n",
      "Requirement already satisfied: pyparsing>=2.0.2 in /home/ec2-user/anaconda3/envs/pytorch_p36/lib/python3.6/site-packages (from packaging>=20.0->sagemaker==1.72.0) (2.4.7)\n",
      "Requirement already satisfied: six>=1.9 in /home/ec2-user/anaconda3/envs/pytorch_p36/lib/python3.6/site-packages (from protobuf>=3.1->sagemaker==1.72.0) (1.15.0)\n",
      "Requirement already satisfied: six>=1.9 in /home/ec2-user/anaconda3/envs/pytorch_p36/lib/python3.6/site-packages (from protobuf>=3.1->sagemaker==1.72.0) (1.15.0)\n",
      "Requirement already satisfied: protobuf>=3.1 in /home/ec2-user/anaconda3/envs/pytorch_p36/lib/python3.6/site-packages (from sagemaker==1.72.0) (3.14.0)\n",
      "Requirement already satisfied: six>=1.9 in /home/ec2-user/anaconda3/envs/pytorch_p36/lib/python3.6/site-packages (from protobuf>=3.1->sagemaker==1.72.0) (1.15.0)\n",
      "Requirement already satisfied: botocore<1.20.0,>=1.19.37 in /home/ec2-user/anaconda3/envs/pytorch_p36/lib/python3.6/site-packages (from boto3>=1.14.12->sagemaker==1.72.0) (1.19.37)\n",
      "Requirement already satisfied: numpy>=1.9.0 in /home/ec2-user/anaconda3/envs/pytorch_p36/lib/python3.6/site-packages (from sagemaker==1.72.0) (1.19.4)\n",
      "\u001b[33mWARNING: You are using pip version 20.3; however, version 21.0 is available.\n",
      "You should consider upgrading via the '/home/ec2-user/anaconda3/envs/pytorch_p36/bin/python -m pip install --upgrade pip' command.\u001b[0m\n"
     ]
    }
   ],
   "source": [
    "!pip install sagemaker==1.72.0\n",
    "\n",
    "# import libraries here; add more as necessary\n",
    "import numpy as np\n",
    "import pandas as pd\n",
    "import matplotlib.pyplot as plt\n",
    "import seaborn as sns\n",
    "import boto3\n",
    "import sagemaker\n",
    "pd.set_option('display.max_colwidth', 100)\n",
    "\n",
    "# magic word for producing visualizations in notebook\n",
    "%matplotlib inline"
   ]
  },
  {
   "cell_type": "code",
   "execution_count": 3,
   "metadata": {},
   "outputs": [],
   "source": [
    "# session and role\n",
    "sagemaker_session = sagemaker.Session()\n",
    "role = sagemaker.get_execution_role()\n",
    "\n",
    "# create an S3 bucket\n",
    "bucket = sagemaker_session.default_bucket()"
   ]
  },
  {
   "cell_type": "markdown",
   "metadata": {},
   "source": [
    "## Part 0: Get to Know the Data\n",
    "\n",
    "There are four data files associated with this project:\n",
    "\n",
    "- `Udacity_AZDIAS_052018.csv`: Demographics data for the general population of Germany; 891 211 persons (rows) x 366 features (columns).\n",
    "- `Udacity_CUSTOMERS_052018.csv`: Demographics data for customers of a mail-order company; 191 652 persons (rows) x 369 features (columns).\n",
    "- `Udacity_MAILOUT_052018_TRAIN.csv`: Demographics data for individuals who were targets of a marketing campaign; 42 982 persons (rows) x 367 (columns).\n",
    "- `Udacity_MAILOUT_052018_TEST.csv`: Demographics data for individuals who were targets of a marketing campaign; 42 833 persons (rows) x 366 (columns).\n",
    "\n",
    "Each row of the demographics files represents a single person, but also includes information outside of individuals, including information about their household, building, and neighborhood. Use the information from the first two files to figure out how customers (\"CUSTOMERS\") are similar to or differ from the general population at large (\"AZDIAS\"), then use your analysis to make predictions on the other two files (\"MAILOUT\"), predicting which recipients are most likely to become a customer for the mail-order company.\n",
    "\n",
    "The \"CUSTOMERS\" file contains three extra columns ('CUSTOMER_GROUP', 'ONLINE_PURCHASE', and 'PRODUCT_GROUP'), which provide broad information about the customers depicted in the file. The original \"MAILOUT\" file included one additional column, \"RESPONSE\", which indicated whether or not each recipient became a customer of the company. For the \"TRAIN\" subset, this column has been retained, but in the \"TEST\" subset it has been removed; it is against that withheld column that your final predictions will be assessed in the Kaggle competition.\n",
    "\n",
    "Otherwise, all of the remaining columns are the same between the three data files. For more information about the columns depicted in the files, you can refer to two Excel spreadsheets provided in the workspace. [One of them](./DIAS Information Levels - Attributes 2017.xlsx) is a top-level list of attributes and descriptions, organized by informational category. [The other](./DIAS Attributes - Values 2017.xlsx) is a detailed mapping of data values for each feature in alphabetical order.\n",
    "\n",
    "In the below cell, we've provided some initial code to load in the first two datasets. Note for all of the `.csv` data files in this project that they're semicolon (`;`) delimited, so an additional argument in the [`read_csv()`](https://pandas.pydata.org/pandas-docs/stable/generated/pandas.read_csv.html) call has been included to read in the data properly. Also, considering the size of the datasets, it may take some time for them to load completely.\n",
    "\n",
    "You'll notice when the data is loaded in that a warning message will immediately pop up. Before you really start digging into the modeling and analysis, you're going to need to perform some cleaning. Take some time to browse the structure of the data and look over the informational spreadsheets to understand the data values. Make some decisions on which features to keep, which features to drop, and if any revisions need to be made on data formats. It'll be a good idea to create a function with pre-processing steps, since you'll need to clean all of the datasets before you work with them."
   ]
  },
  {
   "cell_type": "code",
   "execution_count": 4,
   "metadata": {},
   "outputs": [],
   "source": [
    "genpop_file = 'Udacity_AZDIAS_052018.csv'\n",
    "cust_file = 'Udacity_CUSTOMERS_052018.csv'\n",
    "train_file = 'Udacity_MAILOUT_052018_TRAIN.csv'\n",
    "test_file = 'Udacity_MAILOUT_052018_TEST.csv'"
   ]
  },
  {
   "cell_type": "code",
   "execution_count": 5,
   "metadata": {},
   "outputs": [],
   "source": [
    "def read_file(filename):\n",
    "    return pd.read_csv('s3://{}/{}'.format(bucket, filename), sep = ';')"
   ]
  },
  {
   "cell_type": "code",
   "execution_count": 6,
   "metadata": {},
   "outputs": [
    {
     "name": "stderr",
     "output_type": "stream",
     "text": [
      "/home/ec2-user/anaconda3/envs/pytorch_p36/lib/python3.6/site-packages/IPython/core/magic.py:187: DtypeWarning: Columns (18,19) have mixed types.Specify dtype option on import or set low_memory=False.\n",
      "  call = lambda f, *a, **k: f(*a, **k)\n"
     ]
    },
    {
     "name": "stdout",
     "output_type": "stream",
     "text": [
      "CPU times: user 35.8 s, sys: 3.01 s, total: 38.8 s\n",
      "Wall time: 1min 8s\n"
     ]
    }
   ],
   "source": [
    "%%time\n",
    "\n",
    "genpop = read_file(genpop_file)\n",
    "customers = read_file(cust_file)\n",
    "train = read_file(train_file)\n",
    "test = read_file(test_file)"
   ]
  },
  {
   "cell_type": "markdown",
   "metadata": {},
   "source": [
    "First we need to answer the following questions:\n",
    "\n",
    "- how much data is missing in each column?\n",
    "- which columns are irredeemable and need to removed\n",
    "- which columns with missing data will we keep but fill in their NaNs\n",
    "- which are the final columns that we will use PCA on"
   ]
  },
  {
   "cell_type": "code",
   "execution_count": 11,
   "metadata": {},
   "outputs": [],
   "source": [
    "datasets = {\n",
    "    'genpop':genpop,\n",
    "    'customers':customers,\n",
    "    'train':train,\n",
    "    'test':test\n",
    "}"
   ]
  },
  {
   "cell_type": "code",
   "execution_count": 12,
   "metadata": {},
   "outputs": [],
   "source": [
    "def count_na(df):\n",
    "    '''\n",
    "    Counts the number of missing values of each column as a percentage\n",
    "    '''\n",
    "    series = df.isna().sum()/len(df)\n",
    "    return series"
   ]
  },
  {
   "cell_type": "markdown",
   "metadata": {},
   "source": [
    "Visualizing how many missing values we have to deal with and if their distribution is the same across other datasets"
   ]
  },
  {
   "cell_type": "code",
   "execution_count": 13,
   "metadata": {
    "scrolled": false
   },
   "outputs": [
    {
     "data": {
      "image/png": "[encoded data removed]",
      "text/plain": [
       "<Figure size 864x432 with 1 Axes>"
      ]
     },
     "metadata": {
      "needs_background": "light"
     },
     "output_type": "display_data"
    },
    {
     "data": {
      "image/png": "[encoded data removed]",
      "text/plain": [
       "<Figure size 864x432 with 1 Axes>"
      ]
     },
     "metadata": {
      "needs_background": "light"
     },
     "output_type": "display_data"
    },
    {
     "data": {
      "image/png": "[encoded data removed]",
      "text/plain": [
       "<Figure size 864x432 with 1 Axes>"
      ]
     },
     "metadata": {
      "needs_background": "light"
     },
     "output_type": "display_data"
    },
    {
     "data": {
      "image/png": "[encoded data removed]",
      "text/plain": [
       "<Figure size 864x432 with 1 Axes>"
      ]
     },
     "metadata": {
      "needs_background": "light"
     },
     "output_type": "display_data"
    }
   ],
   "source": [
    "for name, data in datasets.items():\n",
    "    plt.figure(figsize = (12, 6))\n",
    "    data_miss = count_na(data)\n",
    "    count_na(data).plot(kind = 'hist', bins = 80)\n",
    "    plt.xlabel('percentage of missing values')\n",
    "    plt.title('for '+name)\n",
    "\n",
    "del datasets, data #to free up memory"
   ]
  },
  {
   "cell_type": "markdown",
   "metadata": {},
   "source": [
    "Removing any columns missing with missing data more than 20% makes sense because any more than that might be too much to deal with.\n",
    "We will use the train dataset to test out and set up our cleaning functions."
   ]
  },
  {
   "cell_type": "code",
   "execution_count": 334,
   "metadata": {},
   "outputs": [],
   "source": [
    "missing = count_na(train)\n",
    "notmiss = list(missing[missing<0.20].index)\n",
    "clean = train[notmiss]\n",
    "\n",
    "del missing, notmiss"
   ]
  },
  {
   "cell_type": "code",
   "execution_count": 335,
   "metadata": {
    "scrolled": true
   },
   "outputs": [
    {
     "data": {
      "text/html": [
       "<div>\n",
       "<style scoped>\n",
       "    .dataframe tbody tr th:only-of-type {\n",
       "        vertical-align: middle;\n",
       "    }\n",
       "\n",
       "    .dataframe tbody tr th {\n",
       "        vertical-align: top;\n",
       "    }\n",
       "\n",
       "    .dataframe thead th {\n",
       "        text-align: right;\n",
       "    }\n",
       "</style>\n",
       "<table border=\"1\" class=\"dataframe\">\n",
       "  <thead>\n",
       "    <tr style=\"text-align: right;\">\n",
       "      <th></th>\n",
       "      <th>LNR</th>\n",
       "      <th>AGER_TYP</th>\n",
       "      <th>AKT_DAT_KL</th>\n",
       "      <th>ALTER_HH</th>\n",
       "      <th>ALTERSKATEGORIE_FEIN</th>\n",
       "      <th>ANZ_HAUSHALTE_AKTIV</th>\n",
       "      <th>ANZ_HH_TITEL</th>\n",
       "      <th>ANZ_KINDER</th>\n",
       "      <th>ANZ_PERSONEN</th>\n",
       "      <th>ANZ_STATISTISCHE_HAUSHALTE</th>\n",
       "      <th>...</th>\n",
       "      <th>VHN</th>\n",
       "      <th>VK_DHT4A</th>\n",
       "      <th>VK_DISTANZ</th>\n",
       "      <th>VK_ZG11</th>\n",
       "      <th>WOHNDAUER_2008</th>\n",
       "      <th>WOHNLAGE</th>\n",
       "      <th>ZABEOTYP</th>\n",
       "      <th>RESPONSE</th>\n",
       "      <th>ANREDE_KZ</th>\n",
       "      <th>ALTERSKATEGORIE_GROB</th>\n",
       "    </tr>\n",
       "  </thead>\n",
       "  <tbody>\n",
       "    <tr>\n",
       "      <th>0</th>\n",
       "      <td>1763</td>\n",
       "      <td>2</td>\n",
       "      <td>1.0</td>\n",
       "      <td>8.0</td>\n",
       "      <td>8.0</td>\n",
       "      <td>15.0</td>\n",
       "      <td>0.0</td>\n",
       "      <td>0.0</td>\n",
       "      <td>1.0</td>\n",
       "      <td>13.0</td>\n",
       "      <td>...</td>\n",
       "      <td>2.0</td>\n",
       "      <td>5.0</td>\n",
       "      <td>2.0</td>\n",
       "      <td>1.0</td>\n",
       "      <td>9.0</td>\n",
       "      <td>3.0</td>\n",
       "      <td>3</td>\n",
       "      <td>0</td>\n",
       "      <td>2</td>\n",
       "      <td>4</td>\n",
       "    </tr>\n",
       "    <tr>\n",
       "      <th>1</th>\n",
       "      <td>1771</td>\n",
       "      <td>1</td>\n",
       "      <td>4.0</td>\n",
       "      <td>13.0</td>\n",
       "      <td>13.0</td>\n",
       "      <td>1.0</td>\n",
       "      <td>0.0</td>\n",
       "      <td>0.0</td>\n",
       "      <td>2.0</td>\n",
       "      <td>1.0</td>\n",
       "      <td>...</td>\n",
       "      <td>3.0</td>\n",
       "      <td>1.0</td>\n",
       "      <td>2.0</td>\n",
       "      <td>1.0</td>\n",
       "      <td>9.0</td>\n",
       "      <td>7.0</td>\n",
       "      <td>1</td>\n",
       "      <td>0</td>\n",
       "      <td>2</td>\n",
       "      <td>3</td>\n",
       "    </tr>\n",
       "    <tr>\n",
       "      <th>2</th>\n",
       "      <td>1776</td>\n",
       "      <td>1</td>\n",
       "      <td>1.0</td>\n",
       "      <td>9.0</td>\n",
       "      <td>7.0</td>\n",
       "      <td>0.0</td>\n",
       "      <td>NaN</td>\n",
       "      <td>0.0</td>\n",
       "      <td>0.0</td>\n",
       "      <td>1.0</td>\n",
       "      <td>...</td>\n",
       "      <td>1.0</td>\n",
       "      <td>6.0</td>\n",
       "      <td>4.0</td>\n",
       "      <td>2.0</td>\n",
       "      <td>9.0</td>\n",
       "      <td>2.0</td>\n",
       "      <td>3</td>\n",
       "      <td>0</td>\n",
       "      <td>1</td>\n",
       "      <td>4</td>\n",
       "    </tr>\n",
       "    <tr>\n",
       "      <th>3</th>\n",
       "      <td>1460</td>\n",
       "      <td>2</td>\n",
       "      <td>1.0</td>\n",
       "      <td>6.0</td>\n",
       "      <td>6.0</td>\n",
       "      <td>4.0</td>\n",
       "      <td>0.0</td>\n",
       "      <td>0.0</td>\n",
       "      <td>2.0</td>\n",
       "      <td>4.0</td>\n",
       "      <td>...</td>\n",
       "      <td>4.0</td>\n",
       "      <td>8.0</td>\n",
       "      <td>11.0</td>\n",
       "      <td>11.0</td>\n",
       "      <td>9.0</td>\n",
       "      <td>1.0</td>\n",
       "      <td>3</td>\n",
       "      <td>0</td>\n",
       "      <td>2</td>\n",
       "      <td>4</td>\n",
       "    </tr>\n",
       "    <tr>\n",
       "      <th>4</th>\n",
       "      <td>1783</td>\n",
       "      <td>2</td>\n",
       "      <td>1.0</td>\n",
       "      <td>9.0</td>\n",
       "      <td>9.0</td>\n",
       "      <td>53.0</td>\n",
       "      <td>0.0</td>\n",
       "      <td>0.0</td>\n",
       "      <td>1.0</td>\n",
       "      <td>44.0</td>\n",
       "      <td>...</td>\n",
       "      <td>4.0</td>\n",
       "      <td>2.0</td>\n",
       "      <td>2.0</td>\n",
       "      <td>1.0</td>\n",
       "      <td>9.0</td>\n",
       "      <td>3.0</td>\n",
       "      <td>3</td>\n",
       "      <td>0</td>\n",
       "      <td>1</td>\n",
       "      <td>3</td>\n",
       "    </tr>\n",
       "    <tr>\n",
       "      <th>5</th>\n",
       "      <td>1789</td>\n",
       "      <td>3</td>\n",
       "      <td>1.0</td>\n",
       "      <td>12.0</td>\n",
       "      <td>12.0</td>\n",
       "      <td>17.0</td>\n",
       "      <td>0.0</td>\n",
       "      <td>0.0</td>\n",
       "      <td>1.0</td>\n",
       "      <td>11.0</td>\n",
       "      <td>...</td>\n",
       "      <td>4.0</td>\n",
       "      <td>2.0</td>\n",
       "      <td>1.0</td>\n",
       "      <td>1.0</td>\n",
       "      <td>9.0</td>\n",
       "      <td>2.0</td>\n",
       "      <td>3</td>\n",
       "      <td>0</td>\n",
       "      <td>2</td>\n",
       "      <td>3</td>\n",
       "    </tr>\n",
       "    <tr>\n",
       "      <th>6</th>\n",
       "      <td>1795</td>\n",
       "      <td>1</td>\n",
       "      <td>1.0</td>\n",
       "      <td>8.0</td>\n",
       "      <td>8.0</td>\n",
       "      <td>2.0</td>\n",
       "      <td>0.0</td>\n",
       "      <td>0.0</td>\n",
       "      <td>1.0</td>\n",
       "      <td>1.0</td>\n",
       "      <td>...</td>\n",
       "      <td>1.0</td>\n",
       "      <td>6.0</td>\n",
       "      <td>6.0</td>\n",
       "      <td>3.0</td>\n",
       "      <td>9.0</td>\n",
       "      <td>2.0</td>\n",
       "      <td>3</td>\n",
       "      <td>0</td>\n",
       "      <td>2</td>\n",
       "      <td>4</td>\n",
       "    </tr>\n",
       "    <tr>\n",
       "      <th>7</th>\n",
       "      <td>1493</td>\n",
       "      <td>2</td>\n",
       "      <td>1.0</td>\n",
       "      <td>13.0</td>\n",
       "      <td>13.0</td>\n",
       "      <td>1.0</td>\n",
       "      <td>0.0</td>\n",
       "      <td>0.0</td>\n",
       "      <td>2.0</td>\n",
       "      <td>1.0</td>\n",
       "      <td>...</td>\n",
       "      <td>0.0</td>\n",
       "      <td>1.0</td>\n",
       "      <td>1.0</td>\n",
       "      <td>1.0</td>\n",
       "      <td>9.0</td>\n",
       "      <td>7.0</td>\n",
       "      <td>3</td>\n",
       "      <td>0</td>\n",
       "      <td>2</td>\n",
       "      <td>4</td>\n",
       "    </tr>\n",
       "    <tr>\n",
       "      <th>8</th>\n",
       "      <td>1801</td>\n",
       "      <td>-1</td>\n",
       "      <td>NaN</td>\n",
       "      <td>NaN</td>\n",
       "      <td>NaN</td>\n",
       "      <td>NaN</td>\n",
       "      <td>NaN</td>\n",
       "      <td>NaN</td>\n",
       "      <td>NaN</td>\n",
       "      <td>NaN</td>\n",
       "      <td>...</td>\n",
       "      <td>NaN</td>\n",
       "      <td>NaN</td>\n",
       "      <td>NaN</td>\n",
       "      <td>NaN</td>\n",
       "      <td>NaN</td>\n",
       "      <td>NaN</td>\n",
       "      <td>3</td>\n",
       "      <td>0</td>\n",
       "      <td>2</td>\n",
       "      <td>3</td>\n",
       "    </tr>\n",
       "    <tr>\n",
       "      <th>9</th>\n",
       "      <td>1834</td>\n",
       "      <td>-1</td>\n",
       "      <td>NaN</td>\n",
       "      <td>NaN</td>\n",
       "      <td>NaN</td>\n",
       "      <td>NaN</td>\n",
       "      <td>NaN</td>\n",
       "      <td>NaN</td>\n",
       "      <td>NaN</td>\n",
       "      <td>NaN</td>\n",
       "      <td>...</td>\n",
       "      <td>NaN</td>\n",
       "      <td>NaN</td>\n",
       "      <td>NaN</td>\n",
       "      <td>NaN</td>\n",
       "      <td>NaN</td>\n",
       "      <td>NaN</td>\n",
       "      <td>3</td>\n",
       "      <td>0</td>\n",
       "      <td>1</td>\n",
       "      <td>1</td>\n",
       "    </tr>\n",
       "  </tbody>\n",
       "</table>\n",
       "<p>10 rows × 295 columns</p>\n",
       "</div>"
      ],
      "text/plain": [
       "    LNR  AGER_TYP  AKT_DAT_KL  ALTER_HH  ALTERSKATEGORIE_FEIN  \\\n",
       "0  1763         2         1.0       8.0                   8.0   \n",
       "1  1771         1         4.0      13.0                  13.0   \n",
       "2  1776         1         1.0       9.0                   7.0   \n",
       "3  1460         2         1.0       6.0                   6.0   \n",
       "4  1783         2         1.0       9.0                   9.0   \n",
       "5  1789         3         1.0      12.0                  12.0   \n",
       "6  1795         1         1.0       8.0                   8.0   \n",
       "7  1493         2         1.0      13.0                  13.0   \n",
       "8  1801        -1         NaN       NaN                   NaN   \n",
       "9  1834        -1         NaN       NaN                   NaN   \n",
       "\n",
       "   ANZ_HAUSHALTE_AKTIV  ANZ_HH_TITEL  ANZ_KINDER  ANZ_PERSONEN  \\\n",
       "0                 15.0           0.0         0.0           1.0   \n",
       "1                  1.0           0.0         0.0           2.0   \n",
       "2                  0.0           NaN         0.0           0.0   \n",
       "3                  4.0           0.0         0.0           2.0   \n",
       "4                 53.0           0.0         0.0           1.0   \n",
       "5                 17.0           0.0         0.0           1.0   \n",
       "6                  2.0           0.0         0.0           1.0   \n",
       "7                  1.0           0.0         0.0           2.0   \n",
       "8                  NaN           NaN         NaN           NaN   \n",
       "9                  NaN           NaN         NaN           NaN   \n",
       "\n",
       "   ANZ_STATISTISCHE_HAUSHALTE  ...  VHN  VK_DHT4A  VK_DISTANZ VK_ZG11  \\\n",
       "0                        13.0  ...  2.0       5.0         2.0     1.0   \n",
       "1                         1.0  ...  3.0       1.0         2.0     1.0   \n",
       "2                         1.0  ...  1.0       6.0         4.0     2.0   \n",
       "3                         4.0  ...  4.0       8.0        11.0    11.0   \n",
       "4                        44.0  ...  4.0       2.0         2.0     1.0   \n",
       "5                        11.0  ...  4.0       2.0         1.0     1.0   \n",
       "6                         1.0  ...  1.0       6.0         6.0     3.0   \n",
       "7                         1.0  ...  0.0       1.0         1.0     1.0   \n",
       "8                         NaN  ...  NaN       NaN         NaN     NaN   \n",
       "9                         NaN  ...  NaN       NaN         NaN     NaN   \n",
       "\n",
       "  WOHNDAUER_2008 WOHNLAGE  ZABEOTYP  RESPONSE  ANREDE_KZ  ALTERSKATEGORIE_GROB  \n",
       "0            9.0      3.0         3         0          2                     4  \n",
       "1            9.0      7.0         1         0          2                     3  \n",
       "2            9.0      2.0         3         0          1                     4  \n",
       "3            9.0      1.0         3         0          2                     4  \n",
       "4            9.0      3.0         3         0          1                     3  \n",
       "5            9.0      2.0         3         0          2                     3  \n",
       "6            9.0      2.0         3         0          2                     4  \n",
       "7            9.0      7.0         3         0          2                     4  \n",
       "8            NaN      NaN         3         0          2                     3  \n",
       "9            NaN      NaN         3         0          1                     1  \n",
       "\n",
       "[10 rows x 295 columns]"
      ]
     },
     "execution_count": 335,
     "metadata": {},
     "output_type": "execute_result"
    }
   ],
   "source": [
    "clean.head(10)"
   ]
  },
  {
   "cell_type": "code",
   "execution_count": 336,
   "metadata": {},
   "outputs": [
    {
     "data": {
      "text/plain": [
       "float64    195\n",
       "int64       94\n",
       "object       6\n",
       "dtype: int64"
      ]
     },
     "execution_count": 336,
     "metadata": {},
     "output_type": "execute_result"
    }
   ],
   "source": [
    "clean.dtypes.value_counts()"
   ]
  },
  {
   "cell_type": "code",
   "execution_count": 337,
   "metadata": {},
   "outputs": [
    {
     "data": {
      "text/html": [
       "<div>\n",
       "<style scoped>\n",
       "    .dataframe tbody tr th:only-of-type {\n",
       "        vertical-align: middle;\n",
       "    }\n",
       "\n",
       "    .dataframe tbody tr th {\n",
       "        vertical-align: top;\n",
       "    }\n",
       "\n",
       "    .dataframe thead th {\n",
       "        text-align: right;\n",
       "    }\n",
       "</style>\n",
       "<table border=\"1\" class=\"dataframe\">\n",
       "  <thead>\n",
       "    <tr style=\"text-align: right;\">\n",
       "      <th></th>\n",
       "      <th>CAMEO_DEU_2015</th>\n",
       "      <th>CAMEO_DEUG_2015</th>\n",
       "      <th>CAMEO_INTL_2015</th>\n",
       "      <th>D19_LETZTER_KAUF_BRANCHE</th>\n",
       "      <th>EINGEFUEGT_AM</th>\n",
       "      <th>OST_WEST_KZ</th>\n",
       "    </tr>\n",
       "  </thead>\n",
       "  <tbody>\n",
       "    <tr>\n",
       "      <th>0</th>\n",
       "      <td>5D</td>\n",
       "      <td>5</td>\n",
       "      <td>34</td>\n",
       "      <td>D19_UNBEKANNT</td>\n",
       "      <td>1992-02-10 00:00:00</td>\n",
       "      <td>W</td>\n",
       "    </tr>\n",
       "    <tr>\n",
       "      <th>1</th>\n",
       "      <td>5B</td>\n",
       "      <td>5</td>\n",
       "      <td>32</td>\n",
       "      <td>D19_TELKO_MOBILE</td>\n",
       "      <td>1997-05-14 00:00:00</td>\n",
       "      <td>W</td>\n",
       "    </tr>\n",
       "    <tr>\n",
       "      <th>2</th>\n",
       "      <td>2D</td>\n",
       "      <td>2</td>\n",
       "      <td>14</td>\n",
       "      <td>D19_LEBENSMITTEL</td>\n",
       "      <td>1995-05-24 00:00:00</td>\n",
       "      <td>O</td>\n",
       "    </tr>\n",
       "    <tr>\n",
       "      <th>3</th>\n",
       "      <td>2D</td>\n",
       "      <td>2</td>\n",
       "      <td>14</td>\n",
       "      <td>D19_UNBEKANNT</td>\n",
       "      <td>1992-02-10 00:00:00</td>\n",
       "      <td>W</td>\n",
       "    </tr>\n",
       "    <tr>\n",
       "      <th>4</th>\n",
       "      <td>7B</td>\n",
       "      <td>7</td>\n",
       "      <td>41</td>\n",
       "      <td>D19_BEKLEIDUNG_GEH</td>\n",
       "      <td>1992-02-10 00:00:00</td>\n",
       "      <td>W</td>\n",
       "    </tr>\n",
       "    <tr>\n",
       "      <th>5</th>\n",
       "      <td>7B</td>\n",
       "      <td>7</td>\n",
       "      <td>41</td>\n",
       "      <td>D19_BUCH_CD</td>\n",
       "      <td>1992-02-10 00:00:00</td>\n",
       "      <td>W</td>\n",
       "    </tr>\n",
       "    <tr>\n",
       "      <th>6</th>\n",
       "      <td>4C</td>\n",
       "      <td>4</td>\n",
       "      <td>24</td>\n",
       "      <td>D19_UNBEKANNT</td>\n",
       "      <td>1992-02-10 00:00:00</td>\n",
       "      <td>W</td>\n",
       "    </tr>\n",
       "    <tr>\n",
       "      <th>7</th>\n",
       "      <td>5C</td>\n",
       "      <td>5</td>\n",
       "      <td>33</td>\n",
       "      <td>D19_BEKLEIDUNG_GEH</td>\n",
       "      <td>1997-07-18 00:00:00</td>\n",
       "      <td>W</td>\n",
       "    </tr>\n",
       "    <tr>\n",
       "      <th>8</th>\n",
       "      <td>NaN</td>\n",
       "      <td>NaN</td>\n",
       "      <td>NaN</td>\n",
       "      <td>NaN</td>\n",
       "      <td>NaN</td>\n",
       "      <td>NaN</td>\n",
       "    </tr>\n",
       "    <tr>\n",
       "      <th>9</th>\n",
       "      <td>NaN</td>\n",
       "      <td>NaN</td>\n",
       "      <td>NaN</td>\n",
       "      <td>NaN</td>\n",
       "      <td>NaN</td>\n",
       "      <td>NaN</td>\n",
       "    </tr>\n",
       "  </tbody>\n",
       "</table>\n",
       "</div>"
      ],
      "text/plain": [
       "  CAMEO_DEU_2015 CAMEO_DEUG_2015 CAMEO_INTL_2015 D19_LETZTER_KAUF_BRANCHE  \\\n",
       "0             5D               5              34            D19_UNBEKANNT   \n",
       "1             5B               5              32         D19_TELKO_MOBILE   \n",
       "2             2D               2              14         D19_LEBENSMITTEL   \n",
       "3             2D               2              14            D19_UNBEKANNT   \n",
       "4             7B               7              41       D19_BEKLEIDUNG_GEH   \n",
       "5             7B               7              41              D19_BUCH_CD   \n",
       "6             4C               4              24            D19_UNBEKANNT   \n",
       "7             5C               5              33       D19_BEKLEIDUNG_GEH   \n",
       "8            NaN             NaN             NaN                      NaN   \n",
       "9            NaN             NaN             NaN                      NaN   \n",
       "\n",
       "         EINGEFUEGT_AM OST_WEST_KZ  \n",
       "0  1992-02-10 00:00:00           W  \n",
       "1  1997-05-14 00:00:00           W  \n",
       "2  1995-05-24 00:00:00           O  \n",
       "3  1992-02-10 00:00:00           W  \n",
       "4  1992-02-10 00:00:00           W  \n",
       "5  1992-02-10 00:00:00           W  \n",
       "6  1992-02-10 00:00:00           W  \n",
       "7  1997-07-18 00:00:00           W  \n",
       "8                  NaN         NaN  \n",
       "9                  NaN         NaN  "
      ]
     },
     "execution_count": 337,
     "metadata": {},
     "output_type": "execute_result"
    }
   ],
   "source": [
    "clean[clean.dtypes[clean.dtypes=='object'].index].head(10)"
   ]
  },
  {
   "cell_type": "markdown",
   "metadata": {},
   "source": [
    "These are the few columns that were given a dtype of 'object'. This would mean that most of these should be categorical variables, with the exeption of EINGEFUEGT_AM, which clearly is a columns of dates"
   ]
  },
  {
   "cell_type": "code",
   "execution_count": 338,
   "metadata": {},
   "outputs": [
    {
     "data": {
      "text/plain": [
       "{'CUSTOMER_GROUP', 'ONLINE_PURCHASE', 'PRODUCT_GROUP'}"
      ]
     },
     "execution_count": 338,
     "metadata": {},
     "output_type": "execute_result"
    }
   ],
   "source": [
    "set(customers.columns) - set(train.columns)"
   ]
  },
  {
   "cell_type": "code",
   "execution_count": 339,
   "metadata": {},
   "outputs": [
    {
     "data": {
      "text/plain": [
       "{'CUSTOMER_GROUP', 'ONLINE_PURCHASE', 'PRODUCT_GROUP'}"
      ]
     },
     "execution_count": 339,
     "metadata": {},
     "output_type": "execute_result"
    }
   ],
   "source": [
    "set(customers.columns) - set(genpop.columns)"
   ]
  },
  {
   "cell_type": "markdown",
   "metadata": {},
   "source": [
    "These 3 columns are only available in the customers dataset. Let's see them in more detail:"
   ]
  },
  {
   "cell_type": "code",
   "execution_count": 22,
   "metadata": {},
   "outputs": [
    {
     "data": {
      "text/plain": [
       "MULTI_BUYER     132238\n",
       "SINGLE_BUYER     59414\n",
       "Name: CUSTOMER_GROUP, dtype: int64"
      ]
     },
     "execution_count": 22,
     "metadata": {},
     "output_type": "execute_result"
    },
    {
     "data": {
      "image/png": "[encoded data removed]",
      "text/plain": [
       "<Figure size 432x288 with 1 Axes>"
      ]
     },
     "metadata": {
      "needs_background": "light"
     },
     "output_type": "display_data"
    }
   ],
   "source": [
    "customers.CUSTOMER_GROUP.value_counts(dropna=False).plot( kind = 'bar')\n",
    "customers.CUSTOMER_GROUP.value_counts(dropna=False)"
   ]
  },
  {
   "cell_type": "code",
   "execution_count": 23,
   "metadata": {},
   "outputs": [
    {
     "data": {
      "text/plain": [
       "COSMETIC_AND_FOOD    100860\n",
       "FOOD                  47382\n",
       "COSMETIC              43410\n",
       "Name: PRODUCT_GROUP, dtype: int64"
      ]
     },
     "execution_count": 23,
     "metadata": {},
     "output_type": "execute_result"
    },
    {
     "data": {
      "image/png": "[encoded data removed]",
      "text/plain": [
       "<Figure size 432x288 with 1 Axes>"
      ]
     },
     "metadata": {
      "needs_background": "light"
     },
     "output_type": "display_data"
    }
   ],
   "source": [
    "customers.PRODUCT_GROUP.value_counts(dropna=False).plot( kind = 'bar')\n",
    "customers.PRODUCT_GROUP.value_counts(dropna=False)"
   ]
  },
  {
   "cell_type": "code",
   "execution_count": 24,
   "metadata": {},
   "outputs": [
    {
     "data": {
      "text/plain": [
       "0    174356\n",
       "1     17296\n",
       "Name: ONLINE_PURCHASE, dtype: int64"
      ]
     },
     "execution_count": 24,
     "metadata": {},
     "output_type": "execute_result"
    },
    {
     "data": {
      "image/png": "[encoded data removed]",
      "text/plain": [
       "<Figure size 432x288 with 1 Axes>"
      ]
     },
     "metadata": {
      "needs_background": "light"
     },
     "output_type": "display_data"
    }
   ],
   "source": [
    "customers.ONLINE_PURCHASE.value_counts(dropna=False).plot( kind = 'bar')\n",
    "customers.ONLINE_PURCHASE.value_counts(dropna=False)"
   ]
  },
  {
   "cell_type": "markdown",
   "metadata": {},
   "source": [
    "While this seems very intersting, especially how most of the purchases are made offline, we can't make much use of them in our machine learning later on."
   ]
  },
  {
   "cell_type": "markdown",
   "metadata": {},
   "source": [
    "Let's get to know more about the columns were are using"
   ]
  },
  {
   "cell_type": "code",
   "execution_count": 25,
   "metadata": {},
   "outputs": [],
   "source": [
    "overview = pd.read_excel('./DIAS Information Levels - Attributes 2017.xlsx', index_col=0, header=1)"
   ]
  },
  {
   "cell_type": "code",
   "execution_count": 26,
   "metadata": {},
   "outputs": [],
   "source": [
    "details = pd.read_excel('./DIAS Attributes - Values 2017.xlsx', index_col=0, header=1)\n",
    "details = details.dropna(subset=['Attribute'])"
   ]
  },
  {
   "cell_type": "code",
   "execution_count": 27,
   "metadata": {},
   "outputs": [
    {
     "data": {
      "text/plain": [
       "(313, 4)"
      ]
     },
     "execution_count": 27,
     "metadata": {},
     "output_type": "execute_result"
    }
   ],
   "source": [
    "overview.shape"
   ]
  },
  {
   "cell_type": "code",
   "execution_count": 28,
   "metadata": {},
   "outputs": [
    {
     "data": {
      "text/plain": [
       "(314, 4)"
      ]
     },
     "execution_count": 28,
     "metadata": {},
     "output_type": "execute_result"
    }
   ],
   "source": [
    "details.shape"
   ]
  },
  {
   "cell_type": "code",
   "execution_count": 29,
   "metadata": {},
   "outputs": [
    {
     "data": {
      "text/html": [
       "<div>\n",
       "<style scoped>\n",
       "    .dataframe tbody tr th:only-of-type {\n",
       "        vertical-align: middle;\n",
       "    }\n",
       "\n",
       "    .dataframe tbody tr th {\n",
       "        vertical-align: top;\n",
       "    }\n",
       "\n",
       "    .dataframe thead th {\n",
       "        text-align: right;\n",
       "    }\n",
       "</style>\n",
       "<table border=\"1\" class=\"dataframe\">\n",
       "  <thead>\n",
       "    <tr style=\"text-align: right;\">\n",
       "      <th></th>\n",
       "      <th>Information level</th>\n",
       "      <th>Attribute</th>\n",
       "      <th>Description</th>\n",
       "      <th>Additional notes</th>\n",
       "    </tr>\n",
       "  </thead>\n",
       "  <tbody>\n",
       "    <tr>\n",
       "      <th>NaN</th>\n",
       "      <td>NaN</td>\n",
       "      <td>AGER_TYP</td>\n",
       "      <td>best-ager typology</td>\n",
       "      <td>in cooperation with Kantar TNS; the information basis is a consumer survey</td>\n",
       "    </tr>\n",
       "    <tr>\n",
       "      <th>NaN</th>\n",
       "      <td>Person</td>\n",
       "      <td>ALTERSKATEGORIE_GROB</td>\n",
       "      <td>age through prename analysis</td>\n",
       "      <td>modelled on millions of first name-age-reference data</td>\n",
       "    </tr>\n",
       "    <tr>\n",
       "      <th>NaN</th>\n",
       "      <td>NaN</td>\n",
       "      <td>ANREDE_KZ</td>\n",
       "      <td>gender</td>\n",
       "      <td>NaN</td>\n",
       "    </tr>\n",
       "    <tr>\n",
       "      <th>NaN</th>\n",
       "      <td>NaN</td>\n",
       "      <td>CJT_GESAMTTYP</td>\n",
       "      <td>Customer-Journey-Typology relating to the preferred information and buying channels of consumers</td>\n",
       "      <td>relating to the preferred information, marketing and buying channels of consumers as well as the...</td>\n",
       "    </tr>\n",
       "    <tr>\n",
       "      <th>NaN</th>\n",
       "      <td>NaN</td>\n",
       "      <td>FINANZ_MINIMALIST</td>\n",
       "      <td>financial typology: low financial interest</td>\n",
       "      <td>Gfk-Typology based on a representative household panel combined via a statistical modell with AZ...</td>\n",
       "    </tr>\n",
       "    <tr>\n",
       "      <th>NaN</th>\n",
       "      <td>NaN</td>\n",
       "      <td>FINANZ_SPARER</td>\n",
       "      <td>financial typology: money saver</td>\n",
       "      <td>NaN</td>\n",
       "    </tr>\n",
       "    <tr>\n",
       "      <th>NaN</th>\n",
       "      <td>NaN</td>\n",
       "      <td>FINANZ_VORSORGER</td>\n",
       "      <td>financial typology: be prepared</td>\n",
       "      <td>NaN</td>\n",
       "    </tr>\n",
       "    <tr>\n",
       "      <th>NaN</th>\n",
       "      <td>NaN</td>\n",
       "      <td>FINANZ_ANLEGER</td>\n",
       "      <td>financial typology: investor</td>\n",
       "      <td>NaN</td>\n",
       "    </tr>\n",
       "    <tr>\n",
       "      <th>NaN</th>\n",
       "      <td>NaN</td>\n",
       "      <td>FINANZ_UNAUFFAELLIGER</td>\n",
       "      <td>financial typology: unremarkable</td>\n",
       "      <td>NaN</td>\n",
       "    </tr>\n",
       "    <tr>\n",
       "      <th>NaN</th>\n",
       "      <td>NaN</td>\n",
       "      <td>FINANZ_HAUSBAUER</td>\n",
       "      <td>financial typology: main focus is the own house</td>\n",
       "      <td>NaN</td>\n",
       "    </tr>\n",
       "  </tbody>\n",
       "</table>\n",
       "</div>"
      ],
      "text/plain": [
       "    Information level              Attribute  \\\n",
       "NaN               NaN               AGER_TYP   \n",
       "NaN            Person   ALTERSKATEGORIE_GROB   \n",
       "NaN               NaN              ANREDE_KZ   \n",
       "NaN               NaN          CJT_GESAMTTYP   \n",
       "NaN               NaN      FINANZ_MINIMALIST   \n",
       "NaN               NaN          FINANZ_SPARER   \n",
       "NaN               NaN       FINANZ_VORSORGER   \n",
       "NaN               NaN         FINANZ_ANLEGER   \n",
       "NaN               NaN  FINANZ_UNAUFFAELLIGER   \n",
       "NaN               NaN       FINANZ_HAUSBAUER   \n",
       "\n",
       "                                                                                          Description  \\\n",
       "NaN                                                                                best-ager typology   \n",
       "NaN                                                                     age through prename analysis    \n",
       "NaN                                                                                            gender   \n",
       "NaN  Customer-Journey-Typology relating to the preferred information and buying channels of consumers   \n",
       "NaN                                                        financial typology: low financial interest   \n",
       "NaN                                                                   financial typology: money saver   \n",
       "NaN                                                                   financial typology: be prepared   \n",
       "NaN                                                                      financial typology: investor   \n",
       "NaN                                                                  financial typology: unremarkable   \n",
       "NaN                                                   financial typology: main focus is the own house   \n",
       "\n",
       "                                                                                        Additional notes  \n",
       "NaN                           in cooperation with Kantar TNS; the information basis is a consumer survey  \n",
       "NaN                                              modelled on millions of first name-age-reference data    \n",
       "NaN                                                                                                  NaN  \n",
       "NaN  relating to the preferred information, marketing and buying channels of consumers as well as the...  \n",
       "NaN  Gfk-Typology based on a representative household panel combined via a statistical modell with AZ...  \n",
       "NaN                                                                                                  NaN  \n",
       "NaN                                                                                                  NaN  \n",
       "NaN                                                                                                  NaN  \n",
       "NaN                                                                                                  NaN  \n",
       "NaN                                                                                                  NaN  "
      ]
     },
     "execution_count": 29,
     "metadata": {},
     "output_type": "execute_result"
    }
   ],
   "source": [
    "overview.head(10)"
   ]
  },
  {
   "cell_type": "code",
   "execution_count": 30,
   "metadata": {},
   "outputs": [
    {
     "data": {
      "text/html": [
       "<div>\n",
       "<style scoped>\n",
       "    .dataframe tbody tr th:only-of-type {\n",
       "        vertical-align: middle;\n",
       "    }\n",
       "\n",
       "    .dataframe tbody tr th {\n",
       "        vertical-align: top;\n",
       "    }\n",
       "\n",
       "    .dataframe thead th {\n",
       "        text-align: right;\n",
       "    }\n",
       "</style>\n",
       "<table border=\"1\" class=\"dataframe\">\n",
       "  <thead>\n",
       "    <tr style=\"text-align: right;\">\n",
       "      <th></th>\n",
       "      <th>Attribute</th>\n",
       "      <th>Description</th>\n",
       "      <th>Value</th>\n",
       "      <th>Meaning</th>\n",
       "    </tr>\n",
       "  </thead>\n",
       "  <tbody>\n",
       "    <tr>\n",
       "      <th>NaN</th>\n",
       "      <td>AGER_TYP</td>\n",
       "      <td>best-ager typology</td>\n",
       "      <td>-1</td>\n",
       "      <td>unknown</td>\n",
       "    </tr>\n",
       "    <tr>\n",
       "      <th>NaN</th>\n",
       "      <td>ALTERSKATEGORIE_GROB</td>\n",
       "      <td>age classification through prename analysis</td>\n",
       "      <td>-1, 0</td>\n",
       "      <td>unknown</td>\n",
       "    </tr>\n",
       "    <tr>\n",
       "      <th>NaN</th>\n",
       "      <td>ALTER_HH</td>\n",
       "      <td>main age within the household</td>\n",
       "      <td>0</td>\n",
       "      <td>unknown / no main age detectable</td>\n",
       "    </tr>\n",
       "    <tr>\n",
       "      <th>NaN</th>\n",
       "      <td>ANREDE_KZ</td>\n",
       "      <td>gender</td>\n",
       "      <td>-1, 0</td>\n",
       "      <td>unknown</td>\n",
       "    </tr>\n",
       "    <tr>\n",
       "      <th>NaN</th>\n",
       "      <td>ANZ_HAUSHALTE_AKTIV</td>\n",
       "      <td>number of households in the building</td>\n",
       "      <td>…</td>\n",
       "      <td>numeric value (typically coded from 1-10)</td>\n",
       "    </tr>\n",
       "    <tr>\n",
       "      <th>NaN</th>\n",
       "      <td>ANZ_HH_TITEL</td>\n",
       "      <td>number of academic title holder in building</td>\n",
       "      <td>…</td>\n",
       "      <td>numeric value (typically coded from 1-10)</td>\n",
       "    </tr>\n",
       "    <tr>\n",
       "      <th>NaN</th>\n",
       "      <td>ANZ_PERSONEN</td>\n",
       "      <td>number of adult persons in the household</td>\n",
       "      <td>…</td>\n",
       "      <td>numeric value (typically coded from 1-3)</td>\n",
       "    </tr>\n",
       "    <tr>\n",
       "      <th>NaN</th>\n",
       "      <td>ANZ_TITEL</td>\n",
       "      <td>number of professional title holder in household</td>\n",
       "      <td>…</td>\n",
       "      <td>numeric value (typically coded from 1-10)</td>\n",
       "    </tr>\n",
       "    <tr>\n",
       "      <th>NaN</th>\n",
       "      <td>BALLRAUM</td>\n",
       "      <td>distance to next urban centre</td>\n",
       "      <td>-1</td>\n",
       "      <td>unknown</td>\n",
       "    </tr>\n",
       "    <tr>\n",
       "      <th>NaN</th>\n",
       "      <td>BIP_FLAG</td>\n",
       "      <td>business-flag indicating companies in the building</td>\n",
       "      <td>-1</td>\n",
       "      <td>unknown</td>\n",
       "    </tr>\n",
       "  </tbody>\n",
       "</table>\n",
       "</div>"
      ],
      "text/plain": [
       "                Attribute                                         Description  \\\n",
       "NaN              AGER_TYP                                  best-ager typology   \n",
       "NaN  ALTERSKATEGORIE_GROB        age classification through prename analysis    \n",
       "NaN              ALTER_HH                       main age within the household   \n",
       "NaN             ANREDE_KZ                                              gender   \n",
       "NaN   ANZ_HAUSHALTE_AKTIV                number of households in the building   \n",
       "NaN          ANZ_HH_TITEL         number of academic title holder in building   \n",
       "NaN          ANZ_PERSONEN            number of adult persons in the household   \n",
       "NaN             ANZ_TITEL   number of professional title holder in household    \n",
       "NaN              BALLRAUM                      distance to next urban centre    \n",
       "NaN              BIP_FLAG  business-flag indicating companies in the building   \n",
       "\n",
       "     Value                                    Meaning  \n",
       "NaN     -1                                    unknown  \n",
       "NaN  -1, 0                                    unknown  \n",
       "NaN      0           unknown / no main age detectable  \n",
       "NaN  -1, 0                                    unknown  \n",
       "NaN      …  numeric value (typically coded from 1-10)  \n",
       "NaN      …  numeric value (typically coded from 1-10)  \n",
       "NaN      …   numeric value (typically coded from 1-3)  \n",
       "NaN      …  numeric value (typically coded from 1-10)  \n",
       "NaN     -1                                    unknown  \n",
       "NaN     -1                                    unknown  "
      ]
     },
     "execution_count": 30,
     "metadata": {},
     "output_type": "execute_result"
    }
   ],
   "source": [
    "details.head(10)"
   ]
  },
  {
   "cell_type": "code",
   "execution_count": 31,
   "metadata": {},
   "outputs": [
    {
     "data": {
      "text/plain": [
       "NaN                   303\n",
       "Household               1\n",
       "PLZ8                    1\n",
       "Postcode                1\n",
       "RR1_ID                  1\n",
       "Building                1\n",
       "Community               1\n",
       "Microcell (RR3_ID)      1\n",
       "125m x 125m Grid        1\n",
       "Microcell (RR4_ID)      1\n",
       "Person                  1\n",
       "Name: Information level, dtype: int64"
      ]
     },
     "execution_count": 31,
     "metadata": {},
     "output_type": "execute_result"
    }
   ],
   "source": [
    "overview['Information level'].value_counts(dropna=False)"
   ]
  },
  {
   "cell_type": "markdown",
   "metadata": {},
   "source": [
    "Informational Level is too empty to use"
   ]
  },
  {
   "cell_type": "code",
   "execution_count": 32,
   "metadata": {},
   "outputs": [
    {
     "data": {
      "text/plain": [
       "(300, 4)"
      ]
     },
     "execution_count": 32,
     "metadata": {},
     "output_type": "execute_result"
    }
   ],
   "source": [
    "details[details.Attribute.isin(overview.Attribute)].shape"
   ]
  },
  {
   "cell_type": "markdown",
   "metadata": {},
   "source": [
    "Most of the rows in overview are available in the details dataframe. Let's check out the ones that are different:"
   ]
  },
  {
   "cell_type": "code",
   "execution_count": 33,
   "metadata": {},
   "outputs": [
    {
     "data": {
      "text/html": [
       "<div>\n",
       "<style scoped>\n",
       "    .dataframe tbody tr th:only-of-type {\n",
       "        vertical-align: middle;\n",
       "    }\n",
       "\n",
       "    .dataframe tbody tr th {\n",
       "        vertical-align: top;\n",
       "    }\n",
       "\n",
       "    .dataframe thead th {\n",
       "        text-align: right;\n",
       "    }\n",
       "</style>\n",
       "<table border=\"1\" class=\"dataframe\">\n",
       "  <thead>\n",
       "    <tr style=\"text-align: right;\">\n",
       "      <th></th>\n",
       "      <th>Attribute</th>\n",
       "      <th>Description</th>\n",
       "      <th>Value</th>\n",
       "      <th>Meaning</th>\n",
       "    </tr>\n",
       "  </thead>\n",
       "  <tbody>\n",
       "    <tr>\n",
       "      <th>NaN</th>\n",
       "      <td>BIP_FLAG</td>\n",
       "      <td>business-flag indicating companies in the building</td>\n",
       "      <td>-1</td>\n",
       "      <td>unknown</td>\n",
       "    </tr>\n",
       "    <tr>\n",
       "      <th>NaN</th>\n",
       "      <td>D19_BANKEN_ANZ_12</td>\n",
       "      <td>transaction activity BANKS in the last 12 months</td>\n",
       "      <td>0</td>\n",
       "      <td>no transactions known</td>\n",
       "    </tr>\n",
       "    <tr>\n",
       "      <th>NaN</th>\n",
       "      <td>D19_BANKEN_ANZ_24</td>\n",
       "      <td>transaction activity BANKS in the last 24 months</td>\n",
       "      <td>0</td>\n",
       "      <td>no transactions known</td>\n",
       "    </tr>\n",
       "    <tr>\n",
       "      <th>NaN</th>\n",
       "      <td>D19_GESAMT_ANZ_12</td>\n",
       "      <td>transaction activity TOTAL POOL in the last 12 months</td>\n",
       "      <td>0</td>\n",
       "      <td>no transactions known</td>\n",
       "    </tr>\n",
       "    <tr>\n",
       "      <th>NaN</th>\n",
       "      <td>D19_GESAMT_ANZ_24</td>\n",
       "      <td>transaction activity TOTAL POOL in the last 24 months</td>\n",
       "      <td>0</td>\n",
       "      <td>no transactions known</td>\n",
       "    </tr>\n",
       "    <tr>\n",
       "      <th>NaN</th>\n",
       "      <td>D19_LOTTO_RZ</td>\n",
       "      <td>transactional activity based on the product group LOTTO</td>\n",
       "      <td>0</td>\n",
       "      <td>no transaction known</td>\n",
       "    </tr>\n",
       "    <tr>\n",
       "      <th>NaN</th>\n",
       "      <td>D19_TELKO_ANZ_12</td>\n",
       "      <td>transaction activity TELCO in the last 12 months</td>\n",
       "      <td>0</td>\n",
       "      <td>no transactions known</td>\n",
       "    </tr>\n",
       "    <tr>\n",
       "      <th>NaN</th>\n",
       "      <td>D19_TELKO_ANZ_24</td>\n",
       "      <td>transaction activity TELCO in the last 24 months</td>\n",
       "      <td>0</td>\n",
       "      <td>no transactions known</td>\n",
       "    </tr>\n",
       "    <tr>\n",
       "      <th>NaN</th>\n",
       "      <td>D19_VERSAND_ANZ_12</td>\n",
       "      <td>transaction activity MAIL-ORDER in the last 12 months</td>\n",
       "      <td>0</td>\n",
       "      <td>no transactions known</td>\n",
       "    </tr>\n",
       "    <tr>\n",
       "      <th>NaN</th>\n",
       "      <td>D19_VERSAND_ANZ_24</td>\n",
       "      <td>transaction activity MAIL-ORDER in the last 24 months</td>\n",
       "      <td>0</td>\n",
       "      <td>no transactions known</td>\n",
       "    </tr>\n",
       "    <tr>\n",
       "      <th>NaN</th>\n",
       "      <td>D19_VERSI_ANZ_12</td>\n",
       "      <td>transaction activity INSURANCE in the last 12 months</td>\n",
       "      <td>0</td>\n",
       "      <td>no transactions known</td>\n",
       "    </tr>\n",
       "    <tr>\n",
       "      <th>NaN</th>\n",
       "      <td>D19_VERSI_ANZ_24</td>\n",
       "      <td>transaction activity INSURANCE in the last 24 months</td>\n",
       "      <td>0</td>\n",
       "      <td>no transactions known</td>\n",
       "    </tr>\n",
       "    <tr>\n",
       "      <th>NaN</th>\n",
       "      <td>KBA13_CCM_3000</td>\n",
       "      <td>share of cars with 2500ccm to 2999ccm within the PLZ8</td>\n",
       "      <td>-1</td>\n",
       "      <td>unknown</td>\n",
       "    </tr>\n",
       "    <tr>\n",
       "      <th>NaN</th>\n",
       "      <td>KBA13_CCM_3001</td>\n",
       "      <td>share of cars with more than 3000ccm within the PLZ8</td>\n",
       "      <td>-1</td>\n",
       "      <td>unknown</td>\n",
       "    </tr>\n",
       "  </tbody>\n",
       "</table>\n",
       "</div>"
      ],
      "text/plain": [
       "              Attribute  \\\n",
       "NaN            BIP_FLAG   \n",
       "NaN   D19_BANKEN_ANZ_12   \n",
       "NaN   D19_BANKEN_ANZ_24   \n",
       "NaN   D19_GESAMT_ANZ_12   \n",
       "NaN   D19_GESAMT_ANZ_24   \n",
       "NaN        D19_LOTTO_RZ   \n",
       "NaN    D19_TELKO_ANZ_12   \n",
       "NaN    D19_TELKO_ANZ_24   \n",
       "NaN  D19_VERSAND_ANZ_12   \n",
       "NaN  D19_VERSAND_ANZ_24   \n",
       "NaN    D19_VERSI_ANZ_12   \n",
       "NaN    D19_VERSI_ANZ_24   \n",
       "NaN      KBA13_CCM_3000   \n",
       "NaN      KBA13_CCM_3001   \n",
       "\n",
       "                                                 Description Value  \\\n",
       "NaN       business-flag indicating companies in the building    -1   \n",
       "NaN         transaction activity BANKS in the last 12 months     0   \n",
       "NaN         transaction activity BANKS in the last 24 months     0   \n",
       "NaN   transaction activity TOTAL POOL in the last 12 months      0   \n",
       "NaN   transaction activity TOTAL POOL in the last 24 months      0   \n",
       "NaN  transactional activity based on the product group LOTTO     0   \n",
       "NaN         transaction activity TELCO in the last 12 months     0   \n",
       "NaN         transaction activity TELCO in the last 24 months     0   \n",
       "NaN    transaction activity MAIL-ORDER in the last 12 months     0   \n",
       "NaN    transaction activity MAIL-ORDER in the last 24 months     0   \n",
       "NaN     transaction activity INSURANCE in the last 12 months     0   \n",
       "NaN     transaction activity INSURANCE in the last 24 months     0   \n",
       "NaN    share of cars with 2500ccm to 2999ccm within the PLZ8    -1   \n",
       "NaN     share of cars with more than 3000ccm within the PLZ8    -1   \n",
       "\n",
       "                   Meaning  \n",
       "NaN                unknown  \n",
       "NaN  no transactions known  \n",
       "NaN  no transactions known  \n",
       "NaN  no transactions known  \n",
       "NaN  no transactions known  \n",
       "NaN   no transaction known  \n",
       "NaN  no transactions known  \n",
       "NaN  no transactions known  \n",
       "NaN  no transactions known  \n",
       "NaN  no transactions known  \n",
       "NaN  no transactions known  \n",
       "NaN  no transactions known  \n",
       "NaN                unknown  \n",
       "NaN                unknown  "
      ]
     },
     "execution_count": 33,
     "metadata": {},
     "output_type": "execute_result"
    }
   ],
   "source": [
    "details[~details.Attribute.isin(overview.Attribute)] # rows in details but not in overivew"
   ]
  },
  {
   "cell_type": "code",
   "execution_count": 34,
   "metadata": {},
   "outputs": [
    {
     "data": {
      "text/html": [
       "<div>\n",
       "<style scoped>\n",
       "    .dataframe tbody tr th:only-of-type {\n",
       "        vertical-align: middle;\n",
       "    }\n",
       "\n",
       "    .dataframe tbody tr th {\n",
       "        vertical-align: top;\n",
       "    }\n",
       "\n",
       "    .dataframe thead th {\n",
       "        text-align: right;\n",
       "    }\n",
       "</style>\n",
       "<table border=\"1\" class=\"dataframe\">\n",
       "  <thead>\n",
       "    <tr style=\"text-align: right;\">\n",
       "      <th></th>\n",
       "      <th>Information level</th>\n",
       "      <th>Attribute</th>\n",
       "      <th>Description</th>\n",
       "      <th>Additional notes</th>\n",
       "    </tr>\n",
       "  </thead>\n",
       "  <tbody>\n",
       "    <tr>\n",
       "      <th>NaN</th>\n",
       "      <td>NaN</td>\n",
       "      <td>D19_GESAMT_ANZ_12                                    D19_GESAMT_ANZ_24</td>\n",
       "      <td>transaction activity TOTAL POOL in the last 12 and 24 months</td>\n",
       "      <td>NaN</td>\n",
       "    </tr>\n",
       "    <tr>\n",
       "      <th>NaN</th>\n",
       "      <td>NaN</td>\n",
       "      <td>D19_BANKEN_ ANZ_12             D19_BANKEN_ ANZ_24</td>\n",
       "      <td>transaction activity BANKS in the last 12 and 24 months</td>\n",
       "      <td>NaN</td>\n",
       "    </tr>\n",
       "    <tr>\n",
       "      <th>NaN</th>\n",
       "      <td>NaN</td>\n",
       "      <td>D19_TELKO_ ANZ_12                  D19_TELKO_ ANZ_24</td>\n",
       "      <td>transaction activity TELCO in the last 12 and 24 months</td>\n",
       "      <td>NaN</td>\n",
       "    </tr>\n",
       "    <tr>\n",
       "      <th>NaN</th>\n",
       "      <td>NaN</td>\n",
       "      <td>D19_VERSI_ ANZ_12                                       D19_VERSI_ ANZ_24</td>\n",
       "      <td>transaction activity INSURANCE in the last 12 and 24 months</td>\n",
       "      <td>NaN</td>\n",
       "    </tr>\n",
       "    <tr>\n",
       "      <th>NaN</th>\n",
       "      <td>NaN</td>\n",
       "      <td>D19_VERSAND_ ANZ_12          D19_VERSAND_ ANZ_24</td>\n",
       "      <td>transaction activity MAIL-ORDER in the last 12 and 24 months</td>\n",
       "      <td>NaN</td>\n",
       "    </tr>\n",
       "    <tr>\n",
       "      <th>NaN</th>\n",
       "      <td>NaN</td>\n",
       "      <td>D19_VERSI_OFFLINE_DATUM</td>\n",
       "      <td>actuality of the last transaction for the segment insurance OFFLINE</td>\n",
       "      <td>NaN</td>\n",
       "    </tr>\n",
       "    <tr>\n",
       "      <th>NaN</th>\n",
       "      <td>NaN</td>\n",
       "      <td>D19_VERSI_ONLINE_DATUM</td>\n",
       "      <td>actuality of the last transaction for the segment insurance ONLINE</td>\n",
       "      <td>NaN</td>\n",
       "    </tr>\n",
       "    <tr>\n",
       "      <th>NaN</th>\n",
       "      <td>NaN</td>\n",
       "      <td>D19_VERSI_DATUM</td>\n",
       "      <td>actuality of the last transaction for the segment insurance TOTAL</td>\n",
       "      <td>NaN</td>\n",
       "    </tr>\n",
       "    <tr>\n",
       "      <th>NaN</th>\n",
       "      <td>NaN</td>\n",
       "      <td>PLZ</td>\n",
       "      <td>postcode</td>\n",
       "      <td>NaN</td>\n",
       "    </tr>\n",
       "    <tr>\n",
       "      <th>NaN</th>\n",
       "      <td>NaN</td>\n",
       "      <td>PLZ8</td>\n",
       "      <td>sub-postcode (about 8 PLZ8 make up one PLZ) and \\nnew macrocell level (about 500 households)</td>\n",
       "      <td>NaN</td>\n",
       "    </tr>\n",
       "    <tr>\n",
       "      <th>NaN</th>\n",
       "      <td>Community</td>\n",
       "      <td>ARBEIT</td>\n",
       "      <td>share of unemployed person in the community</td>\n",
       "      <td>NaN</td>\n",
       "    </tr>\n",
       "    <tr>\n",
       "      <th>NaN</th>\n",
       "      <td>NaN</td>\n",
       "      <td>EINWOHNER</td>\n",
       "      <td>inhabitants</td>\n",
       "      <td>NaN</td>\n",
       "    </tr>\n",
       "    <tr>\n",
       "      <th>NaN</th>\n",
       "      <td>NaN</td>\n",
       "      <td>GKZ</td>\n",
       "      <td>standardized community-code</td>\n",
       "      <td>NaN</td>\n",
       "    </tr>\n",
       "  </tbody>\n",
       "</table>\n",
       "</div>"
      ],
      "text/plain": [
       "    Information level  \\\n",
       "NaN               NaN   \n",
       "NaN               NaN   \n",
       "NaN               NaN   \n",
       "NaN               NaN   \n",
       "NaN               NaN   \n",
       "NaN               NaN   \n",
       "NaN               NaN   \n",
       "NaN               NaN   \n",
       "NaN               NaN   \n",
       "NaN               NaN   \n",
       "NaN         Community   \n",
       "NaN               NaN   \n",
       "NaN               NaN   \n",
       "\n",
       "                                                                     Attribute  \\\n",
       "NaN     D19_GESAMT_ANZ_12                                    D19_GESAMT_ANZ_24   \n",
       "NaN                          D19_BANKEN_ ANZ_12             D19_BANKEN_ ANZ_24   \n",
       "NaN                       D19_TELKO_ ANZ_12                  D19_TELKO_ ANZ_24   \n",
       "NaN  D19_VERSI_ ANZ_12                                       D19_VERSI_ ANZ_24   \n",
       "NaN                           D19_VERSAND_ ANZ_12          D19_VERSAND_ ANZ_24   \n",
       "NaN                                                    D19_VERSI_OFFLINE_DATUM   \n",
       "NaN                                                     D19_VERSI_ONLINE_DATUM   \n",
       "NaN                                                            D19_VERSI_DATUM   \n",
       "NaN                                                                        PLZ   \n",
       "NaN                                                                       PLZ8   \n",
       "NaN                                                                     ARBEIT   \n",
       "NaN                                                                  EINWOHNER   \n",
       "NaN                                                                        GKZ   \n",
       "\n",
       "                                                                                      Description  \\\n",
       "NaN                                 transaction activity TOTAL POOL in the last 12 and 24 months    \n",
       "NaN                                       transaction activity BANKS in the last 12 and 24 months   \n",
       "NaN                                       transaction activity TELCO in the last 12 and 24 months   \n",
       "NaN                                   transaction activity INSURANCE in the last 12 and 24 months   \n",
       "NaN                                  transaction activity MAIL-ORDER in the last 12 and 24 months   \n",
       "NaN                           actuality of the last transaction for the segment insurance OFFLINE   \n",
       "NaN                            actuality of the last transaction for the segment insurance ONLINE   \n",
       "NaN                             actuality of the last transaction for the segment insurance TOTAL   \n",
       "NaN                                                                                      postcode   \n",
       "NaN  sub-postcode (about 8 PLZ8 make up one PLZ) and \\nnew macrocell level (about 500 households)   \n",
       "NaN                                                   share of unemployed person in the community   \n",
       "NaN                                                                                   inhabitants   \n",
       "NaN                                                                   standardized community-code   \n",
       "\n",
       "    Additional notes  \n",
       "NaN              NaN  \n",
       "NaN              NaN  \n",
       "NaN              NaN  \n",
       "NaN              NaN  \n",
       "NaN              NaN  \n",
       "NaN              NaN  \n",
       "NaN              NaN  \n",
       "NaN              NaN  \n",
       "NaN              NaN  \n",
       "NaN              NaN  \n",
       "NaN              NaN  \n",
       "NaN              NaN  \n",
       "NaN              NaN  "
      ]
     },
     "execution_count": 34,
     "metadata": {},
     "output_type": "execute_result"
    }
   ],
   "source": [
    "overview[~overview.Attribute.isin(details.Attribute)] # rows in overview but not in details"
   ]
  },
  {
   "cell_type": "markdown",
   "metadata": {},
   "source": [
    "Both dataframes have a few rows that the other doesn't have. So, it is useful to use them both together."
   ]
  },
  {
   "cell_type": "code",
   "execution_count": 35,
   "metadata": {},
   "outputs": [
    {
     "data": {
      "text/html": [
       "<div>\n",
       "<style scoped>\n",
       "    .dataframe tbody tr th:only-of-type {\n",
       "        vertical-align: middle;\n",
       "    }\n",
       "\n",
       "    .dataframe tbody tr th {\n",
       "        vertical-align: top;\n",
       "    }\n",
       "\n",
       "    .dataframe thead th {\n",
       "        text-align: right;\n",
       "    }\n",
       "</style>\n",
       "<table border=\"1\" class=\"dataframe\">\n",
       "  <thead>\n",
       "    <tr style=\"text-align: right;\">\n",
       "      <th></th>\n",
       "      <th>Attribute</th>\n",
       "      <th>Description</th>\n",
       "      <th>Additional notes</th>\n",
       "      <th>Value</th>\n",
       "      <th>Meaning</th>\n",
       "    </tr>\n",
       "  </thead>\n",
       "  <tbody>\n",
       "    <tr>\n",
       "      <th>0</th>\n",
       "      <td>AGER_TYP</td>\n",
       "      <td>best-ager typology</td>\n",
       "      <td>in cooperation with Kantar TNS; the information basis is a consumer survey</td>\n",
       "      <td>-1</td>\n",
       "      <td>unknown</td>\n",
       "    </tr>\n",
       "    <tr>\n",
       "      <th>1</th>\n",
       "      <td>ALTERSKATEGORIE_GROB</td>\n",
       "      <td>age through prename analysis</td>\n",
       "      <td>modelled on millions of first name-age-reference data</td>\n",
       "      <td>NaN</td>\n",
       "      <td>NaN</td>\n",
       "    </tr>\n",
       "    <tr>\n",
       "      <th>2</th>\n",
       "      <td>ANREDE_KZ</td>\n",
       "      <td>gender</td>\n",
       "      <td>NaN</td>\n",
       "      <td>-1, 0</td>\n",
       "      <td>unknown</td>\n",
       "    </tr>\n",
       "    <tr>\n",
       "      <th>3</th>\n",
       "      <td>CJT_GESAMTTYP</td>\n",
       "      <td>Customer-Journey-Typology relating to the preferred information and buying channels of consumers</td>\n",
       "      <td>relating to the preferred information, marketing and buying channels of consumers as well as the...</td>\n",
       "      <td>NaN</td>\n",
       "      <td>NaN</td>\n",
       "    </tr>\n",
       "    <tr>\n",
       "      <th>4</th>\n",
       "      <td>FINANZ_MINIMALIST</td>\n",
       "      <td>financial typology: low financial interest</td>\n",
       "      <td>Gfk-Typology based on a representative household panel combined via a statistical modell with AZ...</td>\n",
       "      <td>-1</td>\n",
       "      <td>unknown</td>\n",
       "    </tr>\n",
       "    <tr>\n",
       "      <th>5</th>\n",
       "      <td>FINANZ_SPARER</td>\n",
       "      <td>financial typology: money saver</td>\n",
       "      <td>NaN</td>\n",
       "      <td>-1</td>\n",
       "      <td>unknown</td>\n",
       "    </tr>\n",
       "    <tr>\n",
       "      <th>6</th>\n",
       "      <td>FINANZ_VORSORGER</td>\n",
       "      <td>financial typology: be prepared</td>\n",
       "      <td>NaN</td>\n",
       "      <td>-1</td>\n",
       "      <td>unknown</td>\n",
       "    </tr>\n",
       "    <tr>\n",
       "      <th>7</th>\n",
       "      <td>FINANZ_ANLEGER</td>\n",
       "      <td>financial typology: investor</td>\n",
       "      <td>NaN</td>\n",
       "      <td>-1</td>\n",
       "      <td>unknown</td>\n",
       "    </tr>\n",
       "    <tr>\n",
       "      <th>8</th>\n",
       "      <td>FINANZ_UNAUFFAELLIGER</td>\n",
       "      <td>financial typology: unremarkable</td>\n",
       "      <td>NaN</td>\n",
       "      <td>-1</td>\n",
       "      <td>unknown</td>\n",
       "    </tr>\n",
       "    <tr>\n",
       "      <th>9</th>\n",
       "      <td>FINANZ_HAUSBAUER</td>\n",
       "      <td>financial typology: main focus is the own house</td>\n",
       "      <td>NaN</td>\n",
       "      <td>-1</td>\n",
       "      <td>unknown</td>\n",
       "    </tr>\n",
       "  </tbody>\n",
       "</table>\n",
       "</div>"
      ],
      "text/plain": [
       "               Attribute  \\\n",
       "0               AGER_TYP   \n",
       "1   ALTERSKATEGORIE_GROB   \n",
       "2              ANREDE_KZ   \n",
       "3          CJT_GESAMTTYP   \n",
       "4      FINANZ_MINIMALIST   \n",
       "5          FINANZ_SPARER   \n",
       "6       FINANZ_VORSORGER   \n",
       "7         FINANZ_ANLEGER   \n",
       "8  FINANZ_UNAUFFAELLIGER   \n",
       "9       FINANZ_HAUSBAUER   \n",
       "\n",
       "                                                                                        Description  \\\n",
       "0                                                                                best-ager typology   \n",
       "1                                                                     age through prename analysis    \n",
       "2                                                                                            gender   \n",
       "3  Customer-Journey-Typology relating to the preferred information and buying channels of consumers   \n",
       "4                                                        financial typology: low financial interest   \n",
       "5                                                                   financial typology: money saver   \n",
       "6                                                                   financial typology: be prepared   \n",
       "7                                                                      financial typology: investor   \n",
       "8                                                                  financial typology: unremarkable   \n",
       "9                                                   financial typology: main focus is the own house   \n",
       "\n",
       "                                                                                      Additional notes  \\\n",
       "0                           in cooperation with Kantar TNS; the information basis is a consumer survey   \n",
       "1                                              modelled on millions of first name-age-reference data     \n",
       "2                                                                                                  NaN   \n",
       "3  relating to the preferred information, marketing and buying channels of consumers as well as the...   \n",
       "4  Gfk-Typology based on a representative household panel combined via a statistical modell with AZ...   \n",
       "5                                                                                                  NaN   \n",
       "6                                                                                                  NaN   \n",
       "7                                                                                                  NaN   \n",
       "8                                                                                                  NaN   \n",
       "9                                                                                                  NaN   \n",
       "\n",
       "   Value  Meaning  \n",
       "0     -1  unknown  \n",
       "1    NaN      NaN  \n",
       "2  -1, 0  unknown  \n",
       "3    NaN      NaN  \n",
       "4     -1  unknown  \n",
       "5     -1  unknown  \n",
       "6     -1  unknown  \n",
       "7     -1  unknown  \n",
       "8     -1  unknown  \n",
       "9     -1  unknown  "
      ]
     },
     "execution_count": 35,
     "metadata": {},
     "output_type": "execute_result"
    }
   ],
   "source": [
    "info = overview.merge(details, how = 'outer').drop(['Information level'],axis=1)\n",
    "info.head(10)"
   ]
  },
  {
   "cell_type": "code",
   "execution_count": 36,
   "metadata": {},
   "outputs": [
    {
     "data": {
      "text/plain": [
       "50"
      ]
     },
     "execution_count": 36,
     "metadata": {},
     "output_type": "execute_result"
    }
   ],
   "source": [
    "info.Attribute.duplicated().sum()"
   ]
  },
  {
   "cell_type": "code",
   "execution_count": 37,
   "metadata": {},
   "outputs": [],
   "source": [
    "info = info.drop_duplicates(subset='Attribute')"
   ]
  },
  {
   "cell_type": "code",
   "execution_count": 38,
   "metadata": {},
   "outputs": [
    {
     "data": {
      "text/plain": [
       "(327, 5)"
      ]
     },
     "execution_count": 38,
     "metadata": {},
     "output_type": "execute_result"
    }
   ],
   "source": [
    "info.shape"
   ]
  },
  {
   "cell_type": "code",
   "execution_count": 340,
   "metadata": {},
   "outputs": [
    {
     "name": "stdout",
     "output_type": "stream",
     "text": [
      "(211, 5)\n"
     ]
    }
   ],
   "source": [
    "info_clean = info[info.Attribute.isin(clean.columns)] # focusing on only the columns we will be using\n",
    "print(info_clean.shape)"
   ]
  },
  {
   "cell_type": "code",
   "execution_count": 341,
   "metadata": {
    "scrolled": false
   },
   "outputs": [
    {
     "name": "stdout",
     "output_type": "stream",
     "text": [
      "AGER_TYP: best-ager typology\n",
      "\n",
      "ALTERSKATEGORIE_GROB: age through prename analysis \n",
      "\n",
      "ALTER_HH: main age within the household\n",
      "\n",
      "ANREDE_KZ: gender\n",
      "\n",
      "ANZ_HAUSHALTE_AKTIV: number of households known in this building\n",
      "\n",
      "ANZ_HH_TITEL: number of holders of an academic title in the building\n",
      "\n",
      "ANZ_PERSONEN: number of persons known in this household\n",
      "\n",
      "ANZ_TITEL: number of bearers of an academic title within this household\n",
      "\n",
      "ARBEIT: share of unemployed person in the community\n",
      "\n",
      "BALLRAUM: distance to the next metropole\n",
      "\n",
      "CAMEO_DEUG_2015: CAMEO_4.0: uppergroup\n",
      "\n",
      "CAMEO_DEU_2015: CAMEO_4.0: specific group\n",
      "\n",
      "CJT_GESAMTTYP: Customer-Journey-Typology relating to the preferred information and buying channels of consumers\n",
      "\n",
      "D19_BANKEN_ANZ_12: transaction activity BANKS in the last 12 months\n",
      "\n",
      "D19_BANKEN_ANZ_24: transaction activity BANKS in the last 24 months\n",
      "\n",
      "D19_BANKEN_DATUM: actuality of the last transaction for the segment banks TOTAL\n",
      "\n",
      "D19_BANKEN_OFFLINE_DATUM: actuality of the last transaction for the segment banks OFFLINE\n",
      "\n",
      "D19_BANKEN_ONLINE_DATUM: actuality of the last transaction for the segment banks ONLINE\n",
      "\n",
      "D19_BANKEN_ONLINE_QUOTE_12: amount of online transactions within all transactions in the segment bank \n",
      "\n",
      "D19_GESAMT_ANZ_12: transaction activity TOTAL POOL in the last 12 months \n",
      "\n",
      "D19_GESAMT_ANZ_24: transaction activity TOTAL POOL in the last 24 months \n",
      "\n",
      "D19_GESAMT_DATUM: actuality of the last transaction with the complete file TOTAL\n",
      "\n",
      "D19_GESAMT_OFFLINE_DATUM: actuality of the last transaction with the complete file OFFLINE\n",
      "\n",
      "D19_GESAMT_ONLINE_DATUM: actuality of the last transaction with the complete file ONLINE\n",
      "\n",
      "D19_GESAMT_ONLINE_QUOTE_12: amount of online transactions within all transactions in the complete file \n",
      "\n",
      "D19_KONSUMTYP: consumption type \n",
      "\n",
      "D19_TELKO_ANZ_12: transaction activity TELCO in the last 12 months\n",
      "\n",
      "D19_TELKO_ANZ_24: transaction activity TELCO in the last 24 months\n",
      "\n",
      "D19_TELKO_DATUM: actuality of the last transaction for the segment telecommunication TOTAL\n",
      "\n",
      "D19_TELKO_OFFLINE_DATUM: actuality of the last transaction for the segment telecommunication OFFLINE\n",
      "\n",
      "D19_TELKO_ONLINE_DATUM: actuality of the last transaction for the segment telecommunication ONLINE\n",
      "\n",
      "D19_VERSAND_ANZ_12: transaction activity MAIL-ORDER in the last 12 months\n",
      "\n",
      "D19_VERSAND_ANZ_24: transaction activity MAIL-ORDER in the last 24 months\n",
      "\n",
      "D19_VERSAND_DATUM: actuality of the last transaction for the segment mail-order TOTAL\n",
      "\n",
      "D19_VERSAND_OFFLINE_DATUM: actuality of the last transaction for the segment mail-order OFFLINE\n",
      "\n",
      "D19_VERSAND_ONLINE_DATUM: actuality of the last transaction for the segment mail-order ONLINE\n",
      "\n",
      "D19_VERSAND_ONLINE_QUOTE_12: amount of online transactions within all transactions in the segment mail-order \n",
      "\n",
      "D19_VERSI_ANZ_12: transaction activity INSURANCE in the last 12 months\n",
      "\n",
      "D19_VERSI_ANZ_24: transaction activity INSURANCE in the last 24 months\n",
      "\n",
      "D19_VERSI_DATUM: actuality of the last transaction for the segment insurance TOTAL\n",
      "\n",
      "D19_VERSI_OFFLINE_DATUM: actuality of the last transaction for the segment insurance OFFLINE\n",
      "\n",
      "D19_VERSI_ONLINE_DATUM: actuality of the last transaction for the segment insurance ONLINE\n",
      "\n",
      "EWDICHTE: density of inhabitants per square kilometer\n",
      "\n",
      "FINANZTYP: best descirbing financial type for the peron\n",
      "\n",
      "FINANZ_ANLEGER: financial typology: investor\n",
      "\n",
      "FINANZ_HAUSBAUER: financial typology: main focus is the own house\n",
      "\n",
      "FINANZ_MINIMALIST: financial typology: low financial interest\n",
      "\n",
      "FINANZ_SPARER: financial typology: money saver\n",
      "\n",
      "FINANZ_UNAUFFAELLIGER: financial typology: unremarkable\n",
      "\n",
      "FINANZ_VORSORGER: financial typology: be prepared\n",
      "\n",
      "GEBAEUDETYP: type of building (residential or commercial)\n",
      "\n",
      "GEBAEUDETYP_RASTER: industrial areas\n",
      "\n",
      "GEBURTSJAHR: year of birth\n",
      "\n",
      "GFK_URLAUBERTYP: vacation habits\n",
      "\n",
      "GREEN_AVANTGARDE: the environmental sustainability is the dominating movement in the youth of these consumers\n",
      "\n",
      "HEALTH_TYP: health typology\n",
      "\n",
      "HH_EINKOMMEN_SCORE: estimated household_net_income \n",
      "\n",
      "INNENSTADT: distance to the city centre\n",
      "\n",
      "KBA05_HERSTTEMP: Development of the most common car manufacturers in the neighbourhood\n",
      "\n",
      "KBA05_MODTEMP: Development of the most common car segment in the neighbourhood\n",
      "\n",
      "KBA13_ALTERHALTER_30: share of car owners below 31 within the PLZ8\n",
      "\n",
      "KBA13_ALTERHALTER_45: share of car owners between 31 and 45 within the PLZ8\n",
      "\n",
      "KBA13_ALTERHALTER_60: share of car owners between 46 and 60 within the PLZ8\n",
      "\n",
      "KBA13_ALTERHALTER_61: share of car owners elder than 60 within the PLZ8\n",
      "\n",
      "KBA13_ANZAHL_PKW: number of cars in the PLZ8\n",
      "\n",
      "KBA13_AUDI: share of AUDI within the PLZ8\n",
      "\n",
      "KBA13_AUTOQUOTE: share of cars per household within the PLZ8\n",
      "\n",
      "KBA13_BJ_1999: share of cars built between 1995 and 1999 within the PLZ8\n",
      "\n",
      "KBA13_BJ_2000: share of cars built between 2000 and 2003 within the PLZ8\n",
      "\n",
      "KBA13_BJ_2004: share of cars built before 2004 within the PLZ8\n",
      "\n",
      "KBA13_BJ_2006: share of cars built between 2005 and 2006 within the PLZ8\n",
      "\n",
      "KBA13_BJ_2008: share of cars built in 2008 within the PLZ8\n",
      "\n",
      "KBA13_BJ_2009: share of cars built in 2009 within the PLZ8\n",
      "\n",
      "KBA13_BMW: share of BMW within the PLZ8\n",
      "\n",
      "KBA13_CCM_0_1400: share of cars with less than 1401ccm within the PLZ8\n",
      "\n",
      "KBA13_CCM_1000: share of cars with less than 1000ccm within the PLZ8\n",
      "\n",
      "KBA13_CCM_1200: share of cars with less than 1000ccm within the PLZ8\n",
      "\n",
      "KBA13_CCM_1400: share of cars with 1200ccm to 1399ccm within the PLZ8\n",
      "\n",
      "KBA13_CCM_1500: share of cars with 1400ccm to 1499ccm within the PLZ8\n",
      "\n",
      "KBA13_CCM_1600: share of cars with 1500ccm to 1599ccm within the PLZ8\n",
      "\n",
      "KBA13_CCM_1800: share of cars with 1600ccm to 1799ccm within the PLZ8\n",
      "\n",
      "KBA13_CCM_2000: share of cars with 1800ccm to 1999ccm within the PLZ8\n",
      "\n",
      "KBA13_CCM_2500: share of cars with 2000ccm to 2499ccm within the PLZ8\n",
      "\n",
      "KBA13_CCM_2501: share of cars with more than 2501ccm within the PLZ8\n",
      "\n",
      "KBA13_CCM_3000: share of cars with 2500ccm to 2999ccm within the PLZ8\n",
      "\n",
      "KBA13_CCM_3001: share of cars with more than 3000ccm within the PLZ8\n",
      "\n",
      "KBA13_FAB_ASIEN: share of other Asian Manufacturers within the PLZ8\n",
      "\n",
      "KBA13_FAB_SONSTIGE: share of other Manufacturers within the PLZ8\n",
      "\n",
      "KBA13_FIAT: share of FIAT within the PLZ8\n",
      "\n",
      "KBA13_FORD: share of FORD within the PLZ8\n",
      "\n",
      "KBA13_HALTER_20: share of car owners below 21 within the PLZ8\n",
      "\n",
      "KBA13_HALTER_25: share of car owners between 21 and 25 within the PLZ8\n",
      "\n",
      "KBA13_HALTER_30: share of car owners between 26 and 30 within the PLZ8\n",
      "\n",
      "KBA13_HALTER_35: share of car owners between 31 and 35 within the PLZ8\n",
      "\n",
      "KBA13_HALTER_40: share of car owners between 36 and 40 within the PLZ8\n",
      "\n",
      "KBA13_HALTER_45: share of car owners between 41 and 45 within the PLZ8\n",
      "\n",
      "KBA13_HALTER_50: share of car owners between 46 and 50 within the PLZ8\n",
      "\n",
      "KBA13_HALTER_55: share of car owners between 51 and 55 within the PLZ8\n",
      "\n",
      "KBA13_HALTER_60: share of car owners between 56 and 60 within the PLZ8\n",
      "\n",
      "KBA13_HALTER_65: share of car owners between 61 and 65 within the PLZ8\n",
      "\n",
      "KBA13_HALTER_66: share of car owners over 66 within the PLZ8\n",
      "\n",
      "KBA13_HERST_ASIEN: share of asian cars within the PLZ8\n",
      "\n",
      "KBA13_HERST_AUDI_VW: share of Volkswagen & Audi within the PLZ8\n",
      "\n",
      "KBA13_HERST_BMW_BENZ: share of BMW & Mercedes Benz within the PLZ8\n",
      "\n",
      "KBA13_HERST_EUROPA: share of European cars within the PLZ8\n",
      "\n",
      "KBA13_HERST_FORD_OPEL: share of Ford & Opel/Vauxhall within the PLZ8\n",
      "\n",
      "KBA13_HERST_SONST: share of other cars within the PLZ8\n",
      "\n",
      "KBA13_KMH_0_140: share of cars with max speed 140 km/h within the PLZ8\n",
      "\n",
      "KBA13_KMH_110: share of cars with max speed 110 km/h within the PLZ8\n",
      "\n",
      "KBA13_KMH_140: share of cars with max speed between 110 km/h and 140km/h within the PLZ8\n",
      "\n",
      "KBA13_KMH_140_210: share of cars with max speed between 140 and 210 km/h within the PLZ8\n",
      "\n",
      "KBA13_KMH_180: share of cars with max speed between 110 km/h and 180km/h within the PLZ8\n",
      "\n",
      "KBA13_KMH_211: share of cars with a greater max speed than 210 km/h within the PLZ8\n",
      "\n",
      "KBA13_KMH_250: share of cars with max speed between 210 and 250 km/h within the PLZ8\n",
      "\n",
      "KBA13_KMH_251: share of cars with a greater max speed than 250 km/h within the PLZ8\n",
      "\n",
      "KBA13_KRSAQUOT: share of cars per household (referred to the county average) - PLZ8\n",
      "\n",
      "KBA13_KRSHERST_AUDI_VW: share of Volkswagen (referred to the county average) - PLZ8\n",
      "\n",
      "KBA13_KRSHERST_BMW_BENZ: share of BMW/Mercedes Benz (referred to the county average) - PLZ8\n",
      "\n",
      "KBA13_KRSHERST_FORD_OPEL: share of FORD/Opel (referred to the county average) - PLZ8\n",
      "\n",
      "KBA13_KRSSEG_KLEIN: share of small cars (referred to the county average) - PLZ8\n",
      "\n",
      "KBA13_KRSSEG_OBER: share of upper class cars (referred to the county average) - PLZ8\n",
      "\n",
      "KBA13_KRSSEG_VAN: share of vans (referred to the county average) - PLZ8\n",
      "\n",
      "KBA13_KRSZUL_NEU: share of newbuilt cars (referred to the county average) - PLZ8\n",
      "\n",
      "KBA13_KW_0_60: share of cars with less than 61 KW engine power - PLZ8\n",
      "\n",
      "KBA13_KW_110: share of cars with an engine power between 91 and 110 KW - PLZ8\n",
      "\n",
      "KBA13_KW_120: share of cars with an engine power between 111 and 120 KW - PLZ8\n",
      "\n",
      "KBA13_KW_121: share of cars with an engine power of more than 121 KW - PLZ8\n",
      "\n",
      "KBA13_KW_30: share of cars up to 30 KW engine power - PLZ8\n",
      "\n",
      "KBA13_KW_40: share of cars with an engine power between 31 and 40 KW - PLZ8\n",
      "\n",
      "KBA13_KW_50: share of cars with an engine power between 41 and 50 KW - PLZ8\n",
      "\n",
      "KBA13_KW_60: share of cars with an engine power between 51 and 60 KW - PLZ8\n",
      "\n",
      "KBA13_KW_61_120: share of cars with an engine power between 61 and 120 KW - PLZ8\n",
      "\n",
      "KBA13_KW_70: share of cars with an engine power between 61 and 70 KW - PLZ8\n",
      "\n",
      "KBA13_KW_80: share of cars with an engine power between 71 and 80 KW - PLZ8\n",
      "\n",
      "KBA13_KW_90: share of cars with an engine power between 81 and 90 KW - PLZ8\n",
      "\n",
      "KBA13_MAZDA: share of MAZDA within the PLZ8\n",
      "\n",
      "KBA13_MERCEDES: share of MERCEDES within the PLZ8\n",
      "\n",
      "KBA13_MOTOR: most common motor size within the PLZ8\n",
      "\n",
      "KBA13_NISSAN: share of NISSAN within the PLZ8\n",
      "\n",
      "KBA13_OPEL: share of OPEL within the PLZ8\n",
      "\n",
      "KBA13_PEUGEOT: share of PEUGEOT within the PLZ8\n",
      "\n",
      "KBA13_RENAULT: share of RENAULT within the PLZ8\n",
      "\n",
      "KBA13_SEG_GELAENDEWAGEN: share of allterrain within the PLZ8\n",
      "\n",
      "KBA13_SEG_GROSSRAUMVANS: share of big sized vans within the PLZ8\n",
      "\n",
      "KBA13_SEG_KLEINST: share of very small cars (Ford Ka etc.) in the PLZ8\n",
      "\n",
      "KBA13_SEG_KLEINWAGEN: share of small and very small cars (Ford Fiesta, Ford Ka etc.) in the PLZ8\n",
      "\n",
      "KBA13_SEG_KOMPAKTKLASSE: share of lowe midclass cars (Ford Focus etc.) in the PLZ8\n",
      "\n",
      "KBA13_SEG_MINIVANS: share of minivans within the PLZ8\n",
      "\n",
      "KBA13_SEG_MINIWAGEN: share of minicars within the PLZ8\n",
      "\n",
      "KBA13_SEG_MITTELKLASSE: share of middle class cars (Ford Mondeo etc.) in the PLZ8\n",
      "\n",
      "KBA13_SEG_OBEREMITTELKLASSE: share of upper middle class cars and upper class cars (BMW5er, BMW7er etc.)\n",
      "\n",
      "KBA13_SEG_OBERKLASSE: share of upper class cars (BMW 7er etc.) in the PLZ8\n",
      "\n",
      "KBA13_SEG_SONSTIGE: share of other cars within the PLZ8\n",
      "\n",
      "KBA13_SEG_SPORTWAGEN: share of sportscars within the PLZ8\n",
      "\n",
      "KBA13_SEG_UTILITIES: share of MUVs/SUVs within the PLZ8\n",
      "\n",
      "KBA13_SEG_VAN: share of vans within the PLZ8\n",
      "\n",
      "KBA13_SEG_WOHNMOBILE: share of roadmobiles within the PLZ8\n",
      "\n",
      "KBA13_SITZE_4: number of cars with less than 5 seats in the PLZ8\n",
      "\n",
      "KBA13_SITZE_5: number of cars with 5 seats in the PLZ8\n",
      "\n",
      "KBA13_SITZE_6: number of cars with more than 5 seats in the PLZ8\n",
      "\n",
      "KBA13_TOYOTA: share of TOYOTA within the PLZ8\n",
      "\n",
      "KBA13_VORB_0: share of cars with no preowner - PLZ8\n",
      "\n",
      "KBA13_VORB_1: share of cars with 1 preowner - PLZ8\n",
      "\n",
      "KBA13_VORB_1_2: share of cars with 1 or 2 preowner - PLZ8\n",
      "\n",
      "KBA13_VORB_2: share of cars with 2 preowner - PLZ8\n",
      "\n",
      "KBA13_VORB_3: share of cars with more than 2 preowner - PLZ8\n",
      "\n",
      "KBA13_VW: share of VOLKSWAGEN within the PLZ8\n",
      "\n",
      "KKK: purchasing power\n",
      "\n",
      "KONSUMNAEHE: distance from a building to PoS (Point of Sale)\n",
      "\n",
      "LP_FAMILIE_FEIN: family type fine\n",
      "\n",
      "LP_FAMILIE_GROB: family type rough\n",
      "\n",
      "LP_LEBENSPHASE_FEIN: lifestage fine\n",
      "\n",
      "LP_LEBENSPHASE_GROB: lifestage rough\n",
      "\n",
      "LP_STATUS_FEIN: social status fine \n",
      "\n",
      "LP_STATUS_GROB: social status rough\n",
      "\n",
      "MIN_GEBAEUDEJAHR: year the building was first mentioned in our database\n",
      "\n",
      "NATIONALITAET_KZ: nationaltity\n",
      "\n",
      "ONLINE_AFFINITAET: online affinity\n",
      "\n",
      "ORTSGR_KLS9: classified number of inhabitants\n",
      "\n",
      "OST_WEST_KZ: flag indicating the former GDR/FRG\n",
      "\n",
      "PLZ8_ANTG1: number of 1-2 family houses in the PLZ8\n",
      "\n",
      "PLZ8_ANTG2: number of 3-5 family houses in the PLZ8\n",
      "\n",
      "PLZ8_ANTG3: number of 6-10 family houses in the PLZ8\n",
      "\n",
      "PLZ8_ANTG4: number of >10 family houses in the PLZ8\n",
      "\n",
      "PLZ8_BAUMAX: most common building-type within the PLZ8\n",
      "\n",
      "PLZ8_GBZ: number of buildings within the PLZ8\n",
      "\n",
      "PLZ8_HHZ: number of households within the PLZ8\n",
      "\n",
      "PRAEGENDE_JUGENDJAHRE: dominating movement in the person's youth (avantgarde or mainstream)\n",
      "\n",
      "REGIOTYP: AZ neighbourhood typology\n",
      "\n",
      "RELAT_AB: share of unemployed in relation to the county the community belongs to\n",
      "\n",
      "RETOURTYP_BK_S: return type\n",
      "\n",
      "SEMIO_DOM: affinity indicating in what way the person is dominant minded\n",
      "\n",
      "SEMIO_ERL: affinity indicating in what way the person is eventful orientated\n",
      "\n",
      "SEMIO_FAM: affinity indicating in what way the person is familiar minded\n",
      "\n",
      "SEMIO_KAEM: affinity indicating in what way the person is of a fightfull attitude\n",
      "\n",
      "SEMIO_KRIT: affinity indicating in what way the person is critical minded\n",
      "\n",
      "SEMIO_KULT: affinity indicating in what way the person is cultural minded\n",
      "\n",
      "SEMIO_LUST: affinity indicating in what way the person is sensual minded\n",
      "\n",
      "SEMIO_MAT: affinity indicating in what way the person is material minded\n",
      "\n",
      "SEMIO_PFLICHT: affinity indicating in what way the person is dutyfull traditional minded\n",
      "\n",
      "SEMIO_RAT: affinity indicating in what way the person is of a rational mind\n",
      "\n",
      "SEMIO_REL: affinity indicating in what way the person is religious\n",
      "\n",
      "SEMIO_SOZ: affinity indicating in what way the person is social minded\n",
      "\n",
      "SEMIO_TRADV: affinity indicating in what way the person is traditional minded\n",
      "\n",
      "SEMIO_VERT: affinity indicating in what way the person is dreamily\n",
      "\n",
      "SHOPPER_TYP: shopping typology\n",
      "\n",
      "TITEL_KZ: flag whether this person holds an academic title\n",
      "\n",
      "VERS_TYP: insurance typology \n",
      "\n",
      "WOHNDAUER_2008: length of residenca\n",
      "\n",
      "WOHNLAGE: neighbourhood-area (very good -> rather poor; rural nbh)\n",
      "\n",
      "ZABEOTYP: typification of energy consumers\n",
      "\n"
     ]
    }
   ],
   "source": [
    "for _, row in info_clean.sort_values('Attribute').iterrows():\n",
    "    print('{}: {}'.format(row.iloc[0], row.iloc[1]))\n",
    "    print()\n",
    "#     break"
   ]
  },
  {
   "cell_type": "markdown",
   "metadata": {},
   "source": [
    "After some reading of the above, we can see that most of the columns consist of the following information:\n",
    "\n",
    "- household\n",
    "- transactional activity (columns starting with D19)\n",
    "- Cars (columns starting with KBA13)\n",
    "- PLZ8 demographics\n",
    "- financial typology(columns starting with FINANZ)\n",
    "- mindedness (columns starting with SEMIO)"
   ]
  },
  {
   "cell_type": "code",
   "execution_count": 342,
   "metadata": {},
   "outputs": [],
   "source": [
    "def print_columns_containing(code):\n",
    "    perc = (1 - info_clean.Attribute.apply(lambda x: x if code in x else 'other'\n",
    "                                  ).value_counts(normalize=True).iloc[0]).round(4)*100\n",
    "    print(code, perc)\n",
    "    return perc"
   ]
  },
  {
   "cell_type": "code",
   "execution_count": 343,
   "metadata": {},
   "outputs": [
    {
     "name": "stdout",
     "output_type": "stream",
     "text": [
      "D19 13.74\n",
      "KBA13 50.71\n",
      "SEMIO 6.64\n",
      "FINANZ 3.32\n"
     ]
    }
   ],
   "source": [
    "codes = {}\n",
    "total = 0\n",
    "for code in ['D19','KBA13','SEMIO', 'FINANZ']:\n",
    "    codes[code] = print_columns_containing(code)\n",
    "    total+= codes[code]\n",
    "codes['other'] = 100-total"
   ]
  },
  {
   "cell_type": "code",
   "execution_count": 344,
   "metadata": {},
   "outputs": [
    {
     "data": {
      "image/png": "[encoded data removed]",
      "text/plain": [
       "<Figure size 432x288 with 1 Axes>"
      ]
     },
     "metadata": {
      "needs_background": "light"
     },
     "output_type": "display_data"
    }
   ],
   "source": [
    "pd.DataFrame(codes, index=['%']).T.sort_values('%').plot(kind='bar')\n",
    "sns.despine()"
   ]
  },
  {
   "cell_type": "markdown",
   "metadata": {},
   "source": [
    "We can see that a huge number of the columns (over 50% of train dataset) is comprised of car data.\n",
    "\n",
    "Transactional data, which is probably more relevant than cars to our project, consists of only 13.74% of the columns available in the train dataset."
   ]
  },
  {
   "cell_type": "code",
   "execution_count": 345,
   "metadata": {},
   "outputs": [
    {
     "data": {
      "text/plain": [
       "(201,)"
      ]
     },
     "execution_count": 345,
     "metadata": {},
     "output_type": "execute_result"
    }
   ],
   "source": [
    "clean.isna().sum()[clean.isna().sum()>0].shape"
   ]
  },
  {
   "cell_type": "markdown",
   "metadata": {},
   "source": [
    "We still have 201 columns with missing values that we need to deal with"
   ]
  },
  {
   "cell_type": "code",
   "execution_count": 346,
   "metadata": {},
   "outputs": [
    {
     "data": {
      "text/plain": [
       "float64    195\n",
       "int64       94\n",
       "object       6\n",
       "dtype: int64"
      ]
     },
     "execution_count": 346,
     "metadata": {},
     "output_type": "execute_result"
    }
   ],
   "source": [
    "clean.dtypes.value_counts()"
   ]
  },
  {
   "cell_type": "markdown",
   "metadata": {},
   "source": [
    "Let's deal with objects first"
   ]
  },
  {
   "cell_type": "code",
   "execution_count": 368,
   "metadata": {},
   "outputs": [
    {
     "data": {
      "text/html": [
       "<div>\n",
       "<style scoped>\n",
       "    .dataframe tbody tr th:only-of-type {\n",
       "        vertical-align: middle;\n",
       "    }\n",
       "\n",
       "    .dataframe tbody tr th {\n",
       "        vertical-align: top;\n",
       "    }\n",
       "\n",
       "    .dataframe thead th {\n",
       "        text-align: right;\n",
       "    }\n",
       "</style>\n",
       "<table border=\"1\" class=\"dataframe\">\n",
       "  <thead>\n",
       "    <tr style=\"text-align: right;\">\n",
       "      <th></th>\n",
       "      <th>CAMEO_DEU_2015</th>\n",
       "      <th>CAMEO_DEUG_2015</th>\n",
       "      <th>CAMEO_INTL_2015</th>\n",
       "      <th>D19_LETZTER_KAUF_BRANCHE</th>\n",
       "      <th>EINGEFUEGT_AM</th>\n",
       "      <th>OST_WEST_KZ</th>\n",
       "    </tr>\n",
       "  </thead>\n",
       "  <tbody>\n",
       "    <tr>\n",
       "      <th>0</th>\n",
       "      <td>5D</td>\n",
       "      <td>5</td>\n",
       "      <td>34</td>\n",
       "      <td>D19_UNBEKANNT</td>\n",
       "      <td>1992-02-10 00:00:00</td>\n",
       "      <td>W</td>\n",
       "    </tr>\n",
       "    <tr>\n",
       "      <th>1</th>\n",
       "      <td>5B</td>\n",
       "      <td>5</td>\n",
       "      <td>32</td>\n",
       "      <td>D19_TELKO_MOBILE</td>\n",
       "      <td>1997-05-14 00:00:00</td>\n",
       "      <td>W</td>\n",
       "    </tr>\n",
       "    <tr>\n",
       "      <th>2</th>\n",
       "      <td>2D</td>\n",
       "      <td>2</td>\n",
       "      <td>14</td>\n",
       "      <td>D19_LEBENSMITTEL</td>\n",
       "      <td>1995-05-24 00:00:00</td>\n",
       "      <td>O</td>\n",
       "    </tr>\n",
       "    <tr>\n",
       "      <th>3</th>\n",
       "      <td>2D</td>\n",
       "      <td>2</td>\n",
       "      <td>14</td>\n",
       "      <td>D19_UNBEKANNT</td>\n",
       "      <td>1992-02-10 00:00:00</td>\n",
       "      <td>W</td>\n",
       "    </tr>\n",
       "    <tr>\n",
       "      <th>4</th>\n",
       "      <td>7B</td>\n",
       "      <td>7</td>\n",
       "      <td>41</td>\n",
       "      <td>D19_BEKLEIDUNG_GEH</td>\n",
       "      <td>1992-02-10 00:00:00</td>\n",
       "      <td>W</td>\n",
       "    </tr>\n",
       "    <tr>\n",
       "      <th>5</th>\n",
       "      <td>7B</td>\n",
       "      <td>7</td>\n",
       "      <td>41</td>\n",
       "      <td>D19_BUCH_CD</td>\n",
       "      <td>1992-02-10 00:00:00</td>\n",
       "      <td>W</td>\n",
       "    </tr>\n",
       "    <tr>\n",
       "      <th>6</th>\n",
       "      <td>4C</td>\n",
       "      <td>4</td>\n",
       "      <td>24</td>\n",
       "      <td>D19_UNBEKANNT</td>\n",
       "      <td>1992-02-10 00:00:00</td>\n",
       "      <td>W</td>\n",
       "    </tr>\n",
       "    <tr>\n",
       "      <th>7</th>\n",
       "      <td>5C</td>\n",
       "      <td>5</td>\n",
       "      <td>33</td>\n",
       "      <td>D19_BEKLEIDUNG_GEH</td>\n",
       "      <td>1997-07-18 00:00:00</td>\n",
       "      <td>W</td>\n",
       "    </tr>\n",
       "    <tr>\n",
       "      <th>8</th>\n",
       "      <td>NaN</td>\n",
       "      <td>NaN</td>\n",
       "      <td>NaN</td>\n",
       "      <td>NaN</td>\n",
       "      <td>NaN</td>\n",
       "      <td>NaN</td>\n",
       "    </tr>\n",
       "    <tr>\n",
       "      <th>9</th>\n",
       "      <td>NaN</td>\n",
       "      <td>NaN</td>\n",
       "      <td>NaN</td>\n",
       "      <td>NaN</td>\n",
       "      <td>NaN</td>\n",
       "      <td>NaN</td>\n",
       "    </tr>\n",
       "  </tbody>\n",
       "</table>\n",
       "</div>"
      ],
      "text/plain": [
       "  CAMEO_DEU_2015 CAMEO_DEUG_2015 CAMEO_INTL_2015 D19_LETZTER_KAUF_BRANCHE  \\\n",
       "0             5D               5              34            D19_UNBEKANNT   \n",
       "1             5B               5              32         D19_TELKO_MOBILE   \n",
       "2             2D               2              14         D19_LEBENSMITTEL   \n",
       "3             2D               2              14            D19_UNBEKANNT   \n",
       "4             7B               7              41       D19_BEKLEIDUNG_GEH   \n",
       "5             7B               7              41              D19_BUCH_CD   \n",
       "6             4C               4              24            D19_UNBEKANNT   \n",
       "7             5C               5              33       D19_BEKLEIDUNG_GEH   \n",
       "8            NaN             NaN             NaN                      NaN   \n",
       "9            NaN             NaN             NaN                      NaN   \n",
       "\n",
       "         EINGEFUEGT_AM OST_WEST_KZ  \n",
       "0  1992-02-10 00:00:00           W  \n",
       "1  1997-05-14 00:00:00           W  \n",
       "2  1995-05-24 00:00:00           O  \n",
       "3  1992-02-10 00:00:00           W  \n",
       "4  1992-02-10 00:00:00           W  \n",
       "5  1992-02-10 00:00:00           W  \n",
       "6  1992-02-10 00:00:00           W  \n",
       "7  1997-07-18 00:00:00           W  \n",
       "8                  NaN         NaN  \n",
       "9                  NaN         NaN  "
      ]
     },
     "execution_count": 368,
     "metadata": {},
     "output_type": "execute_result"
    }
   ],
   "source": [
    "objects = clean.select_dtypes(include=['object'])\n",
    "obj_cols = objects.columns\n",
    "objects.head(10)"
   ]
  },
  {
   "cell_type": "code",
   "execution_count": 369,
   "metadata": {},
   "outputs": [
    {
     "name": "stdout",
     "output_type": "stream",
     "text": [
      "Number of unique values for CAMEO_DEU_2015: 45\n",
      "\n",
      "Number of unique values for CAMEO_DEUG_2015: 19\n",
      "\n",
      "Number of unique values for CAMEO_INTL_2015: 43\n",
      "\n",
      "Number of unique values for D19_LETZTER_KAUF_BRANCHE: 35\n",
      "\n",
      "Number of unique values for EINGEFUEGT_AM: 1599\n",
      "\n",
      "Number of unique values for OST_WEST_KZ: 2\n",
      "\n"
     ]
    }
   ],
   "source": [
    "for column in objects.columns:\n",
    "    print('Number of unique values for {}:'.format(column), objects[column].nunique())\n",
    "    print()"
   ]
  },
  {
   "cell_type": "code",
   "execution_count": 370,
   "metadata": {},
   "outputs": [
    {
     "data": {
      "text/plain": [
       "CAMEO_DEU_2015              0.183604\n",
       "CAMEO_DEUG_2015             0.183604\n",
       "CAMEO_INTL_2015             0.183604\n",
       "D19_LETZTER_KAUF_BRANCHE    0.176528\n",
       "EINGEFUEGT_AM               0.181020\n",
       "OST_WEST_KZ                 0.181020\n",
       "dtype: float64"
      ]
     },
     "execution_count": 370,
     "metadata": {},
     "output_type": "execute_result"
    }
   ],
   "source": [
    "objects.isna().sum() / len(objects)"
   ]
  },
  {
   "cell_type": "code",
   "execution_count": 371,
   "metadata": {},
   "outputs": [
    {
     "data": {
      "text/plain": [
       "Index(['CAMEO_DEU_2015', 'CAMEO_DEUG_2015', 'CAMEO_INTL_2015',\n",
       "       'D19_LETZTER_KAUF_BRANCHE', 'EINGEFUEGT_AM', 'OST_WEST_KZ'],\n",
       "      dtype='object')"
      ]
     },
     "execution_count": 371,
     "metadata": {},
     "output_type": "execute_result"
    }
   ],
   "source": [
    "objects.columns"
   ]
  },
  {
   "cell_type": "code",
   "execution_count": 372,
   "metadata": {},
   "outputs": [
    {
     "data": {
      "text/html": [
       "<div>\n",
       "<style scoped>\n",
       "    .dataframe tbody tr th:only-of-type {\n",
       "        vertical-align: middle;\n",
       "    }\n",
       "\n",
       "    .dataframe tbody tr th {\n",
       "        vertical-align: top;\n",
       "    }\n",
       "\n",
       "    .dataframe thead th {\n",
       "        text-align: right;\n",
       "    }\n",
       "</style>\n",
       "<table border=\"1\" class=\"dataframe\">\n",
       "  <thead>\n",
       "    <tr style=\"text-align: right;\">\n",
       "      <th></th>\n",
       "      <th>Attribute</th>\n",
       "      <th>Description</th>\n",
       "      <th>Value</th>\n",
       "      <th>Meaning</th>\n",
       "    </tr>\n",
       "  </thead>\n",
       "  <tbody>\n",
       "    <tr>\n",
       "      <th>NaN</th>\n",
       "      <td>CAMEO_DEUG_2015</td>\n",
       "      <td>CAMEO classification 2015 - Uppergroup</td>\n",
       "      <td>-1</td>\n",
       "      <td>unknown</td>\n",
       "    </tr>\n",
       "    <tr>\n",
       "      <th>NaN</th>\n",
       "      <td>CAMEO_DEU_2015</td>\n",
       "      <td>CAMEO classification 2015 - detailled classification</td>\n",
       "      <td>1A</td>\n",
       "      <td>Work-Life-Balance</td>\n",
       "    </tr>\n",
       "    <tr>\n",
       "      <th>NaN</th>\n",
       "      <td>OST_WEST_KZ</td>\n",
       "      <td>flag indicating the former GDR/FRG</td>\n",
       "      <td>-1</td>\n",
       "      <td>unknown</td>\n",
       "    </tr>\n",
       "  </tbody>\n",
       "</table>\n",
       "</div>"
      ],
      "text/plain": [
       "           Attribute                                           Description  \\\n",
       "NaN  CAMEO_DEUG_2015                CAMEO classification 2015 - Uppergroup   \n",
       "NaN   CAMEO_DEU_2015  CAMEO classification 2015 - detailled classification   \n",
       "NaN      OST_WEST_KZ                    flag indicating the former GDR/FRG   \n",
       "\n",
       "    Value            Meaning  \n",
       "NaN    -1            unknown  \n",
       "NaN    1A  Work-Life-Balance  \n",
       "NaN    -1            unknown  "
      ]
     },
     "execution_count": 372,
     "metadata": {},
     "output_type": "execute_result"
    }
   ],
   "source": [
    "details[details.Attribute.isin(['CAMEO_DEU_2015', 'CAMEO_DEUG_2015', 'CAMEO_INTL_2015',\n",
    "       'D19_LETZTER_KAUF_BRANCHE', 'EINGEFUEGT_AM', 'OST_WEST_KZ'])]"
   ]
  },
  {
   "cell_type": "markdown",
   "metadata": {},
   "source": [
    "We didn't get details of all the oclumns, but we can see that CAMEO_DEU is the same as CAMEO_DEUG, so we can just remove one of them. We'll choose to keep CAMEO_DEUG, since it has less unique values.\n",
    "\n",
    "Similarly, we can't take the date column as it is. Let's try splitting it into Year-Month values:"
   ]
  },
  {
   "cell_type": "code",
   "execution_count": 373,
   "metadata": {},
   "outputs": [
    {
     "data": {
      "text/plain": [
       "262"
      ]
     },
     "execution_count": 373,
     "metadata": {},
     "output_type": "execute_result"
    }
   ],
   "source": [
    "objects['EINGEFUEGT_AM'].apply(lambda date: '-'.join(str(date).split('-')[0:2])).nunique()"
   ]
  },
  {
   "cell_type": "markdown",
   "metadata": {},
   "source": [
    "262 are too many unique values - so we have to group them into just Years instead:"
   ]
  },
  {
   "cell_type": "code",
   "execution_count": 374,
   "metadata": {},
   "outputs": [
    {
     "name": "stderr",
     "output_type": "stream",
     "text": [
      "/home/ec2-user/anaconda3/envs/pytorch_p36/lib/python3.6/site-packages/ipykernel/__main__.py:1: SettingWithCopyWarning: \n",
      "A value is trying to be set on a copy of a slice from a DataFrame.\n",
      "Try using .loc[row_indexer,col_indexer] = value instead\n",
      "\n",
      "See the caveats in the documentation: https://pandas.pydata.org/pandas-docs/stable/user_guide/indexing.html#returning-a-view-versus-a-copy\n",
      "  if __name__ == '__main__':\n"
     ]
    },
    {
     "data": {
      "text/plain": [
       "25"
      ]
     },
     "execution_count": 374,
     "metadata": {},
     "output_type": "execute_result"
    }
   ],
   "source": [
    "objects['date'] = objects['EINGEFUEGT_AM'].apply(lambda date: date.split('-')[0] if  date is not np.nan else date)\n",
    "objects.date.nunique()"
   ]
  },
  {
   "cell_type": "code",
   "execution_count": 375,
   "metadata": {},
   "outputs": [
    {
     "data": {
      "text/plain": [
       "1991        1\n",
       "1992    26425\n",
       "1993     1188\n",
       "1994     1398\n",
       "1995     1900\n",
       "1996     1350\n",
       "1997      866\n",
       "1998      154\n",
       "1999       33\n",
       "2000      218\n",
       "2001       59\n",
       "2002      121\n",
       "2003      333\n",
       "2004      223\n",
       "2005      350\n",
       "2006      144\n",
       "2007       92\n",
       "2008       73\n",
       "2009       65\n",
       "2010       29\n",
       "2011       41\n",
       "2012       47\n",
       "2013       29\n",
       "2014       30\n",
       "2015       16\n",
       "Name: date, dtype: int64"
      ]
     },
     "execution_count": 375,
     "metadata": {},
     "output_type": "execute_result"
    }
   ],
   "source": [
    "objects.date.value_counts().sort_index()"
   ]
  },
  {
   "cell_type": "markdown",
   "metadata": {},
   "source": [
    "It appears this data is split up over 26 years, with only 1 values in the first year (1991), and last year being 2015."
   ]
  },
  {
   "cell_type": "code",
   "execution_count": 376,
   "metadata": {},
   "outputs": [],
   "source": [
    "objects = objects.drop(['CAMEO_DEU_2015','EINGEFUEGT_AM'], axis=1)"
   ]
  },
  {
   "cell_type": "code",
   "execution_count": 377,
   "metadata": {},
   "outputs": [
    {
     "data": {
      "text/html": [
       "<div>\n",
       "<style scoped>\n",
       "    .dataframe tbody tr th:only-of-type {\n",
       "        vertical-align: middle;\n",
       "    }\n",
       "\n",
       "    .dataframe tbody tr th {\n",
       "        vertical-align: top;\n",
       "    }\n",
       "\n",
       "    .dataframe thead th {\n",
       "        text-align: right;\n",
       "    }\n",
       "</style>\n",
       "<table border=\"1\" class=\"dataframe\">\n",
       "  <thead>\n",
       "    <tr style=\"text-align: right;\">\n",
       "      <th></th>\n",
       "      <th>CAMEO_DEUG_2015</th>\n",
       "      <th>CAMEO_INTL_2015</th>\n",
       "      <th>D19_LETZTER_KAUF_BRANCHE</th>\n",
       "      <th>OST_WEST_KZ</th>\n",
       "      <th>date</th>\n",
       "    </tr>\n",
       "  </thead>\n",
       "  <tbody>\n",
       "    <tr>\n",
       "      <th>0</th>\n",
       "      <td>5</td>\n",
       "      <td>34</td>\n",
       "      <td>D19_UNBEKANNT</td>\n",
       "      <td>W</td>\n",
       "      <td>1992</td>\n",
       "    </tr>\n",
       "    <tr>\n",
       "      <th>1</th>\n",
       "      <td>5</td>\n",
       "      <td>32</td>\n",
       "      <td>D19_TELKO_MOBILE</td>\n",
       "      <td>W</td>\n",
       "      <td>1997</td>\n",
       "    </tr>\n",
       "    <tr>\n",
       "      <th>2</th>\n",
       "      <td>2</td>\n",
       "      <td>14</td>\n",
       "      <td>D19_LEBENSMITTEL</td>\n",
       "      <td>O</td>\n",
       "      <td>1995</td>\n",
       "    </tr>\n",
       "    <tr>\n",
       "      <th>3</th>\n",
       "      <td>2</td>\n",
       "      <td>14</td>\n",
       "      <td>D19_UNBEKANNT</td>\n",
       "      <td>W</td>\n",
       "      <td>1992</td>\n",
       "    </tr>\n",
       "    <tr>\n",
       "      <th>4</th>\n",
       "      <td>7</td>\n",
       "      <td>41</td>\n",
       "      <td>D19_BEKLEIDUNG_GEH</td>\n",
       "      <td>W</td>\n",
       "      <td>1992</td>\n",
       "    </tr>\n",
       "    <tr>\n",
       "      <th>5</th>\n",
       "      <td>7</td>\n",
       "      <td>41</td>\n",
       "      <td>D19_BUCH_CD</td>\n",
       "      <td>W</td>\n",
       "      <td>1992</td>\n",
       "    </tr>\n",
       "    <tr>\n",
       "      <th>6</th>\n",
       "      <td>4</td>\n",
       "      <td>24</td>\n",
       "      <td>D19_UNBEKANNT</td>\n",
       "      <td>W</td>\n",
       "      <td>1992</td>\n",
       "    </tr>\n",
       "    <tr>\n",
       "      <th>7</th>\n",
       "      <td>5</td>\n",
       "      <td>33</td>\n",
       "      <td>D19_BEKLEIDUNG_GEH</td>\n",
       "      <td>W</td>\n",
       "      <td>1997</td>\n",
       "    </tr>\n",
       "    <tr>\n",
       "      <th>8</th>\n",
       "      <td>NaN</td>\n",
       "      <td>NaN</td>\n",
       "      <td>NaN</td>\n",
       "      <td>NaN</td>\n",
       "      <td>NaN</td>\n",
       "    </tr>\n",
       "    <tr>\n",
       "      <th>9</th>\n",
       "      <td>NaN</td>\n",
       "      <td>NaN</td>\n",
       "      <td>NaN</td>\n",
       "      <td>NaN</td>\n",
       "      <td>NaN</td>\n",
       "    </tr>\n",
       "  </tbody>\n",
       "</table>\n",
       "</div>"
      ],
      "text/plain": [
       "  CAMEO_DEUG_2015 CAMEO_INTL_2015 D19_LETZTER_KAUF_BRANCHE OST_WEST_KZ  date\n",
       "0               5              34            D19_UNBEKANNT           W  1992\n",
       "1               5              32         D19_TELKO_MOBILE           W  1997\n",
       "2               2              14         D19_LEBENSMITTEL           O  1995\n",
       "3               2              14            D19_UNBEKANNT           W  1992\n",
       "4               7              41       D19_BEKLEIDUNG_GEH           W  1992\n",
       "5               7              41              D19_BUCH_CD           W  1992\n",
       "6               4              24            D19_UNBEKANNT           W  1992\n",
       "7               5              33       D19_BEKLEIDUNG_GEH           W  1997\n",
       "8             NaN             NaN                      NaN         NaN   NaN\n",
       "9             NaN             NaN                      NaN         NaN   NaN"
      ]
     },
     "execution_count": 377,
     "metadata": {},
     "output_type": "execute_result"
    }
   ],
   "source": [
    "objects.head(10)"
   ]
  },
  {
   "cell_type": "code",
   "execution_count": 378,
   "metadata": {},
   "outputs": [
    {
     "data": {
      "text/plain": [
       "CAMEO_DEUG_2015                         6\n",
       "CAMEO_INTL_2015                        24\n",
       "D19_LETZTER_KAUF_BRANCHE    D19_UNBEKANNT\n",
       "OST_WEST_KZ                             W\n",
       "date                                 1992\n",
       "Name: 0, dtype: object"
      ]
     },
     "execution_count": 378,
     "metadata": {},
     "output_type": "execute_result"
    }
   ],
   "source": [
    "objects.mode().iloc[0]"
   ]
  },
  {
   "cell_type": "code",
   "execution_count": 379,
   "metadata": {},
   "outputs": [
    {
     "data": {
      "text/plain": [
       "CAMEO_DEUG_2015             1635486\n",
       "CAMEO_INTL_2015             1645513\n",
       "D19_LETZTER_KAUF_BRANCHE    2766207\n",
       "OST_WEST_KZ                 2289594\n",
       "date                        2395149\n",
       "dtype: int64"
      ]
     },
     "execution_count": 379,
     "metadata": {},
     "output_type": "execute_result"
    }
   ],
   "source": [
    "objects.memory_usage(index=False, deep=True)"
   ]
  },
  {
   "cell_type": "code",
   "execution_count": 380,
   "metadata": {},
   "outputs": [],
   "source": [
    "objects[['CAMEO_DEUG_2015','CAMEO_INTL_2015','date']] = \\\n",
    "objects[['CAMEO_DEUG_2015','CAMEO_INTL_2015','date']].apply(lambda df: pd.to_numeric(df, errors='coerce'))"
   ]
  },
  {
   "cell_type": "code",
   "execution_count": 381,
   "metadata": {},
   "outputs": [],
   "source": [
    "objects = objects.fillna(objects.mode().iloc[0]).astype('category')"
   ]
  },
  {
   "cell_type": "code",
   "execution_count": 382,
   "metadata": {},
   "outputs": [
    {
     "data": {
      "text/plain": [
       "CAMEO_DEUG_2015             43354\n",
       "CAMEO_INTL_2015             43770\n",
       "D19_LETZTER_KAUF_BRANCHE    46737\n",
       "OST_WEST_KZ                 43158\n",
       "date                        43802\n",
       "dtype: int64"
      ]
     },
     "execution_count": 382,
     "metadata": {},
     "output_type": "execute_result"
    }
   ],
   "source": [
    "objects.memory_usage(index=False, deep=True)"
   ]
  },
  {
   "cell_type": "markdown",
   "metadata": {},
   "source": [
    "By changing from object to category dtype, we have drastically reduced the amount of memeory used"
   ]
  },
  {
   "cell_type": "code",
   "execution_count": 383,
   "metadata": {},
   "outputs": [
    {
     "data": {
      "text/html": [
       "<div>\n",
       "<style scoped>\n",
       "    .dataframe tbody tr th:only-of-type {\n",
       "        vertical-align: middle;\n",
       "    }\n",
       "\n",
       "    .dataframe tbody tr th {\n",
       "        vertical-align: top;\n",
       "    }\n",
       "\n",
       "    .dataframe thead th {\n",
       "        text-align: right;\n",
       "    }\n",
       "</style>\n",
       "<table border=\"1\" class=\"dataframe\">\n",
       "  <thead>\n",
       "    <tr style=\"text-align: right;\">\n",
       "      <th></th>\n",
       "      <th>CAMEO_DEUG_2015</th>\n",
       "      <th>CAMEO_INTL_2015</th>\n",
       "      <th>D19_LETZTER_KAUF_BRANCHE</th>\n",
       "      <th>OST_WEST_KZ</th>\n",
       "      <th>date</th>\n",
       "    </tr>\n",
       "  </thead>\n",
       "  <tbody>\n",
       "    <tr>\n",
       "      <th>0</th>\n",
       "      <td>5.0</td>\n",
       "      <td>34.0</td>\n",
       "      <td>D19_UNBEKANNT</td>\n",
       "      <td>W</td>\n",
       "      <td>1992.0</td>\n",
       "    </tr>\n",
       "    <tr>\n",
       "      <th>1</th>\n",
       "      <td>5.0</td>\n",
       "      <td>32.0</td>\n",
       "      <td>D19_TELKO_MOBILE</td>\n",
       "      <td>W</td>\n",
       "      <td>1997.0</td>\n",
       "    </tr>\n",
       "    <tr>\n",
       "      <th>2</th>\n",
       "      <td>2.0</td>\n",
       "      <td>14.0</td>\n",
       "      <td>D19_LEBENSMITTEL</td>\n",
       "      <td>O</td>\n",
       "      <td>1995.0</td>\n",
       "    </tr>\n",
       "    <tr>\n",
       "      <th>3</th>\n",
       "      <td>2.0</td>\n",
       "      <td>14.0</td>\n",
       "      <td>D19_UNBEKANNT</td>\n",
       "      <td>W</td>\n",
       "      <td>1992.0</td>\n",
       "    </tr>\n",
       "    <tr>\n",
       "      <th>4</th>\n",
       "      <td>7.0</td>\n",
       "      <td>41.0</td>\n",
       "      <td>D19_BEKLEIDUNG_GEH</td>\n",
       "      <td>W</td>\n",
       "      <td>1992.0</td>\n",
       "    </tr>\n",
       "    <tr>\n",
       "      <th>5</th>\n",
       "      <td>7.0</td>\n",
       "      <td>41.0</td>\n",
       "      <td>D19_BUCH_CD</td>\n",
       "      <td>W</td>\n",
       "      <td>1992.0</td>\n",
       "    </tr>\n",
       "    <tr>\n",
       "      <th>6</th>\n",
       "      <td>4.0</td>\n",
       "      <td>24.0</td>\n",
       "      <td>D19_UNBEKANNT</td>\n",
       "      <td>W</td>\n",
       "      <td>1992.0</td>\n",
       "    </tr>\n",
       "    <tr>\n",
       "      <th>7</th>\n",
       "      <td>5.0</td>\n",
       "      <td>33.0</td>\n",
       "      <td>D19_BEKLEIDUNG_GEH</td>\n",
       "      <td>W</td>\n",
       "      <td>1997.0</td>\n",
       "    </tr>\n",
       "    <tr>\n",
       "      <th>8</th>\n",
       "      <td>6.0</td>\n",
       "      <td>24.0</td>\n",
       "      <td>D19_UNBEKANNT</td>\n",
       "      <td>W</td>\n",
       "      <td>1992.0</td>\n",
       "    </tr>\n",
       "    <tr>\n",
       "      <th>9</th>\n",
       "      <td>6.0</td>\n",
       "      <td>24.0</td>\n",
       "      <td>D19_UNBEKANNT</td>\n",
       "      <td>W</td>\n",
       "      <td>1992.0</td>\n",
       "    </tr>\n",
       "  </tbody>\n",
       "</table>\n",
       "</div>"
      ],
      "text/plain": [
       "  CAMEO_DEUG_2015 CAMEO_INTL_2015 D19_LETZTER_KAUF_BRANCHE OST_WEST_KZ    date\n",
       "0             5.0            34.0            D19_UNBEKANNT           W  1992.0\n",
       "1             5.0            32.0         D19_TELKO_MOBILE           W  1997.0\n",
       "2             2.0            14.0         D19_LEBENSMITTEL           O  1995.0\n",
       "3             2.0            14.0            D19_UNBEKANNT           W  1992.0\n",
       "4             7.0            41.0       D19_BEKLEIDUNG_GEH           W  1992.0\n",
       "5             7.0            41.0              D19_BUCH_CD           W  1992.0\n",
       "6             4.0            24.0            D19_UNBEKANNT           W  1992.0\n",
       "7             5.0            33.0       D19_BEKLEIDUNG_GEH           W  1997.0\n",
       "8             6.0            24.0            D19_UNBEKANNT           W  1992.0\n",
       "9             6.0            24.0            D19_UNBEKANNT           W  1992.0"
      ]
     },
     "execution_count": 383,
     "metadata": {},
     "output_type": "execute_result"
    }
   ],
   "source": [
    "objects.head(10)"
   ]
  },
  {
   "cell_type": "code",
   "execution_count": 384,
   "metadata": {},
   "outputs": [
    {
     "data": {
      "text/plain": [
       "CAMEO_DEUG_2015             0\n",
       "CAMEO_INTL_2015             0\n",
       "D19_LETZTER_KAUF_BRANCHE    0\n",
       "OST_WEST_KZ                 0\n",
       "date                        0\n",
       "dtype: int64"
      ]
     },
     "execution_count": 384,
     "metadata": {},
     "output_type": "execute_result"
    }
   ],
   "source": [
    "objects.isna().sum()"
   ]
  },
  {
   "cell_type": "markdown",
   "metadata": {},
   "source": [
    "Good. Now that there are no more empty values. We need to change our categorical values to numbers"
   ]
  },
  {
   "cell_type": "code",
   "execution_count": 385,
   "metadata": {},
   "outputs": [
    {
     "data": {
      "text/plain": [
       "6.0    13262\n",
       "4.0     5131\n",
       "8.0     5010\n",
       "2.0     4703\n",
       "3.0     4423\n",
       "7.0     3064\n",
       "5.0     2531\n",
       "9.0     2460\n",
       "1.0     2378\n",
       "Name: CAMEO_DEUG_2015, dtype: int64"
      ]
     },
     "execution_count": 385,
     "metadata": {},
     "output_type": "execute_result"
    }
   ],
   "source": [
    "objects.CAMEO_DEUG_2015.value_counts(dropna=False)"
   ]
  },
  {
   "cell_type": "markdown",
   "metadata": {},
   "source": [
    "Need to remove those .0s"
   ]
  },
  {
   "cell_type": "code",
   "execution_count": 386,
   "metadata": {},
   "outputs": [],
   "source": [
    "def remove_point0(df, col):\n",
    "    return df[col].apply(lambda x: str(x).split('.')[0])"
   ]
  },
  {
   "cell_type": "code",
   "execution_count": 388,
   "metadata": {},
   "outputs": [],
   "source": [
    "for col in objects.columns:\n",
    "    objects[col] = remove_point0(objects, col)"
   ]
  },
  {
   "cell_type": "code",
   "execution_count": 390,
   "metadata": {},
   "outputs": [
    {
     "data": {
      "text/html": [
       "<div>\n",
       "<style scoped>\n",
       "    .dataframe tbody tr th:only-of-type {\n",
       "        vertical-align: middle;\n",
       "    }\n",
       "\n",
       "    .dataframe tbody tr th {\n",
       "        vertical-align: top;\n",
       "    }\n",
       "\n",
       "    .dataframe thead th {\n",
       "        text-align: right;\n",
       "    }\n",
       "</style>\n",
       "<table border=\"1\" class=\"dataframe\">\n",
       "  <thead>\n",
       "    <tr style=\"text-align: right;\">\n",
       "      <th></th>\n",
       "      <th>CAMEO_DEUG_2015</th>\n",
       "      <th>CAMEO_INTL_2015</th>\n",
       "      <th>D19_LETZTER_KAUF_BRANCHE</th>\n",
       "      <th>OST_WEST_KZ</th>\n",
       "      <th>date</th>\n",
       "    </tr>\n",
       "  </thead>\n",
       "  <tbody>\n",
       "    <tr>\n",
       "      <th>0</th>\n",
       "      <td>5</td>\n",
       "      <td>34</td>\n",
       "      <td>D19_UNBEKANNT</td>\n",
       "      <td>W</td>\n",
       "      <td>1992</td>\n",
       "    </tr>\n",
       "    <tr>\n",
       "      <th>1</th>\n",
       "      <td>5</td>\n",
       "      <td>32</td>\n",
       "      <td>D19_TELKO_MOBILE</td>\n",
       "      <td>W</td>\n",
       "      <td>1997</td>\n",
       "    </tr>\n",
       "    <tr>\n",
       "      <th>2</th>\n",
       "      <td>2</td>\n",
       "      <td>14</td>\n",
       "      <td>D19_LEBENSMITTEL</td>\n",
       "      <td>O</td>\n",
       "      <td>1995</td>\n",
       "    </tr>\n",
       "    <tr>\n",
       "      <th>3</th>\n",
       "      <td>2</td>\n",
       "      <td>14</td>\n",
       "      <td>D19_UNBEKANNT</td>\n",
       "      <td>W</td>\n",
       "      <td>1992</td>\n",
       "    </tr>\n",
       "    <tr>\n",
       "      <th>4</th>\n",
       "      <td>7</td>\n",
       "      <td>41</td>\n",
       "      <td>D19_BEKLEIDUNG_GEH</td>\n",
       "      <td>W</td>\n",
       "      <td>1992</td>\n",
       "    </tr>\n",
       "  </tbody>\n",
       "</table>\n",
       "</div>"
      ],
      "text/plain": [
       "  CAMEO_DEUG_2015 CAMEO_INTL_2015 D19_LETZTER_KAUF_BRANCHE OST_WEST_KZ  date\n",
       "0               5              34            D19_UNBEKANNT           W  1992\n",
       "1               5              32         D19_TELKO_MOBILE           W  1997\n",
       "2               2              14         D19_LEBENSMITTEL           O  1995\n",
       "3               2              14            D19_UNBEKANNT           W  1992\n",
       "4               7              41       D19_BEKLEIDUNG_GEH           W  1992"
      ]
     },
     "execution_count": 390,
     "metadata": {},
     "output_type": "execute_result"
    }
   ],
   "source": [
    "objects.head()"
   ]
  },
  {
   "cell_type": "markdown",
   "metadata": {},
   "source": [
    "Now we're ready to change them to dummies!"
   ]
  },
  {
   "cell_type": "code",
   "execution_count": 391,
   "metadata": {},
   "outputs": [],
   "source": [
    "objects_touse = pd.get_dummies(objects, drop_first=True)"
   ]
  },
  {
   "cell_type": "code",
   "execution_count": 392,
   "metadata": {},
   "outputs": [],
   "source": [
    "del objects"
   ]
  },
  {
   "cell_type": "code",
   "execution_count": 393,
   "metadata": {},
   "outputs": [
    {
     "data": {
      "text/html": [
       "<div>\n",
       "<style scoped>\n",
       "    .dataframe tbody tr th:only-of-type {\n",
       "        vertical-align: middle;\n",
       "    }\n",
       "\n",
       "    .dataframe tbody tr th {\n",
       "        vertical-align: top;\n",
       "    }\n",
       "\n",
       "    .dataframe thead th {\n",
       "        text-align: right;\n",
       "    }\n",
       "</style>\n",
       "<table border=\"1\" class=\"dataframe\">\n",
       "  <thead>\n",
       "    <tr style=\"text-align: right;\">\n",
       "      <th></th>\n",
       "      <th>CAMEO_DEUG_2015_2</th>\n",
       "      <th>CAMEO_DEUG_2015_3</th>\n",
       "      <th>CAMEO_DEUG_2015_4</th>\n",
       "      <th>CAMEO_DEUG_2015_5</th>\n",
       "      <th>CAMEO_DEUG_2015_6</th>\n",
       "      <th>CAMEO_DEUG_2015_7</th>\n",
       "      <th>CAMEO_DEUG_2015_8</th>\n",
       "      <th>CAMEO_DEUG_2015_9</th>\n",
       "      <th>CAMEO_INTL_2015_13</th>\n",
       "      <th>CAMEO_INTL_2015_14</th>\n",
       "      <th>...</th>\n",
       "      <th>date_2006</th>\n",
       "      <th>date_2007</th>\n",
       "      <th>date_2008</th>\n",
       "      <th>date_2009</th>\n",
       "      <th>date_2010</th>\n",
       "      <th>date_2011</th>\n",
       "      <th>date_2012</th>\n",
       "      <th>date_2013</th>\n",
       "      <th>date_2014</th>\n",
       "      <th>date_2015</th>\n",
       "    </tr>\n",
       "  </thead>\n",
       "  <tbody>\n",
       "    <tr>\n",
       "      <th>0</th>\n",
       "      <td>0</td>\n",
       "      <td>0</td>\n",
       "      <td>0</td>\n",
       "      <td>1</td>\n",
       "      <td>0</td>\n",
       "      <td>0</td>\n",
       "      <td>0</td>\n",
       "      <td>0</td>\n",
       "      <td>0</td>\n",
       "      <td>0</td>\n",
       "      <td>...</td>\n",
       "      <td>0</td>\n",
       "      <td>0</td>\n",
       "      <td>0</td>\n",
       "      <td>0</td>\n",
       "      <td>0</td>\n",
       "      <td>0</td>\n",
       "      <td>0</td>\n",
       "      <td>0</td>\n",
       "      <td>0</td>\n",
       "      <td>0</td>\n",
       "    </tr>\n",
       "    <tr>\n",
       "      <th>1</th>\n",
       "      <td>0</td>\n",
       "      <td>0</td>\n",
       "      <td>0</td>\n",
       "      <td>1</td>\n",
       "      <td>0</td>\n",
       "      <td>0</td>\n",
       "      <td>0</td>\n",
       "      <td>0</td>\n",
       "      <td>0</td>\n",
       "      <td>0</td>\n",
       "      <td>...</td>\n",
       "      <td>0</td>\n",
       "      <td>0</td>\n",
       "      <td>0</td>\n",
       "      <td>0</td>\n",
       "      <td>0</td>\n",
       "      <td>0</td>\n",
       "      <td>0</td>\n",
       "      <td>0</td>\n",
       "      <td>0</td>\n",
       "      <td>0</td>\n",
       "    </tr>\n",
       "    <tr>\n",
       "      <th>2</th>\n",
       "      <td>1</td>\n",
       "      <td>0</td>\n",
       "      <td>0</td>\n",
       "      <td>0</td>\n",
       "      <td>0</td>\n",
       "      <td>0</td>\n",
       "      <td>0</td>\n",
       "      <td>0</td>\n",
       "      <td>0</td>\n",
       "      <td>1</td>\n",
       "      <td>...</td>\n",
       "      <td>0</td>\n",
       "      <td>0</td>\n",
       "      <td>0</td>\n",
       "      <td>0</td>\n",
       "      <td>0</td>\n",
       "      <td>0</td>\n",
       "      <td>0</td>\n",
       "      <td>0</td>\n",
       "      <td>0</td>\n",
       "      <td>0</td>\n",
       "    </tr>\n",
       "    <tr>\n",
       "      <th>3</th>\n",
       "      <td>1</td>\n",
       "      <td>0</td>\n",
       "      <td>0</td>\n",
       "      <td>0</td>\n",
       "      <td>0</td>\n",
       "      <td>0</td>\n",
       "      <td>0</td>\n",
       "      <td>0</td>\n",
       "      <td>0</td>\n",
       "      <td>1</td>\n",
       "      <td>...</td>\n",
       "      <td>0</td>\n",
       "      <td>0</td>\n",
       "      <td>0</td>\n",
       "      <td>0</td>\n",
       "      <td>0</td>\n",
       "      <td>0</td>\n",
       "      <td>0</td>\n",
       "      <td>0</td>\n",
       "      <td>0</td>\n",
       "      <td>0</td>\n",
       "    </tr>\n",
       "    <tr>\n",
       "      <th>4</th>\n",
       "      <td>0</td>\n",
       "      <td>0</td>\n",
       "      <td>0</td>\n",
       "      <td>0</td>\n",
       "      <td>0</td>\n",
       "      <td>1</td>\n",
       "      <td>0</td>\n",
       "      <td>0</td>\n",
       "      <td>0</td>\n",
       "      <td>0</td>\n",
       "      <td>...</td>\n",
       "      <td>0</td>\n",
       "      <td>0</td>\n",
       "      <td>0</td>\n",
       "      <td>0</td>\n",
       "      <td>0</td>\n",
       "      <td>0</td>\n",
       "      <td>0</td>\n",
       "      <td>0</td>\n",
       "      <td>0</td>\n",
       "      <td>0</td>\n",
       "    </tr>\n",
       "  </tbody>\n",
       "</table>\n",
       "<p>5 rows × 87 columns</p>\n",
       "</div>"
      ],
      "text/plain": [
       "   CAMEO_DEUG_2015_2  CAMEO_DEUG_2015_3  CAMEO_DEUG_2015_4  CAMEO_DEUG_2015_5  \\\n",
       "0                  0                  0                  0                  1   \n",
       "1                  0                  0                  0                  1   \n",
       "2                  1                  0                  0                  0   \n",
       "3                  1                  0                  0                  0   \n",
       "4                  0                  0                  0                  0   \n",
       "\n",
       "   CAMEO_DEUG_2015_6  CAMEO_DEUG_2015_7  CAMEO_DEUG_2015_8  CAMEO_DEUG_2015_9  \\\n",
       "0                  0                  0                  0                  0   \n",
       "1                  0                  0                  0                  0   \n",
       "2                  0                  0                  0                  0   \n",
       "3                  0                  0                  0                  0   \n",
       "4                  0                  1                  0                  0   \n",
       "\n",
       "   CAMEO_INTL_2015_13  CAMEO_INTL_2015_14  ...  date_2006  date_2007  \\\n",
       "0                   0                   0  ...          0          0   \n",
       "1                   0                   0  ...          0          0   \n",
       "2                   0                   1  ...          0          0   \n",
       "3                   0                   1  ...          0          0   \n",
       "4                   0                   0  ...          0          0   \n",
       "\n",
       "   date_2008  date_2009  date_2010  date_2011  date_2012  date_2013  \\\n",
       "0          0          0          0          0          0          0   \n",
       "1          0          0          0          0          0          0   \n",
       "2          0          0          0          0          0          0   \n",
       "3          0          0          0          0          0          0   \n",
       "4          0          0          0          0          0          0   \n",
       "\n",
       "   date_2014  date_2015  \n",
       "0          0          0  \n",
       "1          0          0  \n",
       "2          0          0  \n",
       "3          0          0  \n",
       "4          0          0  \n",
       "\n",
       "[5 rows x 87 columns]"
      ]
     },
     "execution_count": 393,
     "metadata": {},
     "output_type": "execute_result"
    }
   ],
   "source": [
    "objects_touse.head()"
   ]
  },
  {
   "cell_type": "markdown",
   "metadata": {},
   "source": [
    "Now that we're done with the objects, time to look at the numeric columns"
   ]
  },
  {
   "cell_type": "code",
   "execution_count": 394,
   "metadata": {},
   "outputs": [],
   "source": [
    "numbers = clean.loc[:, ~clean.columns.isin(obj_cols)]"
   ]
  },
  {
   "cell_type": "code",
   "execution_count": 395,
   "metadata": {},
   "outputs": [
    {
     "data": {
      "text/html": [
       "<div>\n",
       "<style scoped>\n",
       "    .dataframe tbody tr th:only-of-type {\n",
       "        vertical-align: middle;\n",
       "    }\n",
       "\n",
       "    .dataframe tbody tr th {\n",
       "        vertical-align: top;\n",
       "    }\n",
       "\n",
       "    .dataframe thead th {\n",
       "        text-align: right;\n",
       "    }\n",
       "</style>\n",
       "<table border=\"1\" class=\"dataframe\">\n",
       "  <thead>\n",
       "    <tr style=\"text-align: right;\">\n",
       "      <th></th>\n",
       "      <th>LNR</th>\n",
       "      <th>AGER_TYP</th>\n",
       "      <th>AKT_DAT_KL</th>\n",
       "      <th>ALTER_HH</th>\n",
       "      <th>ALTERSKATEGORIE_FEIN</th>\n",
       "      <th>ANZ_HAUSHALTE_AKTIV</th>\n",
       "      <th>ANZ_HH_TITEL</th>\n",
       "      <th>ANZ_KINDER</th>\n",
       "      <th>ANZ_PERSONEN</th>\n",
       "      <th>ANZ_STATISTISCHE_HAUSHALTE</th>\n",
       "      <th>...</th>\n",
       "      <th>VHN</th>\n",
       "      <th>VK_DHT4A</th>\n",
       "      <th>VK_DISTANZ</th>\n",
       "      <th>VK_ZG11</th>\n",
       "      <th>WOHNDAUER_2008</th>\n",
       "      <th>WOHNLAGE</th>\n",
       "      <th>ZABEOTYP</th>\n",
       "      <th>RESPONSE</th>\n",
       "      <th>ANREDE_KZ</th>\n",
       "      <th>ALTERSKATEGORIE_GROB</th>\n",
       "    </tr>\n",
       "  </thead>\n",
       "  <tbody>\n",
       "    <tr>\n",
       "      <th>0</th>\n",
       "      <td>1763</td>\n",
       "      <td>2</td>\n",
       "      <td>1.0</td>\n",
       "      <td>8.0</td>\n",
       "      <td>8.0</td>\n",
       "      <td>15.0</td>\n",
       "      <td>0.0</td>\n",
       "      <td>0.0</td>\n",
       "      <td>1.0</td>\n",
       "      <td>13.0</td>\n",
       "      <td>...</td>\n",
       "      <td>2.0</td>\n",
       "      <td>5.0</td>\n",
       "      <td>2.0</td>\n",
       "      <td>1.0</td>\n",
       "      <td>9.0</td>\n",
       "      <td>3.0</td>\n",
       "      <td>3</td>\n",
       "      <td>0</td>\n",
       "      <td>2</td>\n",
       "      <td>4</td>\n",
       "    </tr>\n",
       "    <tr>\n",
       "      <th>1</th>\n",
       "      <td>1771</td>\n",
       "      <td>1</td>\n",
       "      <td>4.0</td>\n",
       "      <td>13.0</td>\n",
       "      <td>13.0</td>\n",
       "      <td>1.0</td>\n",
       "      <td>0.0</td>\n",
       "      <td>0.0</td>\n",
       "      <td>2.0</td>\n",
       "      <td>1.0</td>\n",
       "      <td>...</td>\n",
       "      <td>3.0</td>\n",
       "      <td>1.0</td>\n",
       "      <td>2.0</td>\n",
       "      <td>1.0</td>\n",
       "      <td>9.0</td>\n",
       "      <td>7.0</td>\n",
       "      <td>1</td>\n",
       "      <td>0</td>\n",
       "      <td>2</td>\n",
       "      <td>3</td>\n",
       "    </tr>\n",
       "    <tr>\n",
       "      <th>2</th>\n",
       "      <td>1776</td>\n",
       "      <td>1</td>\n",
       "      <td>1.0</td>\n",
       "      <td>9.0</td>\n",
       "      <td>7.0</td>\n",
       "      <td>0.0</td>\n",
       "      <td>NaN</td>\n",
       "      <td>0.0</td>\n",
       "      <td>0.0</td>\n",
       "      <td>1.0</td>\n",
       "      <td>...</td>\n",
       "      <td>1.0</td>\n",
       "      <td>6.0</td>\n",
       "      <td>4.0</td>\n",
       "      <td>2.0</td>\n",
       "      <td>9.0</td>\n",
       "      <td>2.0</td>\n",
       "      <td>3</td>\n",
       "      <td>0</td>\n",
       "      <td>1</td>\n",
       "      <td>4</td>\n",
       "    </tr>\n",
       "    <tr>\n",
       "      <th>3</th>\n",
       "      <td>1460</td>\n",
       "      <td>2</td>\n",
       "      <td>1.0</td>\n",
       "      <td>6.0</td>\n",
       "      <td>6.0</td>\n",
       "      <td>4.0</td>\n",
       "      <td>0.0</td>\n",
       "      <td>0.0</td>\n",
       "      <td>2.0</td>\n",
       "      <td>4.0</td>\n",
       "      <td>...</td>\n",
       "      <td>4.0</td>\n",
       "      <td>8.0</td>\n",
       "      <td>11.0</td>\n",
       "      <td>11.0</td>\n",
       "      <td>9.0</td>\n",
       "      <td>1.0</td>\n",
       "      <td>3</td>\n",
       "      <td>0</td>\n",
       "      <td>2</td>\n",
       "      <td>4</td>\n",
       "    </tr>\n",
       "    <tr>\n",
       "      <th>4</th>\n",
       "      <td>1783</td>\n",
       "      <td>2</td>\n",
       "      <td>1.0</td>\n",
       "      <td>9.0</td>\n",
       "      <td>9.0</td>\n",
       "      <td>53.0</td>\n",
       "      <td>0.0</td>\n",
       "      <td>0.0</td>\n",
       "      <td>1.0</td>\n",
       "      <td>44.0</td>\n",
       "      <td>...</td>\n",
       "      <td>4.0</td>\n",
       "      <td>2.0</td>\n",
       "      <td>2.0</td>\n",
       "      <td>1.0</td>\n",
       "      <td>9.0</td>\n",
       "      <td>3.0</td>\n",
       "      <td>3</td>\n",
       "      <td>0</td>\n",
       "      <td>1</td>\n",
       "      <td>3</td>\n",
       "    </tr>\n",
       "  </tbody>\n",
       "</table>\n",
       "<p>5 rows × 289 columns</p>\n",
       "</div>"
      ],
      "text/plain": [
       "    LNR  AGER_TYP  AKT_DAT_KL  ALTER_HH  ALTERSKATEGORIE_FEIN  \\\n",
       "0  1763         2         1.0       8.0                   8.0   \n",
       "1  1771         1         4.0      13.0                  13.0   \n",
       "2  1776         1         1.0       9.0                   7.0   \n",
       "3  1460         2         1.0       6.0                   6.0   \n",
       "4  1783         2         1.0       9.0                   9.0   \n",
       "\n",
       "   ANZ_HAUSHALTE_AKTIV  ANZ_HH_TITEL  ANZ_KINDER  ANZ_PERSONEN  \\\n",
       "0                 15.0           0.0         0.0           1.0   \n",
       "1                  1.0           0.0         0.0           2.0   \n",
       "2                  0.0           NaN         0.0           0.0   \n",
       "3                  4.0           0.0         0.0           2.0   \n",
       "4                 53.0           0.0         0.0           1.0   \n",
       "\n",
       "   ANZ_STATISTISCHE_HAUSHALTE  ...  VHN  VK_DHT4A  VK_DISTANZ  VK_ZG11  \\\n",
       "0                        13.0  ...  2.0       5.0         2.0      1.0   \n",
       "1                         1.0  ...  3.0       1.0         2.0      1.0   \n",
       "2                         1.0  ...  1.0       6.0         4.0      2.0   \n",
       "3                         4.0  ...  4.0       8.0        11.0     11.0   \n",
       "4                        44.0  ...  4.0       2.0         2.0      1.0   \n",
       "\n",
       "   WOHNDAUER_2008  WOHNLAGE  ZABEOTYP  RESPONSE  ANREDE_KZ  \\\n",
       "0             9.0       3.0         3         0          2   \n",
       "1             9.0       7.0         1         0          2   \n",
       "2             9.0       2.0         3         0          1   \n",
       "3             9.0       1.0         3         0          2   \n",
       "4             9.0       3.0         3         0          1   \n",
       "\n",
       "   ALTERSKATEGORIE_GROB  \n",
       "0                     4  \n",
       "1                     3  \n",
       "2                     4  \n",
       "3                     4  \n",
       "4                     3  \n",
       "\n",
       "[5 rows x 289 columns]"
      ]
     },
     "execution_count": 395,
     "metadata": {},
     "output_type": "execute_result"
    }
   ],
   "source": [
    "numbers.head()"
   ]
  },
  {
   "cell_type": "code",
   "execution_count": 396,
   "metadata": {},
   "outputs": [
    {
     "data": {
      "text/plain": [
       "42962"
      ]
     },
     "execution_count": 396,
     "metadata": {},
     "output_type": "execute_result"
    }
   ],
   "source": [
    "numbers['LNR'].nunique()"
   ]
  },
  {
   "cell_type": "code",
   "execution_count": 397,
   "metadata": {},
   "outputs": [
    {
     "data": {
      "text/plain": [
       "(42962, 289)"
      ]
     },
     "execution_count": 397,
     "metadata": {},
     "output_type": "execute_result"
    }
   ],
   "source": [
    "numbers.shape"
   ]
  },
  {
   "cell_type": "markdown",
   "metadata": {},
   "source": [
    "LNR is unique to each row so it is clearly an ID number. Since ids are meaningless to us, we'll remove it"
   ]
  },
  {
   "cell_type": "code",
   "execution_count": 398,
   "metadata": {},
   "outputs": [],
   "source": [
    "numbers = numbers.drop('LNR',axis=1)"
   ]
  },
  {
   "cell_type": "code",
   "execution_count": 399,
   "metadata": {},
   "outputs": [
    {
     "data": {
      "text/plain": [
       "AGER_TYP                343696\n",
       "AKT_DAT_KL              343696\n",
       "ALTER_HH                343696\n",
       "ALTERSKATEGORIE_FEIN    343696\n",
       "ANZ_HAUSHALTE_AKTIV     343696\n",
       "                         ...  \n",
       "WOHNLAGE                343696\n",
       "ZABEOTYP                343696\n",
       "RESPONSE                343696\n",
       "ANREDE_KZ               343696\n",
       "ALTERSKATEGORIE_GROB    343696\n",
       "Length: 288, dtype: int64"
      ]
     },
     "execution_count": 399,
     "metadata": {},
     "output_type": "execute_result"
    }
   ],
   "source": [
    "numbers.memory_usage(index=False)"
   ]
  },
  {
   "cell_type": "markdown",
   "metadata": {},
   "source": [
    "We can't do much with such a huge memory size, so let's reduce it. But first, we'll take a look at the unique numbers."
   ]
  },
  {
   "cell_type": "code",
   "execution_count": 400,
   "metadata": {},
   "outputs": [],
   "source": [
    "unis = numbers.nunique()"
   ]
  },
  {
   "cell_type": "code",
   "execution_count": 401,
   "metadata": {},
   "outputs": [
    {
     "data": {
      "text/plain": [
       "AGER_TYP                        5\n",
       "AKT_DAT_KL                      9\n",
       "ALTER_HH                       20\n",
       "ALTERSKATEGORIE_FEIN           25\n",
       "ANZ_HAUSHALTE_AKTIV           175\n",
       "ANZ_HH_TITEL                   15\n",
       "ANZ_KINDER                      7\n",
       "ANZ_PERSONEN                   14\n",
       "ANZ_STATISTISCHE_HAUSHALTE    173\n",
       "ANZ_TITEL                       3\n",
       "ARBEIT                          6\n",
       "BALLRAUM                        7\n",
       "CJT_GESAMTTYP                   6\n",
       "CJT_KATALOGNUTZER               5\n",
       "CJT_TYP_1                       5\n",
       "CJT_TYP_2                       5\n",
       "CJT_TYP_3                       5\n",
       "CJT_TYP_4                       5\n",
       "CJT_TYP_5                       5\n",
       "CJT_TYP_6                       5\n",
       "dtype: int64"
      ]
     },
     "execution_count": 401,
     "metadata": {},
     "output_type": "execute_result"
    }
   ],
   "source": [
    "unis.head(20)"
   ]
  },
  {
   "cell_type": "code",
   "execution_count": 403,
   "metadata": {},
   "outputs": [
    {
     "data": {
      "text/plain": [
       "(42962, 288)"
      ]
     },
     "execution_count": 403,
     "metadata": {},
     "output_type": "execute_result"
    }
   ],
   "source": [
    "numbers.shape"
   ]
  },
  {
   "cell_type": "code",
   "execution_count": 404,
   "metadata": {},
   "outputs": [
    {
     "data": {
      "text/plain": [
       "(278,)"
      ]
     },
     "execution_count": 404,
     "metadata": {},
     "output_type": "execute_result"
    }
   ],
   "source": [
    "unis[unis<20].shape #seeing without outliers"
   ]
  },
  {
   "cell_type": "code",
   "execution_count": 405,
   "metadata": {},
   "outputs": [
    {
     "data": {
      "image/png": "[encoded data removed]",
      "text/plain": [
       "<Figure size 432x288 with 1 Axes>"
      ]
     },
     "metadata": {
      "needs_background": "light"
     },
     "output_type": "display_data"
    }
   ],
   "source": [
    "unis[unis<20].plot(kind='hist',bins=50)\n",
    "plt.xlabel('number of uniques')\n",
    "sns.despine()"
   ]
  },
  {
   "cell_type": "markdown",
   "metadata": {},
   "source": [
    "We can see that a large number of our supposedly numeric columns have only 5 or less unique numbers. This could suggest that these columns might actually be categorical instead. Let's check:"
   ]
  },
  {
   "cell_type": "code",
   "execution_count": 406,
   "metadata": {},
   "outputs": [
    {
     "data": {
      "text/html": [
       "<div>\n",
       "<style scoped>\n",
       "    .dataframe tbody tr th:only-of-type {\n",
       "        vertical-align: middle;\n",
       "    }\n",
       "\n",
       "    .dataframe tbody tr th {\n",
       "        vertical-align: top;\n",
       "    }\n",
       "\n",
       "    .dataframe thead th {\n",
       "        text-align: right;\n",
       "    }\n",
       "</style>\n",
       "<table border=\"1\" class=\"dataframe\">\n",
       "  <thead>\n",
       "    <tr style=\"text-align: right;\">\n",
       "      <th></th>\n",
       "      <th>Information level</th>\n",
       "      <th>Attribute</th>\n",
       "      <th>Description</th>\n",
       "      <th>Additional notes</th>\n",
       "    </tr>\n",
       "  </thead>\n",
       "  <tbody>\n",
       "    <tr>\n",
       "      <th>NaN</th>\n",
       "      <td>NaN</td>\n",
       "      <td>KBA13_VORB_0</td>\n",
       "      <td>share of cars with no preowner - PLZ8</td>\n",
       "      <td>NaN</td>\n",
       "    </tr>\n",
       "    <tr>\n",
       "      <th>NaN</th>\n",
       "      <td>NaN</td>\n",
       "      <td>KBA13_VORB_1</td>\n",
       "      <td>share of cars with 1 preowner - PLZ8</td>\n",
       "      <td>NaN</td>\n",
       "    </tr>\n",
       "    <tr>\n",
       "      <th>NaN</th>\n",
       "      <td>NaN</td>\n",
       "      <td>KBA13_VORB_1_2</td>\n",
       "      <td>share of cars with 1 or 2 preowner - PLZ8</td>\n",
       "      <td>NaN</td>\n",
       "    </tr>\n",
       "    <tr>\n",
       "      <th>NaN</th>\n",
       "      <td>NaN</td>\n",
       "      <td>KBA13_VORB_2</td>\n",
       "      <td>share of cars with 2 preowner - PLZ8</td>\n",
       "      <td>NaN</td>\n",
       "    </tr>\n",
       "    <tr>\n",
       "      <th>NaN</th>\n",
       "      <td>NaN</td>\n",
       "      <td>KBA13_VW</td>\n",
       "      <td>share of VOLKSWAGEN within the PLZ8</td>\n",
       "      <td>NaN</td>\n",
       "    </tr>\n",
       "    <tr>\n",
       "      <th>NaN</th>\n",
       "      <td>NaN</td>\n",
       "      <td>PLZ8_ANTG1</td>\n",
       "      <td>number of 1-2 family houses in the PLZ8</td>\n",
       "      <td>NaN</td>\n",
       "    </tr>\n",
       "    <tr>\n",
       "      <th>NaN</th>\n",
       "      <td>NaN</td>\n",
       "      <td>PLZ8_ANTG2</td>\n",
       "      <td>number of 3-5 family houses in the PLZ8</td>\n",
       "      <td>NaN</td>\n",
       "    </tr>\n",
       "    <tr>\n",
       "      <th>NaN</th>\n",
       "      <td>NaN</td>\n",
       "      <td>PLZ8_BAUMAX</td>\n",
       "      <td>most common building-type within the PLZ8</td>\n",
       "      <td>NaN</td>\n",
       "    </tr>\n",
       "    <tr>\n",
       "      <th>NaN</th>\n",
       "      <td>NaN</td>\n",
       "      <td>PLZ8_HHZ</td>\n",
       "      <td>number of households within the PLZ8</td>\n",
       "      <td>NaN</td>\n",
       "    </tr>\n",
       "    <tr>\n",
       "      <th>NaN</th>\n",
       "      <td>NaN</td>\n",
       "      <td>PLZ8_GBZ</td>\n",
       "      <td>number of buildings within the PLZ8</td>\n",
       "      <td>NaN</td>\n",
       "    </tr>\n",
       "  </tbody>\n",
       "</table>\n",
       "</div>"
      ],
      "text/plain": [
       "    Information level       Attribute  \\\n",
       "NaN               NaN    KBA13_VORB_0   \n",
       "NaN               NaN    KBA13_VORB_1   \n",
       "NaN               NaN  KBA13_VORB_1_2   \n",
       "NaN               NaN    KBA13_VORB_2   \n",
       "NaN               NaN        KBA13_VW   \n",
       "NaN               NaN      PLZ8_ANTG1   \n",
       "NaN               NaN      PLZ8_ANTG2   \n",
       "NaN               NaN     PLZ8_BAUMAX   \n",
       "NaN               NaN        PLZ8_HHZ   \n",
       "NaN               NaN        PLZ8_GBZ   \n",
       "\n",
       "                                   Description Additional notes  \n",
       "NaN      share of cars with no preowner - PLZ8              NaN  \n",
       "NaN       share of cars with 1 preowner - PLZ8              NaN  \n",
       "NaN  share of cars with 1 or 2 preowner - PLZ8              NaN  \n",
       "NaN       share of cars with 2 preowner - PLZ8              NaN  \n",
       "NaN        share of VOLKSWAGEN within the PLZ8              NaN  \n",
       "NaN    number of 1-2 family houses in the PLZ8              NaN  \n",
       "NaN    number of 3-5 family houses in the PLZ8              NaN  \n",
       "NaN  most common building-type within the PLZ8              NaN  \n",
       "NaN       number of households within the PLZ8              NaN  \n",
       "NaN        number of buildings within the PLZ8              NaN  "
      ]
     },
     "execution_count": 406,
     "metadata": {},
     "output_type": "execute_result"
    }
   ],
   "source": [
    "overview[overview.Attribute.isin(unis[unis==5].index)].tail(10)"
   ]
  },
  {
   "cell_type": "markdown",
   "metadata": {},
   "source": [
    "Looking at it here, it seems that assumption was not exactly correct. For example, for number of family houses, 3 is more 2, which is more than 1. That can't be a categorical variable and should stay as numeric to keep that kind of information. The kind that says that some people have more than others. You can't do that with a categorical variable. So, let's move on."
   ]
  },
  {
   "cell_type": "code",
   "execution_count": 407,
   "metadata": {},
   "outputs": [],
   "source": [
    "del unis"
   ]
  },
  {
   "cell_type": "code",
   "execution_count": 409,
   "metadata": {},
   "outputs": [],
   "source": [
    "def reduce_memory_nums(df):\n",
    "    for col in df.columns:\n",
    "#         print(col)\n",
    "\n",
    "        mx = df[col].max()\n",
    "        mn = df[col].min()\n",
    "\n",
    "        if mn >= 0:\n",
    "            if mx < 255:\n",
    "                df[col] = df[col].astype(np.uint8, errors='ignore')\n",
    "            elif mx < 65535:\n",
    "                df[col] = df[col].astype(np.uint16, errors='ignore')\n",
    "            elif mx < 4294967295:\n",
    "                df[col] = df[col].astype(np.uint32, errors='ignore')\n",
    "            else:\n",
    "                df[col] = df[col].astype(np.uint64, errors='ignore')\n",
    "        else:\n",
    "            if mn > np.iinfo(np.int8).min and mx < np.iinfo(np.int8).max:\n",
    "                df[col] = df[col].astype(np.int8, errors='ignore')\n",
    "            elif mn > np.iinfo(np.int16).min and mx < np.iinfo(np.int16).max:\n",
    "                df[col] = df[col].astype(np.int16, errors='ignore')\n",
    "            elif mn > np.iinfo(np.int32).min and mx < np.iinfo(np.int32).max:\n",
    "                df[col] = df[col].astype(np.int32, errors='ignore')\n",
    "            elif mn > np.iinfo(np.int64).min and mx < np.iinfo(np.int64).max:\n",
    "                df[col] = df[col].astype(np.int64, errors='ignore')\n",
    "    return df"
   ]
  },
  {
   "cell_type": "code",
   "execution_count": 408,
   "metadata": {},
   "outputs": [],
   "source": [
    "#         df[col] = df[col].apply(lambda s: pd.to_numeric(s, errors='coerce'))\n",
    "#         df[col] = df[col].fillna(df[col].median())"
   ]
  },
  {
   "cell_type": "code",
   "execution_count": 413,
   "metadata": {},
   "outputs": [
    {
     "data": {
      "text/plain": [
       "AGER_TYP                343696\n",
       "AKT_DAT_KL              343696\n",
       "ALTER_HH                343696\n",
       "ALTERSKATEGORIE_FEIN    343696\n",
       "ANZ_HAUSHALTE_AKTIV     343696\n",
       "                         ...  \n",
       "WOHNLAGE                343696\n",
       "ZABEOTYP                343696\n",
       "RESPONSE                343696\n",
       "ANREDE_KZ               343696\n",
       "ALTERSKATEGORIE_GROB    343696\n",
       "Length: 288, dtype: int64"
      ]
     },
     "execution_count": 413,
     "metadata": {},
     "output_type": "execute_result"
    }
   ],
   "source": [
    "numbers.memory_usage(index=False)"
   ]
  },
  {
   "cell_type": "code",
   "execution_count": 414,
   "metadata": {},
   "outputs": [],
   "source": [
    "numbers = reduce_memory_nums(numbers)"
   ]
  },
  {
   "cell_type": "code",
   "execution_count": 415,
   "metadata": {},
   "outputs": [
    {
     "data": {
      "text/plain": [
       "AGER_TYP                 42962\n",
       "AKT_DAT_KL              343696\n",
       "ALTER_HH                343696\n",
       "ALTERSKATEGORIE_FEIN    343696\n",
       "ANZ_HAUSHALTE_AKTIV     343696\n",
       "                         ...  \n",
       "WOHNLAGE                343696\n",
       "ZABEOTYP                 42962\n",
       "RESPONSE                 42962\n",
       "ANREDE_KZ                42962\n",
       "ALTERSKATEGORIE_GROB     42962\n",
       "Length: 288, dtype: int64"
      ]
     },
     "execution_count": 415,
     "metadata": {},
     "output_type": "execute_result"
    }
   ],
   "source": [
    "numbers.memory_usage(index=False)"
   ]
  },
  {
   "cell_type": "code",
   "execution_count": 417,
   "metadata": {},
   "outputs": [
    {
     "data": {
      "text/plain": [
       "1387396"
      ]
     },
     "execution_count": 417,
     "metadata": {},
     "output_type": "execute_result"
    }
   ],
   "source": [
    "numbers.isna().sum().sum()"
   ]
  },
  {
   "cell_type": "code",
   "execution_count": 420,
   "metadata": {},
   "outputs": [],
   "source": [
    "# numbers = numbers.apply(lambda s: pd.to_numeric(s, errors='coerce'))\n",
    "numbers = numbers.fillna(numbers.median().iloc[0])"
   ]
  },
  {
   "cell_type": "code",
   "execution_count": 421,
   "metadata": {},
   "outputs": [
    {
     "data": {
      "text/plain": [
       "0"
      ]
     },
     "execution_count": 421,
     "metadata": {},
     "output_type": "execute_result"
    }
   ],
   "source": [
    "numbers.isna().sum().sum()"
   ]
  },
  {
   "cell_type": "markdown",
   "metadata": {},
   "source": [
    "Now we have no more missing values with numbers."
   ]
  },
  {
   "cell_type": "code",
   "execution_count": null,
   "metadata": {},
   "outputs": [],
   "source": []
  },
  {
   "cell_type": "code",
   "execution_count": null,
   "metadata": {},
   "outputs": [],
   "source": []
  },
  {
   "cell_type": "markdown",
   "metadata": {},
   "source": [
    "## Part 1: Customer Segmentation Report\n",
    "\n",
    "The main bulk of your analysis will come in this part of the project. Here, you should use unsupervised learning techniques to describe the relationship between the demographics of the company's existing customers and the general population of Germany. By the end of this part, you should be able to describe parts of the general population that are more likely to be part of the mail-order company's main customer base, and which parts of the general population are less so."
   ]
  },
  {
   "cell_type": "code",
   "execution_count": null,
   "metadata": {},
   "outputs": [],
   "source": []
  },
  {
   "cell_type": "markdown",
   "metadata": {},
   "source": [
    "## Part 2: Supervised Learning Model\n",
    "\n",
    "Now that you've found which parts of the population are more likely to be customers of the mail-order company, it's time to build a prediction model. Each of the rows in the \"MAILOUT\" data files represents an individual that was targeted for a mailout campaign. Ideally, we should be able to use the demographic information from each individual to decide whether or not it will be worth it to include that person in the campaign.\n",
    "\n",
    "The \"MAILOUT\" data has been split into two approximately equal parts, each with almost 43 000 data rows. In this part, you can verify your model with the \"TRAIN\" partition, which includes a column, \"RESPONSE\", that states whether or not a person became a customer of the company following the campaign. In the next part, you'll need to create predictions on the \"TEST\" partition, where the \"RESPONSE\" column has been withheld."
   ]
  },
  {
   "cell_type": "code",
   "execution_count": 6,
   "metadata": {},
   "outputs": [
    {
     "name": "stderr",
     "output_type": "stream",
     "text": [
      "/opt/conda/lib/python3.6/site-packages/IPython/core/interactiveshell.py:2785: DtypeWarning: Columns (18,19) have mixed types. Specify dtype option on import or set low_memory=False.\n",
      "  interactivity=interactivity, compiler=compiler, result=result)\n"
     ]
    }
   ],
   "source": [
    "mailout_train = pd.read_csv('../../data/Term2/capstone/arvato_data/Udacity_MAILOUT_052018_TRAIN.csv', sep=';')"
   ]
  },
  {
   "cell_type": "code",
   "execution_count": 7,
   "metadata": {},
   "outputs": [
    {
     "data": {
      "text/html": [
       "<div>\n",
       "<style scoped>\n",
       "    .dataframe tbody tr th:only-of-type {\n",
       "        vertical-align: middle;\n",
       "    }\n",
       "\n",
       "    .dataframe tbody tr th {\n",
       "        vertical-align: top;\n",
       "    }\n",
       "\n",
       "    .dataframe thead th {\n",
       "        text-align: right;\n",
       "    }\n",
       "</style>\n",
       "<table border=\"1\" class=\"dataframe\">\n",
       "  <thead>\n",
       "    <tr style=\"text-align: right;\">\n",
       "      <th></th>\n",
       "      <th>LNR</th>\n",
       "      <th>AGER_TYP</th>\n",
       "      <th>AKT_DAT_KL</th>\n",
       "      <th>ALTER_HH</th>\n",
       "      <th>ALTER_KIND1</th>\n",
       "      <th>ALTER_KIND2</th>\n",
       "      <th>ALTER_KIND3</th>\n",
       "      <th>ALTER_KIND4</th>\n",
       "      <th>ALTERSKATEGORIE_FEIN</th>\n",
       "      <th>ANZ_HAUSHALTE_AKTIV</th>\n",
       "      <th>...</th>\n",
       "      <th>VK_DHT4A</th>\n",
       "      <th>VK_DISTANZ</th>\n",
       "      <th>VK_ZG11</th>\n",
       "      <th>W_KEIT_KIND_HH</th>\n",
       "      <th>WOHNDAUER_2008</th>\n",
       "      <th>WOHNLAGE</th>\n",
       "      <th>ZABEOTYP</th>\n",
       "      <th>RESPONSE</th>\n",
       "      <th>ANREDE_KZ</th>\n",
       "      <th>ALTERSKATEGORIE_GROB</th>\n",
       "    </tr>\n",
       "  </thead>\n",
       "  <tbody>\n",
       "    <tr>\n",
       "      <th>0</th>\n",
       "      <td>1763</td>\n",
       "      <td>2</td>\n",
       "      <td>1.0</td>\n",
       "      <td>8.0</td>\n",
       "      <td>NaN</td>\n",
       "      <td>NaN</td>\n",
       "      <td>NaN</td>\n",
       "      <td>NaN</td>\n",
       "      <td>8.0</td>\n",
       "      <td>15.0</td>\n",
       "      <td>...</td>\n",
       "      <td>5.0</td>\n",
       "      <td>2.0</td>\n",
       "      <td>1.0</td>\n",
       "      <td>6.0</td>\n",
       "      <td>9.0</td>\n",
       "      <td>3.0</td>\n",
       "      <td>3</td>\n",
       "      <td>0</td>\n",
       "      <td>2</td>\n",
       "      <td>4</td>\n",
       "    </tr>\n",
       "    <tr>\n",
       "      <th>1</th>\n",
       "      <td>1771</td>\n",
       "      <td>1</td>\n",
       "      <td>4.0</td>\n",
       "      <td>13.0</td>\n",
       "      <td>NaN</td>\n",
       "      <td>NaN</td>\n",
       "      <td>NaN</td>\n",
       "      <td>NaN</td>\n",
       "      <td>13.0</td>\n",
       "      <td>1.0</td>\n",
       "      <td>...</td>\n",
       "      <td>1.0</td>\n",
       "      <td>2.0</td>\n",
       "      <td>1.0</td>\n",
       "      <td>4.0</td>\n",
       "      <td>9.0</td>\n",
       "      <td>7.0</td>\n",
       "      <td>1</td>\n",
       "      <td>0</td>\n",
       "      <td>2</td>\n",
       "      <td>3</td>\n",
       "    </tr>\n",
       "    <tr>\n",
       "      <th>2</th>\n",
       "      <td>1776</td>\n",
       "      <td>1</td>\n",
       "      <td>1.0</td>\n",
       "      <td>9.0</td>\n",
       "      <td>NaN</td>\n",
       "      <td>NaN</td>\n",
       "      <td>NaN</td>\n",
       "      <td>NaN</td>\n",
       "      <td>7.0</td>\n",
       "      <td>0.0</td>\n",
       "      <td>...</td>\n",
       "      <td>6.0</td>\n",
       "      <td>4.0</td>\n",
       "      <td>2.0</td>\n",
       "      <td>NaN</td>\n",
       "      <td>9.0</td>\n",
       "      <td>2.0</td>\n",
       "      <td>3</td>\n",
       "      <td>0</td>\n",
       "      <td>1</td>\n",
       "      <td>4</td>\n",
       "    </tr>\n",
       "    <tr>\n",
       "      <th>3</th>\n",
       "      <td>1460</td>\n",
       "      <td>2</td>\n",
       "      <td>1.0</td>\n",
       "      <td>6.0</td>\n",
       "      <td>NaN</td>\n",
       "      <td>NaN</td>\n",
       "      <td>NaN</td>\n",
       "      <td>NaN</td>\n",
       "      <td>6.0</td>\n",
       "      <td>4.0</td>\n",
       "      <td>...</td>\n",
       "      <td>8.0</td>\n",
       "      <td>11.0</td>\n",
       "      <td>11.0</td>\n",
       "      <td>6.0</td>\n",
       "      <td>9.0</td>\n",
       "      <td>1.0</td>\n",
       "      <td>3</td>\n",
       "      <td>0</td>\n",
       "      <td>2</td>\n",
       "      <td>4</td>\n",
       "    </tr>\n",
       "    <tr>\n",
       "      <th>4</th>\n",
       "      <td>1783</td>\n",
       "      <td>2</td>\n",
       "      <td>1.0</td>\n",
       "      <td>9.0</td>\n",
       "      <td>NaN</td>\n",
       "      <td>NaN</td>\n",
       "      <td>NaN</td>\n",
       "      <td>NaN</td>\n",
       "      <td>9.0</td>\n",
       "      <td>53.0</td>\n",
       "      <td>...</td>\n",
       "      <td>2.0</td>\n",
       "      <td>2.0</td>\n",
       "      <td>1.0</td>\n",
       "      <td>6.0</td>\n",
       "      <td>9.0</td>\n",
       "      <td>3.0</td>\n",
       "      <td>3</td>\n",
       "      <td>0</td>\n",
       "      <td>1</td>\n",
       "      <td>3</td>\n",
       "    </tr>\n",
       "  </tbody>\n",
       "</table>\n",
       "<p>5 rows × 367 columns</p>\n",
       "</div>"
      ],
      "text/plain": [
       "    LNR  AGER_TYP  AKT_DAT_KL  ALTER_HH  ALTER_KIND1  ALTER_KIND2  \\\n",
       "0  1763         2         1.0       8.0          NaN          NaN   \n",
       "1  1771         1         4.0      13.0          NaN          NaN   \n",
       "2  1776         1         1.0       9.0          NaN          NaN   \n",
       "3  1460         2         1.0       6.0          NaN          NaN   \n",
       "4  1783         2         1.0       9.0          NaN          NaN   \n",
       "\n",
       "   ALTER_KIND3  ALTER_KIND4  ALTERSKATEGORIE_FEIN  ANZ_HAUSHALTE_AKTIV  \\\n",
       "0          NaN          NaN                   8.0                 15.0   \n",
       "1          NaN          NaN                  13.0                  1.0   \n",
       "2          NaN          NaN                   7.0                  0.0   \n",
       "3          NaN          NaN                   6.0                  4.0   \n",
       "4          NaN          NaN                   9.0                 53.0   \n",
       "\n",
       "          ...           VK_DHT4A  VK_DISTANZ  VK_ZG11  W_KEIT_KIND_HH  \\\n",
       "0         ...                5.0         2.0      1.0             6.0   \n",
       "1         ...                1.0         2.0      1.0             4.0   \n",
       "2         ...                6.0         4.0      2.0             NaN   \n",
       "3         ...                8.0        11.0     11.0             6.0   \n",
       "4         ...                2.0         2.0      1.0             6.0   \n",
       "\n",
       "   WOHNDAUER_2008  WOHNLAGE  ZABEOTYP RESPONSE ANREDE_KZ ALTERSKATEGORIE_GROB  \n",
       "0             9.0       3.0         3        0         2                    4  \n",
       "1             9.0       7.0         1        0         2                    3  \n",
       "2             9.0       2.0         3        0         1                    4  \n",
       "3             9.0       1.0         3        0         2                    4  \n",
       "4             9.0       3.0         3        0         1                    3  \n",
       "\n",
       "[5 rows x 367 columns]"
      ]
     },
     "execution_count": 7,
     "metadata": {},
     "output_type": "execute_result"
    }
   ],
   "source": [
    "mailout_train.head()"
   ]
  },
  {
   "cell_type": "markdown",
   "metadata": {},
   "source": [
    "## Part 3: Kaggle Competition\n",
    "\n",
    "Now that you've created a model to predict which individuals are most likely to respond to a mailout campaign, it's time to test that model in competition through Kaggle. If you click on the link [here](http://www.kaggle.com/t/21e6d45d4c574c7fa2d868f0e8c83140), you'll be taken to the competition page where, if you have a Kaggle account, you can enter. If you're one of the top performers, you may have the chance to be contacted by a hiring manager from Arvato or Bertelsmann for an interview!\n",
    "\n",
    "Your entry to the competition should be a CSV file with two columns. The first column should be a copy of \"LNR\", which acts as an ID number for each individual in the \"TEST\" partition. The second column, \"RESPONSE\", should be some measure of how likely each individual became a customer – this might not be a straightforward probability. As you should have found in Part 2, there is a large output class imbalance, where most individuals did not respond to the mailout. Thus, predicting individual classes and using accuracy does not seem to be an appropriate performance evaluation method. Instead, the competition will be using AUC to evaluate performance. The exact values of the \"RESPONSE\" column do not matter as much: only that the higher values try to capture as many of the actual customers as possible, early in the ROC curve sweep."
   ]
  },
  {
   "cell_type": "code",
   "execution_count": 8,
   "metadata": {},
   "outputs": [
    {
     "name": "stderr",
     "output_type": "stream",
     "text": [
      "/opt/conda/lib/python3.6/site-packages/IPython/core/interactiveshell.py:2785: DtypeWarning: Columns (18,19) have mixed types. Specify dtype option on import or set low_memory=False.\n",
      "  interactivity=interactivity, compiler=compiler, result=result)\n"
     ]
    }
   ],
   "source": [
    "mailout_test = pd.read_csv('../../data/Term2/capstone/arvato_data/Udacity_MAILOUT_052018_TEST.csv', sep=';')"
   ]
  },
  {
   "cell_type": "code",
   "execution_count": 9,
   "metadata": {},
   "outputs": [
    {
     "data": {
      "text/html": [
       "<div>\n",
       "<style scoped>\n",
       "    .dataframe tbody tr th:only-of-type {\n",
       "        vertical-align: middle;\n",
       "    }\n",
       "\n",
       "    .dataframe tbody tr th {\n",
       "        vertical-align: top;\n",
       "    }\n",
       "\n",
       "    .dataframe thead th {\n",
       "        text-align: right;\n",
       "    }\n",
       "</style>\n",
       "<table border=\"1\" class=\"dataframe\">\n",
       "  <thead>\n",
       "    <tr style=\"text-align: right;\">\n",
       "      <th></th>\n",
       "      <th>LNR</th>\n",
       "      <th>AGER_TYP</th>\n",
       "      <th>AKT_DAT_KL</th>\n",
       "      <th>ALTER_HH</th>\n",
       "      <th>ALTER_KIND1</th>\n",
       "      <th>ALTER_KIND2</th>\n",
       "      <th>ALTER_KIND3</th>\n",
       "      <th>ALTER_KIND4</th>\n",
       "      <th>ALTERSKATEGORIE_FEIN</th>\n",
       "      <th>ANZ_HAUSHALTE_AKTIV</th>\n",
       "      <th>...</th>\n",
       "      <th>VHN</th>\n",
       "      <th>VK_DHT4A</th>\n",
       "      <th>VK_DISTANZ</th>\n",
       "      <th>VK_ZG11</th>\n",
       "      <th>W_KEIT_KIND_HH</th>\n",
       "      <th>WOHNDAUER_2008</th>\n",
       "      <th>WOHNLAGE</th>\n",
       "      <th>ZABEOTYP</th>\n",
       "      <th>ANREDE_KZ</th>\n",
       "      <th>ALTERSKATEGORIE_GROB</th>\n",
       "    </tr>\n",
       "  </thead>\n",
       "  <tbody>\n",
       "    <tr>\n",
       "      <th>0</th>\n",
       "      <td>1754</td>\n",
       "      <td>2</td>\n",
       "      <td>1.0</td>\n",
       "      <td>7.0</td>\n",
       "      <td>NaN</td>\n",
       "      <td>NaN</td>\n",
       "      <td>NaN</td>\n",
       "      <td>NaN</td>\n",
       "      <td>6.0</td>\n",
       "      <td>2.0</td>\n",
       "      <td>...</td>\n",
       "      <td>4.0</td>\n",
       "      <td>5.0</td>\n",
       "      <td>6.0</td>\n",
       "      <td>3.0</td>\n",
       "      <td>6.0</td>\n",
       "      <td>9.0</td>\n",
       "      <td>3.0</td>\n",
       "      <td>3</td>\n",
       "      <td>1</td>\n",
       "      <td>4</td>\n",
       "    </tr>\n",
       "    <tr>\n",
       "      <th>1</th>\n",
       "      <td>1770</td>\n",
       "      <td>-1</td>\n",
       "      <td>1.0</td>\n",
       "      <td>0.0</td>\n",
       "      <td>NaN</td>\n",
       "      <td>NaN</td>\n",
       "      <td>NaN</td>\n",
       "      <td>NaN</td>\n",
       "      <td>0.0</td>\n",
       "      <td>20.0</td>\n",
       "      <td>...</td>\n",
       "      <td>1.0</td>\n",
       "      <td>5.0</td>\n",
       "      <td>2.0</td>\n",
       "      <td>1.0</td>\n",
       "      <td>6.0</td>\n",
       "      <td>9.0</td>\n",
       "      <td>5.0</td>\n",
       "      <td>3</td>\n",
       "      <td>1</td>\n",
       "      <td>4</td>\n",
       "    </tr>\n",
       "    <tr>\n",
       "      <th>2</th>\n",
       "      <td>1465</td>\n",
       "      <td>2</td>\n",
       "      <td>9.0</td>\n",
       "      <td>16.0</td>\n",
       "      <td>NaN</td>\n",
       "      <td>NaN</td>\n",
       "      <td>NaN</td>\n",
       "      <td>NaN</td>\n",
       "      <td>11.0</td>\n",
       "      <td>2.0</td>\n",
       "      <td>...</td>\n",
       "      <td>3.0</td>\n",
       "      <td>9.0</td>\n",
       "      <td>6.0</td>\n",
       "      <td>3.0</td>\n",
       "      <td>2.0</td>\n",
       "      <td>9.0</td>\n",
       "      <td>4.0</td>\n",
       "      <td>3</td>\n",
       "      <td>2</td>\n",
       "      <td>4</td>\n",
       "    </tr>\n",
       "    <tr>\n",
       "      <th>3</th>\n",
       "      <td>1470</td>\n",
       "      <td>-1</td>\n",
       "      <td>7.0</td>\n",
       "      <td>0.0</td>\n",
       "      <td>NaN</td>\n",
       "      <td>NaN</td>\n",
       "      <td>NaN</td>\n",
       "      <td>NaN</td>\n",
       "      <td>0.0</td>\n",
       "      <td>1.0</td>\n",
       "      <td>...</td>\n",
       "      <td>2.0</td>\n",
       "      <td>6.0</td>\n",
       "      <td>6.0</td>\n",
       "      <td>3.0</td>\n",
       "      <td>NaN</td>\n",
       "      <td>9.0</td>\n",
       "      <td>2.0</td>\n",
       "      <td>3</td>\n",
       "      <td>2</td>\n",
       "      <td>4</td>\n",
       "    </tr>\n",
       "    <tr>\n",
       "      <th>4</th>\n",
       "      <td>1478</td>\n",
       "      <td>1</td>\n",
       "      <td>1.0</td>\n",
       "      <td>21.0</td>\n",
       "      <td>NaN</td>\n",
       "      <td>NaN</td>\n",
       "      <td>NaN</td>\n",
       "      <td>NaN</td>\n",
       "      <td>13.0</td>\n",
       "      <td>1.0</td>\n",
       "      <td>...</td>\n",
       "      <td>1.0</td>\n",
       "      <td>2.0</td>\n",
       "      <td>4.0</td>\n",
       "      <td>3.0</td>\n",
       "      <td>3.0</td>\n",
       "      <td>9.0</td>\n",
       "      <td>7.0</td>\n",
       "      <td>4</td>\n",
       "      <td>2</td>\n",
       "      <td>4</td>\n",
       "    </tr>\n",
       "  </tbody>\n",
       "</table>\n",
       "<p>5 rows × 366 columns</p>\n",
       "</div>"
      ],
      "text/plain": [
       "    LNR  AGER_TYP  AKT_DAT_KL  ALTER_HH  ALTER_KIND1  ALTER_KIND2  \\\n",
       "0  1754         2         1.0       7.0          NaN          NaN   \n",
       "1  1770        -1         1.0       0.0          NaN          NaN   \n",
       "2  1465         2         9.0      16.0          NaN          NaN   \n",
       "3  1470        -1         7.0       0.0          NaN          NaN   \n",
       "4  1478         1         1.0      21.0          NaN          NaN   \n",
       "\n",
       "   ALTER_KIND3  ALTER_KIND4  ALTERSKATEGORIE_FEIN  ANZ_HAUSHALTE_AKTIV  \\\n",
       "0          NaN          NaN                   6.0                  2.0   \n",
       "1          NaN          NaN                   0.0                 20.0   \n",
       "2          NaN          NaN                  11.0                  2.0   \n",
       "3          NaN          NaN                   0.0                  1.0   \n",
       "4          NaN          NaN                  13.0                  1.0   \n",
       "\n",
       "          ...           VHN  VK_DHT4A  VK_DISTANZ  VK_ZG11  W_KEIT_KIND_HH  \\\n",
       "0         ...           4.0       5.0         6.0      3.0             6.0   \n",
       "1         ...           1.0       5.0         2.0      1.0             6.0   \n",
       "2         ...           3.0       9.0         6.0      3.0             2.0   \n",
       "3         ...           2.0       6.0         6.0      3.0             NaN   \n",
       "4         ...           1.0       2.0         4.0      3.0             3.0   \n",
       "\n",
       "   WOHNDAUER_2008  WOHNLAGE ZABEOTYP ANREDE_KZ ALTERSKATEGORIE_GROB  \n",
       "0             9.0       3.0        3         1                    4  \n",
       "1             9.0       5.0        3         1                    4  \n",
       "2             9.0       4.0        3         2                    4  \n",
       "3             9.0       2.0        3         2                    4  \n",
       "4             9.0       7.0        4         2                    4  \n",
       "\n",
       "[5 rows x 366 columns]"
      ]
     },
     "execution_count": 9,
     "metadata": {},
     "output_type": "execute_result"
    }
   ],
   "source": [
    "mailout_test.head()"
   ]
  },
  {
   "cell_type": "code",
   "execution_count": null,
   "metadata": {},
   "outputs": [],
   "source": []
  }
 ],
 "metadata": {
  "kernelspec": {
   "display_name": "conda_pytorch_p36",
   "language": "python",
   "name": "conda_pytorch_p36"
  },
  "language_info": {
   "codemirror_mode": {
    "name": "ipython",
    "version": 3
   },
   "file_extension": ".py",
   "mimetype": "text/x-python",
   "name": "python",
   "nbconvert_exporter": "python",
   "pygments_lexer": "ipython3",
   "version": "3.6.10"
  }
 },
 "nbformat": 4,
 "nbformat_minor": 2
}
